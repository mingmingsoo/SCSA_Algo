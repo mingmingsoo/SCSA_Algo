{
 "cells": [
  {
   "cell_type": "markdown",
   "metadata": {},
   "source": [
    "### lambda 함수식\n",
    "- 이름 없이 정의된 함수\n",
    "- 일반적인 함수는 def 키워드를 사용하여 정의, 익명함수는lambda 키워드를 사용하여 정의\n",
    "        lambda arguments : expression\n",
    "- 여러 개의 인자를 가질 수 있지만 표현식은 단 하나만 가짐\n",
    "- 람다 함수는 일반적으로 filter(), map()과 같은 내장 함수와 함께 사용"
   ]
  },
  {
   "cell_type": "code",
   "execution_count": 1,
   "metadata": {},
   "outputs": [
    {
     "data": {
      "text/plain": [
       "10"
      ]
     },
     "execution_count": 1,
     "metadata": {},
     "output_type": "execute_result"
    }
   ],
   "source": [
    "def double(x) :\n",
    "    return x*2\n",
    "\n",
    "double(5)"
   ]
  },
  {
   "cell_type": "code",
   "execution_count": null,
   "metadata": {},
   "outputs": [],
   "source": [
    "lambda x : # def -> lambda, 함수명이 없으니까 함수이름 지워주고 변수는 남겨줌\n",
    "     x*2 # return 도 지워줌\n",
    "num = lambda x : x*2\n",
    "double(5)"
   ]
  },
  {
   "cell_type": "code",
   "execution_count": 6,
   "metadata": {},
   "outputs": [
    {
     "data": {
      "text/plain": [
       "10"
      ]
     },
     "execution_count": 6,
     "metadata": {},
     "output_type": "execute_result"
    }
   ],
   "source": [
    "double = lambda x : x*2\n",
    "double(5)"
   ]
  },
  {
   "cell_type": "code",
   "execution_count": 4,
   "metadata": {},
   "outputs": [
    {
     "data": {
      "text/plain": [
       "(314.1592, 314.1592)"
      ]
     },
     "execution_count": 4,
     "metadata": {},
     "output_type": "execute_result"
    }
   ],
   "source": [
    "# circle_area 함수는 원면적을 구하는 함수이다. \n",
    "# 반지름과 pi값을 입력받아 원 면적을 구하는 람다 함수로 정의하세요.\n",
    "def circle(cm, pi):\n",
    "    return cm*cm*pi\n",
    "\n",
    "\n",
    "circle_area = lambda cm, pi: cm*cm*pi\n",
    "\n",
    "circle_area(10, 3.141592), circle_area(10, pi = 3.141592)"
   ]
  },
  {
   "cell_type": "markdown",
   "metadata": {},
   "source": [
    "### 내장함수/외장함수"
   ]
  },
  {
   "cell_type": "markdown",
   "metadata": {},
   "source": [
    "#### 내장함수\n",
    "- 내장 함수는 dir(\\_\\_builtin\\_\\_)를 통해 조회가 가능\n",
    "- int, float, list, input, print, range, len, max, min, round, sorted, sum, enumerate, zip 등"
   ]
  },
  {
   "cell_type": "markdown",
   "metadata": {
    "ExecuteTime": {
     "end_time": "2021-11-21T13:19:35.906299Z",
     "start_time": "2021-11-21T13:19:35.898300Z"
    }
   },
   "source": [
    "#### 내장함수-len"
   ]
  },
  {
   "cell_type": "code",
   "execution_count": 5,
   "metadata": {},
   "outputs": [
    {
     "data": {
      "text/plain": [
       "5"
      ]
     },
     "execution_count": 5,
     "metadata": {},
     "output_type": "execute_result"
    }
   ],
   "source": [
    "len('Hello')"
   ]
  },
  {
   "cell_type": "code",
   "execution_count": 6,
   "metadata": {},
   "outputs": [
    {
     "data": {
      "text/plain": [
       "3"
      ]
     },
     "execution_count": 6,
     "metadata": {},
     "output_type": "execute_result"
    }
   ],
   "source": [
    "len([[1,2],[3,4],[5,6]])"
   ]
  },
  {
   "cell_type": "markdown",
   "metadata": {},
   "source": [
    "#### 내장함수-sum, max, min"
   ]
  },
  {
   "cell_type": "code",
   "execution_count": 7,
   "metadata": {
    "ExecuteTime": {
     "end_time": "2021-11-21T18:03:46.968441Z",
     "start_time": "2021-11-21T18:03:46.960441Z"
    }
   },
   "outputs": [
    {
     "data": {
      "text/plain": [
       "(35, 9, 3)"
      ]
     },
     "execution_count": 7,
     "metadata": {},
     "output_type": "execute_result"
    }
   ],
   "source": [
    "#다음 주어진 값의 합계, 최대값, 최소값을 구해 보자.\n",
    "data=[5,6,3,8,4,9]\n",
    "\n",
    "\n",
    "sum(data), max(data), min(data)"
   ]
  },
  {
   "cell_type": "markdown",
   "metadata": {},
   "source": [
    "#### 내장함수-round"
   ]
  },
  {
   "cell_type": "code",
   "execution_count": 8,
   "metadata": {
    "ExecuteTime": {
     "end_time": "2021-11-21T18:05:46.489242Z",
     "start_time": "2021-11-21T18:05:46.480466Z"
    }
   },
   "outputs": [
    {
     "name": "stdout",
     "output_type": "stream",
     "text": [
      "3.142\n",
      "8888\n",
      "8890\n",
      "8900\n"
     ]
    }
   ],
   "source": [
    "print(round(3.141592, 3)) # 소수 셋째자리까지 반올림\n",
    "print(round(8888, 0)) # 일의자리까지 반올림\n",
    "print(round(8888, -1)) # 십의자리까지 반올림\n",
    "print(round(8888, -2)) # 백의자리까지 반올림"
   ]
  },
  {
   "cell_type": "markdown",
   "metadata": {},
   "source": [
    "#### 내장함수-sorted"
   ]
  },
  {
   "cell_type": "code",
   "execution_count": 10,
   "metadata": {
    "ExecuteTime": {
     "end_time": "2021-11-21T18:08:02.466618Z",
     "start_time": "2021-11-21T18:08:02.458422Z"
    }
   },
   "outputs": [
    {
     "name": "stdout",
     "output_type": "stream",
     "text": [
      "[1, 3, 5, 7, 9]\n",
      "[1, 9, 3, 7, 5]\n"
     ]
    }
   ],
   "source": [
    "a = [1,9,3,7,5]\n",
    "\n",
    "print(sorted(a)) # 리스트 a를 정렬하여 반환\n",
    "print(a)\n",
    "\n",
    "# sorted == [::-1]"
   ]
  },
  {
   "cell_type": "code",
   "execution_count": 24,
   "metadata": {},
   "outputs": [],
   "source": [
    "# list.sort() 는 원본 리스트를 정렬 (원본 수정, 반환값 x)\n",
    "# sorted(list) 는 리스트를 정렬하여 반환 (원본 수정 x, 반환값 존재)"
   ]
  },
  {
   "cell_type": "code",
   "execution_count": 15,
   "metadata": {
    "ExecuteTime": {
     "end_time": "2021-11-21T18:10:04.645050Z",
     "start_time": "2021-11-21T18:10:04.636384Z"
    }
   },
   "outputs": [
    {
     "name": "stdout",
     "output_type": "stream",
     "text": [
      "[9, 7, 5, 3, 1]\n"
     ]
    }
   ],
   "source": [
    "# 위 a의 데이터를 내림차순으로 출력하세요.\n",
    "\n",
    "\n",
    "print(sorted(a, reverse=True))"
   ]
  },
  {
   "cell_type": "markdown",
   "metadata": {},
   "source": [
    "#### 내장함수-enumerate"
   ]
  },
  {
   "cell_type": "code",
   "execution_count": 26,
   "metadata": {},
   "outputs": [
    {
     "data": {
      "text/plain": [
       "[(0, 'one'), (1, 'two'), (2, 'three')]"
      ]
     },
     "execution_count": 26,
     "metadata": {},
     "output_type": "execute_result"
    }
   ],
   "source": [
    "# enumerate(iterable, start=0) : \n",
    "#순서가 있는 자료형을 입력으로 받아 인덱스를 포함하는 enumerate 객체 리턴\n",
    "a = ['one', 'two', 'three']\n",
    "\n",
    "list(enumerate(a))"
   ]
  },
  {
   "cell_type": "code",
   "execution_count": 32,
   "metadata": {},
   "outputs": [
    {
     "name": "stdout",
     "output_type": "stream",
     "text": [
      "0번째 값: one\n",
      "1번째 값: two\n",
      "2번째 값: three\n"
     ]
    }
   ],
   "source": [
    "# for 반복문과 enumerate 함수를 사용하여 다음과 같이 출력하세요.\n",
    "a = ['one', 'two', 'three']\n",
    "\n",
    "arr = list(enumerate(a))\n",
    "for _ in arr:\n",
    "    print(f'{_[0]}번째 값: {_[1]}')\n",
    "\n",
    "    \n",
    "# 0번째 값 : one\n",
    "# 1번째 값 : two\n",
    "# 2번째 값 : three"
   ]
  },
  {
   "cell_type": "markdown",
   "metadata": {},
   "source": [
    "#### 내장함수-zip, map"
   ]
  },
  {
   "cell_type": "code",
   "execution_count": 33,
   "metadata": {},
   "outputs": [
    {
     "data": {
      "text/plain": [
       "[('one', 'a'), ('two', 'b'), ('three', 'c')]"
      ]
     },
     "execution_count": 33,
     "metadata": {},
     "output_type": "execute_result"
    }
   ],
   "source": [
    "# zip(*iterable) : 동일한 개수로 이루어진 자료형을 묶어 줌\n",
    "a = ['one', 'two', 'three']\n",
    "b = ['a', 'b', 'c']\n",
    "list(zip(a, b))"
   ]
  },
  {
   "cell_type": "code",
   "execution_count": 34,
   "metadata": {},
   "outputs": [
    {
     "data": {
      "text/plain": [
       "[90, 87, 98, 87, 76]"
      ]
     },
     "execution_count": 34,
     "metadata": {},
     "output_type": "execute_result"
    }
   ],
   "source": [
    "# map (function, iterable) 주어진 iterable데이터에 함수를 각각 적용하여 리턴\n",
    "data=['90','87','98','87','76']\n",
    "result=list(map(int, data))\n",
    "result"
   ]
  },
  {
   "cell_type": "markdown",
   "metadata": {},
   "source": [
    "## 모듈"
   ]
  },
  {
   "cell_type": "markdown",
   "metadata": {},
   "source": [
    "### 모듈 사용하기\n",
    "- 재사용 하고자 하는 변수, 함수, 클래스를 파일에 저장하여 다른 Python 파일에서 호출하여 사용\n",
    "- 파일명이 myModule.py이면 모듈명은 myModule 임\n",
    "- 큰 프로그램을 작고 관리하기 쉬운 파일로 나눌 수 있으며, 코드 재사용성이 높아짐\n",
    "- 자주 사용하는 함수를 정의하고, 이를 다른 파일에서 import 해서 사용\n",
    "- 현재 Python 3.x 버전에서는 대략 200개가 넘는 모듈을 지원\n",
    "   - 문자열(string), 날짜(date), 시간(time), 십진법(decimal), 랜덤(random)\n",
    "   - 파일(file), os, sqlite3, sys, xml, email, http 등"
   ]
  },
  {
   "cell_type": "markdown",
   "metadata": {},
   "source": [
    "- 모듈을 사용하는 이유\n",
    "   - 코드의 재사용으로 인한 유지보수성을높임\n",
    "   - 코드를 namespace로 구분하고 관리\n",
    "   - 복잡하고 어려운 기능을 포함하는 프로그램을 쉽게 구현\n"
   ]
  },
  {
   "cell_type": "code",
   "execution_count": 35,
   "metadata": {},
   "outputs": [
    {
     "name": "stdout",
     "output_type": "stream",
     "text": [
      "3.141592653589793\n"
     ]
    }
   ],
   "source": [
    "import math\n",
    "print(math.pi)"
   ]
  },
  {
   "cell_type": "code",
   "execution_count": 36,
   "metadata": {},
   "outputs": [
    {
     "name": "stdout",
     "output_type": "stream",
     "text": [
      "3.141592653589793\n"
     ]
    }
   ],
   "source": [
    "import math as m\n",
    "print(m.pi)"
   ]
  },
  {
   "cell_type": "code",
   "execution_count": 37,
   "metadata": {},
   "outputs": [
    {
     "name": "stdout",
     "output_type": "stream",
     "text": [
      "3.141592653589793\n"
     ]
    }
   ],
   "source": [
    "from math import pi\n",
    "print(pi)"
   ]
  },
  {
   "cell_type": "code",
   "execution_count": 38,
   "metadata": {},
   "outputs": [
    {
     "name": "stdout",
     "output_type": "stream",
     "text": [
      "3\n"
     ]
    }
   ],
   "source": [
    "import random\n",
    "\n",
    "print(random.randint(1, 17))"
   ]
  },
  {
   "cell_type": "code",
   "execution_count": 43,
   "metadata": {},
   "outputs": [
    {
     "data": {
      "text/plain": [
       "<function __main__.<lambda>(x=5)>"
      ]
     },
     "execution_count": 43,
     "metadata": {},
     "output_type": "execute_result"
    }
   ],
   "source": [
    "## 내가 람다를 잘 모르겠어서 이해한 방법\n",
    "\n",
    "lambda x : # def -> lambda 람다로 바꾸기\n",
    "           # 함수명이 없으니까 함수이름 지워주고 변수는 남겨줌\n",
    "     x*2 # return 도 지워줌\n",
    "\n",
    "num = lambda x : x*2\n",
    "num(5)"
   ]
  },
  {
   "cell_type": "code",
   "execution_count": 44,
   "metadata": {},
   "outputs": [
    {
     "data": {
      "text/plain": [
       "2"
      ]
     },
     "execution_count": 44,
     "metadata": {},
     "output_type": "execute_result"
    }
   ],
   "source": [
    "round(2.5)"
   ]
  },
  {
   "cell_type": "code",
   "execution_count": 46,
   "metadata": {},
   "outputs": [
    {
     "name": "stdin",
     "output_type": "stream",
     "text": [
      " 4\n",
      " 0 0 0 0\n",
      " 0 0 0 0\n",
      " 0 0 0 0\n",
      " 0 0 0 0\n"
     ]
    },
    {
     "name": "stdout",
     "output_type": "stream",
     "text": [
      "[[-1, -1, -1, -1], [-1, -1, -1, -1], [-1, -1, -1, -1], [-1, -1, -1, -1]]\n"
     ]
    }
   ],
   "source": [
    "N = int(input())\n",
    "arr = [list(map(lambda x: int(x)-1 ,input().split())) for _ in range(N)]\n",
    "print(arr)"
   ]
  },
  {
   "cell_type": "code",
   "execution_count": 50,
   "metadata": {},
   "outputs": [
    {
     "name": "stdout",
     "output_type": "stream",
     "text": [
      "{'q': 1, 'w': 2, 'e': 3, 'r': 4, 't': 5, 'y': 6, 'u': 7}\n"
     ]
    }
   ],
   "source": [
    "string = \"qwertyu\"\n",
    "dict = {ch:i for i, ch in enumerate(string,1)}\n",
    "dict\n",
    "\n",
    "\n",
    "string = \"qwertyu\"\n",
    "dict = {}\n",
    "for idx, s in enumerate(string):\n",
    "    dict[s] = idx+1\n",
    "print(dict)\n"
   ]
  },
  {
   "cell_type": "code",
   "execution_count": null,
   "metadata": {},
   "outputs": [],
   "source": []
  }
 ],
 "metadata": {
  "kernelspec": {
   "display_name": "Python 3 (ipykernel)",
   "language": "python",
   "name": "python3"
  },
  "language_info": {
   "codemirror_mode": {
    "name": "ipython",
    "version": 3
   },
   "file_extension": ".py",
   "mimetype": "text/x-python",
   "name": "python",
   "nbconvert_exporter": "python",
   "pygments_lexer": "ipython3",
   "version": "3.11.0"
  },
  "toc": {
   "base_numbering": 1,
   "nav_menu": {},
   "number_sections": true,
   "sideBar": true,
   "skip_h1_title": false,
   "title_cell": "Table of Contents",
   "title_sidebar": "Contents",
   "toc_cell": false,
   "toc_position": {},
   "toc_section_display": true,
   "toc_window_display": false
  },
  "varInspector": {
   "cols": {
    "lenName": 16,
    "lenType": 16,
    "lenVar": 40
   },
   "kernels_config": {
    "python": {
     "delete_cmd_postfix": "",
     "delete_cmd_prefix": "del ",
     "library": "var_list.py",
     "varRefreshCmd": "print(var_dic_list())"
    },
    "r": {
     "delete_cmd_postfix": ") ",
     "delete_cmd_prefix": "rm(",
     "library": "var_list.r",
     "varRefreshCmd": "cat(var_dic_list()) "
    }
   },
   "types_to_exclude": [
    "module",
    "function",
    "builtin_function_or_method",
    "instance",
    "_Feature"
   ],
   "window_display": false
  }
 },
 "nbformat": 4,
 "nbformat_minor": 4
}
