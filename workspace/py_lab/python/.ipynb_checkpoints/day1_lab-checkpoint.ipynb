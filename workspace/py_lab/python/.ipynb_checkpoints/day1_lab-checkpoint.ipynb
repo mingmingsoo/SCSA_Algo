{
 "cells": [
  {
   "cell_type": "markdown",
   "metadata": {},
   "source": [
    "# python 변수 및 데이터 타입\n",
    "- 변수 및 데이터 타입\n",
    "- 숫자형 (Numeric)\n",
    "- 문자열 (String)\n",
    "- 기본 입출력 (print, input)\n",
    "- 리스트 (List)\n",
    "- 튜플 (Tuple)\n",
    "- 집합 (Set)\n",
    "- 사전 (Dictionary)"
   ]
  },
  {
   "cell_type": "markdown",
   "metadata": {},
   "source": [
    "## 코드 실행\n",
    "1. 셀 선택\n",
    "2. Ctrl + Enter 또는 Shift + Enter (실행 후 셀이동)"
   ]
  },
  {
   "cell_type": "code",
   "execution_count": 4,
   "metadata": {
    "ExecuteTime": {
     "end_time": "2021-11-21T10:47:42.938936Z",
     "start_time": "2021-11-21T10:47:42.923292Z"
    }
   },
   "outputs": [
    {
     "name": "stdout",
     "output_type": "stream",
     "text": [
      "코드를 실행시켜보세요.\n"
     ]
    }
   ],
   "source": [
    "print('코드를 실행시켜보세요.')"
   ]
  },
  {
   "cell_type": "code",
   "execution_count": 2,
   "metadata": {},
   "outputs": [
    {
     "name": "stdout",
     "output_type": "stream",
     "text": [
      "python\n"
     ]
    }
   ],
   "source": []
  },
  {
   "cell_type": "markdown",
   "metadata": {},
   "source": [
    "## 주석\n",
    "- \\# 문자 이후는 주석으로 인식\n",
    "- \\#이후 문자는 기계어(0,1)로 번역되지 않기 때문에 실행 코드에 없음 (실행 안됨)"
   ]
  },
  {
   "cell_type": "code",
   "execution_count": 2,
   "metadata": {
    "ExecuteTime": {
     "end_time": "2021-11-21T10:51:56.595235Z",
     "start_time": "2021-11-21T10:51:56.580045Z"
    },
    "scrolled": true
   },
   "outputs": [
    {
     "name": "stdout",
     "output_type": "stream",
     "text": [
      "코드를 실행시켜보세요.\n"
     ]
    }
   ],
   "source": [
    "# 이 줄은 주석(설명문)입니다.\n",
    "print('코드를 실행시켜보세요.') # 이것은 print 함수입니다.\n",
    "# print('코드를 실행시켜보세요.') "
   ]
  },
  {
   "cell_type": "markdown",
   "metadata": {},
   "source": [
    "## 변수 및 데이터 타입"
   ]
  },
  {
   "cell_type": "markdown",
   "metadata": {},
   "source": [
    "### 변수 이름 규칙\n",
    "- 영문 혹은 _(Under Score)로 시작\n",
    "- 두 번째 글자부터 영문자, 문자, 숫자, _(Under Score) 사용가능\n",
    "- 글자 수 길이 무제한\n",
    "- 유니코드 가능(변수명 한글 가능)\n",
    "- 키워드는 변수로 사용 불가능\n",
    "   - False, elif, lambda, None, else, nonlocal, True, except, not, and, finally, or, as, for,\n",
    "pass, assert, from, raise, break, global, return, class, if, try, continue, import,\n",
    "while, def, in, with, del, is, yield"
   ]
  },
  {
   "cell_type": "code",
   "execution_count": 4,
   "metadata": {
    "ExecuteTime": {
     "end_time": "2021-11-21T09:28:15.369326Z",
     "start_time": "2021-11-21T09:28:15.359192Z"
    }
   },
   "outputs": [
    {
     "name": "stdout",
     "output_type": "stream",
     "text": [
      "30\n"
     ]
    }
   ],
   "source": [
    "a=10\n",
    "a=20\n",
    "a=30\n",
    "print(a)"
   ]
  },
  {
   "cell_type": "code",
   "execution_count": 4,
   "metadata": {},
   "outputs": [
    {
     "name": "stdout",
     "output_type": "stream",
     "text": [
      "30 50\n",
      "30\n",
      "50\n"
     ]
    }
   ],
   "source": [
    "a=30\n",
    "A=50\n",
    "print(a, A)  #print() 괄호안의 내용을 출력하고 줄바꿈-여러줄 출력\n",
    "print(a)\n",
    "print(A)"
   ]
  },
  {
   "cell_type": "code",
   "execution_count": 5,
   "metadata": {},
   "outputs": [
    {
     "data": {
      "text/plain": [
       "50"
      ]
     },
     "execution_count": 5,
     "metadata": {},
     "output_type": "execute_result"
    }
   ],
   "source": [
    "a, A   #print() 없이 출력이 가능하나 출력하고 줄을 안바꿈-마지막 값만 출력된 효과\n",
    "a\n",
    "A"
   ]
  },
  {
   "cell_type": "code",
   "execution_count": 6,
   "metadata": {},
   "outputs": [
    {
     "data": {
      "text/plain": [
       "80"
      ]
     },
     "execution_count": 6,
     "metadata": {},
     "output_type": "execute_result"
    }
   ],
   "source": [
    "b=a+A   #할당한다,  = 대입연산자\n",
    "b"
   ]
  },
  {
   "cell_type": "code",
   "execution_count": 7,
   "metadata": {},
   "outputs": [
    {
     "data": {
      "text/plain": [
       "(15, 15, 15, 15)"
      ]
     },
     "execution_count": 7,
     "metadata": {},
     "output_type": "execute_result"
    }
   ],
   "source": [
    "a=15\n",
    "b=0b00001111\n",
    "c=0o17\n",
    "d=0xF\n",
    "a,b,c,d"
   ]
  },
  {
   "cell_type": "markdown",
   "metadata": {},
   "source": [
    "### 타입확인 및 형변환\n",
    "- type()\n",
    "- int(), float(), bool(), str()"
   ]
  },
  {
   "cell_type": "code",
   "execution_count": 8,
   "metadata": {},
   "outputs": [
    {
     "data": {
      "text/plain": [
       "(int, bool, list)"
      ]
     },
     "execution_count": 8,
     "metadata": {},
     "output_type": "execute_result"
    }
   ],
   "source": [
    "a = 77\n",
    "b = True\n",
    "c = [1, 2, 3]\n",
    "\n",
    "# a, b, c가 각각 어떤 type인지 알아보세요.\n",
    "type(a), type(b), type(c)"
   ]
  },
  {
   "cell_type": "code",
   "execution_count": 9,
   "metadata": {},
   "outputs": [
    {
     "data": {
      "text/plain": [
       "1.0"
      ]
     },
     "execution_count": 9,
     "metadata": {},
     "output_type": "execute_result"
    }
   ],
   "source": [
    "# 정수를 실수로 변환  (1 -> 1.0)\n",
    "float(1)"
   ]
  },
  {
   "cell_type": "code",
   "execution_count": 10,
   "metadata": {},
   "outputs": [
    {
     "data": {
      "text/plain": [
       "3"
      ]
     },
     "execution_count": 10,
     "metadata": {},
     "output_type": "execute_result"
    }
   ],
   "source": [
    "# 실수를 정수로 변환 (3.56 -> 3), 소수점 아래 잘림\n",
    "\n"
   ]
  },
  {
   "cell_type": "code",
   "execution_count": 11,
   "metadata": {},
   "outputs": [
    {
     "data": {
      "text/plain": [
       "(str, 123, 3.14)"
      ]
     },
     "execution_count": 11,
     "metadata": {},
     "output_type": "execute_result"
    }
   ],
   "source": [
    "# 문자열을 정수, 실수로 변환 (\"123\" -> 123,  \"3.14\" -> 3.14)\n",
    "s=\"123\"\n"
   ]
  },
  {
   "cell_type": "code",
   "execution_count": 15,
   "metadata": {},
   "outputs": [
    {
     "data": {
      "text/plain": [
       "0"
      ]
     },
     "execution_count": 15,
     "metadata": {},
     "output_type": "execute_result"
    }
   ],
   "source": [
    "# bool을 정수로 변환 (False -> 0)\n",
    "int(False)"
   ]
  },
  {
   "cell_type": "code",
   "execution_count": 16,
   "metadata": {
    "ExecuteTime": {
     "end_time": "2021-11-21T09:42:53.507628Z",
     "start_time": "2021-11-21T09:42:53.491347Z"
    }
   },
   "outputs": [
    {
     "data": {
      "text/plain": [
       "(True, False)"
      ]
     },
     "execution_count": 16,
     "metadata": {},
     "output_type": "execute_result"
    }
   ],
   "source": [
    "# 정수를 bool 타입으로 변환 (1 -> True) (0 -> False)\n",
    "bool(1), bool(0)"
   ]
  },
  {
   "cell_type": "markdown",
   "metadata": {},
   "source": [
    "### 산술 연산자\n",
    "- \\+ \\- \\* \\/\n",
    "- // % **\n",
    "- abs()"
   ]
  },
  {
   "cell_type": "code",
   "execution_count": 12,
   "metadata": {},
   "outputs": [
    {
     "data": {
      "text/plain": [
       "(5.5, 5, 1)"
      ]
     },
     "execution_count": 12,
     "metadata": {},
     "output_type": "execute_result"
    }
   ],
   "source": [
    "a=11/2    # 나눗셈 결과값\n",
    "b=11//2   # 몫\n",
    "c=11%2    # 나머지\n",
    "a,b,c\n"
   ]
  },
  {
   "cell_type": "markdown",
   "metadata": {},
   "source": [
    "### 비교 및 논리 연산자\n",
    "- < > <= >= == !=\n",
    "- or and not"
   ]
  },
  {
   "cell_type": "code",
   "execution_count": 18,
   "metadata": {
    "ExecuteTime": {
     "end_time": "2021-11-21T09:48:33.806737Z",
     "start_time": "2021-11-21T09:48:33.782605Z"
    }
   },
   "outputs": [
    {
     "data": {
      "text/plain": [
       "False"
      ]
     },
     "execution_count": 18,
     "metadata": {},
     "output_type": "execute_result"
    }
   ],
   "source": [
    "a=30\n",
    "b=30\n",
    "a>b\n"
   ]
  },
  {
   "cell_type": "markdown",
   "metadata": {},
   "source": [
    "### False로 취급 받는 것\n",
    "- **None, False, 숫자형의 0 (0, 0.0), 빈 시퀀스('', [], ()), 빈 맵({ })**\n",
    "- False가 아닌 것은 모두 True"
   ]
  },
  {
   "cell_type": "code",
   "execution_count": 19,
   "metadata": {},
   "outputs": [
    {
     "data": {
      "text/plain": [
       "(False, False, False, False, False, False, False, False, False)"
      ]
     },
     "execution_count": 19,
     "metadata": {},
     "output_type": "execute_result"
    }
   ],
   "source": [
    "bool(None), bool(False), bool(0), bool(0.0), bool(0j), bool(\"\"), bool([]), bool(()), bool({})"
   ]
  },
  {
   "cell_type": "code",
   "execution_count": 2,
   "metadata": {},
   "outputs": [
    {
     "data": {
      "text/plain": [
       "(True, True, True, True)"
      ]
     },
     "execution_count": 2,
     "metadata": {},
     "output_type": "execute_result"
    }
   ],
   "source": [
    "bool(1), bool(3.14), bool('A'), bool([1, 2])"
   ]
  },
  {
   "cell_type": "markdown",
   "metadata": {},
   "source": [
    "## 문자열 (String)\n"
   ]
  },
  {
   "cell_type": "markdown",
   "metadata": {},
   "source": [
    "### 문자열 선언"
   ]
  },
  {
   "cell_type": "code",
   "execution_count": 20,
   "metadata": {},
   "outputs": [
    {
     "name": "stdout",
     "output_type": "stream",
     "text": [
      "Hello Python\n",
      "Hello Python\n",
      "Hello Python\n",
      "Hello Python\n"
     ]
    }
   ],
   "source": [
    "# 1\n",
    "a = 'Hello Python' # 작은 따옴표\n",
    "\n",
    "# 2\n",
    "b = \"Hello Python\" # 큰 따옴표\n",
    "\n",
    "# 3\n",
    "c = '''Hello Python''' # 작은 따옴표 3개\n",
    "\n",
    "# 4\n",
    "d = \"\"\"Hello Python\"\"\" # 큰 따옴표 3개\n",
    "\n",
    "print(a)\n",
    "print(b)\n",
    "print(c)\n",
    "print(d)"
   ]
  },
  {
   "cell_type": "markdown",
   "metadata": {},
   "source": [
    "### Escape 문자\n",
    "- \\n \\t"
   ]
  },
  {
   "cell_type": "code",
   "execution_count": 6,
   "metadata": {},
   "outputs": [
    {
     "name": "stdout",
     "output_type": "stream",
     "text": [
      "안녕\n",
      "하세요\n"
     ]
    }
   ],
   "source": [
    "# \\n : 줄바꿈 \n",
    "print(\"안녕\\n하세요\")"
   ]
  },
  {
   "cell_type": "code",
   "execution_count": 7,
   "metadata": {},
   "outputs": [
    {
     "name": "stdout",
     "output_type": "stream",
     "text": [
      "안녕\t하세요\n"
     ]
    }
   ],
   "source": [
    "# \\t : 탭(tab)\n",
    "print(\"안녕\\t하세요\")"
   ]
  },
  {
   "cell_type": "markdown",
   "metadata": {},
   "source": [
    "### 문자열 연산자\n",
    "Sequence type (tuple, list, str 공통)"
   ]
  },
  {
   "cell_type": "code",
   "execution_count": 13,
   "metadata": {},
   "outputs": [
    {
     "data": {
      "text/plain": [
       "('Python', 'PyPyPy')"
      ]
     },
     "execution_count": 13,
     "metadata": {},
     "output_type": "execute_result"
    }
   ],
   "source": [
    "# A + B: A, B 두 문자열을 연결하여 새로운 문자열 생성\n",
    "A = 'Py'\n",
    "B = 'thon'\n",
    "\n",
    "\n"
   ]
  },
  {
   "cell_type": "markdown",
   "metadata": {},
   "source": [
    "### 인덱싱 & 슬라이싱\n",
    "Sequence type (tuple, list, str 공통)"
   ]
  },
  {
   "cell_type": "markdown",
   "metadata": {},
   "source": [
    "![image.png](data:image/png;base64,iVBORw0KGgoAAAANSUhEUgAAAMoAAAA9CAYAAADs8vYJAAANQ0lEQVR4Ae2de0wU1x7H7Sv9o//d/nHtTW7/uMltmza9pkGlKrsKyAqiKFDqiwvCUqv1RdHm1vqE6m1TscUXhVURlD5UxAetmioV0V5tbBSt2BoFXVMfUKXGQhazM/ncDLK4K7vKzuzsLO0hmezMmTPz+53vOZ9zZobz6IP4EwoIBR6qQJ+HxhARhAJCAQQoohAIBXqggAClByKJKEIBAYooA0KBHiigEygycg+Miyg6KiBLSIZmgoxkrAMBFTewoDgb2fb2aCItI4mPjSZyTB4HbwfU3wffzFFJ5sv9scTFEads8RkUnnI++Bq9zkoXKZkQy/zDv+tlwft9W+uwWWOIGBZDbLSZmKyN1Ld7j6pPqMTl3e8yZlgUcfGxRI54g9Kf7uhj6kF3lZs5Wmgl/Ln0B8Xq8bkAgiJjt6UQv+wEbZ3mna2tBDWPWtaTOMbGjR4nX6+IEo3rkzDPPsBvepnwcV/pYhW27ec6dW+jNmcwqVuDCGvbYZZkvs93t+462Fabw5D07bT68FeX4NbvWBb3KnE5eaQPGBcQE4EDRf6FtYmvs/GGTPtvN7ltQEUuX/yY4QnGgyI1riPRNJsDwaakW5Fw8sMCExO/CGaz7umE8+RChry2KbgVhtzC5cu3kJ2nWGwa7+mQyiOVoLRy6fghDh482LEdqrsC7dXMjEzkzVQLlsRkEoYOJGr6Fhp0Aqb10nEOddo/eKiOK3fAeXoJA/uPZ27WOMbGjSJtyS4adWv1vWigZILUgC3RRPaBW7QfXsabq06hkwR406CjHMhXqd20mvyFVpKtn1LnauJVFhLfl/nQwHWBdJHSlCG8+VWLKyTgvz41UCwZDop8nZqiXBYtWtSx5ZUeA0clk/76ErOqO0WRm9iRGcaEL24GXByQuV5TRG6n/UV5pRy7rZTRLSycZ+NokxOc16l5LxLLh2d0sA940wCJhuJETNnVKE8ejt1WTHOPoA+r3jXoSKx8g7o9WykvyiXDMopFB3Vq2rxq4JL7d47lWYieX9uhhSs0sL8P0EAxZDgo3lLr2EVG2DS+cXspaduWSsT8495iByVMthcwIqE4KLYUI9KFIkaHpVNeb8dut3OhbCLh03bS2Kxblf7QtEn1S4lM2vjQeIGNIGP/Mh3TuFIapMDe2a+7hSQo0gXyR8Sz2u76JinR+HEMI1ba/Uqbpsiy5PFZ2lm3GHPKZk239OfiO9+vZWrGZCZPvrulWZ7nmX6jsRYcCd5HDUnCvWw6f8xlaHKpP8nQHPf3Y3lYIudRo1ND1mMHQxIUZG58PZNhllms/nwbnxVMJ9o8g6omFzg9Tp7KiBINtlSiJsxjZVkFleXLsZoieHuffs/HD3NU30cvb9aVR79xDB6bw4qN26gsz8dqGsRbVc3eIusSJt/YhfW5f5KYu46SkpK7W1k1F9zp1cWyl5uGJiiKozK/nd1PeeEnrCr9hp+D/rFFoqluNyWr8slfs5nq80H8LOolnyR7LVXHrnu0cl6iBThIounUXj4vLmDF6jL2BzkT5JaT7Fhvw2Zz2zZ8w3kjQJFvcqLq24Doq/KrV0Bsi5sIBXqNAgKUXpNVwlEjFRCgGKm+sN1rFBCg9JqsEo4aqYAAxUj1he1eo0AXKPPmzWPkyJG88cYbhmyTJk2if//+hth2pdlsNpOUlGSYDykpKQwZMsQw+4oO4eHhTJgwwTAfEhISiIqKMsy+okG/fv24edOzR0kXKEpBTU5Opri42JBtyZIl9O3b1xDbrjS/8sorTJkyxTAfZs2axYsvvmiYfUWHZ599FqXSdGkS7F+lHJpMJsPsK+l96qmnuHbtmkdr1wXKnDlzWL58ucfJYB6cPXuWF154IZgmu9lSKopt27Z1Cw9WwL59+7BYLMEy59VOWFgYx48b1+2oqKioo7Ly6lyQAp9++ml+/fVXD2sCFDc5BCggQAEBihsU3nYFKAIUpVwIULzR4RbWe0G5zdmao9gD0E1EtCgCFDckvO9qAkVqZP/WWq5q6AOq+h3FeYY8UwrlAejNL0ARoHinwy1UEyiO3VhNczmiYZSWAAX+sC/z0vlCJmXMJ3dSLDHRQxk69j/svOT/M4Dar16/7cxmcuG5rjEYsn0DWTMr8PwK7kbDA3ZVg9Jew/sJYfz9L//g1eGxpK899QArvk9pAiXCwqy8DMaMjCU6MoE5FY1dmvi22P2M+hbFSWPluyQNH07siGgsE5dRfd3/5lU1KNJ5CidlsGBpJmPj44iOHK1aA13eUZxn8hjwt1hWnlbm2ZC4uiOTAeM+o9lPjdSCIjeV8XrMUs50sClx4eNRJK+/qqpru2pQlPJmdIsy4O+Msd2dfUVuriAtzEqVikcxtaDIv9gYM2gWB24oGS9xZWsa4ZMr/Z5UQjUoyuNngDTQDZSIpDK6Rn44viJrSDaH/HwEUQsKtPBl6nAW1zlBOsdH8ePZ5C+lnRVrrwbF9BqbXHMCyXY+iRnJ2mt+1lao/+rl2JVJhPv8AErFETGHw36WA02gBEgD3UAxpZR3zeVF+36mm2ZwwG3sfPcGvnuIelDg9o5Mhi84jqP+v8SnbUHtmMbeDYrby7z8C6tGjGSNii8LalsUZX4E04If7s04076ft0wzqfazHGgDJTAa6AbKkJGFdD2ONpeQaF6MvxM0agGF1j1MjXmH0kWjsO5UP6xSGyhVZJn8r0HdqwxN7yjuX70MAOVObQ6D0ypwqS9fX8eYYe9T7+fr6h8alIF9XyJxzhq+3FrCwoQwRq/92e8XSU2g4ODbmWE8868p7HE9friXwB7uawLFeZr3hw5mxsbt7Pyfugk1ejMoytRA+SPCSVm6mR2VG5g/aiCvbWjwuxz8oUExpaznTHUZqwqK2HLkEo4eFkz3aNpAgbaKfxM2o1qVbZcfmkABWs/tZf0nKyjcc951S79+VYMit3Cyyn0ChzbO7NlLfRBf5jsS2naRQ+VryF9RyJajV1TNZ6YalABqoNujl8c7il9F415kbaC08c30GN7R8k8M6Og9LTpFik6RuoCi/B8lNXu3pppcwUUTKM6TfDTlA45rnLtUa4tyD3t1e6pbFHXmvF6l9mXe681UBKpuUVTY8nWJLqD4MuZvuCZQ/DXmI74ARf3nYR+S+h0sQHmIZAIUEC3KH7gLy0PKf49PC1AEKEphCfkWZdCgQTz22GM8+eSThmxPPPEEjzzyiCG2XWl+9NFHefzxxw3zIRQ0UPJA8cOlSbB/Ff2VfAi2XXd7ffr04dKlSx6VfNcIR6fTicPhEJvQQJQBR/d/cHSB4oGPOBAKCAU8FBCgeMghDoQC3hUQoHjXRYQKBTwUCCgosux/t24Pb3r9gfFrq8uS52JKvV7SEElAAECRufLVu8RHDCM2PpZhQxPJrW5WNXBKiyZy81EKreE8l27EvFzGr63eWmfDGhPBsJhYos0xZG2sD94qX/dlnHSxhAmx8zncNUjpvgg6HToqM3m5v4W4uLiOLT6j0O9e7L5c0w7K71VkDc6gsrOfvXz1SyaZZvNt9w8HvnzQHN763TLiXo0jJy+dAeM+13w/v29g+NrqEherbGw/1zn4o62WnMGpBHN5+S7NpEbWJ5mZbcDa4S3rExlju9HlSiB3NINypyYb89S9brVXG9vThzFfa8crP1Ipt1zm8i0Z56nFmMYbAMp9vhqytrq7D84fWGCaSPCXl5doXJeIafYBv4cAu7uvbl/m4sfDSQhVUBwVaZgXHL83so071GSbmbrXz6Ft6tTxuCokQAnC2uoeiXY7kK/Wsml1PgutyVg/rbs36tQtjp67UoONRFM2B261c3jZm6zyd/SeJuecnF4ykP7j55I1bixxo9JYsqtRVVd/b25oblHatqZiXnjCA5TaHDNTvv4zghKMtdW9ZePdMPlGHXu2llOUm4Fl1CL0Wl7eqwdSA8WJJrKrbykzbbDbamKuxmEPXu34DJRo2LKQebajNDnBeb2G9yItfHhGY5fyTnuaQXFUZWF2n1SAdvZNMzP74J8NlBBZW70jYyXql0aStFHt7AE+S6OPExIXikYTll5Ovd2O3X6BsonhTNvZSLOKwWM+jPgZLGMvGEFCcWBWRNYMitSwAkvsSi65vgxLP/FBVALFKiY28FOJbtGNfPQyem11SXIfnO7kx9yhJJcGa6H3O3y/dioZkyczuWNLw/L8M/QbbaXgSPAqTFlyFUKlaDipW2wmZbPSwmn/0wwK8jUqMsOJml3I1p1bWDVtKINm7FE1AZ3W5BgFiuFrqyuPPeMGMzZnBRu3VVKeb8U06C2qVE7bpDUfDHn0khqwpUYxYd5KyioqKV9uxRTxNvsC1KhqB0VRVWrm5A4bn+QXsKHqR1rcwdaueo/vIN88QdW3DT2OH6iIIbG2utTEqb2fU1ywgtVl+wny8vL3SSlhr63iWNfUPPed1utQaqJudwmr8vNZs7ma8wH8P05gQNEr4eK+QoEQUUCAEiIZIdwIbQUEKKGdP8K7EFFAgBIiGSHcCG0FBCihnT/CuxBRQIASIhkh3AhtBf4PNPuvD2fz/F4AAAAASUVORK5CYII=)"
   ]
  },
  {
   "cell_type": "markdown",
   "metadata": {},
   "source": [
    "```\n",
    "myStr[ start : stop : step ]\n",
    "- start 인덱스부터 stop 인덱스 전까지 step 만큼씩\n",
    "- start 인덱스 포함\n",
    "- stop 인덱스 포함 X\n",
    "- 음수 step은 반대 방향을 의미\n",
    "- start 생략 시 \"처음부터\"\n",
    "- stop 생략 시 \"끝까지\"\n",
    "- step 생략 시 1 만큼씩\n",
    "```"
   ]
  },
  {
   "cell_type": "code",
   "execution_count": 14,
   "metadata": {},
   "outputs": [
    {
     "data": {
      "text/plain": [
       "('h', 'n', 'p', 't')"
      ]
     },
     "execution_count": 14,
     "metadata": {},
     "output_type": "execute_result"
    }
   ],
   "source": [
    "a='python'\n",
    "a[3], a[-1], a[0], a[-4]"
   ]
  },
  {
   "cell_type": "code",
   "execution_count": 15,
   "metadata": {},
   "outputs": [
    {
     "data": {
      "text/plain": [
       "('yt', 'pyt', 'hon', 'hon', 'pto', 'nohtyp')"
      ]
     },
     "execution_count": 15,
     "metadata": {},
     "output_type": "execute_result"
    }
   ],
   "source": [
    "# slicing\n",
    "a[1:3], a[:3], a[3:], a[-3:], a[0:6:2], a[::-1]"
   ]
  },
  {
   "cell_type": "code",
   "execution_count": null,
   "metadata": {},
   "outputs": [],
   "source": [
    "# \"on\"만 출력되도록 해 보세요.\n"
   ]
  },
  {
   "cell_type": "markdown",
   "metadata": {},
   "source": [
    "### 문자열 연습문제"
   ]
  },
  {
   "cell_type": "code",
   "execution_count": 25,
   "metadata": {},
   "outputs": [
    {
     "data": {
      "text/plain": [
       "('20200522', 'Rainy')"
      ]
     },
     "execution_count": 25,
     "metadata": {},
     "output_type": "execute_result"
    }
   ],
   "source": [
    "# 다음을 슬라이싱하여 날짜는 date 변수에 날씨는 weather 변수에 저장 후 출력하세요\n",
    "today = \"20200522Rainy\"\n",
    "# code here\n",
    "\n"
   ]
  },
  {
   "cell_type": "code",
   "execution_count": 26,
   "metadata": {},
   "outputs": [
    {
     "data": {
      "text/plain": [
       "'1'"
      ]
     },
     "execution_count": 26,
     "metadata": {},
     "output_type": "execute_result"
    }
   ],
   "source": [
    "# 다음을 인덱싱하여 성별을 나타내는 숫자를 출력하세요.\n",
    "jumin='881120-1064533'\n",
    "# code here\n",
    "\n"
   ]
  },
  {
   "cell_type": "markdown",
   "metadata": {},
   "source": [
    "### 문자열 포맷팅\n",
    "형식(format)을 사용하여 문자열을 만드는 방법"
   ]
  },
  {
   "cell_type": "code",
   "execution_count": 17,
   "metadata": {},
   "outputs": [
    {
     "name": "stdout",
     "output_type": "stream",
     "text": [
      "3.141592 500\n",
      "x의 값은 3.141592  y의 값은  500\n",
      "x의 값은 3.14, y의 값은 500\n",
      "x의 값은 3.141592, y의 값은 500\n",
      "x의 값은 3.141592, y의 값은 500\n"
     ]
    }
   ],
   "source": [
    "x=3.141592\n",
    "y=500\n",
    "print(x, y)\n",
    "print('x의 값은',x, ' y의 값은 ', y)\n",
    "print('x의 값은 %.2f, y의 값은 %d' % (x, y))\n",
    "print(f'x의 값은 {x}, y의 값은 {y}')\n",
    "print('x의 값은 {}, y의 값은 {}'.format(x,y))"
   ]
  },
  {
   "cell_type": "markdown",
   "metadata": {},
   "source": [
    "### 문자열 관련 함수, 메서드\n",
    "- len(str)\n",
    "- str.join(iterable)\n",
    "- str.split(sep)\n",
    "- str.strip()"
   ]
  },
  {
   "cell_type": "code",
   "execution_count": 28,
   "metadata": {},
   "outputs": [
    {
     "data": {
      "text/plain": [
       "5"
      ]
     },
     "execution_count": 28,
     "metadata": {},
     "output_type": "execute_result"
    }
   ],
   "source": [
    "# 문자열의 길이 구하기  len(str)\n",
    "\n",
    "A = \"Hello\"\n",
    "# A의 길이를 출력해 보세요\n",
    "\n"
   ]
  },
  {
   "cell_type": "code",
   "execution_count": 46,
   "metadata": {},
   "outputs": [
    {
     "data": {
      "text/plain": [
       "'a,b,c,d'"
      ]
     },
     "execution_count": 46,
     "metadata": {},
     "output_type": "execute_result"
    }
   ],
   "source": [
    "a=\",\"\n",
    "data=\"abcd\"\n",
    "result=a.join(data)\n",
    "result"
   ]
  },
  {
   "cell_type": "code",
   "execution_count": 45,
   "metadata": {},
   "outputs": [
    {
     "data": {
      "text/plain": [
       "'hong kil dong'"
      ]
     },
     "execution_count": 45,
     "metadata": {},
     "output_type": "execute_result"
    }
   ],
   "source": [
    "# ['hong', 'kil', 'dong']  이름이 이렇게 분리되어 있을 때  'hong kil dong'으로 출력하여 보자\n",
    "data=['hong', 'kil', 'dong']\n",
    "\n"
   ]
  },
  {
   "cell_type": "code",
   "execution_count": 47,
   "metadata": {
    "ExecuteTime": {
     "end_time": "2021-11-21T11:14:57.195394Z",
     "start_time": "2021-11-21T11:14:57.174180Z"
    }
   },
   "outputs": [
    {
     "data": {
      "text/plain": [
       "['a', 'b', 'c', 'd']"
      ]
     },
     "execution_count": 47,
     "metadata": {},
     "output_type": "execute_result"
    }
   ],
   "source": [
    "c=result.split(',')\n",
    "c"
   ]
  },
  {
   "cell_type": "code",
   "execution_count": 31,
   "metadata": {},
   "outputs": [
    {
     "data": {
      "text/plain": [
       "['010', '1234', '5678']"
      ]
     },
     "execution_count": 31,
     "metadata": {},
     "output_type": "execute_result"
    }
   ],
   "source": [
    "# 전화번호를 ['010', '1234', '5678']와 같이 분리하여 보세요.\n",
    "phone = '010-1234-5678'\n",
    "\n",
    "\n"
   ]
  },
  {
   "cell_type": "markdown",
   "metadata": {},
   "source": [
    "## 기본 입출력"
   ]
  },
  {
   "cell_type": "markdown",
   "metadata": {},
   "source": [
    "### input 함수\n",
    "\n",
    "        input(prompt='문자열')\n",
    "\n",
    "- 문자열 키보드 입력, 숫자를 입력해도 문자열로 인식됨\n",
    "- prompt : 입력을 안내할 문자열, 생략가능\n",
    "- 반환되는 type은 str 임"
   ]
  },
  {
   "cell_type": "code",
   "execution_count": 32,
   "metadata": {},
   "outputs": [
    {
     "name": "stdout",
     "output_type": "stream",
     "text": [
      "나이를 입력해 주세요33\n"
     ]
    },
    {
     "data": {
      "text/plain": [
       "'33'"
      ]
     },
     "execution_count": 32,
     "metadata": {},
     "output_type": "execute_result"
    }
   ],
   "source": [
    "age=input(\"나이를 입력해 주세요\")  # 키보드 입력(문자로)\n",
    "age"
   ]
  },
  {
   "cell_type": "code",
   "execution_count": null,
   "metadata": {},
   "outputs": [],
   "source": [
    "#성적을 입력받아 출력해 보자\n",
    "\n"
   ]
  },
  {
   "cell_type": "code",
   "execution_count": 33,
   "metadata": {},
   "outputs": [
    {
     "data": {
      "text/plain": [
       "34"
      ]
     },
     "execution_count": 33,
     "metadata": {},
     "output_type": "execute_result"
    }
   ],
   "source": [
    "#계산을 위해서는 반드시 숫자형으로 형변화 해야함.\n",
    "age=int(age)   # 문자를 숫자형으로 변환\n",
    "nextAge=age+1\n",
    "nextAge"
   ]
  },
  {
   "cell_type": "markdown",
   "metadata": {},
   "source": [
    "### print 함수\n",
    "\n",
    "        print(value, sep=' ', end='\\n', …)\n",
    "\n",
    "- value를 표준 출력 장치(screen)에 출력 - value 가변 길이\n",
    "- sep : 출력되는 value 들 사이 분리 기호 - 기본 값 : 공백(‘ ‘)\n",
    "- end : 출력 문자열 마지막 문자 - 기본 값 : 줄 바꿈 문자"
   ]
  },
  {
   "cell_type": "code",
   "execution_count": 52,
   "metadata": {
    "ExecuteTime": {
     "end_time": "2021-11-21T11:17:18.166674Z",
     "start_time": "2021-11-21T11:17:18.156689Z"
    }
   },
   "outputs": [
    {
     "name": "stdout",
     "output_type": "stream",
     "text": [
      "이름 홍길동 나이 27\n"
     ]
    }
   ],
   "source": [
    "print('이름', '홍길동', '나이', 27)"
   ]
  },
  {
   "cell_type": "code",
   "execution_count": 53,
   "metadata": {
    "ExecuteTime": {
     "end_time": "2021-11-21T11:17:18.340546Z",
     "start_time": "2021-11-21T11:17:18.328549Z"
    }
   },
   "outputs": [
    {
     "name": "stdout",
     "output_type": "stream",
     "text": [
      "이름:홍길동\n"
     ]
    }
   ],
   "source": [
    "print('이름', '홍길동', sep=':')"
   ]
  },
  {
   "cell_type": "code",
   "execution_count": 54,
   "metadata": {
    "ExecuteTime": {
     "end_time": "2021-11-21T11:17:18.500617Z",
     "start_time": "2021-11-21T11:17:18.483620Z"
    }
   },
   "outputs": [
    {
     "name": "stdout",
     "output_type": "stream",
     "text": [
      "이름 홍길동\n",
      "나이 27\n"
     ]
    }
   ],
   "source": [
    "print('이름', '홍길동')\n",
    "print('나이', 27)"
   ]
  },
  {
   "cell_type": "code",
   "execution_count": 55,
   "metadata": {
    "ExecuteTime": {
     "end_time": "2021-11-21T11:17:18.612047Z",
     "start_time": "2021-11-21T11:17:18.607062Z"
    }
   },
   "outputs": [
    {
     "name": "stdout",
     "output_type": "stream",
     "text": [
      "이름 홍길동 나이 27\n"
     ]
    }
   ],
   "source": [
    "print('이름', '홍길동', end=' ')\n",
    "print('나이', 27)"
   ]
  },
  {
   "cell_type": "markdown",
   "metadata": {},
   "source": [
    "## 자료구조\n",
    "Sequence Type\n",
    "- 문자열(str)\n",
    "- 리스트(list) : 여러 가지 형태의 변수를 하나의 순서가 있는 배열로 묶어 놓은 형태\n",
    "- 튜플(tuple) : 리스트와 유사하지만 요소의 수정이 불가능한 리스트\n",
    "\n",
    "Set Type\n",
    "- 집합(set) : 순서가 없고 중복을 허용하지 않음\n",
    "\n",
    "Mapping\n",
    "- 사전(dict) : Key와 Value 형태로 데이터를 저장함"
   ]
  },
  {
   "cell_type": "markdown",
   "metadata": {},
   "source": [
    "### Sequence Type의 공통 특징\n",
    "- '+', '*' 연산의 사용\n",
    "- indexing, slicing의 사용"
   ]
  },
  {
   "cell_type": "code",
   "execution_count": 5,
   "metadata": {},
   "outputs": [
    {
     "data": {
      "text/plain": [
       "[1, 2, 3, 4, 5, 6]"
      ]
     },
     "execution_count": 5,
     "metadata": {},
     "output_type": "execute_result"
    }
   ],
   "source": [
    "a = [1, 2, 3]\n",
    "b = [4, 5, 6]\n",
    "a + b"
   ]
  },
  {
   "cell_type": "code",
   "execution_count": 6,
   "metadata": {},
   "outputs": [
    {
     "data": {
      "text/plain": [
       "[1, 2, 3, 1, 2, 3]"
      ]
     },
     "execution_count": 6,
     "metadata": {},
     "output_type": "execute_result"
    }
   ],
   "source": [
    "a = [1, 2, 3]\n",
    "b = 2\n",
    "a * b"
   ]
  },
  {
   "cell_type": "markdown",
   "metadata": {},
   "source": [
    "### 리스트(list)\n",
    "- 리스트는 여러 가지 형태의 값을 하나의 순서가 있는 배열 형태로 묶어 놓은 것\n",
    "   - 리스트는 모든 type의 객체를 item으로 할 수 있음\n",
    "- 파이썬에서 가장 많이 사용되며, 유연한 구조의 데이터 타입\n",
    "- 리스트 내의 항목들은 쉼표로 구분하고 사각 괄호[ ] 안에 포함됨\n",
    "- Slicing을 이용하여 리스트의 일정 범위 항목을 쪼개어 가져오거나 한 항목을 가져올 수 있음\n",
    "- 리스트의 각 항목은 변경이 가능\n",
    "   - x[0] = 10"
   ]
  },
  {
   "cell_type": "markdown",
   "metadata": {},
   "source": [
    "#### 리스트(list) 생성 "
   ]
  },
  {
   "cell_type": "code",
   "execution_count": 18,
   "metadata": {},
   "outputs": [
    {
     "data": {
      "text/plain": [
       "['a', 'b', 'c', 'd', 'e']"
      ]
     },
     "execution_count": 18,
     "metadata": {},
     "output_type": "execute_result"
    }
   ],
   "source": [
    "#list 생성(Create)\n",
    "mylist=[1,2,3,4,5]\n",
    "mymsg='abcde'\n",
    "mylist=list(mymsg)\n",
    "mylist"
   ]
  },
  {
   "cell_type": "code",
   "execution_count": 19,
   "metadata": {},
   "outputs": [
    {
     "data": {
      "text/plain": [
       "(5, 5)"
      ]
     },
     "execution_count": 19,
     "metadata": {},
     "output_type": "execute_result"
    }
   ],
   "source": [
    "len(mymsg), len(mylist)"
   ]
  },
  {
   "cell_type": "code",
   "execution_count": 20,
   "metadata": {},
   "outputs": [
    {
     "data": {
      "text/plain": [
       "('a', 'e', 'd')"
      ]
     },
     "execution_count": 20,
     "metadata": {},
     "output_type": "execute_result"
    }
   ],
   "source": [
    "# 검색(Read) : indexing \n",
    "\n"
   ]
  },
  {
   "cell_type": "code",
   "execution_count": 21,
   "metadata": {},
   "outputs": [
    {
     "data": {
      "text/plain": [
       "(['a', 'b', 'c'], ['b', 'c'], ['e', 'd', 'c', 'b', 'a'])"
      ]
     },
     "execution_count": 21,
     "metadata": {},
     "output_type": "execute_result"
    }
   ],
   "source": [
    "# 검색(Read) : slicing \n",
    "\n"
   ]
  },
  {
   "cell_type": "code",
   "execution_count": 38,
   "metadata": {},
   "outputs": [
    {
     "data": {
      "text/plain": [
       "['a', 3, 'b', 'c', 'd', 'e']"
      ]
     },
     "execution_count": 38,
     "metadata": {},
     "output_type": "execute_result"
    }
   ],
   "source": [
    "# 추가 insert(위치, 값) 1인덱스에 3추가해 보자\n",
    "\n"
   ]
  },
  {
   "cell_type": "code",
   "execution_count": 39,
   "metadata": {},
   "outputs": [
    {
     "data": {
      "text/plain": [
       "['a', 100, 'b', 'c', 'd', 'e']"
      ]
     },
     "execution_count": 39,
     "metadata": {},
     "output_type": "execute_result"
    }
   ],
   "source": [
    "# 수정 (Update) 1인덱스의 값을 100으로 변경해 보자\n",
    "\n",
    "\n"
   ]
  },
  {
   "cell_type": "code",
   "execution_count": 48,
   "metadata": {},
   "outputs": [],
   "source": [
    "#삭제 (Delete)  remove(100)을 제거 해 보자\n",
    "\n"
   ]
  },
  {
   "cell_type": "code",
   "execution_count": 49,
   "metadata": {},
   "outputs": [],
   "source": [
    "# 삭제   인덱스3번위치 값을 제거해 보자\n",
    "\n"
   ]
  },
  {
   "cell_type": "code",
   "execution_count": 49,
   "metadata": {},
   "outputs": [],
   "source": [
    "# 삭제   인덱스3번위치 값을 제거해 보자\n",
    "\n"
   ]
  },
  {
   "cell_type": "code",
   "execution_count": 26,
   "metadata": {},
   "outputs": [
    {
     "data": {
      "text/plain": [
       "[3, 5, 6, 8, 9]"
      ]
     },
     "execution_count": 26,
     "metadata": {},
     "output_type": "execute_result"
    }
   ],
   "source": [
    "mylist=[5,8,3,6,9]\n",
    "mylist.sort()\n",
    "mylist"
   ]
  },
  {
   "cell_type": "code",
   "execution_count": 27,
   "metadata": {},
   "outputs": [
    {
     "data": {
      "text/plain": [
       "[9, 8, 6, 5, 3]"
      ]
     },
     "execution_count": 27,
     "metadata": {},
     "output_type": "execute_result"
    }
   ],
   "source": [
    "# 내림차순으로 sort 해 보자.\n",
    "\n"
   ]
  },
  {
   "cell_type": "markdown",
   "metadata": {},
   "source": [
    "#### 2차원 리스트 "
   ]
  },
  {
   "cell_type": "code",
   "execution_count": 44,
   "metadata": {
    "ExecuteTime": {
     "end_time": "2021-11-21T08:59:14.044657Z",
     "start_time": "2021-11-21T08:59:14.021035Z"
    }
   },
   "outputs": [
    {
     "data": {
      "text/plain": [
       "[3, 5, 7]"
      ]
     },
     "execution_count": 44,
     "metadata": {},
     "output_type": "execute_result"
    }
   ],
   "source": [
    "mylist=[ [1,3,5],[3,5,7],[5,7,9]  ]\n",
    "mylist[1]"
   ]
  },
  {
   "cell_type": "code",
   "execution_count": 45,
   "metadata": {
    "ExecuteTime": {
     "end_time": "2021-11-21T08:59:16.946868Z",
     "start_time": "2021-11-21T08:59:16.923838Z"
    }
   },
   "outputs": [
    {
     "data": {
      "text/plain": [
       "3"
      ]
     },
     "execution_count": 45,
     "metadata": {},
     "output_type": "execute_result"
    }
   ],
   "source": [
    "mylist[0][1]"
   ]
  },
  {
   "cell_type": "code",
   "execution_count": 46,
   "metadata": {},
   "outputs": [
    {
     "data": {
      "text/plain": [
       "[[1, 3, 5], 300, [5, 7, 9]]"
      ]
     },
     "execution_count": 46,
     "metadata": {},
     "output_type": "execute_result"
    }
   ],
   "source": [
    "mylist[1]=300\n",
    "mylist"
   ]
  },
  {
   "cell_type": "code",
   "execution_count": 47,
   "metadata": {},
   "outputs": [
    {
     "data": {
      "text/plain": [
       "[1, [4, 5, 6], 3]"
      ]
     },
     "execution_count": 47,
     "metadata": {},
     "output_type": "execute_result"
    }
   ],
   "source": [
    "test=[1,2,3]\n",
    "test[1]=[4,5,6]\n",
    "test"
   ]
  },
  {
   "cell_type": "code",
   "execution_count": 48,
   "metadata": {},
   "outputs": [
    {
     "data": {
      "text/plain": [
       "[1, [4, 6], 3]"
      ]
     },
     "execution_count": 48,
     "metadata": {},
     "output_type": "execute_result"
    }
   ],
   "source": [
    "#5를 삭제\n",
    "test[1].pop(1)\n",
    "test"
   ]
  },
  {
   "cell_type": "code",
   "execution_count": 49,
   "metadata": {},
   "outputs": [
    {
     "data": {
      "text/plain": [
       "[5, 7, 9]"
      ]
     },
     "execution_count": 49,
     "metadata": {},
     "output_type": "execute_result"
    }
   ],
   "source": [
    "# 2열만 보는 방법\n",
    "mylist[:][2]"
   ]
  },
  {
   "cell_type": "markdown",
   "metadata": {},
   "source": [
    "#### 리스트의 메서드(method)"
   ]
  },
  {
   "cell_type": "code",
   "execution_count": 50,
   "metadata": {},
   "outputs": [
    {
     "data": {
      "text/plain": [
       "[1, [4, 6], 3, [5, 6, 7]]"
      ]
     },
     "execution_count": 50,
     "metadata": {},
     "output_type": "execute_result"
    }
   ],
   "source": [
    "test.append([5,6,7])\n",
    "test"
   ]
  },
  {
   "cell_type": "code",
   "execution_count": 51,
   "metadata": {},
   "outputs": [
    {
     "data": {
      "text/plain": [
       "[1, [4, 6], 3, [5, 6, 7], 5, 6, 7]"
      ]
     },
     "execution_count": 51,
     "metadata": {},
     "output_type": "execute_result"
    }
   ],
   "source": [
    "test.extend([5,6,7])\n",
    "test"
   ]
  },
  {
   "cell_type": "code",
   "execution_count": 52,
   "metadata": {},
   "outputs": [
    {
     "data": {
      "text/plain": [
       "'1 2 3 4 5'"
      ]
     },
     "execution_count": 52,
     "metadata": {},
     "output_type": "execute_result"
    }
   ],
   "source": [
    "a=['1','2','3','4','5']\n",
    "result=\" \".join(a)\n",
    "result"
   ]
  },
  {
   "cell_type": "markdown",
   "metadata": {},
   "source": [
    "#### 리스트 연습문제 "
   ]
  },
  {
   "cell_type": "code",
   "execution_count": 30,
   "metadata": {},
   "outputs": [
    {
     "name": "stdout",
     "output_type": "stream",
     "text": [
      "[['math', 89], ['english', 85]]\n"
     ]
    }
   ],
   "source": [
    "# 'english' 뒤에 85를 삽입합니다.\n",
    "score = [['math', 89], ['english']]\n",
    "#code here\n",
    "\n",
    "\n"
   ]
  },
  {
   "cell_type": "code",
   "execution_count": 54,
   "metadata": {},
   "outputs": [
    {
     "data": {
      "text/plain": [
       "[2, 4, 5, 3, 1]"
      ]
     },
     "execution_count": 54,
     "metadata": {},
     "output_type": "execute_result"
    }
   ],
   "source": [
    "# [1,3,5,4,2] 이라는 리스트를 슬라이싱을 이용하여 [2,4,5,3,1]로 출력하세요\n",
    "mylist = [1,3,5,4,2]\n",
    "#code here\n",
    "\n",
    "\n",
    "\n",
    "\n"
   ]
  },
  {
   "cell_type": "code",
   "execution_count": 29,
   "metadata": {},
   "outputs": [
    {
     "data": {
      "text/plain": [
       "'Python is too interesting'"
      ]
     },
     "execution_count": 29,
     "metadata": {},
     "output_type": "execute_result"
    }
   ],
   "source": [
    "# [‘Python’, ‘is’, ‘too’, ‘interesting’] 라는 리스트를 'Python is too interesting' 이라는 문자열로 출력하세요\n",
    "# list문제를 가장한...   str 메서드 문제입니다.\n",
    "mylist = ['Python','is','too','interesting']\n",
    "#code here\n",
    "\n",
    "\n"
   ]
  },
  {
   "cell_type": "markdown",
   "metadata": {},
   "source": [
    "### 튜플(tuple)\n",
    "- 데이터 변경이 불가능한 Common Sequence Type\n",
    "- 튜플은 소괄호( )와 콤마(,)를 사용하여 작성\n",
    "- 튜플은 값의 추가, 수정, 제거가 불가능함, 조회만 가능\n",
    "- 튜플의 인덱싱과 슬라이싱은 리스트와 동일\n",
    "- 값의 수정이 불필요한 경우 리스트보다 튜플을 사용하는 것이 효율적임\n",
    "   - 메모리 사용이 적음"
   ]
  },
  {
   "cell_type": "markdown",
   "metadata": {},
   "source": [
    "#### 튜플(tuple) 생성"
   ]
  },
  {
   "cell_type": "code",
   "execution_count": 56,
   "metadata": {},
   "outputs": [
    {
     "data": {
      "text/plain": [
       "((1, 2, 3, 4, 5, 5, 5, 5), (1, 2, 2, 3), ('1', '2', '3'), (1, 2, 3, 4), (10,))"
      ]
     },
     "execution_count": 56,
     "metadata": {},
     "output_type": "execute_result"
    }
   ],
   "source": [
    "# 생성\n",
    "t1=(1,2,3,4,5,5,5,5)\n",
    "t2=tuple([1,2,2,3])\n",
    "t3=tuple('123')\n",
    "t4=1,2,3,4\n",
    "t5=(10,)   #(10) 괄호가 우선순위가 먼저여서 정수형으로 인지\n",
    "t1, t2, t3, t4, t5"
   ]
  },
  {
   "cell_type": "code",
   "execution_count": 57,
   "metadata": {},
   "outputs": [
    {
     "data": {
      "text/plain": [
       "(1, 4, (1, 2, 3), (5, 5, 5, 5), (1, 3, 5, 5), (5, 5, 5, 5, 4, 3, 2, 1), 4, 2)"
      ]
     },
     "execution_count": 57,
     "metadata": {},
     "output_type": "execute_result"
    }
   ],
   "source": [
    "# 검색  : 함수 검색  -- 변수.Tab키\n",
    "t1[0], t1[3], t1[:3], t1[4:] ,t1[0:7:2], t1[::-1], t1.count(5), t1.index(3)"
   ]
  },
  {
   "cell_type": "code",
   "execution_count": 58,
   "metadata": {},
   "outputs": [
    {
     "data": {
      "text/plain": [
       "((1, 2, 3, 4), [1, 3, 5, 7, 9], [0, 1, 2, 3, 4, 5])"
      ]
     },
     "execution_count": 58,
     "metadata": {},
     "output_type": "execute_result"
    }
   ],
   "source": [
    "# range() 함수 : 값을 자동 발생  range(시작값, 끝값, step)\n",
    "r1=tuple(range(1,5))  #1~4\n",
    "r2=list(range(1,10,2))\n",
    "r3=list(range(6))  #기본값 start=0, step=1\n",
    "r1, r2, r3"
   ]
  },
  {
   "cell_type": "markdown",
   "metadata": {},
   "source": [
    "### 집합(set)\n",
    "- 집합은 중괄호 {} 안에 콤마(,)로 값들을 구분\n",
    "- 중복을 허용하지 않으며 순서가 없음"
   ]
  },
  {
   "cell_type": "markdown",
   "metadata": {},
   "source": [
    "#### 집합 생성"
   ]
  },
  {
   "cell_type": "code",
   "execution_count": 40,
   "metadata": {},
   "outputs": [
    {
     "data": {
      "text/plain": [
       "({1, 2, 3, 4, 5, 6, 10, 88}, {1, 2, 3}, {1, 2, 3}, {'1', '2', '3'})"
      ]
     },
     "execution_count": 40,
     "metadata": {},
     "output_type": "execute_result"
    }
   ],
   "source": [
    "#생성\n",
    "s1={10,88,1,2,3,4,5,5,5,5,6}\n",
    "s2=set([1,2,3])    #형변환: set<-list\n",
    "s3=set( (1,2,3 ))   #형변환: set<-tuple\n",
    "s4=set( '123')      #형변환: set<-str\n",
    "s1, s2, s3, s4"
   ]
  },
  {
   "cell_type": "code",
   "execution_count": 41,
   "metadata": {},
   "outputs": [
    {
     "data": {
      "text/plain": [
       "{1, 2, 3, 4, 5, 6, 10, 44, 55, 77, 88}"
      ]
     },
     "execution_count": 41,
     "metadata": {},
     "output_type": "execute_result"
    }
   ],
   "source": [
    "#추가\n",
    "s1.add(77)   #값1개 추가\n",
    "s1.update([44,77,55])  #값 여러개 추가, 값 여러개 반드시 [] \n",
    "s1"
   ]
  },
  {
   "cell_type": "code",
   "execution_count": 42,
   "metadata": {},
   "outputs": [
    {
     "data": {
      "text/plain": [
       "{2, 3, 4, 5, 6, 10, 44, 77, 88}"
      ]
     },
     "execution_count": 42,
     "metadata": {},
     "output_type": "execute_result"
    }
   ],
   "source": [
    "#삭제\n",
    "s1.remove(55)   # 지정값을 삭제, 만약에 값 없으면 error\n",
    "s1.pop()       # 임의의 값을 삭제 (주로 첫번째 값을 )\n",
    "s1"
   ]
  },
  {
   "cell_type": "markdown",
   "metadata": {},
   "source": [
    "#### 집합 연산, 메서드"
   ]
  },
  {
   "cell_type": "code",
   "execution_count": 63,
   "metadata": {},
   "outputs": [
    {
     "name": "stdout",
     "output_type": "stream",
     "text": [
      "차집합 {'a'} {'a'}\n",
      "합집합 {'d', 'b', 'c', 'a'} {'d', 'b', 'c', 'a'}\n",
      "교집합 {'c', 'b'} {'c', 'b'}\n"
     ]
    }
   ],
   "source": [
    "# set 연산\n",
    "a={'a','b','c'}\n",
    "b={'d','b','c'}\n",
    "print(\"차집합\", a-b, a.difference(b))\n",
    "print(\"합집합\", a|b, a.union(b))\n",
    "print(\"교집합\", a&b, a.intersection(b))"
   ]
  },
  {
   "cell_type": "markdown",
   "metadata": {},
   "source": [
    "#### 데이터 변환"
   ]
  },
  {
   "cell_type": "code",
   "execution_count": 64,
   "metadata": {},
   "outputs": [
    {
     "data": {
      "text/plain": [
       "{1, 2, 3}"
      ]
     },
     "execution_count": 64,
     "metadata": {},
     "output_type": "execute_result"
    }
   ],
   "source": [
    "s1 = set([1, 2, 3])    # list to set\n",
    "s1"
   ]
  },
  {
   "cell_type": "code",
   "execution_count": 65,
   "metadata": {},
   "outputs": [
    {
     "data": {
      "text/plain": [
       "[1, 2, 3]"
      ]
     },
     "execution_count": 65,
     "metadata": {},
     "output_type": "execute_result"
    }
   ],
   "source": [
    "myList = list(s1)      # set to list\n",
    "myList"
   ]
  },
  {
   "cell_type": "code",
   "execution_count": 66,
   "metadata": {},
   "outputs": [
    {
     "data": {
      "text/plain": [
       "(1, 2, 3)"
      ]
     },
     "execution_count": 66,
     "metadata": {},
     "output_type": "execute_result"
    }
   ],
   "source": [
    "myTuple = tuple(s1)    # set to tuple\n",
    "myTuple"
   ]
  },
  {
   "cell_type": "markdown",
   "metadata": {},
   "source": [
    "### 사전 (딕셔너리)\n",
    "- 딕셔너리는 Key와 Value의 쌍과 { }로 구성되어 있음\n",
    "  - dishes = {＇eggs＇: 2, ＇sausage＇: 1, ＇bacon＇: 1, ‘ spam＇: 500}\n",
    "- 딕셔너리는 리스트나 튜플처럼 순차적으로 요소값을 구하지 않고 Key를 통해 Value를 얻음\n",
    "- 딕셔너리 항목은 시퀀스 타입과는 다르게 순서가 없음\n",
    "- Key값은 고유한 값으로 설정해야 함\n",
    "- Key값은 변경 불가능한 객체로 설정해야 함\n",
    "- List를 Key값으로 설정 불가\n"
   ]
  },
  {
   "cell_type": "markdown",
   "metadata": {},
   "source": [
    "#### 사전(dict) 생성 및 연산"
   ]
  },
  {
   "cell_type": "code",
   "execution_count": 35,
   "metadata": {},
   "outputs": [
    {
     "data": {
      "text/plain": [
       "{'사과': 5000, '바나나': 7000, '배': 4000, '포도': 6000}"
      ]
     },
     "execution_count": 35,
     "metadata": {},
     "output_type": "execute_result"
    }
   ],
   "source": [
    "#생성\n",
    "a={'사과':5000, '바나나':7000, '배':4000}\n",
    "#추가\n",
    "a[\"포도\"]=6000\n",
    "a"
   ]
  },
  {
   "cell_type": "code",
   "execution_count": 36,
   "metadata": {},
   "outputs": [
    {
     "data": {
      "text/plain": [
       "(4000, 4000)"
      ]
     },
     "execution_count": 36,
     "metadata": {},
     "output_type": "execute_result"
    }
   ],
   "source": [
    "#검색\n",
    "a[\"배\"] , a.get(\"배\")"
   ]
  },
  {
   "cell_type": "code",
   "execution_count": 37,
   "metadata": {},
   "outputs": [
    {
     "data": {
      "text/plain": [
       "6000"
      ]
     },
     "execution_count": 37,
     "metadata": {},
     "output_type": "execute_result"
    }
   ],
   "source": [
    "#a['포도']   # key가 존재하지 않으면 error\n",
    "a.get('포도') #key가 존재하지 않으면 아무것도 출력하지 않음"
   ]
  },
  {
   "cell_type": "code",
   "execution_count": 38,
   "metadata": {},
   "outputs": [
    {
     "data": {
      "text/plain": [
       "{'사과': 5000, '바나나': 7000, '배': 8000, '포도': 6000}"
      ]
     },
     "execution_count": 38,
     "metadata": {},
     "output_type": "execute_result"
    }
   ],
   "source": [
    "#수정 : 배가 존재하지 않으면 추가됨\n",
    "a['배']=8000\n",
    "a"
   ]
  },
  {
   "cell_type": "code",
   "execution_count": null,
   "metadata": {},
   "outputs": [],
   "source": [
    "#추가 : '귤':3000 을 추가하여 보자\n",
    "\n"
   ]
  },
  {
   "cell_type": "code",
   "execution_count": 39,
   "metadata": {},
   "outputs": [
    {
     "data": {
      "text/plain": [
       "{}"
      ]
     },
     "execution_count": 39,
     "metadata": {},
     "output_type": "execute_result"
    }
   ],
   "source": [
    "#삭제\n",
    "del a['배']\n",
    "a.pop('사과')\n",
    "a.clear()  # 전체 삭제\n",
    "a"
   ]
  },
  {
   "cell_type": "markdown",
   "metadata": {},
   "source": [
    "#### 사전(dict)의 메서드"
   ]
  },
  {
   "cell_type": "code",
   "execution_count": 76,
   "metadata": {},
   "outputs": [
    {
     "data": {
      "text/plain": [
       "dict_keys(['사과', '바나나', '배'])"
      ]
     },
     "execution_count": 76,
     "metadata": {},
     "output_type": "execute_result"
    }
   ],
   "source": [
    "a={'사과':5000, '바나나':7000, '배':4000}\n",
    "a.keys()"
   ]
  },
  {
   "cell_type": "code",
   "execution_count": 77,
   "metadata": {},
   "outputs": [
    {
     "data": {
      "text/plain": [
       "dict_values([5000, 7000, 4000])"
      ]
     },
     "execution_count": 77,
     "metadata": {},
     "output_type": "execute_result"
    }
   ],
   "source": [
    "a.values()"
   ]
  },
  {
   "cell_type": "code",
   "execution_count": 78,
   "metadata": {},
   "outputs": [
    {
     "name": "stdout",
     "output_type": "stream",
     "text": [
      "사과\n",
      "바나나\n",
      "배\n"
     ]
    }
   ],
   "source": [
    "for k in a.keys():\n",
    "    print(k)"
   ]
  }
 ],
 "metadata": {
  "kernelspec": {
   "display_name": "Python 3 (ipykernel)",
   "language": "python",
   "name": "python3"
  },
  "language_info": {
   "codemirror_mode": {
    "name": "ipython",
    "version": 3
   },
   "file_extension": ".py",
   "mimetype": "text/x-python",
   "name": "python",
   "nbconvert_exporter": "python",
   "pygments_lexer": "ipython3",
   "version": "3.11.0"
  },
  "toc": {
   "base_numbering": 1,
   "nav_menu": {},
   "number_sections": true,
   "sideBar": true,
   "skip_h1_title": false,
   "title_cell": "Table of Contents",
   "title_sidebar": "Contents",
   "toc_cell": false,
   "toc_position": {},
   "toc_section_display": true,
   "toc_window_display": false
  },
  "varInspector": {
   "cols": {
    "lenName": 16,
    "lenType": 16,
    "lenVar": 40
   },
   "kernels_config": {
    "python": {
     "delete_cmd_postfix": "",
     "delete_cmd_prefix": "del ",
     "library": "var_list.py",
     "varRefreshCmd": "print(var_dic_list())"
    },
    "r": {
     "delete_cmd_postfix": ") ",
     "delete_cmd_prefix": "rm(",
     "library": "var_list.r",
     "varRefreshCmd": "cat(var_dic_list()) "
    }
   },
   "types_to_exclude": [
    "module",
    "function",
    "builtin_function_or_method",
    "instance",
    "_Feature"
   ],
   "window_display": false
  }
 },
 "nbformat": 4,
 "nbformat_minor": 4
}
