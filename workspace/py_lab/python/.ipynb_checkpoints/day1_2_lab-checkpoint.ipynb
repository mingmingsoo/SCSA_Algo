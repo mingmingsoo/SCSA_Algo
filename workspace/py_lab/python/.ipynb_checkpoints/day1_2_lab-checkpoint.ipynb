{
 "cells": [
  {
   "cell_type": "markdown",
   "metadata": {},
   "source": [
    "# Chapter2. python2\n",
    "- 조건문 (if)\n",
    "- 반복문 (for)\n",
    "- 함수\n",
    "- 모듈"
   ]
  },
  {
   "cell_type": "markdown",
   "metadata": {},
   "source": [
    "## 조건문"
   ]
  },
  {
   "cell_type": "markdown",
   "metadata": {},
   "source": [
    "### 단순 조건 분기\n",
    "        if <condition>:\n",
    "        <탭> statement\n",
    "        else:\n",
    "        <탭> statement\n",
    "\n",
    "- 들여쓰기(indent)\n",
    "  - if 조건문을 만들 때 if 조건문 바로 아래 문장부터 if에 속하는 모든 문장에 대해 들여쓰기를 적용해야 함\n",
    "  - 들여쓰기는 항상 같은 깊이     \n",
    "  - 들여쓰기는 탭이나 스페이스 어느 것으로 해도 상관없으나 혼용해서 사용하면 에러 발생   "
   ]
  },
  {
   "cell_type": "code",
   "execution_count": 1,
   "metadata": {},
   "outputs": [
    {
     "name": "stdout",
     "output_type": "stream",
     "text": [
      "합격~~\n",
      "축하축하~~\n",
      "종료\n"
     ]
    }
   ],
   "source": [
    "# score가 70점 이상이면 합격을 출력해 보자.\n",
    "score=80\n",
    "if score >= 70 :\n",
    "    print(\"합격~~\")\n",
    "    print(\"축하축하~~\")\n",
    "print(\"종료\")"
   ]
  },
  {
   "cell_type": "code",
   "execution_count": 2,
   "metadata": {},
   "outputs": [
    {
     "name": "stdout",
     "output_type": "stream",
     "text": [
      "성적입력:77\n",
      "합격~~\n",
      "종료\n"
     ]
    }
   ],
   "source": [
    "# 성적을 키보드로 입력받아 70이상이면 합격, 그렇지 않으면 불합격을 출력\n",
    "score=input(\"성적입력:\")   #키보드 입력, 문자값입력\n",
    "score=int(score)          # 정수형으로 변환\n",
    "if score >= 70 :\n",
    "    print(\"합격~~\")\n",
    "else :\n",
    "    print(\"불합격~\")\n",
    "print(\"종료\")"
   ]
  },
  {
   "cell_type": "markdown",
   "metadata": {},
   "source": [
    "### if문 연습문제 1 (비만도구하기)\n",
    "(몸무게 + 100 – 키)를 비만 수치 공식이라고 할 때 키와 몸무게를 입력 받아 첫 번째\n",
    "줄에 비만 수치를 출력하고, 비만 수치가 0보다 크면 비만이라는 메시지를\n",
    "출력하세요.\n",
    "\n",
    "- 사용) info = [155, 60]\n",
    "- 출력) \n",
    "        비만 수치는 5 입니다.\n",
    "        당신은 비만입니다."
   ]
  },
  {
   "cell_type": "code",
   "execution_count": 2,
   "metadata": {},
   "outputs": [
    {
     "name": "stdout",
     "output_type": "stream",
     "text": [
      "비만 수치는 5입니다. 당신은 비만입니다\n"
     ]
    }
   ],
   "source": [
    "info = [155, 60]\n",
    "# code here\n",
    "\n",
    "bmi = info[1] + 100 - info[0]\n",
    "if bmi >0:\n",
    "    print(f'비만 수치는 {bmi}입니다. 당신은 비만입니다')\n",
    "\n",
    "\n",
    "\n",
    "\n",
    "\n"
   ]
  },
  {
   "cell_type": "markdown",
   "metadata": {},
   "source": [
    "### 다양한 조건에 따라 분기\n",
    "\n",
    "        if <condition>:\n",
    "        <탭> statement\n",
    "        elif <condition>:\n",
    "        <탭> statement        \n",
    "        else:\n",
    "        <탭> statement"
   ]
  },
  {
   "cell_type": "code",
   "execution_count": 5,
   "metadata": {},
   "outputs": [
    {
     "name": "stdin",
     "output_type": "stream",
     "text": [
      "성적입력 >  75\n"
     ]
    },
    {
     "name": "stdout",
     "output_type": "stream",
     "text": [
      "C학점\n"
     ]
    }
   ],
   "source": [
    "#성적을 입력받아 학점을 구해보자. \n",
    "# 90점이상 A학점, 80점이상 B, 70점이상 C, 70점 미만 F학점을 출력해 보자.\n",
    "score = int(input('성적입력 > '))\n",
    "\n",
    "if(score >= 90):\n",
    "    print(\"A학점\")\n",
    "elif(score>=80):\n",
    "    print(\"B학점\")\n",
    "elif(score>=70):\n",
    "    print(\"C학점\")\n",
    "else:\n",
    "    print(\"F학점\")\n",
    "\n",
    "\n",
    "\n",
    "\n",
    "\n"
   ]
  },
  {
   "cell_type": "markdown",
   "metadata": {},
   "source": [
    "### 3항 연산자\n",
    "\n",
    "        <True-value> if <condition> else <False-value>"
   ]
  },
  {
   "cell_type": "code",
   "execution_count": 5,
   "metadata": {},
   "outputs": [
    {
     "data": {
      "text/plain": [
       "'FAIL'"
      ]
     },
     "execution_count": 5,
     "metadata": {},
     "output_type": "execute_result"
    }
   ],
   "source": [
    "# 3항 연산자\n",
    "score=60\n",
    "a='PASS'   if  score>= 70  else \"FAIL\"\n",
    "a"
   ]
  },
  {
   "cell_type": "markdown",
   "metadata": {},
   "source": [
    "## 반복문"
   ]
  },
  {
   "cell_type": "markdown",
   "metadata": {},
   "source": [
    "### for 반복문의 기본구조\n",
    "\n",
    "        for <variable> in <iterable> :\n",
    "        <탭> statements\n",
    "\n",
    "- iterable : list, tuple, str, set, dict ..."
   ]
  },
  {
   "cell_type": "code",
   "execution_count": 6,
   "metadata": {},
   "outputs": [
    {
     "name": "stdout",
     "output_type": "stream",
     "text": [
      "red\n",
      "green\n",
      "blue\n"
     ]
    }
   ],
   "source": [
    "colors = ['red', 'green', 'blue']\n",
    "for c in colors:\n",
    "    print(c)"
   ]
  },
  {
   "cell_type": "markdown",
   "metadata": {},
   "source": [
    "### for문 연습문제 1(합격, 불합격)\n",
    "- 총 5명 학생의 성적이 다음과 같을 때 시험 점수가 60점 이상이면 \"합격입니다.\"를 그렇지 않으면 \"불합격입니다.\"를 출력하세요.\n",
    "- 사용) result = [90, 35, 68, 44, 81]"
   ]
  },
  {
   "cell_type": "code",
   "execution_count": 6,
   "metadata": {},
   "outputs": [
    {
     "name": "stdout",
     "output_type": "stream",
     "text": [
      "합격\n",
      "불합격\n",
      "합격\n",
      "합격\n",
      "불합격\n"
     ]
    }
   ],
   "source": [
    "scores=[60,30,80,70,50]\n",
    "\n",
    "for _ in scores:\n",
    "    if _>=60:\n",
    "        print(\"합격\")\n",
    "    else:\n",
    "        print(\"불합격\")\n",
    "\n",
    "\n",
    "\n"
   ]
  },
  {
   "cell_type": "code",
   "execution_count": 7,
   "metadata": {},
   "outputs": [
    {
     "name": "stdout",
     "output_type": "stream",
     "text": [
      "318 63.6\n"
     ]
    }
   ],
   "source": [
    "# 아래 성적데이터의 합계와 평균을 구해 보세요.\n",
    "result = [90, 35, 68, 44, 81]\n",
    "# code here\n",
    "\n",
    "sum = 0 \n",
    "for _ in result:\n",
    "    sum += _\n",
    "print(sum, sum/len(result))\n",
    "\n"
   ]
  },
  {
   "cell_type": "markdown",
   "metadata": {},
   "source": [
    "### range를 이용한 for문\n",
    "- range() 함수를 사용하여 일련의 숫자 범위 생성\n",
    "- 사용방법 : \n",
    "   - range(stop)\n",
    "   - range(start, stop)\n",
    "   - range(start, stop, step)\n",
    "   - step의 기본값은 1"
   ]
  },
  {
   "cell_type": "code",
   "execution_count": 10,
   "metadata": {},
   "outputs": [
    {
     "name": "stdout",
     "output_type": "stream",
     "text": [
      "5\n",
      "6\n",
      "7\n",
      "8\n",
      "9\n"
     ]
    }
   ],
   "source": [
    "for i in range(5, 10): # 5 ~ 9\n",
    "    print(i)"
   ]
  },
  {
   "cell_type": "code",
   "execution_count": 11,
   "metadata": {},
   "outputs": [
    {
     "name": "stdout",
     "output_type": "stream",
     "text": [
      "0\n",
      "1\n",
      "2\n",
      "3\n",
      "4\n",
      "5\n",
      "6\n",
      "7\n"
     ]
    }
   ],
   "source": [
    "for i in range(8) : # 0 ~ 7\n",
    "    print(i)"
   ]
  },
  {
   "cell_type": "code",
   "execution_count": 12,
   "metadata": {},
   "outputs": [
    {
     "name": "stdout",
     "output_type": "stream",
     "text": [
      "0\n",
      "2\n",
      "4\n",
      "6\n",
      "8\n"
     ]
    }
   ],
   "source": [
    "for i in range(0, 10, 2) : # 0 ~ 9, +2만큼\n",
    "    print(i)"
   ]
  },
  {
   "cell_type": "code",
   "execution_count": 9,
   "metadata": {},
   "outputs": [
    {
     "name": "stdout",
     "output_type": "stream",
     "text": [
      "5050\n"
     ]
    }
   ],
   "source": [
    "# for문과 range() 함수를 이용하여 1부터 100까지의 합을 구해 출력하는 프로그램 작성\n",
    "# code here\n",
    "\n",
    "sum = 0\n",
    "for i in range(1,101):\n",
    "    sum +=i\n",
    "print(sum)"
   ]
  },
  {
   "cell_type": "code",
   "execution_count": 10,
   "metadata": {},
   "outputs": [
    {
     "name": "stdout",
     "output_type": "stream",
     "text": [
      "합계: 2550\n"
     ]
    }
   ],
   "source": [
    "# 짝수의 합\n",
    "total=0\n",
    "for n  in range(1, 101):\n",
    "    if  n%2 ==0 :   #n//2값의 나머지가 0인지\n",
    "        total += n    # total=total+n\n",
    "print(\"합계:\",total)"
   ]
  },
  {
   "cell_type": "code",
   "execution_count": 11,
   "metadata": {},
   "outputs": [
    {
     "name": "stdout",
     "output_type": "stream",
     "text": [
      "합계: 2550\n"
     ]
    }
   ],
   "source": [
    "# 짝수의 합\n",
    "total=0\n",
    "for n  in range(2, 101, 2):\n",
    "    total += n    # total=total+n\n",
    "print(\"합계:\",total)"
   ]
  },
  {
   "cell_type": "code",
   "execution_count": 12,
   "metadata": {},
   "outputs": [
    {
     "name": "stdout",
     "output_type": "stream",
     "text": [
      "합계: 2550\n"
     ]
    }
   ],
   "source": [
    "# 짝수의 합\n",
    "total=0\n",
    "for n  in range(1, 101):\n",
    "    if  n%2 == 1 :       #참이라면 (홀수라면)\n",
    "        continue         # 반복을 계속 해, 아래 문장수행없이\n",
    "    total += n    # total=total+n\n",
    "print(\"합계:\",total)"
   ]
  },
  {
   "cell_type": "code",
   "execution_count": 13,
   "metadata": {},
   "outputs": [
    {
     "name": "stdout",
     "output_type": "stream",
     "text": [
      "합계: 2550\n"
     ]
    }
   ],
   "source": [
    "# 짝수의 합\n",
    "total=0\n",
    "for n  in range(1, 101):\n",
    "    if  n%2 == 1 :       #참이라면 (홀수라면)\n",
    "        pass             # 수행 문장이 없을 때 pass\n",
    "    else :\n",
    "        total += n    # total=total+n\n",
    "print(\"합계:\",total)"
   ]
  },
  {
   "cell_type": "code",
   "execution_count": 14,
   "metadata": {},
   "outputs": [
    {
     "name": "stdin",
     "output_type": "stream",
     "text": [
      "1~3를 입력: 1\n"
     ]
    },
    {
     "name": "stdout",
     "output_type": "stream",
     "text": [
      "1\n"
     ]
    },
    {
     "name": "stdin",
     "output_type": "stream",
     "text": [
      "1~3를 입력: 2\n"
     ]
    },
    {
     "name": "stdout",
     "output_type": "stream",
     "text": [
      "2\n"
     ]
    },
    {
     "name": "stdin",
     "output_type": "stream",
     "text": [
      "1~3를 입력: 3\n"
     ]
    },
    {
     "name": "stdout",
     "output_type": "stream",
     "text": [
      "3\n"
     ]
    },
    {
     "name": "stdin",
     "output_type": "stream",
     "text": [
      "1~3를 입력: 11\n"
     ]
    },
    {
     "name": "stdout",
     "output_type": "stream",
     "text": [
      "종료\n"
     ]
    }
   ],
   "source": [
    "# While  : 횟수가 고정되지 않은 반복\n",
    "\n",
    "while  True:\n",
    "    num=int( input(\"1~3를 입력:\"))\n",
    "    if num == 1:\n",
    "        print(num)\n",
    "    elif num==2:\n",
    "        print(num)\n",
    "    elif num==3:\n",
    "        print(num)\n",
    "    else:\n",
    "        print(\"종료\")\n",
    "        break     # 반복을 벗어남"
   ]
  },
  {
   "cell_type": "markdown",
   "metadata": {},
   "source": [
    "### for 반복문의 중첩\n",
    "\n",
    "        for <variable> in <iterable(list, tuple, str, ...)>:\n",
    "        <탭> for <variable> in <iterable(list, tuple, str, ...)> :\n",
    "             <탭> statement"
   ]
  },
  {
   "cell_type": "code",
   "execution_count": 15,
   "metadata": {},
   "outputs": [
    {
     "name": "stdout",
     "output_type": "stream",
     "text": [
      "1\n",
      "2\n",
      "3\n",
      "4\n",
      "5\n",
      "6\n",
      "7\n"
     ]
    }
   ],
   "source": [
    "# 2차원 test2D의 값을 for 반복문의 중첩을 이용하여 출력하세요\n",
    "\n",
    "test2D = [[1,2],[3,4,5],[6,7]]\n",
    "\n",
    "for i in test2D:\n",
    "    for j in i:\n",
    "        print(j)\n",
    "\n"
   ]
  },
  {
   "cell_type": "markdown",
   "metadata": {},
   "source": [
    "### break, continue, pass\n",
    "- break : 현재 속한 반복문 종료\n",
    "- continue : 현재 반복에 대해 루프 내부의 나머지 코드를 건너뛰는데 사용\n",
    "- pass : 아무 작업도 수행하지 않음, 임시 함수, 무한 반복문 작성시 사용"
   ]
  },
  {
   "cell_type": "code",
   "execution_count": 18,
   "metadata": {},
   "outputs": [
    {
     "name": "stdout",
     "output_type": "stream",
     "text": [
      "0\n",
      "1\n"
     ]
    }
   ],
   "source": [
    "for i in range(5) :\n",
    "    if i == 2 :\n",
    "        break\n",
    "    print(i)"
   ]
  },
  {
   "cell_type": "code",
   "execution_count": 19,
   "metadata": {},
   "outputs": [
    {
     "name": "stdout",
     "output_type": "stream",
     "text": [
      "0\n",
      "1\n",
      "3\n",
      "4\n"
     ]
    }
   ],
   "source": [
    "for i in range(5) :\n",
    "    if i == 2 :\n",
    "        continue\n",
    "    print(i)"
   ]
  },
  {
   "cell_type": "code",
   "execution_count": 20,
   "metadata": {},
   "outputs": [
    {
     "name": "stdout",
     "output_type": "stream",
     "text": [
      "0\n",
      "1\n",
      "3\n",
      "4\n"
     ]
    }
   ],
   "source": [
    "for i in range(10):\n",
    "    if i == 2:\n",
    "        continue\n",
    "    if i == 5:\n",
    "        break\n",
    "    print(i)"
   ]
  },
  {
   "cell_type": "code",
   "execution_count": 2,
   "metadata": {},
   "outputs": [
    {
     "name": "stdout",
     "output_type": "stream",
     "text": [
      "39 3 13 4 17 8 "
     ]
    }
   ],
   "source": [
    "import random  as r\n",
    "for i  in range(6):\n",
    "    print(r.randrange(1,46), end=\" \")"
   ]
  },
  {
   "cell_type": "code",
   "execution_count": 20,
   "metadata": {},
   "outputs": [
    {
     "name": "stdout",
     "output_type": "stream",
     "text": [
      "4 13 41 29 45 10 "
     ]
    }
   ],
   "source": [
    "# Lotto : 임의의 값 6개가  항상 중복되지 않게 출력되도록 구해 보자.\n",
    "\n",
    "import random\n",
    "for i in range(6):\n",
    "    print(random.randrange(1,46), end = \" \")\n"
   ]
  },
  {
   "cell_type": "markdown",
   "metadata": {},
   "source": [
    "### Comprehensions\n",
    "- iterable한 오브젝트를 생성하기 위한 방법 중 하나\n",
    "- list 생성 :  [ expression   for ~ ]\n",
    "- list 생성 :  [ expression   for ~  if 조건 ]\n",
    "- set, dict :  { expression   for ~ }\n",
    "- set, dict :  { expression   for ~ if 조건}"
   ]
  },
  {
   "cell_type": "code",
   "execution_count": 21,
   "metadata": {},
   "outputs": [
    {
     "data": {
      "text/plain": [
       "[0, 1, 4, 9, 16, 25, 36, 49, 64, 81]"
      ]
     },
     "execution_count": 21,
     "metadata": {},
     "output_type": "execute_result"
    }
   ],
   "source": [
    "# 반복을 수행하면서 앞에 있는 문장을 수행하여 리스트를 생성한다.\n",
    "s=[x**2 for x in range(10)]\n",
    "s"
   ]
  },
  {
   "cell_type": "code",
   "execution_count": 22,
   "metadata": {},
   "outputs": [
    {
     "data": {
      "text/plain": [
       "[0, 4, 16, 36, 64]"
      ]
     },
     "execution_count": 22,
     "metadata": {},
     "output_type": "execute_result"
    }
   ],
   "source": [
    "# 반복을 수행하면서 조건에 맞을 경우만 앞에 있는 문장을 수행하여 리스트를 생성한다.\n",
    "s=[x**2 for x in range(10) if x%2==0]\n",
    "s"
   ]
  },
  {
   "cell_type": "markdown",
   "metadata": {},
   "source": [
    "## 함수\n",
    "- 특정 작업을 수행하는 명령문의 그룹\n",
    "- 함수는 프로그램의 기능 단위로 모듈을 구성하는데 사용\n",
    "- 프로그램이 점점 복잡해지고 커질 때, 함수를 사용하면 보다 체계적이고 관리도 편리함\n",
    "- 코드의 반복을 피할 수 있고 코드의 재사용이 가능"
   ]
  },
  {
   "cell_type": "markdown",
   "metadata": {},
   "source": [
    "함수의 기본 정의\n",
    "\n",
    "        def 함수명(입력 매개변수):\n",
    "           \"\"\"doc string\"\"\"\n",
    "           statement\n",
    "           return 리턴값"
   ]
  },
  {
   "cell_type": "code",
   "execution_count": 23,
   "metadata": {},
   "outputs": [],
   "source": [
    "#함수의 생성 :자주 반복되는 작업을 미리 코딩하여 저장함\n",
    "def   goMilk():\n",
    "    print('우유를 사러 갑니다')\n",
    "    print('우유를 삽니다.')\n",
    "    print('집에 옵니다.')"
   ]
  },
  {
   "cell_type": "markdown",
   "metadata": {},
   "source": [
    "### 호출¶\n",
    "함수명(값)"
   ]
  },
  {
   "cell_type": "code",
   "execution_count": 24,
   "metadata": {},
   "outputs": [
    {
     "name": "stdout",
     "output_type": "stream",
     "text": [
      "우유를 사러 갑니다\n",
      "우유를 삽니다.\n",
      "집에 옵니다.\n",
      "111111\n",
      "우유를 사러 갑니다\n",
      "우유를 삽니다.\n",
      "집에 옵니다.\n",
      "22222\n"
     ]
    }
   ],
   "source": [
    "# 필요시 마다 호출\n",
    "goMilk()\n",
    "print(\"111111\")\n",
    "goMilk()\n",
    "print('22222')"
   ]
  },
  {
   "cell_type": "markdown",
   "metadata": {},
   "source": [
    "### 함수의 형태"
   ]
  },
  {
   "cell_type": "code",
   "execution_count": 25,
   "metadata": {},
   "outputs": [
    {
     "data": {
      "text/plain": [
       "3"
      ]
     },
     "execution_count": 25,
     "metadata": {},
     "output_type": "execute_result"
    }
   ],
   "source": [
    "# 일반 형태 - 입력, 결과 모두 있는 형태\n",
    "def func(a, b):\n",
    "    return a+b\n",
    "    \n",
    "func(1,2)"
   ]
  },
  {
   "cell_type": "code",
   "execution_count": 26,
   "metadata": {},
   "outputs": [
    {
     "name": "stdout",
     "output_type": "stream",
     "text": [
      "hello\n"
     ]
    },
    {
     "data": {
      "text/plain": [
       "'Mission clear'"
      ]
     },
     "execution_count": 26,
     "metadata": {},
     "output_type": "execute_result"
    }
   ],
   "source": [
    "# 입력값 없는 형태\n",
    "def func():\n",
    "    print('hello')\n",
    "    return 'Mission clear'\n",
    "\n",
    "func()"
   ]
  },
  {
   "cell_type": "code",
   "execution_count": 27,
   "metadata": {},
   "outputs": [
    {
     "name": "stdout",
     "output_type": "stream",
     "text": [
      "3\n"
     ]
    }
   ],
   "source": [
    "# 결과값 없는 형태\n",
    "def func(a, b):\n",
    "    print(a + b)\n",
    "\n",
    "func(1, 2)"
   ]
  },
  {
   "cell_type": "code",
   "execution_count": 28,
   "metadata": {},
   "outputs": [
    {
     "name": "stdout",
     "output_type": "stream",
     "text": [
      "hello\n"
     ]
    }
   ],
   "source": [
    "# 입력값, 결과값 모두 없는 형태\n",
    "def func():\n",
    "    print('hello')\n",
    "\n",
    "func()"
   ]
  },
  {
   "cell_type": "code",
   "execution_count": 29,
   "metadata": {},
   "outputs": [
    {
     "name": "stdout",
     "output_type": "stream",
     "text": [
      "10 : 입력매개 변수입니다\n"
     ]
    },
    {
     "data": {
      "text/plain": [
       "100"
      ]
     },
     "execution_count": 29,
     "metadata": {},
     "output_type": "execute_result"
    }
   ],
   "source": [
    "def test(arg):\n",
    "    print(arg, ': 입력매개 변수입니다')\n",
    "    return arg * 10\n",
    "\n",
    "test(10)"
   ]
  },
  {
   "cell_type": "markdown",
   "metadata": {},
   "source": [
    "### 함수 호출,  return\n",
    "- 함수 호출\n",
    "    - 함수를 정의한 후에는 다른 함수, 프로그램 등에서 호출\n",
    "    - 함수를 호출하기 위해서는 적절한 매개변수를사용하여 호출\n",
    "- return 문\n",
    "    - return 문은 함수를 종료하고 함수를 호출한 곳으로 돌아가는데 사용\n",
    "    - 예 : return 표현식 목록\n",
    "    - return 문은 평가되는 표현식이나값을 리턴\n",
    "    - return 문에 표현식이 없거나 return문 자체가 없으면 함수는 None 객체를 리턴"
   ]
  },
  {
   "cell_type": "code",
   "execution_count": 30,
   "metadata": {},
   "outputs": [
    {
     "name": "stdout",
     "output_type": "stream",
     "text": [
      "10\n"
     ]
    }
   ],
   "source": [
    "def func(x):\n",
    "    return x\n",
    "\n",
    "r = func(10)\n",
    "print(r)"
   ]
  },
  {
   "cell_type": "code",
   "execution_count": 31,
   "metadata": {},
   "outputs": [
    {
     "name": "stdout",
     "output_type": "stream",
     "text": [
      "10\n",
      "None\n"
     ]
    }
   ],
   "source": [
    "def func(x):\n",
    "    print(x)\n",
    "\n",
    "r = func(10)\n",
    "print(r)"
   ]
  },
  {
   "cell_type": "markdown",
   "metadata": {},
   "source": [
    "### argument의 종류\n",
    "- 함수의 호출시 사용되는 argument    \n",
    "    - positional argument : 위치에 따라 값이 전달되는 방식\n",
    "    - keyword argument : = 를 사용하여 특정 parameter에 값을 제공함, 순서에 상관 없음\n",
    "- 함수 정의시 사용되는 argument\n",
    "    - default argument : 새로운 argument가 전달되지 않을 경우 사용되는 기본 값\n",
    "- Python의 argument rule\n",
    "     1. 함수 정의 시 : non-default argument가 앞, default argument가 뒤에 위치해야 한다.\n",
    "     2. 함수 호출 시 : positional argument가 앞, keyword argument가 뒤에 위치해야 한다."
   ]
  },
  {
   "cell_type": "markdown",
   "metadata": {},
   "source": [
    "#### 위치 인수 (positional argument)\n",
    "- argument 위치에 맞게 값이 전달되는 방식\n",
    "- 가장 기본적인 argument 전달 방식"
   ]
  },
  {
   "cell_type": "code",
   "execution_count": 32,
   "metadata": {},
   "outputs": [
    {
     "data": {
      "text/plain": [
       "7"
      ]
     },
     "execution_count": 32,
     "metadata": {},
     "output_type": "execute_result"
    }
   ],
   "source": [
    "def myAdd(num1, num2):\n",
    "    return num1 + num2\n",
    "\n",
    "r1 = myAdd(3,4)\n",
    "r1"
   ]
  },
  {
   "cell_type": "markdown",
   "metadata": {},
   "source": [
    "#### 기본 인수(default argument)\n",
    "- 함수 정의 시 할당 연산자(=)를 사용하여 매개변수에 기본값을설정\n",
    "- 함수 정의 시 기본값이 없는 매개변수는 기본값 매개변수 뒤에 있을 수 없음\n",
    "- 함수 호출 시 기본 매개변수의 값을 전달하지\n",
    "않아도 됨\n",
    "- 값 전달 시 기본값을 덮어 씀"
   ]
  },
  {
   "cell_type": "code",
   "execution_count": 33,
   "metadata": {},
   "outputs": [],
   "source": [
    "def mysum(end, start=0):\n",
    "    tot = 0\n",
    "    for i in range(start, end+1):\n",
    "        tot += i\n",
    "    return tot"
   ]
  },
  {
   "cell_type": "code",
   "execution_count": 34,
   "metadata": {},
   "outputs": [
    {
     "data": {
      "text/plain": [
       "55"
      ]
     },
     "execution_count": 34,
     "metadata": {},
     "output_type": "execute_result"
    }
   ],
   "source": [
    "mysum(10)"
   ]
  },
  {
   "cell_type": "code",
   "execution_count": 35,
   "metadata": {},
   "outputs": [
    {
     "data": {
      "text/plain": [
       "45"
      ]
     },
     "execution_count": 35,
     "metadata": {},
     "output_type": "execute_result"
    }
   ],
   "source": [
    "mysum(10,5)"
   ]
  },
  {
   "cell_type": "markdown",
   "metadata": {},
   "source": [
    "#### 키워드 인수(keyword argument)"
   ]
  },
  {
   "cell_type": "code",
   "execution_count": 36,
   "metadata": {},
   "outputs": [],
   "source": [
    "def printinfo(name, age):\n",
    "    print('name :',name,', age :',age)"
   ]
  },
  {
   "cell_type": "code",
   "execution_count": 37,
   "metadata": {},
   "outputs": [
    {
     "name": "stdout",
     "output_type": "stream",
     "text": [
      "name : 홍길동 , age : 33\n"
     ]
    }
   ],
   "source": [
    "printinfo(name='홍길동', age=33)"
   ]
  },
  {
   "cell_type": "code",
   "execution_count": 38,
   "metadata": {},
   "outputs": [
    {
     "name": "stdout",
     "output_type": "stream",
     "text": [
      "name : 홍길동 , age : 33\n"
     ]
    }
   ],
   "source": [
    "printinfo(age=33, name='홍길동')"
   ]
  },
  {
   "cell_type": "markdown",
   "metadata": {},
   "source": [
    "### parameter의 종류\n",
    "- positional or keyword parameter\n",
    "- var positional parameter : 이름 앞에 * (별이 한 개) 있음  \n",
    "- var keyword parameter : 이름 앞에 ** (별이 두 개) 있음 "
   ]
  },
  {
   "cell_type": "code",
   "execution_count": 44,
   "metadata": {},
   "outputs": [
    {
     "data": {
      "text/plain": [
       "[1, 2]"
      ]
     },
     "execution_count": 44,
     "metadata": {},
     "output_type": "execute_result"
    }
   ],
   "source": [
    "# positional or keyword parameter\n",
    "def func1(a, b):\n",
    "    return [a, b]\n",
    "\n",
    "# func1(1, 2)\n",
    "# func1(b=3, a=1)\n",
    "func1(1, b=2)\n",
    "func1(1, b=2)"
   ]
  },
  {
   "cell_type": "markdown",
   "metadata": {},
   "source": [
    "#### 가변 위치 매개변수(var-positional parameter)"
   ]
  },
  {
   "cell_type": "code",
   "execution_count": 45,
   "metadata": {},
   "outputs": [],
   "source": [
    "# var-positional parameter\n",
    "def add(*args):\n",
    "    tot = 0\n",
    "    for i in args:\n",
    "        tot += i\n",
    "    return tot"
   ]
  },
  {
   "cell_type": "code",
   "execution_count": 48,
   "metadata": {},
   "outputs": [],
   "source": [
    "# var-positional parameter\n",
    "def add(list):\n",
    "    tot = 0\n",
    "    for i in list:\n",
    "        tot += i\n",
    "    return tot"
   ]
  },
  {
   "cell_type": "code",
   "execution_count": 49,
   "metadata": {},
   "outputs": [
    {
     "data": {
      "text/plain": [
       "6"
      ]
     },
     "execution_count": 49,
     "metadata": {},
     "output_type": "execute_result"
    }
   ],
   "source": [
    "add([1,2,3])"
   ]
  },
  {
   "cell_type": "code",
   "execution_count": 47,
   "metadata": {},
   "outputs": [
    {
     "data": {
      "text/plain": [
       "28"
      ]
     },
     "execution_count": 47,
     "metadata": {},
     "output_type": "execute_result"
    }
   ],
   "source": [
    "add(1,2,3,4,5,6,7)"
   ]
  },
  {
   "cell_type": "markdown",
   "metadata": {},
   "source": [
    "#### 가변 키워드 매개변수(var-keyword parameter)"
   ]
  },
  {
   "cell_type": "code",
   "execution_count": 50,
   "metadata": {},
   "outputs": [],
   "source": [
    "# var-keyword parameter\n",
    "def printinfo(**args):\n",
    "    print(args)"
   ]
  },
  {
   "cell_type": "code",
   "execution_count": 51,
   "metadata": {},
   "outputs": [
    {
     "name": "stdout",
     "output_type": "stream",
     "text": [
      "{'a': 1, 'b': 2}\n"
     ]
    }
   ],
   "source": [
    "printinfo(a=1, b=2)"
   ]
  },
  {
   "cell_type": "markdown",
   "metadata": {},
   "source": [
    "### 함수 연습문제"
   ]
  },
  {
   "cell_type": "code",
   "execution_count": 56,
   "metadata": {},
   "outputs": [],
   "source": [
    "#연습문제 1 : 영어 단어들을 입력하면 모두 대문자로 바꾸어 출력해 보자.\n",
    "\n",
    "def  change( *data ):\n",
    "    for _ in data:\n",
    "        _ = _.upper()\n",
    "        print(_, end = \" \")\n",
    "\n",
    "\n"
   ]
  },
  {
   "cell_type": "code",
   "execution_count": 57,
   "metadata": {},
   "outputs": [
    {
     "name": "stdout",
     "output_type": "stream",
     "text": [
      "HELLO PYTHON "
     ]
    }
   ],
   "source": [
    "change('Hello','Python')"
   ]
  },
  {
   "cell_type": "code",
   "execution_count": 60,
   "metadata": {},
   "outputs": [],
   "source": [
    "# def calc_many(choice, *args) 함수에서 choice가 sum 이면 합을 구해서 리턴하고, \n",
    "# choice가 mul 이면 곱한 결과를 리턴하는 함수를 구현하세요.\n",
    "def calc_many(choice, *args):\n",
    "    if(choice == \"sum\"):\n",
    "        sum = 0\n",
    "        for _ in args:\n",
    "            sum += _\n",
    "        return sum\n",
    "    else:\n",
    "        mul = 1\n",
    "        for _ in args:\n",
    "            mul *= _\n",
    "        return mul\n"
   ]
  },
  {
   "cell_type": "code",
   "execution_count": 61,
   "metadata": {},
   "outputs": [
    {
     "data": {
      "text/plain": [
       "15"
      ]
     },
     "execution_count": 61,
     "metadata": {},
     "output_type": "execute_result"
    }
   ],
   "source": [
    "calc_many(\"sum\", 1,2,3,4,5)"
   ]
  },
  {
   "cell_type": "code",
   "execution_count": 62,
   "metadata": {
    "scrolled": true
   },
   "outputs": [
    {
     "data": {
      "text/plain": [
       "120"
      ]
     },
     "execution_count": 62,
     "metadata": {},
     "output_type": "execute_result"
    }
   ],
   "source": [
    "calc_many(\"mul\", 1,2,3,4,5)"
   ]
  },
  {
   "cell_type": "code",
   "execution_count": null,
   "metadata": {},
   "outputs": [],
   "source": [
    "# 알고리즘 풀 때 많이 사용하는 while...\n",
    "# 문제 중에 \"어떤 조건이 계속 가능하다면 계속해라\" 라는 로직이 필요하면 while True를 쓰고 조건이 불가능해지면 break를 합니다!\n",
    "\n",
    "def condition():\n",
    "    if ~~~ :\n",
    "        return False\n",
    "    return True\n",
    "    \n",
    "while True:\n",
    "    \n",
    "    if(condition == True):\n",
    "        break\n",
    "    "
   ]
  },
  {
   "cell_type": "code",
   "execution_count": null,
   "metadata": {},
   "outputs": [],
   "source": []
  },
  {
   "cell_type": "code",
   "execution_count": null,
   "metadata": {},
   "outputs": [],
   "source": []
  },
  {
   "cell_type": "code",
   "execution_count": null,
   "metadata": {},
   "outputs": [],
   "source": []
  },
  {
   "cell_type": "code",
   "execution_count": null,
   "metadata": {},
   "outputs": [],
   "source": []
  },
  {
   "cell_type": "code",
   "execution_count": null,
   "metadata": {},
   "outputs": [],
   "source": []
  }
 ],
 "metadata": {
  "kernelspec": {
   "display_name": "Python 3 (ipykernel)",
   "language": "python",
   "name": "python3"
  },
  "language_info": {
   "codemirror_mode": {
    "name": "ipython",
    "version": 3
   },
   "file_extension": ".py",
   "mimetype": "text/x-python",
   "name": "python",
   "nbconvert_exporter": "python",
   "pygments_lexer": "ipython3",
   "version": "3.11.0"
  },
  "toc": {
   "base_numbering": 1,
   "nav_menu": {},
   "number_sections": true,
   "sideBar": true,
   "skip_h1_title": false,
   "title_cell": "Table of Contents",
   "title_sidebar": "Contents",
   "toc_cell": false,
   "toc_position": {},
   "toc_section_display": true,
   "toc_window_display": false
  },
  "varInspector": {
   "cols": {
    "lenName": 16,
    "lenType": 16,
    "lenVar": 40
   },
   "kernels_config": {
    "python": {
     "delete_cmd_postfix": "",
     "delete_cmd_prefix": "del ",
     "library": "var_list.py",
     "varRefreshCmd": "print(var_dic_list())"
    },
    "r": {
     "delete_cmd_postfix": ") ",
     "delete_cmd_prefix": "rm(",
     "library": "var_list.r",
     "varRefreshCmd": "cat(var_dic_list()) "
    }
   },
   "types_to_exclude": [
    "module",
    "function",
    "builtin_function_or_method",
    "instance",
    "_Feature"
   ],
   "window_display": false
  }
 },
 "nbformat": 4,
 "nbformat_minor": 4
}
