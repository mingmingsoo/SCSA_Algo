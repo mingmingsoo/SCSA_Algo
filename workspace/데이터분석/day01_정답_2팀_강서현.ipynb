{
 "cells": [
  {
   "cell_type": "markdown",
   "metadata": {
    "id": "v1NxfGi9jeZ3"
   },
   "source": [
    "## Q1\n",
    "다음 중 아래 Series에서 값이 np.nan일 경우 '카리나'로 바꾸고, np.nan이 아닌 경우 '이수만'으로 바꾸는 코드로 올바른 것은?"
   ]
  },
  {
   "cell_type": "code",
   "execution_count": 1,
   "metadata": {
    "colab": {
     "base_uri": "https://localhost:8080/"
    },
    "executionInfo": {
     "elapsed": 263,
     "status": "ok",
     "timestamp": 1739756610029,
     "user": {
      "displayName": "Jay Park",
      "userId": "04328750353517750148"
     },
     "user_tz": -540
    },
    "id": "SUCeTIHFjbyH",
    "outputId": "2aab6bad-9960-4d8d-b318-9d8574df19f2"
   },
   "outputs": [],
   "source": [
    "import numpy as np \n",
    "import pandas as pd\n",
    "\n",
    "arr = pd.Series(['윈터','지젤','닝닝',np.nan])"
   ]
  },
  {
   "cell_type": "markdown",
   "metadata": {},
   "source": [
    "1) np.where(arr==NaN,'카리나',False)\n",
    "2) np.where(arr==NaN,'카리나','이수만')\n",
    "3) np.where(arr.isna(),'카리나','이수만')\n",
    "4) np.where(arr.isnull(),'카리나',False)\n",
    "5) np.where(arr==None,'카리나','이수만')"
   ]
  },
  {
   "cell_type": "markdown",
   "metadata": {},
   "source": [
    "정답 - 3)\n",
    "np.where(s.isna(),'카리나','이수만')\n",
    "\n",
    "해설\n",
    "\n",
    "1) np.nan은 'NaN'으로 인식되지 않습니다. 문자열 'NaN'과 같은지로 판단하는 것이 아니라 .isna()나 .isnull()을 써야 합니다. 또한 False일 경우 Boolean인 False를 넣는 것이 아니라 '이수만'을 넣어야 합니다.\n",
    "2) 1번과 같은 이유로 오답입니다. 다만 False 조건은 잘 들어갔습니다.\n",
    "3) 정답! isnull() 결과 True이면 카리나, False이면 이수만이 들어갑니다. isnull()로 대체해도 똑같이 작동합니다.\n",
    "4) isnull()은 맞았으나 False가 아니라 '이수만'이 들어가야 합니다.\n",
    "5) 파이썬의 None과 numpy의 NaN은 다릅니다. s==None으로 동작하게 하려면 문자열이 None으로 들어있는 경우에만 True로 인식할 것입니다. 따라서 모든 요소에 대해 False이기에 ['이수만','이수만','이수만','이수만'] 으로 출력됩니다. 의미가 같다고 해서 통용되는 변수가 아님을 기억하면 좋습니다."
   ]
  },
  {
   "cell_type": "markdown",
   "metadata": {},
   "source": [
    "## Q2\n",
    "다음의 코드를 실행하였을 때 예상되는 결과는? 정답: 3"
   ]
  },
  {
   "cell_type": "code",
   "execution_count": 1,
   "metadata": {},
   "outputs": [
    {
     "name": "stdout",
     "output_type": "stream",
     "text": [
      "[[0 1 2]\n",
      " [3 1 5]\n",
      " [6 7 8]]\n"
     ]
    }
   ],
   "source": [
    "import numpy as np\n",
    "a = np.arange(9).reshape(3,3)\n",
    "b = a[1:3,1:3]\n",
    "b[0,0] = 1\n",
    "print(a)"
   ]
  },
  {
   "cell_type": "markdown",
   "metadata": {},
   "source": [
    "1. [[0 1 2]<br>\n",
    "   [3 4 5]<br>\n",
    "   [6 7 8]]<br>\n",
    "2. [[1 1 2]<br>\n",
    "    [3 4 5]<br>\n",
    "    [6 7 8]]<br>\n",
    "3. [[0 1 2]<br>\n",
    "   [3 1 5]<br>\n",
    "   [6 7 8]]<br>\n",
    "4. [[0 1 2]<br>\n",
    "   [3 4 5]<br>\n",
    "   [6 7 1]]<br>"
   ]
  }
 ],
 "metadata": {
  "colab": {
   "authorship_tag": "ABX9TyN1IWiISJN00PEXXnYWpDOP",
   "provenance": []
  },
  "kernelspec": {
   "display_name": "Python 3 (ipykernel)",
   "language": "python",
   "name": "python3"
  },
  "language_info": {
   "codemirror_mode": {
    "name": "ipython",
    "version": 3
   },
   "file_extension": ".py",
   "mimetype": "text/x-python",
   "name": "python",
   "nbconvert_exporter": "python",
   "pygments_lexer": "ipython3",
   "version": "3.11.0"
  }
 },
 "nbformat": 4,
 "nbformat_minor": 4
}
