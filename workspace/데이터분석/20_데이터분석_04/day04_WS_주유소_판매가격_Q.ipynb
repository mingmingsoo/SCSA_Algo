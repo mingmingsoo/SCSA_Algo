{
 "cells": [
  {
   "cell_type": "code",
   "execution_count": 1,
   "metadata": {},
   "outputs": [],
   "source": [
    "import pandas as pd\n",
    "import numpy as np\n",
    "import seaborn as sns\n",
    "import matplotlib.pyplot as plt\n",
    "%matplotlib inline "
   ]
  },
  {
   "cell_type": "code",
   "execution_count": 2,
   "metadata": {},
   "outputs": [],
   "source": [
    "import platform\n",
    "\n",
    "from matplotlib import font_manager, rc\n",
    "plt.rcParams['axes.unicode_minus'] = False\n",
    "\n",
    "if platform.system() == 'Darwin':\n",
    "    rc('font', family='AppleGothic')\n",
    "elif platform.system() == 'Windows':\n",
    "    path = \"c:/Windows/Fonts/malgun.ttf\"\n",
    "    font_name = font_manager.FontProperties(fname=path).get_name()\n",
    "    rc('font', family=font_name)\n",
    "else:\n",
    "    print('Unknown system... sorry~~~~')"
   ]
  },
  {
   "cell_type": "markdown",
   "metadata": {},
   "source": [
    "# 1. 데이터 불러오기"
   ]
  },
  {
   "cell_type": "code",
   "execution_count": 4,
   "metadata": {},
   "outputs": [
    {
     "data": {
      "text/html": [
       "<div>\n",
       "<style scoped>\n",
       "    .dataframe tbody tr th:only-of-type {\n",
       "        vertical-align: middle;\n",
       "    }\n",
       "\n",
       "    .dataframe tbody tr th {\n",
       "        vertical-align: top;\n",
       "    }\n",
       "\n",
       "    .dataframe thead th {\n",
       "        text-align: right;\n",
       "    }\n",
       "</style>\n",
       "<table border=\"1\" class=\"dataframe\">\n",
       "  <thead>\n",
       "    <tr style=\"text-align: right;\">\n",
       "      <th></th>\n",
       "      <th>번호</th>\n",
       "      <th>지역</th>\n",
       "      <th>상호</th>\n",
       "      <th>주소</th>\n",
       "      <th>기간</th>\n",
       "      <th>상표</th>\n",
       "      <th>셀프여부</th>\n",
       "      <th>고급휘발유</th>\n",
       "      <th>휘발유</th>\n",
       "      <th>경유</th>\n",
       "      <th>실내등유</th>\n",
       "    </tr>\n",
       "  </thead>\n",
       "  <tbody>\n",
       "    <tr>\n",
       "      <th>0</th>\n",
       "      <td>A0006039</td>\n",
       "      <td>서울 강남구</td>\n",
       "      <td>(주)동하힐탑셀프주유소</td>\n",
       "      <td>서울 강남구 논현로 640</td>\n",
       "      <td>20190101</td>\n",
       "      <td>SK에너지</td>\n",
       "      <td>셀프</td>\n",
       "      <td>1673</td>\n",
       "      <td>1465</td>\n",
       "      <td>1365</td>\n",
       "      <td>0</td>\n",
       "    </tr>\n",
       "    <tr>\n",
       "      <th>1</th>\n",
       "      <td>A0006039</td>\n",
       "      <td>서울 강남구</td>\n",
       "      <td>(주)동하힐탑셀프주유소</td>\n",
       "      <td>서울 강남구 논현로 640</td>\n",
       "      <td>20190102</td>\n",
       "      <td>SK에너지</td>\n",
       "      <td>셀프</td>\n",
       "      <td>1673</td>\n",
       "      <td>1465</td>\n",
       "      <td>1365</td>\n",
       "      <td>0</td>\n",
       "    </tr>\n",
       "    <tr>\n",
       "      <th>2</th>\n",
       "      <td>A0006039</td>\n",
       "      <td>서울 강남구</td>\n",
       "      <td>(주)동하힐탑셀프주유소</td>\n",
       "      <td>서울 강남구 논현로 640</td>\n",
       "      <td>20190103</td>\n",
       "      <td>SK에너지</td>\n",
       "      <td>셀프</td>\n",
       "      <td>1673</td>\n",
       "      <td>1465</td>\n",
       "      <td>1365</td>\n",
       "      <td>0</td>\n",
       "    </tr>\n",
       "    <tr>\n",
       "      <th>3</th>\n",
       "      <td>A0006039</td>\n",
       "      <td>서울 강남구</td>\n",
       "      <td>(주)동하힐탑셀프주유소</td>\n",
       "      <td>서울 강남구 논현로 640</td>\n",
       "      <td>20190104</td>\n",
       "      <td>SK에너지</td>\n",
       "      <td>셀프</td>\n",
       "      <td>1673</td>\n",
       "      <td>1465</td>\n",
       "      <td>1365</td>\n",
       "      <td>0</td>\n",
       "    </tr>\n",
       "    <tr>\n",
       "      <th>4</th>\n",
       "      <td>A0006039</td>\n",
       "      <td>서울 강남구</td>\n",
       "      <td>(주)동하힐탑셀프주유소</td>\n",
       "      <td>서울 강남구 논현로 640</td>\n",
       "      <td>20190105</td>\n",
       "      <td>SK에너지</td>\n",
       "      <td>셀프</td>\n",
       "      <td>1673</td>\n",
       "      <td>1465</td>\n",
       "      <td>1365</td>\n",
       "      <td>0</td>\n",
       "    </tr>\n",
       "    <tr>\n",
       "      <th>...</th>\n",
       "      <td>...</td>\n",
       "      <td>...</td>\n",
       "      <td>...</td>\n",
       "      <td>...</td>\n",
       "      <td>...</td>\n",
       "      <td>...</td>\n",
       "      <td>...</td>\n",
       "      <td>...</td>\n",
       "      <td>...</td>\n",
       "      <td>...</td>\n",
       "      <td>...</td>\n",
       "    </tr>\n",
       "    <tr>\n",
       "      <th>90585</th>\n",
       "      <td>A0032659</td>\n",
       "      <td>서울 중랑구</td>\n",
       "      <td>지에스칼텍스㈜ 소망주유소</td>\n",
       "      <td>서울 중랑구 망우로 475</td>\n",
       "      <td>20190626</td>\n",
       "      <td>GS칼텍스</td>\n",
       "      <td>셀프</td>\n",
       "      <td>0</td>\n",
       "      <td>1529</td>\n",
       "      <td>1389</td>\n",
       "      <td>0</td>\n",
       "    </tr>\n",
       "    <tr>\n",
       "      <th>90586</th>\n",
       "      <td>A0032659</td>\n",
       "      <td>서울 중랑구</td>\n",
       "      <td>지에스칼텍스㈜ 소망주유소</td>\n",
       "      <td>서울 중랑구 망우로 475</td>\n",
       "      <td>20190627</td>\n",
       "      <td>GS칼텍스</td>\n",
       "      <td>셀프</td>\n",
       "      <td>0</td>\n",
       "      <td>1529</td>\n",
       "      <td>1389</td>\n",
       "      <td>0</td>\n",
       "    </tr>\n",
       "    <tr>\n",
       "      <th>90587</th>\n",
       "      <td>A0032659</td>\n",
       "      <td>서울 중랑구</td>\n",
       "      <td>지에스칼텍스㈜ 소망주유소</td>\n",
       "      <td>서울 중랑구 망우로 475</td>\n",
       "      <td>20190628</td>\n",
       "      <td>GS칼텍스</td>\n",
       "      <td>셀프</td>\n",
       "      <td>0</td>\n",
       "      <td>1529</td>\n",
       "      <td>1389</td>\n",
       "      <td>0</td>\n",
       "    </tr>\n",
       "    <tr>\n",
       "      <th>90588</th>\n",
       "      <td>A0032659</td>\n",
       "      <td>서울 중랑구</td>\n",
       "      <td>지에스칼텍스㈜ 소망주유소</td>\n",
       "      <td>서울 중랑구 망우로 475</td>\n",
       "      <td>20190629</td>\n",
       "      <td>GS칼텍스</td>\n",
       "      <td>셀프</td>\n",
       "      <td>0</td>\n",
       "      <td>1529</td>\n",
       "      <td>1389</td>\n",
       "      <td>0</td>\n",
       "    </tr>\n",
       "    <tr>\n",
       "      <th>90589</th>\n",
       "      <td>A0032659</td>\n",
       "      <td>서울 중랑구</td>\n",
       "      <td>지에스칼텍스㈜ 소망주유소</td>\n",
       "      <td>서울 중랑구 망우로 475</td>\n",
       "      <td>20190630</td>\n",
       "      <td>GS칼텍스</td>\n",
       "      <td>셀프</td>\n",
       "      <td>0</td>\n",
       "      <td>1529</td>\n",
       "      <td>1389</td>\n",
       "      <td>0</td>\n",
       "    </tr>\n",
       "  </tbody>\n",
       "</table>\n",
       "<p>90590 rows × 11 columns</p>\n",
       "</div>"
      ],
      "text/plain": [
       "             번호      지역             상호              주소        기간     상표 셀프여부  \\\n",
       "0      A0006039  서울 강남구   (주)동하힐탑셀프주유소  서울 강남구 논현로 640  20190101  SK에너지   셀프   \n",
       "1      A0006039  서울 강남구   (주)동하힐탑셀프주유소  서울 강남구 논현로 640  20190102  SK에너지   셀프   \n",
       "2      A0006039  서울 강남구   (주)동하힐탑셀프주유소  서울 강남구 논현로 640  20190103  SK에너지   셀프   \n",
       "3      A0006039  서울 강남구   (주)동하힐탑셀프주유소  서울 강남구 논현로 640  20190104  SK에너지   셀프   \n",
       "4      A0006039  서울 강남구   (주)동하힐탑셀프주유소  서울 강남구 논현로 640  20190105  SK에너지   셀프   \n",
       "...         ...     ...            ...             ...       ...    ...  ...   \n",
       "90585  A0032659  서울 중랑구  지에스칼텍스㈜ 소망주유소  서울 중랑구 망우로 475  20190626  GS칼텍스   셀프   \n",
       "90586  A0032659  서울 중랑구  지에스칼텍스㈜ 소망주유소  서울 중랑구 망우로 475  20190627  GS칼텍스   셀프   \n",
       "90587  A0032659  서울 중랑구  지에스칼텍스㈜ 소망주유소  서울 중랑구 망우로 475  20190628  GS칼텍스   셀프   \n",
       "90588  A0032659  서울 중랑구  지에스칼텍스㈜ 소망주유소  서울 중랑구 망우로 475  20190629  GS칼텍스   셀프   \n",
       "90589  A0032659  서울 중랑구  지에스칼텍스㈜ 소망주유소  서울 중랑구 망우로 475  20190630  GS칼텍스   셀프   \n",
       "\n",
       "       고급휘발유   휘발유    경유  실내등유  \n",
       "0       1673  1465  1365     0  \n",
       "1       1673  1465  1365     0  \n",
       "2       1673  1465  1365     0  \n",
       "3       1673  1465  1365     0  \n",
       "4       1673  1465  1365     0  \n",
       "...      ...   ...   ...   ...  \n",
       "90585      0  1529  1389     0  \n",
       "90586      0  1529  1389     0  \n",
       "90587      0  1529  1389     0  \n",
       "90588      0  1529  1389     0  \n",
       "90589      0  1529  1389     0  \n",
       "\n",
       "[90590 rows x 11 columns]"
      ]
     },
     "execution_count": 4,
     "metadata": {},
     "output_type": "execute_result"
    }
   ],
   "source": [
    "# 상반기 주유소 판매 데이터 불러오기\n",
    "first = pd.read_csv('../data/2019년 상반기 주유소 판매가격.csv', encoding=\"cp949\")\n",
    "first"
   ]
  },
  {
   "cell_type": "code",
   "execution_count": 5,
   "metadata": {},
   "outputs": [
    {
     "data": {
      "text/html": [
       "<div>\n",
       "<style scoped>\n",
       "    .dataframe tbody tr th:only-of-type {\n",
       "        vertical-align: middle;\n",
       "    }\n",
       "\n",
       "    .dataframe tbody tr th {\n",
       "        vertical-align: top;\n",
       "    }\n",
       "\n",
       "    .dataframe thead th {\n",
       "        text-align: right;\n",
       "    }\n",
       "</style>\n",
       "<table border=\"1\" class=\"dataframe\">\n",
       "  <thead>\n",
       "    <tr style=\"text-align: right;\">\n",
       "      <th></th>\n",
       "      <th>번호</th>\n",
       "      <th>지역</th>\n",
       "      <th>상호</th>\n",
       "      <th>주소</th>\n",
       "      <th>기간</th>\n",
       "      <th>상표</th>\n",
       "      <th>셀프여부</th>\n",
       "      <th>고급휘발유</th>\n",
       "      <th>휘발유</th>\n",
       "      <th>경유</th>\n",
       "      <th>실내등유</th>\n",
       "    </tr>\n",
       "  </thead>\n",
       "  <tbody>\n",
       "    <tr>\n",
       "      <th>0</th>\n",
       "      <td>A0006039</td>\n",
       "      <td>서울 강남구</td>\n",
       "      <td>(주)동하힐탑셀프주유소</td>\n",
       "      <td>서울 강남구 논현로 640</td>\n",
       "      <td>20190701</td>\n",
       "      <td>SK에너지</td>\n",
       "      <td>셀프</td>\n",
       "      <td>1777</td>\n",
       "      <td>1577</td>\n",
       "      <td>1477</td>\n",
       "      <td>0</td>\n",
       "    </tr>\n",
       "    <tr>\n",
       "      <th>1</th>\n",
       "      <td>A0006039</td>\n",
       "      <td>서울 강남구</td>\n",
       "      <td>(주)동하힐탑셀프주유소</td>\n",
       "      <td>서울 강남구 논현로 640</td>\n",
       "      <td>20190702</td>\n",
       "      <td>SK에너지</td>\n",
       "      <td>셀프</td>\n",
       "      <td>1777</td>\n",
       "      <td>1577</td>\n",
       "      <td>1477</td>\n",
       "      <td>0</td>\n",
       "    </tr>\n",
       "    <tr>\n",
       "      <th>2</th>\n",
       "      <td>A0006039</td>\n",
       "      <td>서울 강남구</td>\n",
       "      <td>(주)동하힐탑셀프주유소</td>\n",
       "      <td>서울 강남구 논현로 640</td>\n",
       "      <td>20190703</td>\n",
       "      <td>SK에너지</td>\n",
       "      <td>셀프</td>\n",
       "      <td>1777</td>\n",
       "      <td>1577</td>\n",
       "      <td>1477</td>\n",
       "      <td>0</td>\n",
       "    </tr>\n",
       "    <tr>\n",
       "      <th>3</th>\n",
       "      <td>A0006039</td>\n",
       "      <td>서울 강남구</td>\n",
       "      <td>(주)동하힐탑셀프주유소</td>\n",
       "      <td>서울 강남구 논현로 640</td>\n",
       "      <td>20190704</td>\n",
       "      <td>SK에너지</td>\n",
       "      <td>셀프</td>\n",
       "      <td>1777</td>\n",
       "      <td>1577</td>\n",
       "      <td>1477</td>\n",
       "      <td>0</td>\n",
       "    </tr>\n",
       "    <tr>\n",
       "      <th>4</th>\n",
       "      <td>A0006039</td>\n",
       "      <td>서울 강남구</td>\n",
       "      <td>(주)동하힐탑셀프주유소</td>\n",
       "      <td>서울 강남구 논현로 640</td>\n",
       "      <td>20190705</td>\n",
       "      <td>SK에너지</td>\n",
       "      <td>셀프</td>\n",
       "      <td>1777</td>\n",
       "      <td>1577</td>\n",
       "      <td>1477</td>\n",
       "      <td>0</td>\n",
       "    </tr>\n",
       "    <tr>\n",
       "      <th>...</th>\n",
       "      <td>...</td>\n",
       "      <td>...</td>\n",
       "      <td>...</td>\n",
       "      <td>...</td>\n",
       "      <td>...</td>\n",
       "      <td>...</td>\n",
       "      <td>...</td>\n",
       "      <td>...</td>\n",
       "      <td>...</td>\n",
       "      <td>...</td>\n",
       "      <td>...</td>\n",
       "    </tr>\n",
       "    <tr>\n",
       "      <th>91119</th>\n",
       "      <td>A0032659</td>\n",
       "      <td>서울 중랑구</td>\n",
       "      <td>지에스칼텍스㈜ 소망주유소</td>\n",
       "      <td>서울 중랑구 망우로 475</td>\n",
       "      <td>20191227</td>\n",
       "      <td>GS칼텍스</td>\n",
       "      <td>셀프</td>\n",
       "      <td>0</td>\n",
       "      <td>1540</td>\n",
       "      <td>1389</td>\n",
       "      <td>1100</td>\n",
       "    </tr>\n",
       "    <tr>\n",
       "      <th>91120</th>\n",
       "      <td>A0032659</td>\n",
       "      <td>서울 중랑구</td>\n",
       "      <td>지에스칼텍스㈜ 소망주유소</td>\n",
       "      <td>서울 중랑구 망우로 475</td>\n",
       "      <td>20191228</td>\n",
       "      <td>GS칼텍스</td>\n",
       "      <td>셀프</td>\n",
       "      <td>0</td>\n",
       "      <td>1540</td>\n",
       "      <td>1389</td>\n",
       "      <td>1100</td>\n",
       "    </tr>\n",
       "    <tr>\n",
       "      <th>91121</th>\n",
       "      <td>A0032659</td>\n",
       "      <td>서울 중랑구</td>\n",
       "      <td>지에스칼텍스㈜ 소망주유소</td>\n",
       "      <td>서울 중랑구 망우로 475</td>\n",
       "      <td>20191229</td>\n",
       "      <td>GS칼텍스</td>\n",
       "      <td>셀프</td>\n",
       "      <td>0</td>\n",
       "      <td>1540</td>\n",
       "      <td>1389</td>\n",
       "      <td>1100</td>\n",
       "    </tr>\n",
       "    <tr>\n",
       "      <th>91122</th>\n",
       "      <td>A0032659</td>\n",
       "      <td>서울 중랑구</td>\n",
       "      <td>지에스칼텍스㈜ 소망주유소</td>\n",
       "      <td>서울 중랑구 망우로 475</td>\n",
       "      <td>20191230</td>\n",
       "      <td>GS칼텍스</td>\n",
       "      <td>셀프</td>\n",
       "      <td>0</td>\n",
       "      <td>1540</td>\n",
       "      <td>1389</td>\n",
       "      <td>1100</td>\n",
       "    </tr>\n",
       "    <tr>\n",
       "      <th>91123</th>\n",
       "      <td>A0032659</td>\n",
       "      <td>서울 중랑구</td>\n",
       "      <td>지에스칼텍스㈜ 소망주유소</td>\n",
       "      <td>서울 중랑구 망우로 475</td>\n",
       "      <td>20191231</td>\n",
       "      <td>GS칼텍스</td>\n",
       "      <td>셀프</td>\n",
       "      <td>0</td>\n",
       "      <td>1540</td>\n",
       "      <td>1389</td>\n",
       "      <td>1100</td>\n",
       "    </tr>\n",
       "  </tbody>\n",
       "</table>\n",
       "<p>91124 rows × 11 columns</p>\n",
       "</div>"
      ],
      "text/plain": [
       "             번호      지역             상호              주소        기간     상표 셀프여부  \\\n",
       "0      A0006039  서울 강남구   (주)동하힐탑셀프주유소  서울 강남구 논현로 640  20190701  SK에너지   셀프   \n",
       "1      A0006039  서울 강남구   (주)동하힐탑셀프주유소  서울 강남구 논현로 640  20190702  SK에너지   셀프   \n",
       "2      A0006039  서울 강남구   (주)동하힐탑셀프주유소  서울 강남구 논현로 640  20190703  SK에너지   셀프   \n",
       "3      A0006039  서울 강남구   (주)동하힐탑셀프주유소  서울 강남구 논현로 640  20190704  SK에너지   셀프   \n",
       "4      A0006039  서울 강남구   (주)동하힐탑셀프주유소  서울 강남구 논현로 640  20190705  SK에너지   셀프   \n",
       "...         ...     ...            ...             ...       ...    ...  ...   \n",
       "91119  A0032659  서울 중랑구  지에스칼텍스㈜ 소망주유소  서울 중랑구 망우로 475  20191227  GS칼텍스   셀프   \n",
       "91120  A0032659  서울 중랑구  지에스칼텍스㈜ 소망주유소  서울 중랑구 망우로 475  20191228  GS칼텍스   셀프   \n",
       "91121  A0032659  서울 중랑구  지에스칼텍스㈜ 소망주유소  서울 중랑구 망우로 475  20191229  GS칼텍스   셀프   \n",
       "91122  A0032659  서울 중랑구  지에스칼텍스㈜ 소망주유소  서울 중랑구 망우로 475  20191230  GS칼텍스   셀프   \n",
       "91123  A0032659  서울 중랑구  지에스칼텍스㈜ 소망주유소  서울 중랑구 망우로 475  20191231  GS칼텍스   셀프   \n",
       "\n",
       "       고급휘발유   휘발유    경유  실내등유  \n",
       "0       1777  1577  1477     0  \n",
       "1       1777  1577  1477     0  \n",
       "2       1777  1577  1477     0  \n",
       "3       1777  1577  1477     0  \n",
       "4       1777  1577  1477     0  \n",
       "...      ...   ...   ...   ...  \n",
       "91119      0  1540  1389  1100  \n",
       "91120      0  1540  1389  1100  \n",
       "91121      0  1540  1389  1100  \n",
       "91122      0  1540  1389  1100  \n",
       "91123      0  1540  1389  1100  \n",
       "\n",
       "[91124 rows x 11 columns]"
      ]
     },
     "execution_count": 5,
     "metadata": {},
     "output_type": "execute_result"
    }
   ],
   "source": [
    "second =  pd.read_csv('../data/2019년 하반기 주유소 판매가격.csv', encoding=\"cp949\")\n",
    "second"
   ]
  },
  {
   "cell_type": "code",
   "execution_count": 7,
   "metadata": {},
   "outputs": [
    {
     "data": {
      "text/plain": [
       "번호       0\n",
       "지역       0\n",
       "상호       0\n",
       "주소       0\n",
       "기간       0\n",
       "상표       0\n",
       "셀프여부     0\n",
       "고급휘발유    0\n",
       "휘발유      0\n",
       "경유       0\n",
       "실내등유     0\n",
       "dtype: int64"
      ]
     },
     "execution_count": 7,
     "metadata": {},
     "output_type": "execute_result"
    }
   ],
   "source": [
    "# 상반기 판매가격 데이터 프레임 결측치 조회\n",
    "first.isnull().sum()"
   ]
  },
  {
   "cell_type": "code",
   "execution_count": 8,
   "metadata": {},
   "outputs": [
    {
     "data": {
      "text/plain": [
       "번호       0\n",
       "지역       0\n",
       "상호       0\n",
       "주소       0\n",
       "기간       0\n",
       "상표       0\n",
       "셀프여부     0\n",
       "고급휘발유    0\n",
       "휘발유      0\n",
       "경유       0\n",
       "실내등유     0\n",
       "dtype: int64"
      ]
     },
     "execution_count": 8,
     "metadata": {},
     "output_type": "execute_result"
    }
   ],
   "source": [
    "# 하반기 판매가격 데이터 프레임 결측치 조회\n",
    "second.isnull().sum()"
   ]
  },
  {
   "cell_type": "markdown",
   "metadata": {},
   "source": [
    "# 2. 데이터 결합"
   ]
  },
  {
   "cell_type": "code",
   "execution_count": null,
   "metadata": {},
   "outputs": [],
   "source": [
    "# 상반기와 하반기 데이터를 상하로 결합\n",
    "df"
   ]
  },
  {
   "cell_type": "markdown",
   "metadata": {},
   "source": [
    "# 3. 데이터 가공 및 분석"
   ]
  },
  {
   "cell_type": "code",
   "execution_count": null,
   "metadata": {},
   "outputs": [],
   "source": [
    "# 데이터 프레임 정보 조회\n"
   ]
  },
  {
   "cell_type": "code",
   "execution_count": null,
   "metadata": {},
   "outputs": [],
   "source": [
    "# 상표 컬럼의 고유값 조회\n"
   ]
  },
  {
   "cell_type": "code",
   "execution_count": null,
   "metadata": {},
   "outputs": [],
   "source": [
    "# 지역 컬럼의 고유값 조회\n"
   ]
  },
  {
   "cell_type": "code",
   "execution_count": null,
   "metadata": {},
   "outputs": [],
   "source": [
    "# 지역 컬럼의 값을 이용하여 시와 구를 분리\n"
   ]
  },
  {
   "cell_type": "code",
   "execution_count": null,
   "metadata": {},
   "outputs": [],
   "source": [
    "# 시 컬럼의 서울을 서울특별시로 변환\n"
   ]
  },
  {
   "cell_type": "code",
   "execution_count": null,
   "metadata": {},
   "outputs": [],
   "source": [
    "# 기간 컬럼을 datetime 형식으로 변경\n"
   ]
  },
  {
   "cell_type": "code",
   "execution_count": null,
   "metadata": {},
   "outputs": [],
   "source": [
    "# 기간 컬럼에서 dt 타입을 이용하여 년, 월, 일, 요일 컬럼 생성\n"
   ]
  },
  {
   "cell_type": "code",
   "execution_count": null,
   "metadata": {},
   "outputs": [],
   "source": [
    "# 휘발유 가격이 비싼 5개 판매가격을 출력하세요.\n"
   ]
  },
  {
   "cell_type": "code",
   "execution_count": null,
   "metadata": {},
   "outputs": [],
   "source": [
    "# 휘발유 가격이 저렴한 5개 판매가격을 출력하세요. (단 휘발유가 0원인 데이터는 제외)\n"
   ]
  },
  {
   "cell_type": "code",
   "execution_count": null,
   "metadata": {},
   "outputs": [],
   "source": [
    "# 상표별 평균 휘발유 가격을 계산하세요.\n"
   ]
  },
  {
   "cell_type": "code",
   "execution_count": null,
   "metadata": {},
   "outputs": [],
   "source": [
    "# 상표별 평균 휘발유 가격을 시각화하세요.\n"
   ]
  },
  {
   "cell_type": "code",
   "execution_count": null,
   "metadata": {},
   "outputs": [],
   "source": [
    "# 상표와 셀프여부별 평균 휘발유 가격을 계산하세요.\n"
   ]
  },
  {
   "cell_type": "code",
   "execution_count": null,
   "metadata": {},
   "outputs": [],
   "source": [
    "# 상표와 셀프여부별 평균 휘발유 가격을 시각화하세요.\n"
   ]
  },
  {
   "cell_type": "code",
   "execution_count": null,
   "metadata": {},
   "outputs": [],
   "source": [
    "# 셀프여부에 따라 휘발유 가격을 boxplot으로 시각화해보세요.\n",
    "# 휘발유가 0인 데이터는 제외하고 시각화합니다.\n"
   ]
  },
  {
   "cell_type": "code",
   "execution_count": null,
   "metadata": {},
   "outputs": [],
   "source": [
    "# 휘발유 가격과 일반 주유소의 가격을 boxplot을 이용하여 시각화해보세요.\n",
    "# 휘발유가 0인 데이터는 제외하고 시각화합니다.\n"
   ]
  },
  {
   "cell_type": "code",
   "execution_count": null,
   "metadata": {},
   "outputs": [],
   "source": [
    "# 지역별 평균 휘발유 가격을 계산하세요\n"
   ]
  },
  {
   "cell_type": "code",
   "execution_count": null,
   "metadata": {},
   "outputs": [],
   "source": [
    "# 지역별 평균 휘발유 가격을 시각화하세요.\n"
   ]
  },
  {
   "cell_type": "code",
   "execution_count": null,
   "metadata": {},
   "outputs": [],
   "source": [
    "# 월별 평균 휘발유 가격을 계산하세요\n"
   ]
  },
  {
   "cell_type": "code",
   "execution_count": null,
   "metadata": {},
   "outputs": [],
   "source": [
    "# 월별 평균 휘발유 가격을 시각화 하세요.\n"
   ]
  },
  {
   "cell_type": "code",
   "execution_count": null,
   "metadata": {},
   "outputs": [],
   "source": [
    "# pivot_table 함수를 이용하여 구와 월 컬럼을 이용하여 평균 휘발유 가격을 계산하세요\n"
   ]
  },
  {
   "cell_type": "code",
   "execution_count": null,
   "metadata": {},
   "outputs": [],
   "source": [
    "# pivot_table 함수를 이용하여 구와 월 컬럼을 이용하여 평균 휘발유 가격을 시각화 하세요 (heatmap 이용)\n"
   ]
  }
 ],
 "metadata": {
  "kernelspec": {
   "display_name": "Python 3 (ipykernel)",
   "language": "python",
   "name": "python3"
  },
  "language_info": {
   "codemirror_mode": {
    "name": "ipython",
    "version": 3
   },
   "file_extension": ".py",
   "mimetype": "text/x-python",
   "name": "python",
   "nbconvert_exporter": "python",
   "pygments_lexer": "ipython3",
   "version": "3.11.0"
  }
 },
 "nbformat": 4,
 "nbformat_minor": 4
}
