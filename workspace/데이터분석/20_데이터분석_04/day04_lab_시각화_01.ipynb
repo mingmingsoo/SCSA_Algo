{
 "cells": [
  {
   "cell_type": "code",
   "execution_count": 1,
   "id": "16435c60",
   "metadata": {},
   "outputs": [],
   "source": [
    "from matplotlib import pyplot as plt\n",
    "import pandas as pd\n",
    "import seaborn as sns\n",
    "plt.rcParams['font.family'] = 'Malgun Gothic'\n",
    "plt.rc('font', size=15) "
   ]
  },
  {
   "cell_type": "code",
   "execution_count": 2,
   "id": "694c7d35",
   "metadata": {},
   "outputs": [],
   "source": [
    "student = pd.DataFrame([['남자', '여자', '여자'], ['남자', '남자', '남자']])"
   ]
  },
  {
   "cell_type": "code",
   "execution_count": 3,
   "id": "7f9597e4",
   "metadata": {},
   "outputs": [
    {
     "data": {
      "text/html": [
       "<div>\n",
       "<style scoped>\n",
       "    .dataframe tbody tr th:only-of-type {\n",
       "        vertical-align: middle;\n",
       "    }\n",
       "\n",
       "    .dataframe tbody tr th {\n",
       "        vertical-align: top;\n",
       "    }\n",
       "\n",
       "    .dataframe thead th {\n",
       "        text-align: right;\n",
       "    }\n",
       "</style>\n",
       "<table border=\"1\" class=\"dataframe\">\n",
       "  <thead>\n",
       "    <tr style=\"text-align: right;\">\n",
       "      <th></th>\n",
       "      <th>0</th>\n",
       "      <th>1</th>\n",
       "      <th>2</th>\n",
       "    </tr>\n",
       "  </thead>\n",
       "  <tbody>\n",
       "    <tr>\n",
       "      <th>0</th>\n",
       "      <td>남자</td>\n",
       "      <td>여자</td>\n",
       "      <td>여자</td>\n",
       "    </tr>\n",
       "    <tr>\n",
       "      <th>1</th>\n",
       "      <td>남자</td>\n",
       "      <td>남자</td>\n",
       "      <td>남자</td>\n",
       "    </tr>\n",
       "  </tbody>\n",
       "</table>\n",
       "</div>"
      ],
      "text/plain": [
       "    0   1   2\n",
       "0  남자  여자  여자\n",
       "1  남자  남자  남자"
      ]
     },
     "execution_count": 3,
     "metadata": {},
     "output_type": "execute_result"
    }
   ],
   "source": [
    "student"
   ]
  },
  {
   "cell_type": "code",
   "execution_count": 4,
   "id": "a2a144cf",
   "metadata": {},
   "outputs": [
    {
     "data": {
      "text/plain": [
       "\u001b[1;31mSignature:\u001b[0m\n",
       "\u001b[0mplt\u001b[0m\u001b[1;33m.\u001b[0m\u001b[0mpie\u001b[0m\u001b[1;33m(\u001b[0m\u001b[1;33m\n",
       "\u001b[0m    \u001b[0mx\u001b[0m\u001b[1;33m:\u001b[0m \u001b[1;34m'ArrayLike'\u001b[0m\u001b[1;33m,\u001b[0m\u001b[1;33m\n",
       "\u001b[0m    \u001b[1;33m*\u001b[0m\u001b[1;33m,\u001b[0m\u001b[1;33m\n",
       "\u001b[0m    \u001b[0mexplode\u001b[0m\u001b[1;33m:\u001b[0m \u001b[1;34m'ArrayLike | None'\u001b[0m \u001b[1;33m=\u001b[0m \u001b[1;32mNone\u001b[0m\u001b[1;33m,\u001b[0m\u001b[1;33m\n",
       "\u001b[0m    \u001b[0mlabels\u001b[0m\u001b[1;33m:\u001b[0m \u001b[1;34m'Sequence[str] | None'\u001b[0m \u001b[1;33m=\u001b[0m \u001b[1;32mNone\u001b[0m\u001b[1;33m,\u001b[0m\u001b[1;33m\n",
       "\u001b[0m    \u001b[0mcolors\u001b[0m\u001b[1;33m:\u001b[0m \u001b[1;34m'ColorType | Sequence[ColorType] | None'\u001b[0m \u001b[1;33m=\u001b[0m \u001b[1;32mNone\u001b[0m\u001b[1;33m,\u001b[0m\u001b[1;33m\n",
       "\u001b[0m    \u001b[0mautopct\u001b[0m\u001b[1;33m:\u001b[0m \u001b[1;34m'str | Callable[[float], str] | None'\u001b[0m \u001b[1;33m=\u001b[0m \u001b[1;32mNone\u001b[0m\u001b[1;33m,\u001b[0m\u001b[1;33m\n",
       "\u001b[0m    \u001b[0mpctdistance\u001b[0m\u001b[1;33m:\u001b[0m \u001b[1;34m'float'\u001b[0m \u001b[1;33m=\u001b[0m \u001b[1;36m0.6\u001b[0m\u001b[1;33m,\u001b[0m\u001b[1;33m\n",
       "\u001b[0m    \u001b[0mshadow\u001b[0m\u001b[1;33m:\u001b[0m \u001b[1;34m'bool'\u001b[0m \u001b[1;33m=\u001b[0m \u001b[1;32mFalse\u001b[0m\u001b[1;33m,\u001b[0m\u001b[1;33m\n",
       "\u001b[0m    \u001b[0mlabeldistance\u001b[0m\u001b[1;33m:\u001b[0m \u001b[1;34m'float | None'\u001b[0m \u001b[1;33m=\u001b[0m \u001b[1;36m1.1\u001b[0m\u001b[1;33m,\u001b[0m\u001b[1;33m\n",
       "\u001b[0m    \u001b[0mstartangle\u001b[0m\u001b[1;33m:\u001b[0m \u001b[1;34m'float'\u001b[0m \u001b[1;33m=\u001b[0m \u001b[1;36m0\u001b[0m\u001b[1;33m,\u001b[0m\u001b[1;33m\n",
       "\u001b[0m    \u001b[0mradius\u001b[0m\u001b[1;33m:\u001b[0m \u001b[1;34m'float'\u001b[0m \u001b[1;33m=\u001b[0m \u001b[1;36m1\u001b[0m\u001b[1;33m,\u001b[0m\u001b[1;33m\n",
       "\u001b[0m    \u001b[0mcounterclock\u001b[0m\u001b[1;33m:\u001b[0m \u001b[1;34m'bool'\u001b[0m \u001b[1;33m=\u001b[0m \u001b[1;32mTrue\u001b[0m\u001b[1;33m,\u001b[0m\u001b[1;33m\n",
       "\u001b[0m    \u001b[0mwedgeprops\u001b[0m\u001b[1;33m:\u001b[0m \u001b[1;34m'dict[str, Any] | None'\u001b[0m \u001b[1;33m=\u001b[0m \u001b[1;32mNone\u001b[0m\u001b[1;33m,\u001b[0m\u001b[1;33m\n",
       "\u001b[0m    \u001b[0mtextprops\u001b[0m\u001b[1;33m:\u001b[0m \u001b[1;34m'dict[str, Any] | None'\u001b[0m \u001b[1;33m=\u001b[0m \u001b[1;32mNone\u001b[0m\u001b[1;33m,\u001b[0m\u001b[1;33m\n",
       "\u001b[0m    \u001b[0mcenter\u001b[0m\u001b[1;33m:\u001b[0m \u001b[1;34m'tuple[float, float]'\u001b[0m \u001b[1;33m=\u001b[0m \u001b[1;33m(\u001b[0m\u001b[1;36m0\u001b[0m\u001b[1;33m,\u001b[0m \u001b[1;36m0\u001b[0m\u001b[1;33m)\u001b[0m\u001b[1;33m,\u001b[0m\u001b[1;33m\n",
       "\u001b[0m    \u001b[0mframe\u001b[0m\u001b[1;33m:\u001b[0m \u001b[1;34m'bool'\u001b[0m \u001b[1;33m=\u001b[0m \u001b[1;32mFalse\u001b[0m\u001b[1;33m,\u001b[0m\u001b[1;33m\n",
       "\u001b[0m    \u001b[0mrotatelabels\u001b[0m\u001b[1;33m:\u001b[0m \u001b[1;34m'bool'\u001b[0m \u001b[1;33m=\u001b[0m \u001b[1;32mFalse\u001b[0m\u001b[1;33m,\u001b[0m\u001b[1;33m\n",
       "\u001b[0m    \u001b[0mnormalize\u001b[0m\u001b[1;33m:\u001b[0m \u001b[1;34m'bool'\u001b[0m \u001b[1;33m=\u001b[0m \u001b[1;32mTrue\u001b[0m\u001b[1;33m,\u001b[0m\u001b[1;33m\n",
       "\u001b[0m    \u001b[0mhatch\u001b[0m\u001b[1;33m:\u001b[0m \u001b[1;34m'str | Sequence[str] | None'\u001b[0m \u001b[1;33m=\u001b[0m \u001b[1;32mNone\u001b[0m\u001b[1;33m,\u001b[0m\u001b[1;33m\n",
       "\u001b[0m    \u001b[0mdata\u001b[0m\u001b[1;33m=\u001b[0m\u001b[1;32mNone\u001b[0m\u001b[1;33m,\u001b[0m\u001b[1;33m\n",
       "\u001b[0m\u001b[1;33m)\u001b[0m \u001b[1;33m->\u001b[0m \u001b[1;34m'tuple[list[Wedge], list[Text]] | tuple[list[Wedge], list[Text], list[Text]]'\u001b[0m\u001b[1;33m\u001b[0m\u001b[1;33m\u001b[0m\u001b[0m\n",
       "\u001b[1;31mDocstring:\u001b[0m\n",
       "Plot a pie chart.\n",
       "\n",
       "Make a pie chart of array *x*.  The fractional area of each wedge is\n",
       "given by ``x/sum(x)``.\n",
       "\n",
       "The wedges are plotted counterclockwise, by default starting from the\n",
       "x-axis.\n",
       "\n",
       "Parameters\n",
       "----------\n",
       "x : 1D array-like\n",
       "    The wedge sizes.\n",
       "\n",
       "explode : array-like, default: None\n",
       "    If not *None*, is a ``len(x)`` array which specifies the fraction\n",
       "    of the radius with which to offset each wedge.\n",
       "\n",
       "labels : list, default: None\n",
       "    A sequence of strings providing the labels for each wedge\n",
       "\n",
       "colors : :mpltype:`color` or list of :mpltype:`color`, default: None\n",
       "    A sequence of colors through which the pie chart will cycle.  If\n",
       "    *None*, will use the colors in the currently active cycle.\n",
       "\n",
       "hatch : str or list, default: None\n",
       "    Hatching pattern applied to all pie wedges or sequence of patterns\n",
       "    through which the chart will cycle. For a list of valid patterns,\n",
       "    see :doc:`/gallery/shapes_and_collections/hatch_style_reference`.\n",
       "\n",
       "    .. versionadded:: 3.7\n",
       "\n",
       "autopct : None or str or callable, default: None\n",
       "    If not *None*, *autopct* is a string or function used to label the\n",
       "    wedges with their numeric value. The label will be placed inside\n",
       "    the wedge. If *autopct* is a format string, the label will be\n",
       "    ``fmt % pct``. If *autopct* is a function, then it will be called.\n",
       "\n",
       "pctdistance : float, default: 0.6\n",
       "    The relative distance along the radius at which the text\n",
       "    generated by *autopct* is drawn. To draw the text outside the pie,\n",
       "    set *pctdistance* > 1. This parameter is ignored if *autopct* is\n",
       "    ``None``.\n",
       "\n",
       "labeldistance : float or None, default: 1.1\n",
       "    The relative distance along the radius at which the labels are\n",
       "    drawn. To draw the labels inside the pie, set  *labeldistance* < 1.\n",
       "    If set to ``None``, labels are not drawn but are still stored for\n",
       "    use in `.legend`.\n",
       "\n",
       "shadow : bool or dict, default: False\n",
       "    If bool, whether to draw a shadow beneath the pie. If dict, draw a shadow\n",
       "    passing the properties in the dict to `.Shadow`.\n",
       "\n",
       "    .. versionadded:: 3.8\n",
       "        *shadow* can be a dict.\n",
       "\n",
       "startangle : float, default: 0 degrees\n",
       "    The angle by which the start of the pie is rotated,\n",
       "    counterclockwise from the x-axis.\n",
       "\n",
       "radius : float, default: 1\n",
       "    The radius of the pie.\n",
       "\n",
       "counterclock : bool, default: True\n",
       "    Specify fractions direction, clockwise or counterclockwise.\n",
       "\n",
       "wedgeprops : dict, default: None\n",
       "    Dict of arguments passed to each `.patches.Wedge` of the pie.\n",
       "    For example, ``wedgeprops = {'linewidth': 3}`` sets the width of\n",
       "    the wedge border lines equal to 3. By default, ``clip_on=False``.\n",
       "    When there is a conflict between these properties and other\n",
       "    keywords, properties passed to *wedgeprops* take precedence.\n",
       "\n",
       "textprops : dict, default: None\n",
       "    Dict of arguments to pass to the text objects.\n",
       "\n",
       "center : (float, float), default: (0, 0)\n",
       "    The coordinates of the center of the chart.\n",
       "\n",
       "frame : bool, default: False\n",
       "    Plot Axes frame with the chart if true.\n",
       "\n",
       "rotatelabels : bool, default: False\n",
       "    Rotate each label to the angle of the corresponding slice if true.\n",
       "\n",
       "normalize : bool, default: True\n",
       "    When *True*, always make a full pie by normalizing x so that\n",
       "    ``sum(x) == 1``. *False* makes a partial pie if ``sum(x) <= 1``\n",
       "    and raises a `ValueError` for ``sum(x) > 1``.\n",
       "\n",
       "data : indexable object, optional\n",
       "    If given, the following parameters also accept a string ``s``, which is\n",
       "    interpreted as ``data[s]`` if ``s`` is a key in ``data``:\n",
       "\n",
       "    *x*, *explode*, *labels*, *colors*\n",
       "\n",
       "Returns\n",
       "-------\n",
       "patches : list\n",
       "    A sequence of `matplotlib.patches.Wedge` instances\n",
       "\n",
       "texts : list\n",
       "    A list of the label `.Text` instances.\n",
       "\n",
       "autotexts : list\n",
       "    A list of `.Text` instances for the numeric labels. This will only\n",
       "    be returned if the parameter *autopct* is not *None*.\n",
       "\n",
       "Notes\n",
       "-----\n",
       "\n",
       ".. note::\n",
       "\n",
       "    This is the :ref:`pyplot wrapper <pyplot_interface>` for `.axes.Axes.pie`.\n",
       "\n",
       "The pie chart will probably look best if the figure and Axes are\n",
       "square, or the Axes aspect is equal.\n",
       "This method sets the aspect ratio of the axis to \"equal\".\n",
       "The Axes aspect ratio can be controlled with `.Axes.set_aspect`.\n",
       "\u001b[1;31mFile:\u001b[0m      c:\\users\\student\\appdata\\local\\programs\\python\\python311\\lib\\site-packages\\matplotlib\\pyplot.py\n",
       "\u001b[1;31mType:\u001b[0m      function"
      ]
     },
     "metadata": {},
     "output_type": "display_data"
    }
   ],
   "source": [
    "plt.pie?"
   ]
  },
  {
   "cell_type": "code",
   "execution_count": 23,
   "id": "aa59d20a",
   "metadata": {},
   "outputs": [
    {
     "data": {
      "text/plain": [
       "0   1   2 \n",
       "남자  남자  남자    1\n",
       "    여자  여자    1\n",
       "dtype: int64"
      ]
     },
     "execution_count": 23,
     "metadata": {},
     "output_type": "execute_result"
    }
   ],
   "source": [
    "a = student.value_counts()\n",
    "a"
   ]
  },
  {
   "cell_type": "code",
   "execution_count": 7,
   "id": "f6239864",
   "metadata": {},
   "outputs": [
    {
     "data": {
      "text/plain": [
       "([<matplotlib.patches.Wedge at 0x1b7b35625d0>,\n",
       "  <matplotlib.patches.Wedge at 0x1b7b354ff50>],\n",
       " [Text(6.735557395310444e-17, 1.1, ''),\n",
       "  Text(-2.0206672185931328e-16, -1.1, '')])"
      ]
     },
     "execution_count": 7,
     "metadata": {},
     "output_type": "execute_result"
    },
    {
     "data": {
      "image/png": "[encoded data removed]",
      "text/plain": [
       "<Figure size 640x480 with 1 Axes>"
      ]
     },
     "metadata": {},
     "output_type": "display_data"
    }
   ],
   "source": [
    "plt.pie(student.value_counts())"
   ]
  },
  {
   "cell_type": "code",
   "execution_count": 8,
   "id": "1a3f49b8",
   "metadata": {},
   "outputs": [
    {
     "data": {
      "text/html": [
       "<div>\n",
       "<style scoped>\n",
       "    .dataframe tbody tr th:only-of-type {\n",
       "        vertical-align: middle;\n",
       "    }\n",
       "\n",
       "    .dataframe tbody tr th {\n",
       "        vertical-align: top;\n",
       "    }\n",
       "\n",
       "    .dataframe thead th {\n",
       "        text-align: right;\n",
       "    }\n",
       "</style>\n",
       "<table border=\"1\" class=\"dataframe\">\n",
       "  <thead>\n",
       "    <tr style=\"text-align: right;\">\n",
       "      <th></th>\n",
       "      <th>남자</th>\n",
       "      <th>여자</th>\n",
       "    </tr>\n",
       "  </thead>\n",
       "  <tbody>\n",
       "    <tr>\n",
       "      <th>1반</th>\n",
       "      <td>10</td>\n",
       "      <td>30</td>\n",
       "    </tr>\n",
       "    <tr>\n",
       "      <th>2반</th>\n",
       "      <td>30</td>\n",
       "      <td>10</td>\n",
       "    </tr>\n",
       "    <tr>\n",
       "      <th>3반</th>\n",
       "      <td>20</td>\n",
       "      <td>20</td>\n",
       "    </tr>\n",
       "  </tbody>\n",
       "</table>\n",
       "</div>"
      ],
      "text/plain": [
       "    남자  여자\n",
       "1반  10  30\n",
       "2반  30  10\n",
       "3반  20  20"
      ]
     },
     "execution_count": 8,
     "metadata": {},
     "output_type": "execute_result"
    }
   ],
   "source": [
    "s = pd.DataFrame({'남자':[10,30,20], '여자':[30,10,20]}, index=['1반', '2반', '3반'])\n",
    "s"
   ]
  },
  {
   "cell_type": "code",
   "execution_count": 9,
   "id": "fb95de1b",
   "metadata": {},
   "outputs": [
    {
     "data": {
      "text/plain": [
       "남자    10\n",
       "여자    30\n",
       "Name: 1반, dtype: int64"
      ]
     },
     "execution_count": 9,
     "metadata": {},
     "output_type": "execute_result"
    }
   ],
   "source": [
    "s.loc['1반']"
   ]
  },
  {
   "cell_type": "code",
   "execution_count": 10,
   "id": "3f1a4778",
   "metadata": {},
   "outputs": [
    {
     "data": {
      "text/plain": [
       "Index(['남자', '여자'], dtype='object')"
      ]
     },
     "execution_count": 10,
     "metadata": {},
     "output_type": "execute_result"
    }
   ],
   "source": [
    "s.columns"
   ]
  },
  {
   "cell_type": "code",
   "execution_count": 11,
   "id": "130b0c79",
   "metadata": {
    "scrolled": true
   },
   "outputs": [
    {
     "data": {
      "image/png": "[encoded data removed]",
      "text/plain": [
       "<Figure size 700x700 with 1 Axes>"
      ]
     },
     "metadata": {},
     "output_type": "display_data"
    }
   ],
   "source": [
    "plt.figure(figsize=(7,7))\n",
    "plt.pie(s.loc['1반'], labels=s.columns, autopct='%.1f%%')\n",
    "plt.title('1반 성비')\n",
    "plt.show()"
   ]
  },
  {
   "cell_type": "code",
   "execution_count": 12,
   "id": "351c9fb8",
   "metadata": {},
   "outputs": [
    {
     "data": {
      "text/plain": [
       "Index(['남자', '여자'], dtype='object')"
      ]
     },
     "execution_count": 12,
     "metadata": {},
     "output_type": "execute_result"
    }
   ],
   "source": [
    "s.columns"
   ]
  },
  {
   "cell_type": "code",
   "execution_count": 13,
   "id": "11263de8",
   "metadata": {},
   "outputs": [
    {
     "data": {
      "text/plain": [
       "<Figure size 900x700 with 0 Axes>"
      ]
     },
     "metadata": {},
     "output_type": "display_data"
    },
    {
     "data": {
      "image/png": "[encoded data removed]",
      "text/plain": [
       "<Figure size 640x480 with 1 Axes>"
      ]
     },
     "metadata": {},
     "output_type": "display_data"
    }
   ],
   "source": [
    "plt.figure(figsize=(9,7))\n",
    "s.plot(kind='bar', stacked=True, rot = 1)\n",
    "plt.title('남녀 성비')\n",
    "plt.show()"
   ]
  },
  {
   "cell_type": "code",
   "execution_count": 14,
   "id": "241a19b4",
   "metadata": {},
   "outputs": [
    {
     "data": {
      "text/plain": [
       "\u001b[1;31mSignature:\u001b[0m      \u001b[0ms\u001b[0m\u001b[1;33m.\u001b[0m\u001b[0mplot\u001b[0m\u001b[1;33m(\u001b[0m\u001b[1;33m*\u001b[0m\u001b[0margs\u001b[0m\u001b[1;33m,\u001b[0m \u001b[1;33m**\u001b[0m\u001b[0mkwargs\u001b[0m\u001b[1;33m)\u001b[0m\u001b[1;33m\u001b[0m\u001b[1;33m\u001b[0m\u001b[0m\n",
       "\u001b[1;31mType:\u001b[0m           PlotAccessor\n",
       "\u001b[1;31mString form:\u001b[0m    <pandas.plotting._core.PlotAccessor object at 0x000001B7B35C0C90>\n",
       "\u001b[1;31mFile:\u001b[0m           c:\\users\\student\\appdata\\local\\programs\\python\\python311\\lib\\site-packages\\pandas\\plotting\\_core.py\n",
       "\u001b[1;31mDocstring:\u001b[0m     \n",
       "Make plots of Series or DataFrame.\n",
       "\n",
       "Uses the backend specified by the\n",
       "option ``plotting.backend``. By default, matplotlib is used.\n",
       "\n",
       "Parameters\n",
       "----------\n",
       "data : Series or DataFrame\n",
       "    The object for which the method is called.\n",
       "x : label or position, default None\n",
       "    Only used if data is a DataFrame.\n",
       "y : label, position or list of label, positions, default None\n",
       "    Allows plotting of one column versus another. Only used if data is a\n",
       "    DataFrame.\n",
       "kind : str\n",
       "    The kind of plot to produce:\n",
       "\n",
       "    - 'line' : line plot (default)\n",
       "    - 'bar' : vertical bar plot\n",
       "    - 'barh' : horizontal bar plot\n",
       "    - 'hist' : histogram\n",
       "    - 'box' : boxplot\n",
       "    - 'kde' : Kernel Density Estimation plot\n",
       "    - 'density' : same as 'kde'\n",
       "    - 'area' : area plot\n",
       "    - 'pie' : pie plot\n",
       "    - 'scatter' : scatter plot (DataFrame only)\n",
       "    - 'hexbin' : hexbin plot (DataFrame only)\n",
       "ax : matplotlib axes object, default None\n",
       "    An axes of the current figure.\n",
       "subplots : bool or sequence of iterables, default False\n",
       "    Whether to group columns into subplots:\n",
       "\n",
       "    - ``False`` : No subplots will be used\n",
       "    - ``True`` : Make separate subplots for each column.\n",
       "    - sequence of iterables of column labels: Create a subplot for each\n",
       "      group of columns. For example `[('a', 'c'), ('b', 'd')]` will\n",
       "      create 2 subplots: one with columns 'a' and 'c', and one\n",
       "      with columns 'b' and 'd'. Remaining columns that aren't specified\n",
       "      will be plotted in additional subplots (one per column).\n",
       "      .. versionadded:: 1.5.0\n",
       "\n",
       "sharex : bool, default True if ax is None else False\n",
       "    In case ``subplots=True``, share x axis and set some x axis labels\n",
       "    to invisible; defaults to True if ax is None otherwise False if\n",
       "    an ax is passed in; Be aware, that passing in both an ax and\n",
       "    ``sharex=True`` will alter all x axis labels for all axis in a figure.\n",
       "sharey : bool, default False\n",
       "    In case ``subplots=True``, share y axis and set some y axis labels to invisible.\n",
       "layout : tuple, optional\n",
       "    (rows, columns) for the layout of subplots.\n",
       "figsize : a tuple (width, height) in inches\n",
       "    Size of a figure object.\n",
       "use_index : bool, default True\n",
       "    Use index as ticks for x axis.\n",
       "title : str or list\n",
       "    Title to use for the plot. If a string is passed, print the string\n",
       "    at the top of the figure. If a list is passed and `subplots` is\n",
       "    True, print each item in the list above the corresponding subplot.\n",
       "grid : bool, default None (matlab style default)\n",
       "    Axis grid lines.\n",
       "legend : bool or {'reverse'}\n",
       "    Place legend on axis subplots.\n",
       "style : list or dict\n",
       "    The matplotlib line style per column.\n",
       "logx : bool or 'sym', default False\n",
       "    Use log scaling or symlog scaling on x axis.\n",
       "    .. versionchanged:: 0.25.0\n",
       "\n",
       "logy : bool or 'sym' default False\n",
       "    Use log scaling or symlog scaling on y axis.\n",
       "    .. versionchanged:: 0.25.0\n",
       "\n",
       "loglog : bool or 'sym', default False\n",
       "    Use log scaling or symlog scaling on both x and y axes.\n",
       "    .. versionchanged:: 0.25.0\n",
       "\n",
       "xticks : sequence\n",
       "    Values to use for the xticks.\n",
       "yticks : sequence\n",
       "    Values to use for the yticks.\n",
       "xlim : 2-tuple/list\n",
       "    Set the x limits of the current axes.\n",
       "ylim : 2-tuple/list\n",
       "    Set the y limits of the current axes.\n",
       "xlabel : label, optional\n",
       "    Name to use for the xlabel on x-axis. Default uses index name as xlabel, or the\n",
       "    x-column name for planar plots.\n",
       "\n",
       "    .. versionadded:: 1.1.0\n",
       "\n",
       "    .. versionchanged:: 1.2.0\n",
       "\n",
       "       Now applicable to planar plots (`scatter`, `hexbin`).\n",
       "\n",
       "ylabel : label, optional\n",
       "    Name to use for the ylabel on y-axis. Default will show no ylabel, or the\n",
       "    y-column name for planar plots.\n",
       "\n",
       "    .. versionadded:: 1.1.0\n",
       "\n",
       "    .. versionchanged:: 1.2.0\n",
       "\n",
       "       Now applicable to planar plots (`scatter`, `hexbin`).\n",
       "\n",
       "rot : int, default None\n",
       "    Rotation for ticks (xticks for vertical, yticks for horizontal\n",
       "    plots).\n",
       "fontsize : int, default None\n",
       "    Font size for xticks and yticks.\n",
       "colormap : str or matplotlib colormap object, default None\n",
       "    Colormap to select colors from. If string, load colormap with that\n",
       "    name from matplotlib.\n",
       "colorbar : bool, optional\n",
       "    If True, plot colorbar (only relevant for 'scatter' and 'hexbin'\n",
       "    plots).\n",
       "position : float\n",
       "    Specify relative alignments for bar plot layout.\n",
       "    From 0 (left/bottom-end) to 1 (right/top-end). Default is 0.5\n",
       "    (center).\n",
       "table : bool, Series or DataFrame, default False\n",
       "    If True, draw a table using the data in the DataFrame and the data\n",
       "    will be transposed to meet matplotlib's default layout.\n",
       "    If a Series or DataFrame is passed, use passed data to draw a\n",
       "    table.\n",
       "yerr : DataFrame, Series, array-like, dict and str\n",
       "    See :ref:`Plotting with Error Bars <visualization.errorbars>` for\n",
       "    detail.\n",
       "xerr : DataFrame, Series, array-like, dict and str\n",
       "    Equivalent to yerr.\n",
       "stacked : bool, default False in line and bar plots, and True in area plot\n",
       "    If True, create stacked plot.\n",
       "sort_columns : bool, default False\n",
       "    Sort column names to determine plot ordering.\n",
       "\n",
       "    .. deprecated:: 1.5.0\n",
       "        The `sort_columns` arguments is deprecated and will be removed in a\n",
       "        future version.\n",
       "\n",
       "secondary_y : bool or sequence, default False\n",
       "    Whether to plot on the secondary y-axis if a list/tuple, which\n",
       "    columns to plot on secondary y-axis.\n",
       "mark_right : bool, default True\n",
       "    When using a secondary_y axis, automatically mark the column\n",
       "    labels with \"(right)\" in the legend.\n",
       "include_bool : bool, default is False\n",
       "    If True, boolean values can be plotted.\n",
       "backend : str, default None\n",
       "    Backend to use instead of the backend specified in the option\n",
       "    ``plotting.backend``. For instance, 'matplotlib'. Alternatively, to\n",
       "    specify the ``plotting.backend`` for the whole session, set\n",
       "    ``pd.options.plotting.backend``.\n",
       "\n",
       "    .. versionadded:: 1.0.0\n",
       "\n",
       "**kwargs\n",
       "    Options to pass to matplotlib plotting method.\n",
       "\n",
       "Returns\n",
       "-------\n",
       ":class:`matplotlib.axes.Axes` or numpy.ndarray of them\n",
       "    If the backend is not the default matplotlib one, the return value\n",
       "    will be the object returned by the backend.\n",
       "\n",
       "Notes\n",
       "-----\n",
       "- See matplotlib documentation online for more on this subject\n",
       "- If `kind` = 'bar' or 'barh', you can specify relative alignments\n",
       "  for bar plot layout by `position` keyword.\n",
       "  From 0 (left/bottom-end) to 1 (right/top-end). Default is 0.5\n",
       "  (center)\n",
       "\u001b[1;31mCall docstring:\u001b[0m\n",
       "Make plots of Series or DataFrame.\n",
       "\n",
       "Uses the backend specified by the\n",
       "option ``plotting.backend``. By default, matplotlib is used.\n",
       "\n",
       "Parameters\n",
       "----------\n",
       "data : Series or DataFrame\n",
       "    The object for which the method is called.\n",
       "x : label or position, default None\n",
       "    Only used if data is a DataFrame.\n",
       "y : label, position or list of label, positions, default None\n",
       "    Allows plotting of one column versus another. Only used if data is a\n",
       "    DataFrame.\n",
       "kind : str\n",
       "    The kind of plot to produce:\n",
       "\n",
       "    - 'line' : line plot (default)\n",
       "    - 'bar' : vertical bar plot\n",
       "    - 'barh' : horizontal bar plot\n",
       "    - 'hist' : histogram\n",
       "    - 'box' : boxplot\n",
       "    - 'kde' : Kernel Density Estimation plot\n",
       "    - 'density' : same as 'kde'\n",
       "    - 'area' : area plot\n",
       "    - 'pie' : pie plot\n",
       "    - 'scatter' : scatter plot (DataFrame only)\n",
       "    - 'hexbin' : hexbin plot (DataFrame only)\n",
       "ax : matplotlib axes object, default None\n",
       "    An axes of the current figure.\n",
       "subplots : bool or sequence of iterables, default False\n",
       "    Whether to group columns into subplots:\n",
       "\n",
       "    - ``False`` : No subplots will be used\n",
       "    - ``True`` : Make separate subplots for each column.\n",
       "    - sequence of iterables of column labels: Create a subplot for each\n",
       "      group of columns. For example `[('a', 'c'), ('b', 'd')]` will\n",
       "      create 2 subplots: one with columns 'a' and 'c', and one\n",
       "      with columns 'b' and 'd'. Remaining columns that aren't specified\n",
       "      will be plotted in additional subplots (one per column).\n",
       "      .. versionadded:: 1.5.0\n",
       "\n",
       "sharex : bool, default True if ax is None else False\n",
       "    In case ``subplots=True``, share x axis and set some x axis labels\n",
       "    to invisible; defaults to True if ax is None otherwise False if\n",
       "    an ax is passed in; Be aware, that passing in both an ax and\n",
       "    ``sharex=True`` will alter all x axis labels for all axis in a figure.\n",
       "sharey : bool, default False\n",
       "    In case ``subplots=True``, share y axis and set some y axis labels to invisible.\n",
       "layout : tuple, optional\n",
       "    (rows, columns) for the layout of subplots.\n",
       "figsize : a tuple (width, height) in inches\n",
       "    Size of a figure object.\n",
       "use_index : bool, default True\n",
       "    Use index as ticks for x axis.\n",
       "title : str or list\n",
       "    Title to use for the plot. If a string is passed, print the string\n",
       "    at the top of the figure. If a list is passed and `subplots` is\n",
       "    True, print each item in the list above the corresponding subplot.\n",
       "grid : bool, default None (matlab style default)\n",
       "    Axis grid lines.\n",
       "legend : bool or {'reverse'}\n",
       "    Place legend on axis subplots.\n",
       "style : list or dict\n",
       "    The matplotlib line style per column.\n",
       "logx : bool or 'sym', default False\n",
       "    Use log scaling or symlog scaling on x axis.\n",
       "    .. versionchanged:: 0.25.0\n",
       "\n",
       "logy : bool or 'sym' default False\n",
       "    Use log scaling or symlog scaling on y axis.\n",
       "    .. versionchanged:: 0.25.0\n",
       "\n",
       "loglog : bool or 'sym', default False\n",
       "    Use log scaling or symlog scaling on both x and y axes.\n",
       "    .. versionchanged:: 0.25.0\n",
       "\n",
       "xticks : sequence\n",
       "    Values to use for the xticks.\n",
       "yticks : sequence\n",
       "    Values to use for the yticks.\n",
       "xlim : 2-tuple/list\n",
       "    Set the x limits of the current axes.\n",
       "ylim : 2-tuple/list\n",
       "    Set the y limits of the current axes.\n",
       "xlabel : label, optional\n",
       "    Name to use for the xlabel on x-axis. Default uses index name as xlabel, or the\n",
       "    x-column name for planar plots.\n",
       "\n",
       "    .. versionadded:: 1.1.0\n",
       "\n",
       "    .. versionchanged:: 1.2.0\n",
       "\n",
       "       Now applicable to planar plots (`scatter`, `hexbin`).\n",
       "\n",
       "ylabel : label, optional\n",
       "    Name to use for the ylabel on y-axis. Default will show no ylabel, or the\n",
       "    y-column name for planar plots.\n",
       "\n",
       "    .. versionadded:: 1.1.0\n",
       "\n",
       "    .. versionchanged:: 1.2.0\n",
       "\n",
       "       Now applicable to planar plots (`scatter`, `hexbin`).\n",
       "\n",
       "rot : int, default None\n",
       "    Rotation for ticks (xticks for vertical, yticks for horizontal\n",
       "    plots).\n",
       "fontsize : int, default None\n",
       "    Font size for xticks and yticks.\n",
       "colormap : str or matplotlib colormap object, default None\n",
       "    Colormap to select colors from. If string, load colormap with that\n",
       "    name from matplotlib.\n",
       "colorbar : bool, optional\n",
       "    If True, plot colorbar (only relevant for 'scatter' and 'hexbin'\n",
       "    plots).\n",
       "position : float\n",
       "    Specify relative alignments for bar plot layout.\n",
       "    From 0 (left/bottom-end) to 1 (right/top-end). Default is 0.5\n",
       "    (center).\n",
       "table : bool, Series or DataFrame, default False\n",
       "    If True, draw a table using the data in the DataFrame and the data\n",
       "    will be transposed to meet matplotlib's default layout.\n",
       "    If a Series or DataFrame is passed, use passed data to draw a\n",
       "    table.\n",
       "yerr : DataFrame, Series, array-like, dict and str\n",
       "    See :ref:`Plotting with Error Bars <visualization.errorbars>` for\n",
       "    detail.\n",
       "xerr : DataFrame, Series, array-like, dict and str\n",
       "    Equivalent to yerr.\n",
       "stacked : bool, default False in line and bar plots, and True in area plot\n",
       "    If True, create stacked plot.\n",
       "sort_columns : bool, default False\n",
       "    Sort column names to determine plot ordering.\n",
       "\n",
       "    .. deprecated:: 1.5.0\n",
       "        The `sort_columns` arguments is deprecated and will be removed in a\n",
       "        future version.\n",
       "\n",
       "secondary_y : bool or sequence, default False\n",
       "    Whether to plot on the secondary y-axis if a list/tuple, which\n",
       "    columns to plot on secondary y-axis.\n",
       "mark_right : bool, default True\n",
       "    When using a secondary_y axis, automatically mark the column\n",
       "    labels with \"(right)\" in the legend.\n",
       "include_bool : bool, default is False\n",
       "    If True, boolean values can be plotted.\n",
       "backend : str, default None\n",
       "    Backend to use instead of the backend specified in the option\n",
       "    ``plotting.backend``. For instance, 'matplotlib'. Alternatively, to\n",
       "    specify the ``plotting.backend`` for the whole session, set\n",
       "    ``pd.options.plotting.backend``.\n",
       "\n",
       "    .. versionadded:: 1.0.0\n",
       "\n",
       "**kwargs\n",
       "    Options to pass to matplotlib plotting method.\n",
       "\n",
       "Returns\n",
       "-------\n",
       ":class:`matplotlib.axes.Axes` or numpy.ndarray of them\n",
       "    If the backend is not the default matplotlib one, the return value\n",
       "    will be the object returned by the backend.\n",
       "\n",
       "Notes\n",
       "-----\n",
       "- See matplotlib documentation online for more on this subject\n",
       "- If `kind` = 'bar' or 'barh', you can specify relative alignments\n",
       "  for bar plot layout by `position` keyword.\n",
       "  From 0 (left/bottom-end) to 1 (right/top-end). Default is 0.5\n",
       "  (center)"
      ]
     },
     "metadata": {},
     "output_type": "display_data"
    }
   ],
   "source": [
    "s.plot?"
   ]
  },
  {
   "cell_type": "code",
   "execution_count": 15,
   "id": "e3597173",
   "metadata": {},
   "outputs": [
    {
     "data": {
      "image/png": "[encoded data removed]",
      "text/plain": [
       "<Figure size 900x700 with 1 Axes>"
      ]
     },
     "metadata": {},
     "output_type": "display_data"
    }
   ],
   "source": [
    "plt.figure(figsize=(9,7))\n",
    "s.loc['1반'].plot(kind='bar', rot = 1)\n",
    "plt.title('1반 남녀 성비')\n",
    "plt.show()"
   ]
  },
  {
   "cell_type": "code",
   "execution_count": 16,
   "id": "a35ce819",
   "metadata": {},
   "outputs": [
    {
     "data": {
      "text/plain": [
       "<Axes: >"
      ]
     },
     "execution_count": 16,
     "metadata": {},
     "output_type": "execute_result"
    },
    {
     "data": {
      "image/png": "[encoded data removed]",
      "text/plain": [
       "<Figure size 640x480 with 2 Axes>"
      ]
     },
     "metadata": {},
     "output_type": "display_data"
    }
   ],
   "source": [
    "sns.heatmap(s, cmap='Reds')"
   ]
  },
  {
   "cell_type": "code",
   "execution_count": 17,
   "id": "7919e7b6",
   "metadata": {},
   "outputs": [
    {
     "data": {
      "text/html": [
       "<div>\n",
       "<style scoped>\n",
       "    .dataframe tbody tr th:only-of-type {\n",
       "        vertical-align: middle;\n",
       "    }\n",
       "\n",
       "    .dataframe tbody tr th {\n",
       "        vertical-align: top;\n",
       "    }\n",
       "\n",
       "    .dataframe thead th {\n",
       "        text-align: right;\n",
       "    }\n",
       "</style>\n",
       "<table border=\"1\" class=\"dataframe\">\n",
       "  <thead>\n",
       "    <tr style=\"text-align: right;\">\n",
       "      <th></th>\n",
       "      <th>영어</th>\n",
       "    </tr>\n",
       "  </thead>\n",
       "  <tbody>\n",
       "    <tr>\n",
       "      <th>1반</th>\n",
       "      <td>90</td>\n",
       "    </tr>\n",
       "    <tr>\n",
       "      <th>2반</th>\n",
       "      <td>51</td>\n",
       "    </tr>\n",
       "    <tr>\n",
       "      <th>3반</th>\n",
       "      <td>92</td>\n",
       "    </tr>\n",
       "    <tr>\n",
       "      <th>4반</th>\n",
       "      <td>100</td>\n",
       "    </tr>\n",
       "    <tr>\n",
       "      <th>5반</th>\n",
       "      <td>88</td>\n",
       "    </tr>\n",
       "  </tbody>\n",
       "</table>\n",
       "</div>"
      ],
      "text/plain": [
       "     영어\n",
       "1반   90\n",
       "2반   51\n",
       "3반   92\n",
       "4반  100\n",
       "5반   88"
      ]
     },
     "execution_count": 17,
     "metadata": {},
     "output_type": "execute_result"
    }
   ],
   "source": [
    "score = pd.DataFrame({'영어':[90, 51, 92, 100, 88]}, index=['1반', '2반', '3반', '4반', '5반'])\n",
    "score"
   ]
  },
  {
   "cell_type": "code",
   "execution_count": 18,
   "id": "f265bc3d",
   "metadata": {},
   "outputs": [
    {
     "data": {
      "text/plain": [
       "<Axes: >"
      ]
     },
     "execution_count": 18,
     "metadata": {},
     "output_type": "execute_result"
    },
    {
     "data": {
      "image/png": "[encoded data removed]",
      "text/plain": [
       "<Figure size 640x480 with 1 Axes>"
      ]
     },
     "metadata": {},
     "output_type": "display_data"
    }
   ],
   "source": [
    "score.plot(kind='bar', rot=1)"
   ]
  },
  {
   "cell_type": "code",
   "execution_count": 19,
   "id": "5fd15e0c",
   "metadata": {},
   "outputs": [
    {
     "data": {
      "text/plain": [
       "<Axes: >"
      ]
     },
     "execution_count": 19,
     "metadata": {},
     "output_type": "execute_result"
    },
    {
     "data": {
      "image/png": "[encoded data removed]",
      "text/plain": [
       "<Figure size 640x480 with 1 Axes>"
      ]
     },
     "metadata": {},
     "output_type": "display_data"
    }
   ],
   "source": [
    "score.sort_values('영어', ascending=True).plot(kind='barh', rot=1)"
   ]
  },
  {
   "cell_type": "code",
   "execution_count": 20,
   "id": "011a87d5",
   "metadata": {},
   "outputs": [
    {
     "data": {
      "text/html": [
       "<div>\n",
       "<style scoped>\n",
       "    .dataframe tbody tr th:only-of-type {\n",
       "        vertical-align: middle;\n",
       "    }\n",
       "\n",
       "    .dataframe tbody tr th {\n",
       "        vertical-align: top;\n",
       "    }\n",
       "\n",
       "    .dataframe thead th {\n",
       "        text-align: right;\n",
       "    }\n",
       "</style>\n",
       "<table border=\"1\" class=\"dataframe\">\n",
       "  <thead>\n",
       "    <tr style=\"text-align: right;\">\n",
       "      <th></th>\n",
       "      <th>영어</th>\n",
       "      <th>수학</th>\n",
       "    </tr>\n",
       "  </thead>\n",
       "  <tbody>\n",
       "    <tr>\n",
       "      <th>0</th>\n",
       "      <td>40</td>\n",
       "      <td>40</td>\n",
       "    </tr>\n",
       "    <tr>\n",
       "      <th>1</th>\n",
       "      <td>70</td>\n",
       "      <td>75</td>\n",
       "    </tr>\n",
       "    <tr>\n",
       "      <th>2</th>\n",
       "      <td>65</td>\n",
       "      <td>65</td>\n",
       "    </tr>\n",
       "    <tr>\n",
       "      <th>3</th>\n",
       "      <td>100</td>\n",
       "      <td>90</td>\n",
       "    </tr>\n",
       "    <tr>\n",
       "      <th>4</th>\n",
       "      <td>90</td>\n",
       "      <td>95</td>\n",
       "    </tr>\n",
       "    <tr>\n",
       "      <th>5</th>\n",
       "      <td>80</td>\n",
       "      <td>90</td>\n",
       "    </tr>\n",
       "    <tr>\n",
       "      <th>6</th>\n",
       "      <td>75</td>\n",
       "      <td>80</td>\n",
       "    </tr>\n",
       "    <tr>\n",
       "      <th>7</th>\n",
       "      <td>60</td>\n",
       "      <td>65</td>\n",
       "    </tr>\n",
       "    <tr>\n",
       "      <th>8</th>\n",
       "      <td>95</td>\n",
       "      <td>85</td>\n",
       "    </tr>\n",
       "    <tr>\n",
       "      <th>9</th>\n",
       "      <td>85</td>\n",
       "      <td>100</td>\n",
       "    </tr>\n",
       "    <tr>\n",
       "      <th>10</th>\n",
       "      <td>70</td>\n",
       "      <td>85</td>\n",
       "    </tr>\n",
       "    <tr>\n",
       "      <th>11</th>\n",
       "      <td>80</td>\n",
       "      <td>85</td>\n",
       "    </tr>\n",
       "    <tr>\n",
       "      <th>12</th>\n",
       "      <td>80</td>\n",
       "      <td>70</td>\n",
       "    </tr>\n",
       "    <tr>\n",
       "      <th>13</th>\n",
       "      <td>85</td>\n",
       "      <td>85</td>\n",
       "    </tr>\n",
       "    <tr>\n",
       "      <th>14</th>\n",
       "      <td>90</td>\n",
       "      <td>85</td>\n",
       "    </tr>\n",
       "  </tbody>\n",
       "</table>\n",
       "</div>"
      ],
      "text/plain": [
       "     영어   수학\n",
       "0    40   40\n",
       "1    70   75\n",
       "2    65   65\n",
       "3   100   90\n",
       "4    90   95\n",
       "5    80   90\n",
       "6    75   80\n",
       "7    60   65\n",
       "8    95   85\n",
       "9    85  100\n",
       "10   70   85\n",
       "11   80   85\n",
       "12   80   70\n",
       "13   85   85\n",
       "14   90   85"
      ]
     },
     "execution_count": 20,
     "metadata": {},
     "output_type": "execute_result"
    }
   ],
   "source": [
    "score2 = pd.DataFrame({'영어':[40,70,65,100,90,80,75,60,95,85,70,80,80,85,90], '수학':[40,75,65,90,95,90,80,65,85,100,85,85,70,85,85]})\n",
    "score2"
   ]
  },
  {
   "cell_type": "code",
   "execution_count": 21,
   "id": "a478a279",
   "metadata": {},
   "outputs": [
    {
     "data": {
      "image/png": "[encoded data removed]",
      "text/plain": [
       "<Figure size 900x700 with 1 Axes>"
      ]
     },
     "metadata": {},
     "output_type": "display_data"
    }
   ],
   "source": [
    "plt.figure(figsize=(9,7))\n",
    "score2.boxplot()\n",
    "plt.show()"
   ]
  },
  {
   "cell_type": "code",
   "execution_count": 22,
   "id": "a9c8670c",
   "metadata": {},
   "outputs": [
    {
     "data": {
      "image/png": "[encoded data removed]",
      "text/plain": [
       "<Figure size 640x480 with 1 Axes>"
      ]
     },
     "metadata": {},
     "output_type": "display_data"
    }
   ],
   "source": [
    "plt.scatter(score2['영어'], score2['수학'], label = \"중간고사\")\n",
    "\n",
    "plt.xlabel('영어')\n",
    "plt.ylabel('수학')\n",
    "plt.show()"
   ]
  },
  {
   "cell_type": "code",
   "execution_count": null,
   "id": "d8b16bee",
   "metadata": {},
   "outputs": [],
   "source": []
  }
 ],
 "metadata": {
  "kernelspec": {
   "display_name": "Python 3 (ipykernel)",
   "language": "python",
   "name": "python3"
  },
  "language_info": {
   "codemirror_mode": {
    "name": "ipython",
    "version": 3
   },
   "file_extension": ".py",
   "mimetype": "text/x-python",
   "name": "python",
   "nbconvert_exporter": "python",
   "pygments_lexer": "ipython3",
   "version": "3.11.0"
  }
 },
 "nbformat": 4,
 "nbformat_minor": 5
}
