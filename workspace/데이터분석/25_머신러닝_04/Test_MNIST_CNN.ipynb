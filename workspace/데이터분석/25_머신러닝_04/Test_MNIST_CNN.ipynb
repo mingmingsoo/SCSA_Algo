{
 "cells": [
  {
   "cell_type": "markdown",
   "id": "c769f848-7d6e-4447-9961-03b40f792bc6",
   "metadata": {},
   "source": [
    "### JAEN 모듈 설치"
   ]
  },
  {
   "cell_type": "code",
   "execution_count": 1,
   "id": "1d36e6b4-2acf-4d65-9190-f612bd0c914b",
   "metadata": {},
   "outputs": [
    {
     "name": "stdout",
     "output_type": "stream",
     "text": [
      "Requirement already satisfied: jaen in c:\\users\\student\\appdata\\local\\programs\\python\\python311\\lib\\site-packages (1.0.5)\n",
      "Requirement already satisfied: pandas in c:\\users\\student\\appdata\\local\\programs\\python\\python311\\lib\\site-packages (from jaen) (2.2.3)\n",
      "Requirement already satisfied: ragas in c:\\users\\student\\appdata\\local\\programs\\python\\python311\\lib\\site-packages (from jaen) (0.2.13)\n",
      "Requirement already satisfied: boston in c:\\users\\student\\appdata\\local\\programs\\python\\python311\\lib\\site-packages (from jaen) (1.0.17)\n",
      "Requirement already satisfied: scikit-learn in c:\\users\\student\\appdata\\local\\programs\\python\\python311\\lib\\site-packages (from jaen) (1.2.2)\n",
      "Requirement already satisfied: torchinfo in c:\\users\\student\\appdata\\local\\programs\\python\\python311\\lib\\site-packages (from jaen) (1.8.0)\n",
      "Requirement already satisfied: numpy>=1.23.2 in c:\\users\\student\\appdata\\local\\programs\\python\\python311\\lib\\site-packages (from pandas->jaen) (1.26.4)\n",
      "Requirement already satisfied: python-dateutil>=2.8.2 in c:\\users\\student\\appdata\\local\\programs\\python\\python311\\lib\\site-packages (from pandas->jaen) (2.9.0.post0)\n",
      "Requirement already satisfied: pytz>=2020.1 in c:\\users\\student\\appdata\\local\\programs\\python\\python311\\lib\\site-packages (from pandas->jaen) (2024.2)\n",
      "Requirement already satisfied: tzdata>=2022.7 in c:\\users\\student\\appdata\\local\\programs\\python\\python311\\lib\\site-packages (from pandas->jaen) (2025.1)\n",
      "Requirement already satisfied: datasets in c:\\users\\student\\appdata\\local\\programs\\python\\python311\\lib\\site-packages (from ragas->jaen) (3.3.2)\n",
      "Requirement already satisfied: tiktoken in c:\\users\\student\\appdata\\local\\programs\\python\\python311\\lib\\site-packages (from ragas->jaen) (0.9.0)\n",
      "Requirement already satisfied: langchain in c:\\users\\student\\appdata\\local\\programs\\python\\python311\\lib\\site-packages (from ragas->jaen) (0.3.19)\n",
      "Requirement already satisfied: langchain-core in c:\\users\\student\\appdata\\local\\programs\\python\\python311\\lib\\site-packages (from ragas->jaen) (0.3.40)\n",
      "Requirement already satisfied: langchain-community in c:\\users\\student\\appdata\\local\\programs\\python\\python311\\lib\\site-packages (from ragas->jaen) (0.3.18)\n",
      "Requirement already satisfied: langchain_openai in c:\\users\\student\\appdata\\local\\programs\\python\\python311\\lib\\site-packages (from ragas->jaen) (0.3.7)\n",
      "Requirement already satisfied: nest-asyncio in c:\\users\\student\\appdata\\local\\programs\\python\\python311\\lib\\site-packages (from ragas->jaen) (1.6.0)\n",
      "Requirement already satisfied: appdirs in c:\\users\\student\\appdata\\local\\programs\\python\\python311\\lib\\site-packages (from ragas->jaen) (1.4.4)\n",
      "Requirement already satisfied: pydantic>=2 in c:\\users\\student\\appdata\\local\\programs\\python\\python311\\lib\\site-packages (from ragas->jaen) (2.10.6)\n",
      "Requirement already satisfied: openai>1 in c:\\users\\student\\appdata\\local\\programs\\python\\python311\\lib\\site-packages (from ragas->jaen) (1.64.0)\n",
      "Requirement already satisfied: diskcache>=5.6.3 in c:\\users\\student\\appdata\\local\\programs\\python\\python311\\lib\\site-packages (from ragas->jaen) (5.6.3)\n",
      "Requirement already satisfied: scipy>=1.3.2 in c:\\users\\student\\appdata\\local\\programs\\python\\python311\\lib\\site-packages (from scikit-learn->jaen) (1.15.1)\n",
      "Requirement already satisfied: joblib>=1.1.1 in c:\\users\\student\\appdata\\local\\programs\\python\\python311\\lib\\site-packages (from scikit-learn->jaen) (1.4.2)\n",
      "Requirement already satisfied: threadpoolctl>=2.0.0 in c:\\users\\student\\appdata\\local\\programs\\python\\python311\\lib\\site-packages (from scikit-learn->jaen) (3.5.0)\n",
      "Requirement already satisfied: anyio<5,>=3.5.0 in c:\\users\\student\\appdata\\local\\programs\\python\\python311\\lib\\site-packages (from openai>1->ragas->jaen) (4.8.0)\n",
      "Requirement already satisfied: distro<2,>=1.7.0 in c:\\users\\student\\appdata\\local\\programs\\python\\python311\\lib\\site-packages (from openai>1->ragas->jaen) (1.9.0)\n",
      "Requirement already satisfied: httpx<1,>=0.23.0 in c:\\users\\student\\appdata\\local\\programs\\python\\python311\\lib\\site-packages (from openai>1->ragas->jaen) (0.28.1)\n",
      "Requirement already satisfied: jiter<1,>=0.4.0 in c:\\users\\student\\appdata\\local\\programs\\python\\python311\\lib\\site-packages (from openai>1->ragas->jaen) (0.8.2)\n",
      "Requirement already satisfied: sniffio in c:\\users\\student\\appdata\\local\\programs\\python\\python311\\lib\\site-packages (from openai>1->ragas->jaen) (1.3.1)\n",
      "Requirement already satisfied: tqdm>4 in c:\\users\\student\\appdata\\local\\programs\\python\\python311\\lib\\site-packages (from openai>1->ragas->jaen) (4.67.1)\n",
      "Requirement already satisfied: typing-extensions<5,>=4.11 in c:\\users\\student\\appdata\\local\\programs\\python\\python311\\lib\\site-packages (from openai>1->ragas->jaen) (4.12.2)\n",
      "Requirement already satisfied: annotated-types>=0.6.0 in c:\\users\\student\\appdata\\local\\programs\\python\\python311\\lib\\site-packages (from pydantic>=2->ragas->jaen) (0.7.0)\n",
      "Requirement already satisfied: pydantic-core==2.27.2 in c:\\users\\student\\appdata\\local\\programs\\python\\python311\\lib\\site-packages (from pydantic>=2->ragas->jaen) (2.27.2)\n",
      "Requirement already satisfied: six>=1.5 in c:\\users\\student\\appdata\\local\\programs\\python\\python311\\lib\\site-packages (from python-dateutil>=2.8.2->pandas->jaen) (1.17.0)\n",
      "Requirement already satisfied: filelock in c:\\users\\student\\appdata\\local\\programs\\python\\python311\\lib\\site-packages (from datasets->ragas->jaen) (3.17.0)\n",
      "Requirement already satisfied: pyarrow>=15.0.0 in c:\\users\\student\\appdata\\local\\programs\\python\\python311\\lib\\site-packages (from datasets->ragas->jaen) (19.0.1)\n",
      "Requirement already satisfied: dill<0.3.9,>=0.3.0 in c:\\users\\student\\appdata\\local\\programs\\python\\python311\\lib\\site-packages (from datasets->ragas->jaen) (0.3.8)\n",
      "Requirement already satisfied: requests>=2.32.2 in c:\\users\\student\\appdata\\local\\programs\\python\\python311\\lib\\site-packages (from datasets->ragas->jaen) (2.32.3)\n",
      "Requirement already satisfied: xxhash in c:\\users\\student\\appdata\\local\\programs\\python\\python311\\lib\\site-packages (from datasets->ragas->jaen) (3.5.0)\n",
      "Requirement already satisfied: multiprocess<0.70.17 in c:\\users\\student\\appdata\\local\\programs\\python\\python311\\lib\\site-packages (from datasets->ragas->jaen) (0.70.16)\n",
      "Requirement already satisfied: fsspec<=2024.12.0,>=2023.1.0 in c:\\users\\student\\appdata\\local\\programs\\python\\python311\\lib\\site-packages (from fsspec[http]<=2024.12.0,>=2023.1.0->datasets->ragas->jaen) (2024.12.0)\n",
      "Requirement already satisfied: aiohttp in c:\\users\\student\\appdata\\local\\programs\\python\\python311\\lib\\site-packages (from datasets->ragas->jaen) (3.11.13)\n",
      "Requirement already satisfied: huggingface-hub>=0.24.0 in c:\\users\\student\\appdata\\local\\programs\\python\\python311\\lib\\site-packages (from datasets->ragas->jaen) (0.29.1)\n",
      "Requirement already satisfied: packaging in c:\\users\\student\\appdata\\local\\programs\\python\\python311\\lib\\site-packages (from datasets->ragas->jaen) (24.2)\n",
      "Requirement already satisfied: pyyaml>=5.1 in c:\\users\\student\\appdata\\local\\programs\\python\\python311\\lib\\site-packages (from datasets->ragas->jaen) (6.0.2)\n",
      "Requirement already satisfied: langchain-text-splitters<1.0.0,>=0.3.6 in c:\\users\\student\\appdata\\local\\programs\\python\\python311\\lib\\site-packages (from langchain->ragas->jaen) (0.3.6)\n",
      "Requirement already satisfied: langsmith<0.4,>=0.1.17 in c:\\users\\student\\appdata\\local\\programs\\python\\python311\\lib\\site-packages (from langchain->ragas->jaen) (0.3.11)\n",
      "Requirement already satisfied: SQLAlchemy<3,>=1.4 in c:\\users\\student\\appdata\\local\\programs\\python\\python311\\lib\\site-packages (from langchain->ragas->jaen) (2.0.38)\n",
      "Requirement already satisfied: tenacity!=8.4.0,<10,>=8.1.0 in c:\\users\\student\\appdata\\local\\programs\\python\\python311\\lib\\site-packages (from langchain->ragas->jaen) (9.0.0)\n",
      "Requirement already satisfied: jsonpatch<2.0,>=1.33 in c:\\users\\student\\appdata\\local\\programs\\python\\python311\\lib\\site-packages (from langchain-core->ragas->jaen) (1.33)\n",
      "Requirement already satisfied: dataclasses-json<0.7,>=0.5.7 in c:\\users\\student\\appdata\\local\\programs\\python\\python311\\lib\\site-packages (from langchain-community->ragas->jaen) (0.6.7)\n",
      "Requirement already satisfied: pydantic-settings<3.0.0,>=2.4.0 in c:\\users\\student\\appdata\\local\\programs\\python\\python311\\lib\\site-packages (from langchain-community->ragas->jaen) (2.8.0)\n",
      "Requirement already satisfied: httpx-sse<1.0.0,>=0.4.0 in c:\\users\\student\\appdata\\local\\programs\\python\\python311\\lib\\site-packages (from langchain-community->ragas->jaen) (0.4.0)\n",
      "Requirement already satisfied: regex>=2022.1.18 in c:\\users\\student\\appdata\\local\\programs\\python\\python311\\lib\\site-packages (from tiktoken->ragas->jaen) (2024.11.6)\n",
      "Requirement already satisfied: aiohappyeyeballs>=2.3.0 in c:\\users\\student\\appdata\\local\\programs\\python\\python311\\lib\\site-packages (from aiohttp->datasets->ragas->jaen) (2.4.6)\n",
      "Requirement already satisfied: aiosignal>=1.1.2 in c:\\users\\student\\appdata\\local\\programs\\python\\python311\\lib\\site-packages (from aiohttp->datasets->ragas->jaen) (1.3.2)\n",
      "Requirement already satisfied: attrs>=17.3.0 in c:\\users\\student\\appdata\\local\\programs\\python\\python311\\lib\\site-packages (from aiohttp->datasets->ragas->jaen) (24.3.0)\n",
      "Requirement already satisfied: frozenlist>=1.1.1 in c:\\users\\student\\appdata\\local\\programs\\python\\python311\\lib\\site-packages (from aiohttp->datasets->ragas->jaen) (1.5.0)\n",
      "Requirement already satisfied: multidict<7.0,>=4.5 in c:\\users\\student\\appdata\\local\\programs\\python\\python311\\lib\\site-packages (from aiohttp->datasets->ragas->jaen) (6.1.0)\n",
      "Requirement already satisfied: propcache>=0.2.0 in c:\\users\\student\\appdata\\local\\programs\\python\\python311\\lib\\site-packages (from aiohttp->datasets->ragas->jaen) (0.3.0)\n",
      "Requirement already satisfied: yarl<2.0,>=1.17.0 in c:\\users\\student\\appdata\\local\\programs\\python\\python311\\lib\\site-packages (from aiohttp->datasets->ragas->jaen) (1.18.3)\n",
      "Requirement already satisfied: idna>=2.8 in c:\\users\\student\\appdata\\local\\programs\\python\\python311\\lib\\site-packages (from anyio<5,>=3.5.0->openai>1->ragas->jaen) (3.10)\n",
      "Requirement already satisfied: marshmallow<4.0.0,>=3.18.0 in c:\\users\\student\\appdata\\local\\programs\\python\\python311\\lib\\site-packages (from dataclasses-json<0.7,>=0.5.7->langchain-community->ragas->jaen) (3.26.1)\n",
      "Requirement already satisfied: typing-inspect<1,>=0.4.0 in c:\\users\\student\\appdata\\local\\programs\\python\\python311\\lib\\site-packages (from dataclasses-json<0.7,>=0.5.7->langchain-community->ragas->jaen) (0.9.0)\n",
      "Requirement already satisfied: certifi in c:\\users\\student\\appdata\\local\\programs\\python\\python311\\lib\\site-packages (from httpx<1,>=0.23.0->openai>1->ragas->jaen) (2024.12.14)\n",
      "Requirement already satisfied: httpcore==1.* in c:\\users\\student\\appdata\\local\\programs\\python\\python311\\lib\\site-packages (from httpx<1,>=0.23.0->openai>1->ragas->jaen) (1.0.7)\n",
      "Requirement already satisfied: h11<0.15,>=0.13 in c:\\users\\student\\appdata\\local\\programs\\python\\python311\\lib\\site-packages (from httpcore==1.*->httpx<1,>=0.23.0->openai>1->ragas->jaen) (0.14.0)\n",
      "Requirement already satisfied: jsonpointer>=1.9 in c:\\users\\student\\appdata\\local\\programs\\python\\python311\\lib\\site-packages (from jsonpatch<2.0,>=1.33->langchain-core->ragas->jaen) (3.0.0)\n",
      "Requirement already satisfied: orjson<4.0.0,>=3.9.14 in c:\\users\\student\\appdata\\local\\programs\\python\\python311\\lib\\site-packages (from langsmith<0.4,>=0.1.17->langchain->ragas->jaen) (3.10.15)\n",
      "Requirement already satisfied: requests-toolbelt<2.0.0,>=1.0.0 in c:\\users\\student\\appdata\\local\\programs\\python\\python311\\lib\\site-packages (from langsmith<0.4,>=0.1.17->langchain->ragas->jaen) (1.0.0)\n",
      "Requirement already satisfied: zstandard<0.24.0,>=0.23.0 in c:\\users\\student\\appdata\\local\\programs\\python\\python311\\lib\\site-packages (from langsmith<0.4,>=0.1.17->langchain->ragas->jaen) (0.23.0)\n",
      "Requirement already satisfied: python-dotenv>=0.21.0 in c:\\users\\student\\appdata\\local\\programs\\python\\python311\\lib\\site-packages (from pydantic-settings<3.0.0,>=2.4.0->langchain-community->ragas->jaen) (1.0.1)\n",
      "Requirement already satisfied: charset-normalizer<4,>=2 in c:\\users\\student\\appdata\\local\\programs\\python\\python311\\lib\\site-packages (from requests>=2.32.2->datasets->ragas->jaen) (3.4.1)\n",
      "Requirement already satisfied: urllib3<3,>=1.21.1 in c:\\users\\student\\appdata\\local\\programs\\python\\python311\\lib\\site-packages (from requests>=2.32.2->datasets->ragas->jaen) (2.3.0)\n",
      "Requirement already satisfied: greenlet!=0.4.17 in c:\\users\\student\\appdata\\local\\programs\\python\\python311\\lib\\site-packages (from SQLAlchemy<3,>=1.4->langchain->ragas->jaen) (3.1.1)\n",
      "Requirement already satisfied: colorama in c:\\users\\student\\appdata\\local\\programs\\python\\python311\\lib\\site-packages (from tqdm>4->openai>1->ragas->jaen) (0.4.6)\n",
      "Requirement already satisfied: mypy-extensions>=0.3.0 in c:\\users\\student\\appdata\\local\\programs\\python\\python311\\lib\\site-packages (from typing-inspect<1,>=0.4.0->dataclasses-json<0.7,>=0.5.7->langchain-community->ragas->jaen) (1.0.0)\n"
     ]
    }
   ],
   "source": [
    "!pip install jaen"
   ]
  },
  {
   "cell_type": "markdown",
   "id": "f9ccf472-e7d9-4f21-b5d2-58b5a5d8426f",
   "metadata": {},
   "source": [
    "### JAEN 모듈 import\n",
    "- 대문자로 입력"
   ]
  },
  {
   "cell_type": "code",
   "execution_count": 1,
   "id": "2cae523c-830f-44d9-8c3a-085ce9d5668e",
   "metadata": {},
   "outputs": [],
   "source": [
    "import JAEN\n",
    "from JAEN import list_data, download_data, Project"
   ]
  },
  {
   "cell_type": "markdown",
   "id": "d11c4619-439d-4c0c-861a-c16db8427030",
   "metadata": {},
   "source": [
    "### 개인정보 수정\n",
    "- 이메일 정보 수정, 나머지는 수정하지 말 것!"
   ]
  },
  {
   "cell_type": "code",
   "execution_count": 2,
   "id": "475ee30b-7be1-44a8-b03b-6923ffab7765",
   "metadata": {},
   "outputs": [],
   "source": [
    "project_name = \"손글씨 이미지 분류\" # 프로젝트 이름(수정하지 마세요)\n",
    "email = \"scsa2407\" # 이메일(본인 SCSA 이메일 입력)\n",
    "\n",
    "class_info = {\n",
    "    'edu_name':'SCSA', # 과정명\n",
    "    'edu_rnd':'24기', # 차수\n",
    "    'edu_class':'SW' # \"없음\"이면 빈 문자열\n",
    "}\n",
    "\n",
    "# 프로젝트 생성\n",
    "pjt = Project(project_name=project_name, class_info=class_info, email=email)"
   ]
  },
  {
   "cell_type": "markdown",
   "id": "53fc764c-756c-4dc4-9d75-5d5b3b47fe77",
   "metadata": {},
   "source": [
    "<br/>\n",
    "<br/>"
   ]
  },
  {
   "cell_type": "markdown",
   "id": "0d7c0937-cf8d-46c5-ba5e-3e43799105db",
   "metadata": {},
   "source": [
    "### 필요 모듈 import 및 기본 설정"
   ]
  },
  {
   "cell_type": "code",
   "execution_count": 3,
   "id": "03396a75-2aec-47f7-b823-8885debd9b1d",
   "metadata": {},
   "outputs": [],
   "source": [
    "import pandas as pd\n",
    "import numpy as np\n",
    "import warnings\n",
    "\n",
    "\n",
    "# 경고 무시\n",
    "warnings.filterwarnings('ignore')\n",
    "\n",
    "SEED=123\n",
    "np.random.seed(SEED)"
   ]
  },
  {
   "cell_type": "markdown",
   "id": "6fe75475-e29e-47bb-9a3d-b729b7c74337",
   "metadata": {},
   "source": [
    "### 데이터 다운로드 및 제출 점검"
   ]
  },
  {
   "cell_type": "code",
   "execution_count": 4,
   "id": "357b24d3-10e2-4d8e-bfd3-b0fe42950c1c",
   "metadata": {},
   "outputs": [
    {
     "name": "stdout",
     "output_type": "stream",
     "text": [
      "파일 다운로드 완료\n",
      "====================\n",
      "\n",
      "데이터셋: 손글씨 이미지 분류\n",
      "파일경로: data\\submission.csv\n",
      "\n",
      "====================\n",
      "파일 다운로드 완료\n",
      "====================\n",
      "\n",
      "데이터셋: 손글씨 이미지 분류\n",
      "파일경로: data\\test.csv\n",
      "\n",
      "====================\n",
      "파일 다운로드 완료\n",
      "====================\n",
      "\n",
      "데이터셋: 손글씨 이미지 분류\n",
      "파일경로: data\\train.csv\n",
      "\n",
      "====================\n"
     ]
    }
   ],
   "source": [
    "download_data(project_name)"
   ]
  },
  {
   "cell_type": "code",
   "execution_count": 5,
   "id": "ed85af64-d28e-4c52-b869-9d30e6229a7f",
   "metadata": {},
   "outputs": [
    {
     "data": {
      "text/html": [
       "<div>\n",
       "<style scoped>\n",
       "    .dataframe tbody tr th:only-of-type {\n",
       "        vertical-align: middle;\n",
       "    }\n",
       "\n",
       "    .dataframe tbody tr th {\n",
       "        vertical-align: top;\n",
       "    }\n",
       "\n",
       "    .dataframe thead th {\n",
       "        text-align: right;\n",
       "    }\n",
       "</style>\n",
       "<table border=\"1\" class=\"dataframe\">\n",
       "  <thead>\n",
       "    <tr style=\"text-align: right;\">\n",
       "      <th></th>\n",
       "      <th>ImageId</th>\n",
       "      <th>Label</th>\n",
       "    </tr>\n",
       "  </thead>\n",
       "  <tbody>\n",
       "    <tr>\n",
       "      <th>0</th>\n",
       "      <td>1</td>\n",
       "      <td>NaN</td>\n",
       "    </tr>\n",
       "    <tr>\n",
       "      <th>1</th>\n",
       "      <td>2</td>\n",
       "      <td>NaN</td>\n",
       "    </tr>\n",
       "    <tr>\n",
       "      <th>2</th>\n",
       "      <td>3</td>\n",
       "      <td>NaN</td>\n",
       "    </tr>\n",
       "    <tr>\n",
       "      <th>3</th>\n",
       "      <td>4</td>\n",
       "      <td>NaN</td>\n",
       "    </tr>\n",
       "    <tr>\n",
       "      <th>4</th>\n",
       "      <td>5</td>\n",
       "      <td>NaN</td>\n",
       "    </tr>\n",
       "    <tr>\n",
       "      <th>...</th>\n",
       "      <td>...</td>\n",
       "      <td>...</td>\n",
       "    </tr>\n",
       "    <tr>\n",
       "      <th>10495</th>\n",
       "      <td>10496</td>\n",
       "      <td>NaN</td>\n",
       "    </tr>\n",
       "    <tr>\n",
       "      <th>10496</th>\n",
       "      <td>10497</td>\n",
       "      <td>NaN</td>\n",
       "    </tr>\n",
       "    <tr>\n",
       "      <th>10497</th>\n",
       "      <td>10498</td>\n",
       "      <td>NaN</td>\n",
       "    </tr>\n",
       "    <tr>\n",
       "      <th>10498</th>\n",
       "      <td>10499</td>\n",
       "      <td>NaN</td>\n",
       "    </tr>\n",
       "    <tr>\n",
       "      <th>10499</th>\n",
       "      <td>10500</td>\n",
       "      <td>NaN</td>\n",
       "    </tr>\n",
       "  </tbody>\n",
       "</table>\n",
       "<p>10500 rows × 2 columns</p>\n",
       "</div>"
      ],
      "text/plain": [
       "       ImageId  Label\n",
       "0            1    NaN\n",
       "1            2    NaN\n",
       "2            3    NaN\n",
       "3            4    NaN\n",
       "4            5    NaN\n",
       "...        ...    ...\n",
       "10495    10496    NaN\n",
       "10496    10497    NaN\n",
       "10497    10498    NaN\n",
       "10498    10499    NaN\n",
       "10499    10500    NaN\n",
       "\n",
       "[10500 rows x 2 columns]"
      ]
     },
     "execution_count": 5,
     "metadata": {},
     "output_type": "execute_result"
    }
   ],
   "source": [
    "train = pd.read_csv(\"data/train.csv\")\n",
    "test = pd.read_csv(\"data/test.csv\")\n",
    "submission = pd.read_csv(\"data/submission.csv\")\n",
    "submission # 제출 파일"
   ]
  },
  {
   "cell_type": "markdown",
   "id": "88b92537-2719-4901-93b9-acb3c8451dd1",
   "metadata": {},
   "source": [
    "### 결과 파일 제출 테스트"
   ]
  },
  {
   "cell_type": "code",
   "execution_count": 54,
   "id": "330a82b1-bf1e-4bd0-aeff-8c13fb50f41e",
   "metadata": {},
   "outputs": [
    {
     "data": {
      "text/html": [
       "<div>\n",
       "<style scoped>\n",
       "    .dataframe tbody tr th:only-of-type {\n",
       "        vertical-align: middle;\n",
       "    }\n",
       "\n",
       "    .dataframe tbody tr th {\n",
       "        vertical-align: top;\n",
       "    }\n",
       "\n",
       "    .dataframe thead th {\n",
       "        text-align: right;\n",
       "    }\n",
       "</style>\n",
       "<table border=\"1\" class=\"dataframe\">\n",
       "  <thead>\n",
       "    <tr style=\"text-align: right;\">\n",
       "      <th></th>\n",
       "      <th>ImageId</th>\n",
       "      <th>Label</th>\n",
       "    </tr>\n",
       "  </thead>\n",
       "  <tbody>\n",
       "    <tr>\n",
       "      <th>0</th>\n",
       "      <td>1</td>\n",
       "      <td>NaN</td>\n",
       "    </tr>\n",
       "    <tr>\n",
       "      <th>1</th>\n",
       "      <td>2</td>\n",
       "      <td>NaN</td>\n",
       "    </tr>\n",
       "    <tr>\n",
       "      <th>2</th>\n",
       "      <td>3</td>\n",
       "      <td>NaN</td>\n",
       "    </tr>\n",
       "    <tr>\n",
       "      <th>3</th>\n",
       "      <td>4</td>\n",
       "      <td>NaN</td>\n",
       "    </tr>\n",
       "    <tr>\n",
       "      <th>4</th>\n",
       "      <td>5</td>\n",
       "      <td>NaN</td>\n",
       "    </tr>\n",
       "    <tr>\n",
       "      <th>...</th>\n",
       "      <td>...</td>\n",
       "      <td>...</td>\n",
       "    </tr>\n",
       "    <tr>\n",
       "      <th>10495</th>\n",
       "      <td>10496</td>\n",
       "      <td>NaN</td>\n",
       "    </tr>\n",
       "    <tr>\n",
       "      <th>10496</th>\n",
       "      <td>10497</td>\n",
       "      <td>NaN</td>\n",
       "    </tr>\n",
       "    <tr>\n",
       "      <th>10497</th>\n",
       "      <td>10498</td>\n",
       "      <td>NaN</td>\n",
       "    </tr>\n",
       "    <tr>\n",
       "      <th>10498</th>\n",
       "      <td>10499</td>\n",
       "      <td>NaN</td>\n",
       "    </tr>\n",
       "    <tr>\n",
       "      <th>10499</th>\n",
       "      <td>10500</td>\n",
       "      <td>NaN</td>\n",
       "    </tr>\n",
       "  </tbody>\n",
       "</table>\n",
       "<p>10500 rows × 2 columns</p>\n",
       "</div>"
      ],
      "text/plain": [
       "       ImageId  Label\n",
       "0            1    NaN\n",
       "1            2    NaN\n",
       "2            3    NaN\n",
       "3            4    NaN\n",
       "4            5    NaN\n",
       "...        ...    ...\n",
       "10495    10496    NaN\n",
       "10496    10497    NaN\n",
       "10497    10498    NaN\n",
       "10498    10499    NaN\n",
       "10499    10500    NaN\n",
       "\n",
       "[10500 rows x 2 columns]"
      ]
     },
     "execution_count": 54,
     "metadata": {},
     "output_type": "execute_result"
    }
   ],
   "source": [
    "# 평가때는 아래 과정 없음\n",
    "submission"
   ]
  },
  {
   "cell_type": "code",
   "execution_count": 14,
   "id": "2fe9f588-83b6-429c-ba63-d144c7ac3354",
   "metadata": {},
   "outputs": [
    {
     "name": "stdout",
     "output_type": "stream",
     "text": [
      "파일을 저장하였습니다. 파일명: submission-09-21-45.csv\n",
      "제출 여부 :success\n",
      "오늘 제출 횟수 : 1\n",
      "제출 결과:0\n"
     ]
    }
   ],
   "source": [
    "pjt.submit(submission)"
   ]
  },
  {
   "cell_type": "markdown",
   "id": "a446f9fd-3a5a-4e18-abfb-736fe7c73100",
   "metadata": {},
   "source": []
  },
  {
   "cell_type": "code",
   "execution_count": null,
   "id": "f0318a18-8621-4aef-8a68-cea2b9d44efd",
   "metadata": {},
   "outputs": [],
   "source": []
  },
  {
   "cell_type": "code",
   "execution_count": null,
   "id": "37240dc2-baa4-46e7-878f-09a0c4d87456",
   "metadata": {},
   "outputs": [],
   "source": []
  },
  {
   "cell_type": "code",
   "execution_count": null,
   "id": "278d3a5c-74e5-4bc6-bd61-ed0e07c2a111",
   "metadata": {},
   "outputs": [],
   "source": []
  },
  {
   "cell_type": "markdown",
   "id": "dc0e039a-ed22-41c0-a558-522504acb718",
   "metadata": {},
   "source": [
    "## 여기서부터 코드를 작성/수정하세요\n",
    "#### - 데이터셋 로드, 전처리(필요시), 모델생성/컴파일, 학습\n",
    "#### - 아래 샘플코드들은 실제 시험 시 없을수 있습니다"
   ]
  },
  {
   "cell_type": "code",
   "execution_count": 6,
   "id": "45914010-8858-4382-a29d-2a1ba549ab59",
   "metadata": {},
   "outputs": [],
   "source": [
    "train = pd.read_csv(\"data/train.csv\")\n",
    "test = pd.read_csv(\"data/test.csv\")\n",
    "submission = pd.read_csv(\"data/submission.csv\")"
   ]
  },
  {
   "cell_type": "code",
   "execution_count": 7,
   "id": "666154ff-f6fd-4c50-be0d-235eb83aee85",
   "metadata": {},
   "outputs": [
    {
     "data": {
      "text/html": [
       "<div>\n",
       "<style scoped>\n",
       "    .dataframe tbody tr th:only-of-type {\n",
       "        vertical-align: middle;\n",
       "    }\n",
       "\n",
       "    .dataframe tbody tr th {\n",
       "        vertical-align: top;\n",
       "    }\n",
       "\n",
       "    .dataframe thead th {\n",
       "        text-align: right;\n",
       "    }\n",
       "</style>\n",
       "<table border=\"1\" class=\"dataframe\">\n",
       "  <thead>\n",
       "    <tr style=\"text-align: right;\">\n",
       "      <th></th>\n",
       "      <th>label</th>\n",
       "      <th>pixel0</th>\n",
       "      <th>pixel1</th>\n",
       "      <th>pixel2</th>\n",
       "      <th>pixel3</th>\n",
       "      <th>pixel4</th>\n",
       "      <th>pixel5</th>\n",
       "      <th>pixel6</th>\n",
       "      <th>pixel7</th>\n",
       "      <th>pixel8</th>\n",
       "      <th>...</th>\n",
       "      <th>pixel774</th>\n",
       "      <th>pixel775</th>\n",
       "      <th>pixel776</th>\n",
       "      <th>pixel777</th>\n",
       "      <th>pixel778</th>\n",
       "      <th>pixel779</th>\n",
       "      <th>pixel780</th>\n",
       "      <th>pixel781</th>\n",
       "      <th>pixel782</th>\n",
       "      <th>pixel783</th>\n",
       "    </tr>\n",
       "  </thead>\n",
       "  <tbody>\n",
       "    <tr>\n",
       "      <th>0</th>\n",
       "      <td>9</td>\n",
       "      <td>0</td>\n",
       "      <td>0</td>\n",
       "      <td>0</td>\n",
       "      <td>0</td>\n",
       "      <td>0</td>\n",
       "      <td>0</td>\n",
       "      <td>0</td>\n",
       "      <td>0</td>\n",
       "      <td>0</td>\n",
       "      <td>...</td>\n",
       "      <td>0</td>\n",
       "      <td>0</td>\n",
       "      <td>0</td>\n",
       "      <td>0</td>\n",
       "      <td>0</td>\n",
       "      <td>0</td>\n",
       "      <td>0</td>\n",
       "      <td>0</td>\n",
       "      <td>0</td>\n",
       "      <td>0</td>\n",
       "    </tr>\n",
       "    <tr>\n",
       "      <th>1</th>\n",
       "      <td>1</td>\n",
       "      <td>0</td>\n",
       "      <td>0</td>\n",
       "      <td>0</td>\n",
       "      <td>0</td>\n",
       "      <td>0</td>\n",
       "      <td>0</td>\n",
       "      <td>0</td>\n",
       "      <td>0</td>\n",
       "      <td>0</td>\n",
       "      <td>...</td>\n",
       "      <td>0</td>\n",
       "      <td>0</td>\n",
       "      <td>0</td>\n",
       "      <td>0</td>\n",
       "      <td>0</td>\n",
       "      <td>0</td>\n",
       "      <td>0</td>\n",
       "      <td>0</td>\n",
       "      <td>0</td>\n",
       "      <td>0</td>\n",
       "    </tr>\n",
       "    <tr>\n",
       "      <th>2</th>\n",
       "      <td>5</td>\n",
       "      <td>0</td>\n",
       "      <td>0</td>\n",
       "      <td>0</td>\n",
       "      <td>0</td>\n",
       "      <td>0</td>\n",
       "      <td>0</td>\n",
       "      <td>0</td>\n",
       "      <td>0</td>\n",
       "      <td>0</td>\n",
       "      <td>...</td>\n",
       "      <td>0</td>\n",
       "      <td>0</td>\n",
       "      <td>0</td>\n",
       "      <td>0</td>\n",
       "      <td>0</td>\n",
       "      <td>0</td>\n",
       "      <td>0</td>\n",
       "      <td>0</td>\n",
       "      <td>0</td>\n",
       "      <td>0</td>\n",
       "    </tr>\n",
       "    <tr>\n",
       "      <th>3</th>\n",
       "      <td>8</td>\n",
       "      <td>0</td>\n",
       "      <td>0</td>\n",
       "      <td>0</td>\n",
       "      <td>0</td>\n",
       "      <td>0</td>\n",
       "      <td>0</td>\n",
       "      <td>0</td>\n",
       "      <td>0</td>\n",
       "      <td>0</td>\n",
       "      <td>...</td>\n",
       "      <td>0</td>\n",
       "      <td>0</td>\n",
       "      <td>0</td>\n",
       "      <td>0</td>\n",
       "      <td>0</td>\n",
       "      <td>0</td>\n",
       "      <td>0</td>\n",
       "      <td>0</td>\n",
       "      <td>0</td>\n",
       "      <td>0</td>\n",
       "    </tr>\n",
       "    <tr>\n",
       "      <th>4</th>\n",
       "      <td>7</td>\n",
       "      <td>0</td>\n",
       "      <td>0</td>\n",
       "      <td>0</td>\n",
       "      <td>0</td>\n",
       "      <td>0</td>\n",
       "      <td>0</td>\n",
       "      <td>0</td>\n",
       "      <td>0</td>\n",
       "      <td>0</td>\n",
       "      <td>...</td>\n",
       "      <td>0</td>\n",
       "      <td>0</td>\n",
       "      <td>0</td>\n",
       "      <td>0</td>\n",
       "      <td>0</td>\n",
       "      <td>0</td>\n",
       "      <td>0</td>\n",
       "      <td>0</td>\n",
       "      <td>0</td>\n",
       "      <td>0</td>\n",
       "    </tr>\n",
       "  </tbody>\n",
       "</table>\n",
       "<p>5 rows × 785 columns</p>\n",
       "</div>"
      ],
      "text/plain": [
       "   label  pixel0  pixel1  pixel2  pixel3  pixel4  pixel5  pixel6  pixel7  \\\n",
       "0      9       0       0       0       0       0       0       0       0   \n",
       "1      1       0       0       0       0       0       0       0       0   \n",
       "2      5       0       0       0       0       0       0       0       0   \n",
       "3      8       0       0       0       0       0       0       0       0   \n",
       "4      7       0       0       0       0       0       0       0       0   \n",
       "\n",
       "   pixel8  ...  pixel774  pixel775  pixel776  pixel777  pixel778  pixel779  \\\n",
       "0       0  ...         0         0         0         0         0         0   \n",
       "1       0  ...         0         0         0         0         0         0   \n",
       "2       0  ...         0         0         0         0         0         0   \n",
       "3       0  ...         0         0         0         0         0         0   \n",
       "4       0  ...         0         0         0         0         0         0   \n",
       "\n",
       "   pixel780  pixel781  pixel782  pixel783  \n",
       "0         0         0         0         0  \n",
       "1         0         0         0         0  \n",
       "2         0         0         0         0  \n",
       "3         0         0         0         0  \n",
       "4         0         0         0         0  \n",
       "\n",
       "[5 rows x 785 columns]"
      ]
     },
     "execution_count": 7,
     "metadata": {},
     "output_type": "execute_result"
    }
   ],
   "source": [
    "train.head()"
   ]
  },
  {
   "cell_type": "code",
   "execution_count": 8,
   "id": "a4040d82-9dcc-49e1-97d6-6868c3132837",
   "metadata": {},
   "outputs": [
    {
     "data": {
      "text/plain": [
       "((31500, 28, 28), (31500,), (10500, 28, 28))"
      ]
     },
     "execution_count": 8,
     "metadata": {},
     "output_type": "execute_result"
    }
   ],
   "source": [
    "x_train = train.iloc[:,1:]\n",
    "y_train = train.iloc[:,0]\n",
    "x_test = test\n",
    "x_train = np.array(x_train).reshape(-1, 28, 28)\n",
    "x_test = np.array(x_test).reshape(-1, 28, 28)\n",
    "x_train.shape, y_train.shape, x_test.shape"
   ]
  },
  {
   "cell_type": "code",
   "execution_count": 9,
   "id": "949686b7-ad9f-4d9e-be3d-3b1ae32314c3",
   "metadata": {},
   "outputs": [],
   "source": [
    "from sklearn.preprocessing import OneHotEncoder\n",
    "oh_enc = OneHotEncoder(dtype=int)\n",
    "\n",
    "oh_enc.fit([[i] for i in range(10)])\n",
    "y_train = oh_enc.transform(np.array(y_train).reshape(-1, 1)).toarray()"
   ]
  },
  {
   "cell_type": "code",
   "execution_count": 10,
   "id": "08173d09-b0a8-409d-bc11-f538446a8343",
   "metadata": {},
   "outputs": [],
   "source": [
    "import tensorflow as tf\n",
    "from tensorflow import keras\n",
    "from tensorflow.keras.models import Sequential\n",
    "from tensorflow.keras.layers import Dense, Dropout, Flatten\n",
    "from tensorflow.keras.layers import Conv2D, MaxPooling2D\n",
    "\n",
    "model = Sequential()\n",
    "model.add(Conv2D(32, kernel_size = (3, 3), activation='relu', input_shape=(28, 28, 1)))\n",
    "model.add(MaxPooling2D((2, 2)))\n",
    "model.add(Conv2D(64, (3, 3), activation='relu'))\n",
    "model.add(MaxPooling2D((2, 2)))\n",
    "model.add(Conv2D(64, (3, 3), activation='relu'))\n",
    "model.add(MaxPooling2D((2, 2)))\n",
    "model.add(Flatten())\n",
    "model.add(Dense(64, activation='relu'))\n",
    "model.add(Dense(10, activation='softmax'))\n",
    "\n",
    "model.compile(optimizer='adam',\n",
    "              loss='categorical_crossentropy',\n",
    "              metrics=['accuracy'])"
   ]
  },
  {
   "cell_type": "code",
   "execution_count": 11,
   "id": "97b5d95f-c310-46eb-abab-5589b5fae015",
   "metadata": {},
   "outputs": [
    {
     "name": "stdout",
     "output_type": "stream",
     "text": [
      "Epoch 1/100\n",
      "93/93 [==============================] - 8s 78ms/step - loss: 1.6304 - accuracy: 0.7232 - val_loss: 0.3292 - val_accuracy: 0.9034 - lr: 0.0010\n",
      "Epoch 2/100\n",
      "93/93 [==============================] - 7s 73ms/step - loss: 0.2399 - accuracy: 0.9284 - val_loss: 0.2044 - val_accuracy: 0.9375 - lr: 0.0010\n",
      "Epoch 3/100\n",
      "93/93 [==============================] - 7s 73ms/step - loss: 0.1545 - accuracy: 0.9552 - val_loss: 0.1785 - val_accuracy: 0.9470 - lr: 0.0010\n",
      "Epoch 4/100\n",
      "93/93 [==============================] - 7s 72ms/step - loss: 0.1158 - accuracy: 0.9648 - val_loss: 0.1442 - val_accuracy: 0.9595 - lr: 0.0010\n",
      "Epoch 5/100\n",
      "93/93 [==============================] - 7s 73ms/step - loss: 0.0837 - accuracy: 0.9735 - val_loss: 0.1231 - val_accuracy: 0.9627 - lr: 0.0010\n",
      "Epoch 6/100\n",
      "93/93 [==============================] - 6s 69ms/step - loss: 0.0684 - accuracy: 0.9778 - val_loss: 0.1124 - val_accuracy: 0.9652 - lr: 0.0010\n",
      "Epoch 7/100\n",
      "93/93 [==============================] - 6s 68ms/step - loss: 0.0513 - accuracy: 0.9831 - val_loss: 0.1358 - val_accuracy: 0.9633 - lr: 0.0010\n",
      "Epoch 8/100\n",
      "93/93 [==============================] - 7s 74ms/step - loss: 0.0447 - accuracy: 0.9849 - val_loss: 0.1313 - val_accuracy: 0.9642 - lr: 0.0010\n",
      "Epoch 9/100\n",
      "93/93 [==============================] - 7s 73ms/step - loss: 0.0324 - accuracy: 0.9899 - val_loss: 0.1058 - val_accuracy: 0.9690 - lr: 0.0010\n",
      "Epoch 10/100\n",
      "93/93 [==============================] - 7s 70ms/step - loss: 0.0241 - accuracy: 0.9924 - val_loss: 0.1004 - val_accuracy: 0.9722 - lr: 0.0010\n",
      "Epoch 11/100\n",
      "93/93 [==============================] - 8s 83ms/step - loss: 0.0211 - accuracy: 0.9929 - val_loss: 0.1014 - val_accuracy: 0.9740 - lr: 0.0010\n",
      "Epoch 12/100\n",
      "93/93 [==============================] - 7s 73ms/step - loss: 0.0152 - accuracy: 0.9954 - val_loss: 0.1093 - val_accuracy: 0.9719 - lr: 0.0010\n",
      "Epoch 13/100\n",
      "93/93 [==============================] - 7s 70ms/step - loss: 0.0129 - accuracy: 0.9964 - val_loss: 0.1087 - val_accuracy: 0.9732 - lr: 0.0010\n",
      "Epoch 14/100\n",
      "93/93 [==============================] - 7s 74ms/step - loss: 0.0082 - accuracy: 0.9980 - val_loss: 0.1093 - val_accuracy: 0.9747 - lr: 0.0010\n",
      "Epoch 15/100\n",
      "93/93 [==============================] - 7s 70ms/step - loss: 0.0042 - accuracy: 0.9995 - val_loss: 0.1077 - val_accuracy: 0.9751 - lr: 0.0010\n",
      "Epoch 16/100\n",
      "93/93 [==============================] - 7s 75ms/step - loss: 0.0028 - accuracy: 0.9998 - val_loss: 0.1035 - val_accuracy: 0.9757 - lr: 0.0010\n",
      "Epoch 17/100\n",
      "93/93 [==============================] - 7s 70ms/step - loss: 0.0017 - accuracy: 1.0000 - val_loss: 0.1055 - val_accuracy: 0.9752 - lr: 0.0010\n",
      "Epoch 18/100\n",
      "93/93 [==============================] - 7s 74ms/step - loss: 0.0014 - accuracy: 1.0000 - val_loss: 0.1057 - val_accuracy: 0.9763 - lr: 0.0010\n",
      "Epoch 19/100\n",
      "93/93 [==============================] - 7s 79ms/step - loss: 0.0010 - accuracy: 1.0000 - val_loss: 0.1051 - val_accuracy: 0.9760 - lr: 0.0010\n",
      "Epoch 20/100\n",
      "93/93 [==============================] - 7s 75ms/step - loss: 8.3462e-04 - accuracy: 1.0000 - val_loss: 0.1062 - val_accuracy: 0.9766 - lr: 0.0010\n"
     ]
    }
   ],
   "source": [
    "from tensorflow.keras.callbacks import EarlyStopping, ReduceLROnPlateau\n",
    "reduce_lr = ReduceLROnPlateau(monitor='val_loss', factor=0.5, patience=5, min_lr=0.001)\n",
    "e_st = EarlyStopping(patience = 10, restore_best_weights=True)\n",
    "history = model.fit(x_train, y_train, epochs=100, validation_split=0.25, callbacks=[e_st, reduce_lr], batch_size=256)"
   ]
  },
  {
   "cell_type": "markdown",
   "id": "c5831ca3-e93e-4675-8b00-188af2dab6d4",
   "metadata": {},
   "source": [
    "### 생성한 정답의 shape 및 타입 확인"
   ]
  },
  {
   "cell_type": "code",
   "execution_count": 12,
   "id": "a3a30b49-a6e0-4775-a094-196ab5b6e346",
   "metadata": {},
   "outputs": [
    {
     "name": "stdout",
     "output_type": "stream",
     "text": [
      "329/329 [==============================] - 3s 8ms/step\n"
     ]
    }
   ],
   "source": [
    "# 아래의 코드는 필요에따라 수정해서 사용합니다\n",
    "pred = model.predict(x_test)"
   ]
  },
  {
   "cell_type": "code",
   "execution_count": 13,
   "id": "1d9ff15c-9c9f-48c5-af30-15ae31bf7d68",
   "metadata": {},
   "outputs": [
    {
     "data": {
      "text/plain": [
       "[9, 9, 3, 7, 0, 8, 2, 5, 4, 0]"
      ]
     },
     "execution_count": 13,
     "metadata": {},
     "output_type": "execute_result"
    }
   ],
   "source": [
    "your_answer = [np.argmax(row) for row in pred]\n",
    "your_answer[:10]"
   ]
  },
  {
   "cell_type": "code",
   "execution_count": 37,
   "id": "0ae23e01-b1ff-46e8-b38d-647bdffe42f2",
   "metadata": {},
   "outputs": [
    {
     "data": {
      "text/html": [
       "<div>\n",
       "<style scoped>\n",
       "    .dataframe tbody tr th:only-of-type {\n",
       "        vertical-align: middle;\n",
       "    }\n",
       "\n",
       "    .dataframe tbody tr th {\n",
       "        vertical-align: top;\n",
       "    }\n",
       "\n",
       "    .dataframe thead th {\n",
       "        text-align: right;\n",
       "    }\n",
       "</style>\n",
       "<table border=\"1\" class=\"dataframe\">\n",
       "  <thead>\n",
       "    <tr style=\"text-align: right;\">\n",
       "      <th></th>\n",
       "      <th>ImageId</th>\n",
       "      <th>Label</th>\n",
       "    </tr>\n",
       "  </thead>\n",
       "  <tbody>\n",
       "    <tr>\n",
       "      <th>0</th>\n",
       "      <td>1</td>\n",
       "      <td>9</td>\n",
       "    </tr>\n",
       "    <tr>\n",
       "      <th>1</th>\n",
       "      <td>2</td>\n",
       "      <td>9</td>\n",
       "    </tr>\n",
       "    <tr>\n",
       "      <th>2</th>\n",
       "      <td>3</td>\n",
       "      <td>3</td>\n",
       "    </tr>\n",
       "    <tr>\n",
       "      <th>3</th>\n",
       "      <td>4</td>\n",
       "      <td>7</td>\n",
       "    </tr>\n",
       "    <tr>\n",
       "      <th>4</th>\n",
       "      <td>5</td>\n",
       "      <td>0</td>\n",
       "    </tr>\n",
       "    <tr>\n",
       "      <th>...</th>\n",
       "      <td>...</td>\n",
       "      <td>...</td>\n",
       "    </tr>\n",
       "    <tr>\n",
       "      <th>10495</th>\n",
       "      <td>10496</td>\n",
       "      <td>3</td>\n",
       "    </tr>\n",
       "    <tr>\n",
       "      <th>10496</th>\n",
       "      <td>10497</td>\n",
       "      <td>2</td>\n",
       "    </tr>\n",
       "    <tr>\n",
       "      <th>10497</th>\n",
       "      <td>10498</td>\n",
       "      <td>0</td>\n",
       "    </tr>\n",
       "    <tr>\n",
       "      <th>10498</th>\n",
       "      <td>10499</td>\n",
       "      <td>6</td>\n",
       "    </tr>\n",
       "    <tr>\n",
       "      <th>10499</th>\n",
       "      <td>10500</td>\n",
       "      <td>9</td>\n",
       "    </tr>\n",
       "  </tbody>\n",
       "</table>\n",
       "<p>10500 rows × 2 columns</p>\n",
       "</div>"
      ],
      "text/plain": [
       "       ImageId  Label\n",
       "0            1      9\n",
       "1            2      9\n",
       "2            3      3\n",
       "3            4      7\n",
       "4            5      0\n",
       "...        ...    ...\n",
       "10495    10496      3\n",
       "10496    10497      2\n",
       "10497    10498      0\n",
       "10498    10499      6\n",
       "10499    10500      9\n",
       "\n",
       "[10500 rows x 2 columns]"
      ]
     },
     "execution_count": 37,
     "metadata": {},
     "output_type": "execute_result"
    }
   ],
   "source": [
    "submission['Label'] = your_answer\n",
    "submission"
   ]
  },
  {
   "cell_type": "markdown",
   "id": "ba12779c-1400-4887-8a0a-007914f6c62a",
   "metadata": {},
   "source": [
    "## 결과 제출 (수정하지 마세요)\n",
    "\n",
    "### 순서대로 평가가 진행됩니다. 실행은 1회만 해주세요.\n",
    "\n",
    "- 느리다고 중지 후 다시 평가 코드를 실행하는 경우 제출 과정에서 패널티가 발생할 수 있습니다. (제출 횟수 이슈 발생 가능)\n",
    "\n",
    "- 전체 점수는 [평가시스템](http://manage.jaen.kr)에서 확인할 수 있습니다.\n",
    "    - 프로젝트 > 손글씨 이미지분류 > 리더보드 > 같은 반 리더보드\n",
    "\n",
    "- 아이디: 본인 이메일 아이디"
   ]
  },
  {
   "cell_type": "code",
   "execution_count": 38,
   "id": "2d88e99c-8ef5-413e-b71b-c7153a3f6499",
   "metadata": {},
   "outputs": [
    {
     "name": "stdout",
     "output_type": "stream",
     "text": [
      "파일을 저장하였습니다. 파일명: submission-09-47-59.csv\n",
      "제출 여부 :success\n",
      "오늘 제출 횟수 : 3\n",
      "제출 결과:0.974\n"
     ]
    }
   ],
   "source": [
    "pjt.submit(submission)"
   ]
  },
  {
   "cell_type": "code",
   "execution_count": null,
   "id": "01d491b3-12c7-4e1b-b6db-ded7628e2818",
   "metadata": {},
   "outputs": [],
   "source": []
  }
 ],
 "metadata": {
  "kernelspec": {
   "display_name": "Python 3 (ipykernel)",
   "language": "python",
   "name": "python3"
  },
  "language_info": {
   "codemirror_mode": {
    "name": "ipython",
    "version": 3
   },
   "file_extension": ".py",
   "mimetype": "text/x-python",
   "name": "python",
   "nbconvert_exporter": "python",
   "pygments_lexer": "ipython3",
   "version": "3.11.0"
  }
 },
 "nbformat": 4,
 "nbformat_minor": 5
}
