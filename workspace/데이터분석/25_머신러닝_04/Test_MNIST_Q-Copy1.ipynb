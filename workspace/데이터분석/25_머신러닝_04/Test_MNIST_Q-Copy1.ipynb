{
 "cells": [
  {
   "cell_type": "markdown",
   "id": "c769f848-7d6e-4447-9961-03b40f792bc6",
   "metadata": {},
   "source": [
    "### JAEN 모듈 설치"
   ]
  },
  {
   "cell_type": "code",
   "execution_count": 1,
   "id": "1d36e6b4-2acf-4d65-9190-f612bd0c914b",
   "metadata": {},
   "outputs": [],
   "source": [
    "# !pip install jaen"
   ]
  },
  {
   "cell_type": "markdown",
   "id": "f9ccf472-e7d9-4f21-b5d2-58b5a5d8426f",
   "metadata": {},
   "source": [
    "### JAEN 모듈 import\n",
    "- 대문자로 입력"
   ]
  },
  {
   "cell_type": "code",
   "execution_count": 2,
   "id": "2cae523c-830f-44d9-8c3a-085ce9d5668e",
   "metadata": {},
   "outputs": [],
   "source": [
    "import JAEN\n",
    "from JAEN import list_data, download_data, Project"
   ]
  },
  {
   "cell_type": "markdown",
   "id": "d11c4619-439d-4c0c-861a-c16db8427030",
   "metadata": {},
   "source": [
    "### 개인정보 수정\n",
    "- 이메일 정보 수정, 나머지는 수정하지 말 것!"
   ]
  },
  {
   "cell_type": "code",
   "execution_count": 3,
   "id": "475ee30b-7be1-44a8-b03b-6923ffab7765",
   "metadata": {},
   "outputs": [],
   "source": [
    "project_name = \"손글씨 이미지 분류\" # 프로젝트 이름(수정하지 마세요)\n",
    "email = \"scsa2407\" # 이메일(본인 SCSA 이메일 입력)\n",
    "\n",
    "class_info = {\n",
    "    'edu_name':'SCSA', # 과정명\n",
    "    'edu_rnd':'24기', # 차수\n",
    "    'edu_class':'SW' # \"없음\"이면 빈 문자열\n",
    "}\n",
    "\n",
    "# 프로젝트 생성\n",
    "pjt = Project(project_name=project_name, class_info=class_info, email=email)"
   ]
  },
  {
   "cell_type": "markdown",
   "id": "53fc764c-756c-4dc4-9d75-5d5b3b47fe77",
   "metadata": {},
   "source": [
    "<br/>\n",
    "<br/>"
   ]
  },
  {
   "cell_type": "markdown",
   "id": "0d7c0937-cf8d-46c5-ba5e-3e43799105db",
   "metadata": {},
   "source": [
    "### 필요 모듈 import 및 기본 설정"
   ]
  },
  {
   "cell_type": "code",
   "execution_count": 4,
   "id": "03396a75-2aec-47f7-b823-8885debd9b1d",
   "metadata": {},
   "outputs": [],
   "source": [
    "import pandas as pd\n",
    "import numpy as np\n",
    "import warnings\n",
    "\n",
    "\n",
    "# 경고 무시\n",
    "warnings.filterwarnings('ignore')\n",
    "\n",
    "SEED=123\n",
    "np.random.seed(SEED)"
   ]
  },
  {
   "cell_type": "markdown",
   "id": "6fe75475-e29e-47bb-9a3d-b729b7c74337",
   "metadata": {},
   "source": [
    "### 데이터 다운로드 및 제출 점검"
   ]
  },
  {
   "cell_type": "code",
   "execution_count": 5,
   "id": "357b24d3-10e2-4d8e-bfd3-b0fe42950c1c",
   "metadata": {},
   "outputs": [
    {
     "name": "stdout",
     "output_type": "stream",
     "text": [
      "파일 다운로드 완료\n",
      "====================\n",
      "\n",
      "데이터셋: 손글씨 이미지 분류\n",
      "파일경로: data\\submission.csv\n",
      "\n",
      "====================\n",
      "파일 다운로드 완료\n",
      "====================\n",
      "\n",
      "데이터셋: 손글씨 이미지 분류\n",
      "파일경로: data\\test.csv\n",
      "\n",
      "====================\n",
      "파일 다운로드 완료\n",
      "====================\n",
      "\n",
      "데이터셋: 손글씨 이미지 분류\n",
      "파일경로: data\\train.csv\n",
      "\n",
      "====================\n"
     ]
    }
   ],
   "source": [
    "download_data(project_name)"
   ]
  },
  {
   "cell_type": "code",
   "execution_count": 6,
   "id": "ed85af64-d28e-4c52-b869-9d30e6229a7f",
   "metadata": {},
   "outputs": [
    {
     "data": {
      "text/html": [
       "<div>\n",
       "<style scoped>\n",
       "    .dataframe tbody tr th:only-of-type {\n",
       "        vertical-align: middle;\n",
       "    }\n",
       "\n",
       "    .dataframe tbody tr th {\n",
       "        vertical-align: top;\n",
       "    }\n",
       "\n",
       "    .dataframe thead th {\n",
       "        text-align: right;\n",
       "    }\n",
       "</style>\n",
       "<table border=\"1\" class=\"dataframe\">\n",
       "  <thead>\n",
       "    <tr style=\"text-align: right;\">\n",
       "      <th></th>\n",
       "      <th>ImageId</th>\n",
       "      <th>Label</th>\n",
       "    </tr>\n",
       "  </thead>\n",
       "  <tbody>\n",
       "    <tr>\n",
       "      <th>0</th>\n",
       "      <td>1</td>\n",
       "      <td>NaN</td>\n",
       "    </tr>\n",
       "    <tr>\n",
       "      <th>1</th>\n",
       "      <td>2</td>\n",
       "      <td>NaN</td>\n",
       "    </tr>\n",
       "    <tr>\n",
       "      <th>2</th>\n",
       "      <td>3</td>\n",
       "      <td>NaN</td>\n",
       "    </tr>\n",
       "    <tr>\n",
       "      <th>3</th>\n",
       "      <td>4</td>\n",
       "      <td>NaN</td>\n",
       "    </tr>\n",
       "    <tr>\n",
       "      <th>4</th>\n",
       "      <td>5</td>\n",
       "      <td>NaN</td>\n",
       "    </tr>\n",
       "    <tr>\n",
       "      <th>...</th>\n",
       "      <td>...</td>\n",
       "      <td>...</td>\n",
       "    </tr>\n",
       "    <tr>\n",
       "      <th>10495</th>\n",
       "      <td>10496</td>\n",
       "      <td>NaN</td>\n",
       "    </tr>\n",
       "    <tr>\n",
       "      <th>10496</th>\n",
       "      <td>10497</td>\n",
       "      <td>NaN</td>\n",
       "    </tr>\n",
       "    <tr>\n",
       "      <th>10497</th>\n",
       "      <td>10498</td>\n",
       "      <td>NaN</td>\n",
       "    </tr>\n",
       "    <tr>\n",
       "      <th>10498</th>\n",
       "      <td>10499</td>\n",
       "      <td>NaN</td>\n",
       "    </tr>\n",
       "    <tr>\n",
       "      <th>10499</th>\n",
       "      <td>10500</td>\n",
       "      <td>NaN</td>\n",
       "    </tr>\n",
       "  </tbody>\n",
       "</table>\n",
       "<p>10500 rows × 2 columns</p>\n",
       "</div>"
      ],
      "text/plain": [
       "       ImageId  Label\n",
       "0            1    NaN\n",
       "1            2    NaN\n",
       "2            3    NaN\n",
       "3            4    NaN\n",
       "4            5    NaN\n",
       "...        ...    ...\n",
       "10495    10496    NaN\n",
       "10496    10497    NaN\n",
       "10497    10498    NaN\n",
       "10498    10499    NaN\n",
       "10499    10500    NaN\n",
       "\n",
       "[10500 rows x 2 columns]"
      ]
     },
     "execution_count": 6,
     "metadata": {},
     "output_type": "execute_result"
    }
   ],
   "source": [
    "train = pd.read_csv(\"data/train.csv\")\n",
    "test = pd.read_csv(\"data/test.csv\")\n",
    "submission = pd.read_csv(\"data/submission.csv\")\n",
    "submission # 제출 파일"
   ]
  },
  {
   "cell_type": "markdown",
   "id": "88b92537-2719-4901-93b9-acb3c8451dd1",
   "metadata": {},
   "source": [
    "### 결과 파일 제출 테스트"
   ]
  },
  {
   "cell_type": "code",
   "execution_count": 7,
   "id": "330a82b1-bf1e-4bd0-aeff-8c13fb50f41e",
   "metadata": {},
   "outputs": [],
   "source": [
    "# # 평가때는 아래 과정 없음\n",
    "# submission[\"Label\"] = 1"
   ]
  },
  {
   "cell_type": "code",
   "execution_count": 8,
   "id": "2fe9f588-83b6-429c-ba63-d144c7ac3354",
   "metadata": {},
   "outputs": [],
   "source": [
    "# pjt.submit(submission)"
   ]
  },
  {
   "cell_type": "markdown",
   "id": "a446f9fd-3a5a-4e18-abfb-736fe7c73100",
   "metadata": {},
   "source": []
  },
  {
   "cell_type": "code",
   "execution_count": null,
   "id": "f0318a18-8621-4aef-8a68-cea2b9d44efd",
   "metadata": {},
   "outputs": [],
   "source": []
  },
  {
   "cell_type": "code",
   "execution_count": null,
   "id": "37240dc2-baa4-46e7-878f-09a0c4d87456",
   "metadata": {},
   "outputs": [],
   "source": []
  },
  {
   "cell_type": "code",
   "execution_count": null,
   "id": "278d3a5c-74e5-4bc6-bd61-ed0e07c2a111",
   "metadata": {},
   "outputs": [],
   "source": []
  },
  {
   "cell_type": "markdown",
   "id": "dc0e039a-ed22-41c0-a558-522504acb718",
   "metadata": {},
   "source": [
    "## 여기서부터 코드를 작성/수정하세요\n",
    "#### - 데이터셋 로드, 전처리(필요시), 모델생성/컴파일, 학습\n",
    "#### - 아래 샘플코드들은 실제 시험 시 없을수 있습니다"
   ]
  },
  {
   "cell_type": "code",
   "execution_count": 9,
   "id": "45914010-8858-4382-a29d-2a1ba549ab59",
   "metadata": {},
   "outputs": [],
   "source": [
    "train = pd.read_csv(\"data/train.csv\")\n",
    "test = pd.read_csv(\"data/test.csv\")\n",
    "submission = pd.read_csv(\"data/submission.csv\")"
   ]
  },
  {
   "cell_type": "code",
   "execution_count": 10,
   "id": "666154ff-f6fd-4c50-be0d-235eb83aee85",
   "metadata": {},
   "outputs": [],
   "source": [
    "# train.head() # \tlabel을 맞춰야함 => 분류"
   ]
  },
  {
   "cell_type": "code",
   "execution_count": 11,
   "id": "1bca4adc-c307-4e66-b998-002ca8aa2187",
   "metadata": {
    "scrolled": true
   },
   "outputs": [],
   "source": [
    "# print(train[\"label\"].unique())\n",
    "# train[\"label\"].value_counts() # label 분포가 고른 것을 확인할 수 있음"
   ]
  },
  {
   "cell_type": "code",
   "execution_count": 12,
   "id": "a11454b3-30e9-4cdb-9de7-04690f28c3ff",
   "metadata": {},
   "outputs": [],
   "source": [
    "# import matplotlib.pyplot as plt\n",
    "# train[\"label\"].hist()\n",
    "# plt.show()"
   ]
  },
  {
   "cell_type": "code",
   "execution_count": 13,
   "id": "a7ea1189-de59-4360-8dc0-3c01aad34700",
   "metadata": {
    "scrolled": true
   },
   "outputs": [],
   "source": [
    "# train.describe()"
   ]
  },
  {
   "cell_type": "code",
   "execution_count": 14,
   "id": "6f882483-3ec2-4d8a-8771-5ee53c9e505f",
   "metadata": {},
   "outputs": [],
   "source": [
    "# train.isnull().sum().sum()"
   ]
  },
  {
   "cell_type": "code",
   "execution_count": 15,
   "id": "e9ce2be6-2de6-4a72-a97d-dc1e2126fa51",
   "metadata": {
    "scrolled": true
   },
   "outputs": [],
   "source": [
    "# test.head()"
   ]
  },
  {
   "cell_type": "code",
   "execution_count": 16,
   "id": "0966ccc5-f85b-4a01-9811-888e89418707",
   "metadata": {},
   "outputs": [],
   "source": [
    "# train.corr().round(3)"
   ]
  },
  {
   "cell_type": "code",
   "execution_count": 17,
   "id": "a4040d82-9dcc-49e1-97d6-6868c3132837",
   "metadata": {},
   "outputs": [
    {
     "data": {
      "text/plain": [
       "((31500, 784), (31500,), (10500, 784))"
      ]
     },
     "execution_count": 17,
     "metadata": {},
     "output_type": "execute_result"
    }
   ],
   "source": [
    "x_train = train.iloc[:,1:]\n",
    "y_train = train.iloc[:,0]\n",
    "x_test = test\n",
    "\n",
    "x_train.shape, y_train.shape, x_test.shape"
   ]
  },
  {
   "cell_type": "code",
   "execution_count": 18,
   "id": "f76164ae-8050-4196-8844-fc2ab732d983",
   "metadata": {},
   "outputs": [],
   "source": [
    "# from sklearn.preprocessing import MinMaxScaler\n",
    "\n",
    "# scaler = MinMaxScaler()\n",
    "\n",
    "# x_train = scaler.fit_transform(x_train)\n",
    "# x_train 점수 더 떨어짐"
   ]
  },
  {
   "cell_type": "code",
   "execution_count": 19,
   "id": "1f0d31b9-2d7c-43f4-8f2f-175d575dcd5c",
   "metadata": {},
   "outputs": [],
   "source": [
    "# !pip install xgboost"
   ]
  },
  {
   "cell_type": "code",
   "execution_count": 20,
   "id": "49a10860-a53e-4e40-9dc8-7c6cbe2cbc7b",
   "metadata": {},
   "outputs": [],
   "source": [
    "import xgboost as xgb"
   ]
  },
  {
   "cell_type": "code",
   "execution_count": 20,
   "id": "08173d09-b0a8-409d-bc11-f538446a8343",
   "metadata": {},
   "outputs": [],
   "source": [
    "# from sklearn.ensemble import RandomForestClassifier\n",
    "\n",
    "# for i in range(50,201,10):\n",
    "#     model = RandomForestClassifier(n_estimators=i).fit(x_train, y_train)\n",
    "#     print(model.score(x_train, y_train))"
   ]
  },
  {
   "cell_type": "code",
   "execution_count": 21,
   "id": "6aa45dd5-4016-4899-bb1f-1d47acf3b0c3",
   "metadata": {},
   "outputs": [],
   "source": [
    "# from sklearn.ensemble import GradientBoostingClassifier\n",
    "# model = GradientBoostingClassifier().fit(x_train, y_train)\n",
    "# print(model.score(x_train, y_train))"
   ]
  },
  {
   "cell_type": "code",
   "execution_count": null,
   "id": "97b5d95f-c310-46eb-abab-5589b5fae015",
   "metadata": {},
   "outputs": [],
   "source": [
    "\n",
    "# model = xgb.XGBClassifier()\n",
    "# model.fit(x_train, y_train)\n",
    "# print(model.score(x_train, y_train))"
   ]
  },
  {
   "cell_type": "code",
   "execution_count": 21,
   "id": "14959f64-95a8-4786-9c2b-981054a00f0b",
   "metadata": {},
   "outputs": [
    {
     "name": "stdout",
     "output_type": "stream",
     "text": [
      "Collecting pycaret\n",
      "  Downloading pycaret-3.3.2-py3-none-any.whl.metadata (17 kB)\n",
      "Requirement already satisfied: ipython>=5.5.0 in c:\\users\\student\\appdata\\local\\programs\\python\\python311\\lib\\site-packages (from pycaret) (8.32.0)\n",
      "Collecting ipywidgets>=7.6.5 (from pycaret)\n",
      "  Downloading ipywidgets-8.1.5-py3-none-any.whl.metadata (2.3 kB)\n",
      "Requirement already satisfied: tqdm>=4.62.0 in c:\\users\\student\\appdata\\local\\programs\\python\\python311\\lib\\site-packages (from pycaret) (4.67.1)\n",
      "Requirement already satisfied: numpy<1.27,>=1.21 in c:\\users\\student\\appdata\\local\\programs\\python\\python311\\lib\\site-packages (from pycaret) (1.26.4)\n",
      "Requirement already satisfied: pandas<2.2.0 in c:\\users\\student\\appdata\\local\\programs\\python\\python311\\lib\\site-packages (from pycaret) (1.5.3)\n",
      "Requirement already satisfied: jinja2>=3 in c:\\users\\student\\appdata\\local\\programs\\python\\python311\\lib\\site-packages (from pycaret) (3.1.5)\n",
      "Collecting scipy<=1.11.4,>=1.6.1 (from pycaret)\n",
      "  Downloading scipy-1.11.4-cp311-cp311-win_amd64.whl.metadata (60 kB)\n",
      "Collecting joblib<1.4,>=1.2.0 (from pycaret)\n",
      "  Downloading joblib-1.3.2-py3-none-any.whl.metadata (5.4 kB)\n",
      "Collecting scikit-learn>1.4.0 (from pycaret)\n",
      "  Downloading scikit_learn-1.6.1-cp311-cp311-win_amd64.whl.metadata (15 kB)\n",
      "Collecting pyod>=1.1.3 (from pycaret)\n",
      "  Downloading pyod-2.0.3.tar.gz (169 kB)\n",
      "  Preparing metadata (setup.py): started\n",
      "  Preparing metadata (setup.py): finished with status 'done'\n",
      "Collecting imbalanced-learn>=0.12.0 (from pycaret)\n",
      "  Downloading imbalanced_learn-0.13.0-py3-none-any.whl.metadata (8.8 kB)\n",
      "Collecting category-encoders>=2.4.0 (from pycaret)\n",
      "  Downloading category_encoders-2.8.0-py3-none-any.whl.metadata (7.9 kB)\n",
      "Collecting lightgbm>=3.0.0 (from pycaret)\n",
      "  Downloading lightgbm-4.6.0-py3-none-win_amd64.whl.metadata (17 kB)\n",
      "Collecting numba>=0.55.0 (from pycaret)\n",
      "  Downloading numba-0.61.0-cp311-cp311-win_amd64.whl.metadata (2.8 kB)\n",
      "Requirement already satisfied: requests>=2.27.1 in c:\\users\\student\\appdata\\local\\programs\\python\\python311\\lib\\site-packages (from pycaret) (2.32.3)\n",
      "Requirement already satisfied: psutil>=5.9.0 in c:\\users\\student\\appdata\\local\\programs\\python\\python311\\lib\\site-packages (from pycaret) (7.0.0)\n",
      "Requirement already satisfied: markupsafe>=2.0.1 in c:\\users\\student\\appdata\\local\\programs\\python\\python311\\lib\\site-packages (from pycaret) (3.0.2)\n",
      "Collecting importlib-metadata>=4.12.0 (from pycaret)\n",
      "  Downloading importlib_metadata-8.6.1-py3-none-any.whl.metadata (4.7 kB)\n",
      "Requirement already satisfied: nbformat>=4.2.0 in c:\\users\\student\\appdata\\local\\programs\\python\\python311\\lib\\site-packages (from pycaret) (5.10.4)\n",
      "Collecting cloudpickle (from pycaret)\n",
      "  Downloading cloudpickle-3.1.1-py3-none-any.whl.metadata (7.1 kB)\n",
      "Collecting deprecation>=2.1.0 (from pycaret)\n",
      "  Downloading deprecation-2.1.0-py2.py3-none-any.whl.metadata (4.6 kB)\n",
      "Requirement already satisfied: xxhash in c:\\users\\student\\appdata\\local\\programs\\python\\python311\\lib\\site-packages (from pycaret) (3.5.0)\n",
      "Collecting matplotlib<3.8.0 (from pycaret)\n",
      "  Downloading matplotlib-3.7.5-cp311-cp311-win_amd64.whl.metadata (5.8 kB)\n",
      "Collecting scikit-plot>=0.3.7 (from pycaret)\n",
      "  Downloading scikit_plot-0.3.7-py3-none-any.whl.metadata (7.1 kB)\n",
      "Collecting yellowbrick>=1.4 (from pycaret)\n",
      "  Downloading yellowbrick-1.5-py3-none-any.whl.metadata (7.7 kB)\n",
      "Collecting plotly>=5.14.0 (from pycaret)\n",
      "  Downloading plotly-6.0.0-py3-none-any.whl.metadata (5.6 kB)\n",
      "Collecting kaleido>=0.2.1 (from pycaret)\n",
      "  Downloading kaleido-0.2.1-py2.py3-none-win_amd64.whl.metadata (15 kB)\n",
      "Collecting schemdraw==0.15 (from pycaret)\n",
      "  Downloading schemdraw-0.15-py3-none-any.whl.metadata (2.2 kB)\n",
      "Collecting plotly-resampler>=0.8.3.1 (from pycaret)\n",
      "  Downloading plotly_resampler-0.10.0-py3-none-any.whl.metadata (13 kB)\n",
      "Collecting statsmodels>=0.12.1 (from pycaret)\n",
      "  Downloading statsmodels-0.14.4-cp311-cp311-win_amd64.whl.metadata (9.5 kB)\n",
      "Collecting sktime==0.26.0 (from pycaret)\n",
      "  Downloading sktime-0.26.0-py3-none-any.whl.metadata (29 kB)\n",
      "Collecting tbats>=1.1.3 (from pycaret)\n",
      "  Downloading tbats-1.1.3-py3-none-any.whl.metadata (3.8 kB)\n",
      "Collecting pmdarima>=2.0.4 (from pycaret)\n",
      "  Downloading pmdarima-2.0.4-cp311-cp311-win_amd64.whl.metadata (8.0 kB)\n",
      "Requirement already satisfied: packaging in c:\\users\\student\\appdata\\local\\programs\\python\\python311\\lib\\site-packages (from sktime==0.26.0->pycaret) (24.2)\n",
      "Collecting scikit-base<0.8.0 (from sktime==0.26.0->pycaret)\n",
      "  Downloading scikit_base-0.7.8-py3-none-any.whl.metadata (8.8 kB)\n",
      "Collecting scikit-learn>1.4.0 (from pycaret)\n",
      "  Downloading scikit_learn-1.4.2-cp311-cp311-win_amd64.whl.metadata (11 kB)\n",
      "Collecting patsy>=0.5.1 (from category-encoders>=2.4.0->pycaret)\n",
      "  Downloading patsy-1.0.1-py2.py3-none-any.whl.metadata (3.3 kB)\n",
      "INFO: pip is looking at multiple versions of category-encoders to determine which version is compatible with other requirements. This could take a while.\n",
      "Collecting category-encoders>=2.4.0 (from pycaret)\n",
      "  Downloading category_encoders-2.7.0-py3-none-any.whl.metadata (7.9 kB)\n",
      "Collecting sklearn-compat<1,>=0.1 (from imbalanced-learn>=0.12.0->pycaret)\n",
      "  Downloading sklearn_compat-0.1.3-py3-none-any.whl.metadata (18 kB)\n",
      "Requirement already satisfied: threadpoolctl<4,>=2.0.0 in c:\\users\\student\\appdata\\local\\programs\\python\\python311\\lib\\site-packages (from imbalanced-learn>=0.12.0->pycaret) (3.5.0)\n",
      "Collecting zipp>=3.20 (from importlib-metadata>=4.12.0->pycaret)\n",
      "  Downloading zipp-3.21.0-py3-none-any.whl.metadata (3.7 kB)\n",
      "Requirement already satisfied: colorama in c:\\users\\student\\appdata\\local\\programs\\python\\python311\\lib\\site-packages (from ipython>=5.5.0->pycaret) (0.4.6)\n",
      "Requirement already satisfied: decorator in c:\\users\\student\\appdata\\local\\programs\\python\\python311\\lib\\site-packages (from ipython>=5.5.0->pycaret) (5.1.1)\n",
      "Requirement already satisfied: jedi>=0.16 in c:\\users\\student\\appdata\\local\\programs\\python\\python311\\lib\\site-packages (from ipython>=5.5.0->pycaret) (0.19.2)\n",
      "Requirement already satisfied: matplotlib-inline in c:\\users\\student\\appdata\\local\\programs\\python\\python311\\lib\\site-packages (from ipython>=5.5.0->pycaret) (0.1.7)\n",
      "Requirement already satisfied: prompt_toolkit<3.1.0,>=3.0.41 in c:\\users\\student\\appdata\\local\\programs\\python\\python311\\lib\\site-packages (from ipython>=5.5.0->pycaret) (3.0.50)\n",
      "Requirement already satisfied: pygments>=2.4.0 in c:\\users\\student\\appdata\\local\\programs\\python\\python311\\lib\\site-packages (from ipython>=5.5.0->pycaret) (2.19.1)\n",
      "Requirement already satisfied: stack_data in c:\\users\\student\\appdata\\local\\programs\\python\\python311\\lib\\site-packages (from ipython>=5.5.0->pycaret) (0.6.3)\n",
      "Requirement already satisfied: traitlets>=5.13.0 in c:\\users\\student\\appdata\\local\\programs\\python\\python311\\lib\\site-packages (from ipython>=5.5.0->pycaret) (5.14.3)\n",
      "Requirement already satisfied: typing_extensions>=4.6 in c:\\users\\student\\appdata\\local\\programs\\python\\python311\\lib\\site-packages (from ipython>=5.5.0->pycaret) (4.12.2)\n",
      "Requirement already satisfied: comm>=0.1.3 in c:\\users\\student\\appdata\\local\\programs\\python\\python311\\lib\\site-packages (from ipywidgets>=7.6.5->pycaret) (0.2.2)\n",
      "Collecting widgetsnbextension~=4.0.12 (from ipywidgets>=7.6.5->pycaret)\n",
      "  Downloading widgetsnbextension-4.0.13-py3-none-any.whl.metadata (1.6 kB)\n",
      "Collecting jupyterlab-widgets~=3.0.12 (from ipywidgets>=7.6.5->pycaret)\n",
      "  Downloading jupyterlab_widgets-3.0.13-py3-none-any.whl.metadata (4.1 kB)\n",
      "Requirement already satisfied: contourpy>=1.0.1 in c:\\users\\student\\appdata\\local\\programs\\python\\python311\\lib\\site-packages (from matplotlib<3.8.0->pycaret) (1.3.1)\n",
      "Requirement already satisfied: cycler>=0.10 in c:\\users\\student\\appdata\\local\\programs\\python\\python311\\lib\\site-packages (from matplotlib<3.8.0->pycaret) (0.12.1)\n",
      "Requirement already satisfied: fonttools>=4.22.0 in c:\\users\\student\\appdata\\local\\programs\\python\\python311\\lib\\site-packages (from matplotlib<3.8.0->pycaret) (4.56.0)\n",
      "Requirement already satisfied: kiwisolver>=1.0.1 in c:\\users\\student\\appdata\\local\\programs\\python\\python311\\lib\\site-packages (from matplotlib<3.8.0->pycaret) (1.4.8)\n",
      "Requirement already satisfied: pillow>=6.2.0 in c:\\users\\student\\appdata\\local\\programs\\python\\python311\\lib\\site-packages (from matplotlib<3.8.0->pycaret) (11.1.0)\n",
      "Requirement already satisfied: pyparsing>=2.3.1 in c:\\users\\student\\appdata\\local\\programs\\python\\python311\\lib\\site-packages (from matplotlib<3.8.0->pycaret) (3.2.1)\n",
      "Requirement already satisfied: python-dateutil>=2.7 in c:\\users\\student\\appdata\\local\\programs\\python\\python311\\lib\\site-packages (from matplotlib<3.8.0->pycaret) (2.9.0.post0)\n",
      "Requirement already satisfied: fastjsonschema>=2.15 in c:\\users\\student\\appdata\\local\\programs\\python\\python311\\lib\\site-packages (from nbformat>=4.2.0->pycaret) (2.21.1)\n",
      "Requirement already satisfied: jsonschema>=2.6 in c:\\users\\student\\appdata\\local\\programs\\python\\python311\\lib\\site-packages (from nbformat>=4.2.0->pycaret) (4.23.0)\n",
      "Requirement already satisfied: jupyter-core!=5.0.*,>=4.12 in c:\\users\\student\\appdata\\local\\programs\\python\\python311\\lib\\site-packages (from nbformat>=4.2.0->pycaret) (5.7.2)\n",
      "Collecting llvmlite<0.45,>=0.44.0dev0 (from numba>=0.55.0->pycaret)\n",
      "  Downloading llvmlite-0.44.0-cp311-cp311-win_amd64.whl.metadata (5.0 kB)\n",
      "Requirement already satisfied: pytz>=2020.1 in c:\\users\\student\\appdata\\local\\programs\\python\\python311\\lib\\site-packages (from pandas<2.2.0->pycaret) (2025.1)\n",
      "Collecting narwhals>=1.15.1 (from plotly>=5.14.0->pycaret)\n",
      "  Downloading narwhals-1.28.0-py3-none-any.whl.metadata (10 kB)\n",
      "Collecting dash>=2.9.0 (from plotly-resampler>=0.8.3.1->pycaret)\n",
      "  Downloading dash-2.18.2-py3-none-any.whl.metadata (10 kB)\n",
      "Requirement already satisfied: orjson<4.0.0,>=3.8.0 in c:\\users\\student\\appdata\\local\\programs\\python\\python311\\lib\\site-packages (from plotly-resampler>=0.8.3.1->pycaret) (3.10.15)\n",
      "Collecting plotly>=5.14.0 (from pycaret)\n",
      "  Downloading plotly-5.24.1-py3-none-any.whl.metadata (7.3 kB)\n",
      "Collecting tsdownsample>=0.1.3 (from plotly-resampler>=0.8.3.1->pycaret)\n",
      "  Downloading tsdownsample-0.1.4.1-cp311-cp311-win_amd64.whl.metadata (8.2 kB)\n",
      "Requirement already satisfied: tenacity>=6.2.0 in c:\\users\\student\\appdata\\local\\programs\\python\\python311\\lib\\site-packages (from plotly>=5.14.0->pycaret) (9.0.0)\n",
      "Collecting Cython!=0.29.18,!=0.29.31,>=0.29 (from pmdarima>=2.0.4->pycaret)\n",
      "  Downloading Cython-3.0.12-cp311-cp311-win_amd64.whl.metadata (3.6 kB)\n",
      "Requirement already satisfied: urllib3 in c:\\users\\student\\appdata\\local\\programs\\python\\python311\\lib\\site-packages (from pmdarima>=2.0.4->pycaret) (2.3.0)\n",
      "Requirement already satisfied: setuptools!=50.0.0,>=38.6.0 in c:\\users\\student\\appdata\\local\\programs\\python\\python311\\lib\\site-packages (from pmdarima>=2.0.4->pycaret) (65.5.0)\n",
      "Requirement already satisfied: charset-normalizer<4,>=2 in c:\\users\\student\\appdata\\local\\programs\\python\\python311\\lib\\site-packages (from requests>=2.27.1->pycaret) (3.4.1)\n",
      "Requirement already satisfied: idna<4,>=2.5 in c:\\users\\student\\appdata\\local\\programs\\python\\python311\\lib\\site-packages (from requests>=2.27.1->pycaret) (3.10)\n",
      "Requirement already satisfied: certifi>=2017.4.17 in c:\\users\\student\\appdata\\local\\programs\\python\\python311\\lib\\site-packages (from requests>=2.27.1->pycaret) (2025.1.31)\n",
      "Collecting Flask<3.1,>=1.0.4 (from dash>=2.9.0->plotly-resampler>=0.8.3.1->pycaret)\n",
      "  Downloading flask-3.0.3-py3-none-any.whl.metadata (3.2 kB)\n",
      "Collecting Werkzeug<3.1 (from dash>=2.9.0->plotly-resampler>=0.8.3.1->pycaret)\n",
      "  Downloading werkzeug-3.0.6-py3-none-any.whl.metadata (3.7 kB)\n",
      "Collecting dash-html-components==2.0.0 (from dash>=2.9.0->plotly-resampler>=0.8.3.1->pycaret)\n",
      "  Downloading dash_html_components-2.0.0-py3-none-any.whl.metadata (3.8 kB)\n",
      "Collecting dash-core-components==2.0.0 (from dash>=2.9.0->plotly-resampler>=0.8.3.1->pycaret)\n",
      "  Downloading dash_core_components-2.0.0-py3-none-any.whl.metadata (2.9 kB)\n",
      "Collecting dash-table==5.0.0 (from dash>=2.9.0->plotly-resampler>=0.8.3.1->pycaret)\n",
      "  Downloading dash_table-5.0.0-py3-none-any.whl.metadata (2.4 kB)\n",
      "Collecting retrying (from dash>=2.9.0->plotly-resampler>=0.8.3.1->pycaret)\n",
      "  Downloading retrying-1.3.4-py3-none-any.whl.metadata (6.9 kB)\n",
      "Requirement already satisfied: nest-asyncio in c:\\users\\student\\appdata\\local\\programs\\python\\python311\\lib\\site-packages (from dash>=2.9.0->plotly-resampler>=0.8.3.1->pycaret) (1.6.0)\n",
      "Requirement already satisfied: parso<0.9.0,>=0.8.4 in c:\\users\\student\\appdata\\local\\programs\\python\\python311\\lib\\site-packages (from jedi>=0.16->ipython>=5.5.0->pycaret) (0.8.4)\n",
      "Requirement already satisfied: attrs>=22.2.0 in c:\\users\\student\\appdata\\local\\programs\\python\\python311\\lib\\site-packages (from jsonschema>=2.6->nbformat>=4.2.0->pycaret) (25.1.0)\n",
      "Requirement already satisfied: jsonschema-specifications>=2023.03.6 in c:\\users\\student\\appdata\\local\\programs\\python\\python311\\lib\\site-packages (from jsonschema>=2.6->nbformat>=4.2.0->pycaret) (2024.10.1)\n",
      "Requirement already satisfied: referencing>=0.28.4 in c:\\users\\student\\appdata\\local\\programs\\python\\python311\\lib\\site-packages (from jsonschema>=2.6->nbformat>=4.2.0->pycaret) (0.36.2)\n",
      "Requirement already satisfied: rpds-py>=0.7.1 in c:\\users\\student\\appdata\\local\\programs\\python\\python311\\lib\\site-packages (from jsonschema>=2.6->nbformat>=4.2.0->pycaret) (0.22.3)\n",
      "Requirement already satisfied: platformdirs>=2.5 in c:\\users\\student\\appdata\\local\\programs\\python\\python311\\lib\\site-packages (from jupyter-core!=5.0.*,>=4.12->nbformat>=4.2.0->pycaret) (4.3.6)\n",
      "Requirement already satisfied: pywin32>=300 in c:\\users\\student\\appdata\\local\\programs\\python\\python311\\lib\\site-packages (from jupyter-core!=5.0.*,>=4.12->nbformat>=4.2.0->pycaret) (308)\n",
      "Requirement already satisfied: wcwidth in c:\\users\\student\\appdata\\local\\programs\\python\\python311\\lib\\site-packages (from prompt_toolkit<3.1.0,>=3.0.41->ipython>=5.5.0->pycaret) (0.2.13)\n",
      "Requirement already satisfied: six>=1.5 in c:\\users\\student\\appdata\\local\\programs\\python\\python311\\lib\\site-packages (from python-dateutil>=2.7->matplotlib<3.8.0->pycaret) (1.17.0)\n",
      "Requirement already satisfied: executing>=1.2.0 in c:\\users\\student\\appdata\\local\\programs\\python\\python311\\lib\\site-packages (from stack_data->ipython>=5.5.0->pycaret) (2.2.0)\n",
      "Requirement already satisfied: asttokens>=2.1.0 in c:\\users\\student\\appdata\\local\\programs\\python\\python311\\lib\\site-packages (from stack_data->ipython>=5.5.0->pycaret) (3.0.0)\n",
      "Requirement already satisfied: pure-eval in c:\\users\\student\\appdata\\local\\programs\\python\\python311\\lib\\site-packages (from stack_data->ipython>=5.5.0->pycaret) (0.2.3)\n",
      "Collecting itsdangerous>=2.1.2 (from Flask<3.1,>=1.0.4->dash>=2.9.0->plotly-resampler>=0.8.3.1->pycaret)\n",
      "  Downloading itsdangerous-2.2.0-py3-none-any.whl.metadata (1.9 kB)\n",
      "Collecting click>=8.1.3 (from Flask<3.1,>=1.0.4->dash>=2.9.0->plotly-resampler>=0.8.3.1->pycaret)\n",
      "  Downloading click-8.1.8-py3-none-any.whl.metadata (2.3 kB)\n",
      "Collecting blinker>=1.6.2 (from Flask<3.1,>=1.0.4->dash>=2.9.0->plotly-resampler>=0.8.3.1->pycaret)\n",
      "  Downloading blinker-1.9.0-py3-none-any.whl.metadata (1.6 kB)\n",
      "Downloading pycaret-3.3.2-py3-none-any.whl (486 kB)\n",
      "Downloading schemdraw-0.15-py3-none-any.whl (106 kB)\n",
      "Downloading sktime-0.26.0-py3-none-any.whl (21.8 MB)\n",
      "   ---------------------------------------- 0.0/21.8 MB ? eta -:--:--\n",
      "   ------- -------------------------------- 3.9/21.8 MB 19.6 MB/s eta 0:00:01\n",
      "   ---------------- ----------------------- 8.9/21.8 MB 21.3 MB/s eta 0:00:01\n",
      "   ------------------------- -------------- 13.6/21.8 MB 22.0 MB/s eta 0:00:01\n",
      "   -------------------------------- ------- 17.8/21.8 MB 21.6 MB/s eta 0:00:01\n",
      "   ---------------------------------------  21.8/21.8 MB 21.8 MB/s eta 0:00:01\n",
      "   ---------------------------------------- 21.8/21.8 MB 20.6 MB/s eta 0:00:00\n",
      "Downloading category_encoders-2.7.0-py3-none-any.whl (85 kB)\n",
      "Downloading deprecation-2.1.0-py2.py3-none-any.whl (11 kB)\n",
      "Downloading imbalanced_learn-0.13.0-py3-none-any.whl (238 kB)\n",
      "Downloading importlib_metadata-8.6.1-py3-none-any.whl (26 kB)\n",
      "Downloading ipywidgets-8.1.5-py3-none-any.whl (139 kB)\n",
      "Downloading joblib-1.3.2-py3-none-any.whl (302 kB)\n",
      "Downloading kaleido-0.2.1-py2.py3-none-win_amd64.whl (65.9 MB)\n",
      "   ---------------------------------------- 0.0/65.9 MB ? eta -:--:--\n",
      "   - -------------------------------------- 2.6/65.9 MB 12.6 MB/s eta 0:00:06\n",
      "   ---- ----------------------------------- 6.8/65.9 MB 16.8 MB/s eta 0:00:04\n",
      "   ------- -------------------------------- 11.8/65.9 MB 19.5 MB/s eta 0:00:03\n",
      "   --------- ------------------------------ 16.3/65.9 MB 20.1 MB/s eta 0:00:03\n",
      "   ------------ --------------------------- 19.9/65.9 MB 19.4 MB/s eta 0:00:03\n",
      "   -------------- ------------------------- 24.4/65.9 MB 19.8 MB/s eta 0:00:03\n",
      "   ----------------- ---------------------- 29.1/65.9 MB 20.1 MB/s eta 0:00:02\n",
      "   -------------------- ------------------- 33.3/65.9 MB 20.1 MB/s eta 0:00:02\n",
      "   ----------------------- ---------------- 38.0/65.9 MB 20.3 MB/s eta 0:00:02\n",
      "   -------------------------- ------------- 43.8/65.9 MB 20.9 MB/s eta 0:00:02\n",
      "   ----------------------------- ---------- 49.3/65.9 MB 21.6 MB/s eta 0:00:01\n",
      "   -------------------------------- ------- 54.3/65.9 MB 21.6 MB/s eta 0:00:01\n",
      "   ----------------------------------- ---- 58.7/65.9 MB 21.5 MB/s eta 0:00:01\n",
      "   -------------------------------------- - 63.4/65.9 MB 21.6 MB/s eta 0:00:01\n",
      "   ---------------------------------------  65.8/65.9 MB 21.6 MB/s eta 0:00:01\n",
      "   ---------------------------------------- 65.9/65.9 MB 20.7 MB/s eta 0:00:00\n",
      "Downloading lightgbm-4.6.0-py3-none-win_amd64.whl (1.5 MB)\n",
      "   ---------------------------------------- 0.0/1.5 MB ? eta -:--:--\n",
      "   ---------------------------------------- 1.5/1.5 MB 18.9 MB/s eta 0:00:00\n",
      "Downloading matplotlib-3.7.5-cp311-cp311-win_amd64.whl (7.5 MB)\n",
      "   ---------------------------------------- 0.0/7.5 MB ? eta -:--:--\n",
      "   ----------------------- ---------------- 4.5/7.5 MB 20.7 MB/s eta 0:00:01\n",
      "   ---------------------------------------- 7.5/7.5 MB 19.3 MB/s eta 0:00:00\n",
      "Downloading numba-0.61.0-cp311-cp311-win_amd64.whl (2.8 MB)\n",
      "   ---------------------------------------- 0.0/2.8 MB ? eta -:--:--\n",
      "   ---------------------------------------- 2.8/2.8 MB 18.2 MB/s eta 0:00:00\n",
      "Downloading plotly_resampler-0.10.0-py3-none-any.whl (80 kB)\n",
      "Downloading plotly-5.24.1-py3-none-any.whl (19.1 MB)\n",
      "   ---------------------------------------- 0.0/19.1 MB ? eta -:--:--\n",
      "   ------ --------------------------------- 3.1/19.1 MB 14.2 MB/s eta 0:00:02\n",
      "   --------------- ------------------------ 7.6/19.1 MB 18.1 MB/s eta 0:00:01\n",
      "   ------------------------- -------------- 12.3/19.1 MB 19.8 MB/s eta 0:00:01\n",
      "   ------------------------------------- -- 17.8/19.1 MB 21.6 MB/s eta 0:00:01\n",
      "   ---------------------------------------- 19.1/19.1 MB 20.4 MB/s eta 0:00:00\n",
      "Downloading pmdarima-2.0.4-cp311-cp311-win_amd64.whl (614 kB)\n",
      "   ---------------------------------------- 0.0/614.7 kB ? eta -:--:--\n",
      "   --------------------------------------- 614.7/614.7 kB 23.5 MB/s eta 0:00:00\n",
      "Downloading scikit_learn-1.4.2-cp311-cp311-win_amd64.whl (10.6 MB)\n",
      "   ---------------------------------------- 0.0/10.6 MB ? eta -:--:--\n",
      "   --------------- ------------------------ 4.2/10.6 MB 23.0 MB/s eta 0:00:01\n",
      "   ------------------------------------- -- 10.0/10.6 MB 24.9 MB/s eta 0:00:01\n",
      "   ---------------------------------------- 10.6/10.6 MB 22.8 MB/s eta 0:00:00\n",
      "Downloading scikit_plot-0.3.7-py3-none-any.whl (33 kB)\n",
      "Downloading scipy-1.11.4-cp311-cp311-win_amd64.whl (44.1 MB)\n",
      "   ---------------------------------------- 0.0/44.1 MB ? eta -:--:--\n",
      "   ----- ---------------------------------- 6.0/44.1 MB 28.4 MB/s eta 0:00:02\n",
      "   ---------- ----------------------------- 12.1/44.1 MB 29.1 MB/s eta 0:00:02\n",
      "   -------------- ------------------------- 15.7/44.1 MB 26.1 MB/s eta 0:00:02\n",
      "   -------------------- ------------------- 22.3/44.1 MB 26.1 MB/s eta 0:00:01\n",
      "   ------------------------- -------------- 28.0/44.1 MB 26.6 MB/s eta 0:00:01\n",
      "   ----------------------------- ---------- 33.0/44.1 MB 26.2 MB/s eta 0:00:01\n",
      "   ---------------------------------- ----- 38.0/44.1 MB 26.0 MB/s eta 0:00:01\n",
      "   -------------------------------------- - 42.7/44.1 MB 25.6 MB/s eta 0:00:01\n",
      "   ---------------------------------------- 44.1/44.1 MB 24.0 MB/s eta 0:00:00\n",
      "Downloading statsmodels-0.14.4-cp311-cp311-win_amd64.whl (9.9 MB)\n",
      "   ---------------------------------------- 0.0/9.9 MB ? eta -:--:--\n",
      "   ----------------------- ---------------- 5.8/9.9 MB 27.1 MB/s eta 0:00:01\n",
      "   ---------------------------------------- 9.9/9.9 MB 25.6 MB/s eta 0:00:00\n",
      "Downloading tbats-1.1.3-py3-none-any.whl (44 kB)\n",
      "Downloading yellowbrick-1.5-py3-none-any.whl (282 kB)\n",
      "Downloading cloudpickle-3.1.1-py3-none-any.whl (20 kB)\n",
      "Downloading Cython-3.0.12-cp311-cp311-win_amd64.whl (2.8 MB)\n",
      "   ---------------------------------------- 0.0/2.8 MB ? eta -:--:--\n",
      "   --------------------------------- ------ 2.4/2.8 MB 12.2 MB/s eta 0:00:01\n",
      "   ---------------------------------------- 2.8/2.8 MB 11.5 MB/s eta 0:00:00\n",
      "Downloading dash-2.18.2-py3-none-any.whl (7.8 MB)\n",
      "   ---------------------------------------- 0.0/7.8 MB ? eta -:--:--\n",
      "   ---------------------- ----------------- 4.5/7.8 MB 24.5 MB/s eta 0:00:01\n",
      "   ---------------------------------------- 7.8/7.8 MB 20.1 MB/s eta 0:00:00\n",
      "Downloading dash_core_components-2.0.0-py3-none-any.whl (3.8 kB)\n",
      "Downloading dash_html_components-2.0.0-py3-none-any.whl (4.1 kB)\n",
      "Downloading dash_table-5.0.0-py3-none-any.whl (3.9 kB)\n",
      "Downloading jupyterlab_widgets-3.0.13-py3-none-any.whl (214 kB)\n",
      "Downloading llvmlite-0.44.0-cp311-cp311-win_amd64.whl (30.3 MB)\n",
      "   ---------------------------------------- 0.0/30.3 MB ? eta -:--:--\n",
      "   ------ --------------------------------- 5.0/30.3 MB 23.2 MB/s eta 0:00:02\n",
      "   ------------ --------------------------- 9.4/30.3 MB 22.6 MB/s eta 0:00:01\n",
      "   ------------------ --------------------- 13.9/30.3 MB 21.8 MB/s eta 0:00:01\n",
      "   ------------------------ --------------- 18.4/30.3 MB 21.8 MB/s eta 0:00:01\n",
      "   ------------------------------ --------- 22.8/30.3 MB 21.9 MB/s eta 0:00:01\n",
      "   ------------------------------------ --- 27.5/30.3 MB 22.1 MB/s eta 0:00:01\n",
      "   ---------------------------------------- 30.3/30.3 MB 20.9 MB/s eta 0:00:00\n",
      "Downloading patsy-1.0.1-py2.py3-none-any.whl (232 kB)\n",
      "Downloading scikit_base-0.7.8-py3-none-any.whl (130 kB)\n",
      "Downloading sklearn_compat-0.1.3-py3-none-any.whl (18 kB)\n",
      "Downloading tsdownsample-0.1.4.1-cp311-cp311-win_amd64.whl (1.0 MB)\n",
      "   ---------------------------------------- 0.0/1.0 MB ? eta -:--:--\n",
      "   ---------------------------------------- 1.0/1.0 MB 16.4 MB/s eta 0:00:00\n",
      "Downloading widgetsnbextension-4.0.13-py3-none-any.whl (2.3 MB)\n",
      "   ---------------------------------------- 0.0/2.3 MB ? eta -:--:--\n",
      "   ---------------------------------------- 2.3/2.3 MB 18.9 MB/s eta 0:00:00\n",
      "Downloading zipp-3.21.0-py3-none-any.whl (9.6 kB)\n",
      "Downloading flask-3.0.3-py3-none-any.whl (101 kB)\n",
      "Downloading werkzeug-3.0.6-py3-none-any.whl (227 kB)\n",
      "Downloading retrying-1.3.4-py3-none-any.whl (11 kB)\n",
      "Downloading blinker-1.9.0-py3-none-any.whl (8.5 kB)\n",
      "Downloading click-8.1.8-py3-none-any.whl (98 kB)\n",
      "Downloading itsdangerous-2.2.0-py3-none-any.whl (16 kB)\n",
      "Building wheels for collected packages: pyod\n",
      "  Building wheel for pyod (setup.py): started\n",
      "  Building wheel for pyod (setup.py): finished with status 'done'\n",
      "  Created wheel for pyod: filename=pyod-2.0.3-py3-none-any.whl size=200527 sha256=a08f9c19bd65217cc54183b748c786d79e6daf0c1146979e774718adbb687f17\n",
      "  Stored in directory: c:\\users\\student\\appdata\\local\\pip\\cache\\wheels\\2d\\60\\5b\\f74eccd2c9c892a2c298202ca510f10995f9940647fcc2d97f\n",
      "Successfully built pyod\n",
      "Installing collected packages: kaleido, dash-table, dash-html-components, dash-core-components, zipp, widgetsnbextension, Werkzeug, tsdownsample, scipy, scikit-base, schemdraw, retrying, plotly, patsy, llvmlite, jupyterlab-widgets, joblib, itsdangerous, deprecation, Cython, cloudpickle, click, blinker, scikit-learn, numba, matplotlib, lightgbm, importlib-metadata, Flask, yellowbrick, statsmodels, sktime, sklearn-compat, scikit-plot, pyod, ipywidgets, dash, pmdarima, plotly-resampler, imbalanced-learn, category-encoders, tbats, pycaret\n",
      "  Attempting uninstall: Werkzeug\n",
      "    Found existing installation: Werkzeug 3.1.3\n",
      "    Uninstalling Werkzeug-3.1.3:\n",
      "      Successfully uninstalled Werkzeug-3.1.3\n",
      "  Attempting uninstall: scipy\n",
      "    Found existing installation: scipy 1.15.2\n",
      "    Uninstalling scipy-1.15.2:\n",
      "      Successfully uninstalled scipy-1.15.2\n",
      "  Attempting uninstall: joblib\n",
      "    Found existing installation: joblib 1.4.2\n",
      "    Uninstalling joblib-1.4.2:\n",
      "      Successfully uninstalled joblib-1.4.2\n",
      "  Attempting uninstall: scikit-learn\n",
      "    Found existing installation: scikit-learn 1.2.2\n",
      "    Uninstalling scikit-learn-1.2.2:\n",
      "      Successfully uninstalled scikit-learn-1.2.2\n",
      "  Attempting uninstall: matplotlib\n",
      "    Found existing installation: matplotlib 3.10.0\n",
      "    Uninstalling matplotlib-3.10.0:\n",
      "      Successfully uninstalled matplotlib-3.10.0\n",
      "Successfully installed Cython-3.0.12 Flask-3.0.3 Werkzeug-3.0.6 blinker-1.9.0 category-encoders-2.7.0 click-8.1.8 cloudpickle-3.1.1 dash-2.18.2 dash-core-components-2.0.0 dash-html-components-2.0.0 dash-table-5.0.0 deprecation-2.1.0 imbalanced-learn-0.13.0 importlib-metadata-8.6.1 ipywidgets-8.1.5 itsdangerous-2.2.0 joblib-1.3.2 jupyterlab-widgets-3.0.13 kaleido-0.2.1 lightgbm-4.6.0 llvmlite-0.44.0 matplotlib-3.7.5 numba-0.61.0 patsy-1.0.1 plotly-5.24.1 plotly-resampler-0.10.0 pmdarima-2.0.4 pycaret-3.3.2 pyod-2.0.3 retrying-1.3.4 schemdraw-0.15 scikit-base-0.7.8 scikit-learn-1.4.2 scikit-plot-0.3.7 scipy-1.11.4 sklearn-compat-0.1.3 sktime-0.26.0 statsmodels-0.14.4 tbats-1.1.3 tsdownsample-0.1.4.1 widgetsnbextension-4.0.13 yellowbrick-1.5 zipp-3.21.0\n"
     ]
    },
    {
     "name": "stderr",
     "output_type": "stream",
     "text": [
      "  WARNING: Failed to remove contents in a temporary directory 'C:\\Users\\student\\AppData\\Local\\Programs\\Python\\Python311\\Lib\\site-packages\\~cipy.libs'.\n",
      "  You can safely remove it manually.\n",
      "  WARNING: Failed to remove contents in a temporary directory 'C:\\Users\\student\\AppData\\Local\\Programs\\Python\\Python311\\Lib\\site-packages\\~cipy'.\n",
      "  You can safely remove it manually.\n",
      "  WARNING: Failed to remove contents in a temporary directory 'C:\\Users\\student\\AppData\\Local\\Programs\\Python\\Python311\\Lib\\site-packages\\~klearn'.\n",
      "  You can safely remove it manually.\n",
      "  WARNING: Failed to remove contents in a temporary directory 'C:\\Users\\student\\AppData\\Local\\Programs\\Python\\Python311\\Lib\\site-packages\\~atplotlib'.\n",
      "  You can safely remove it manually.\n"
     ]
    }
   ],
   "source": []
  },
  {
   "cell_type": "code",
   "execution_count": 22,
   "id": "4acd8556-e357-41a5-8b7b-180147e42c43",
   "metadata": {},
   "outputs": [
    {
     "ename": "ImportError",
     "evalue": "cannot import name '_fit_context' from 'sklearn.base' (C:\\Users\\student\\AppData\\Local\\Programs\\Python\\Python311\\Lib\\site-packages\\sklearn\\base.py)",
     "output_type": "error",
     "traceback": [
      "\u001b[1;31m---------------------------------------------------------------------------\u001b[0m",
      "\u001b[1;31mImportError\u001b[0m                               Traceback (most recent call last)",
      "Cell \u001b[1;32mIn[22], line 2\u001b[0m\n\u001b[0;32m      1\u001b[0m \u001b[38;5;28;01mimport\u001b[39;00m\u001b[38;5;250m \u001b[39m\u001b[38;5;21;01mpandas\u001b[39;00m\u001b[38;5;250m \u001b[39m\u001b[38;5;28;01mas\u001b[39;00m\u001b[38;5;250m \u001b[39m\u001b[38;5;21;01mpd\u001b[39;00m\n\u001b[1;32m----> 2\u001b[0m \u001b[38;5;28;01mfrom\u001b[39;00m\u001b[38;5;250m \u001b[39m\u001b[38;5;21;01mpycaret\u001b[39;00m\u001b[38;5;21;01m.\u001b[39;00m\u001b[38;5;21;01mregression\u001b[39;00m\u001b[38;5;250m \u001b[39m\u001b[38;5;28;01mimport\u001b[39;00m \u001b[38;5;241m*\u001b[39m\n\u001b[0;32m      4\u001b[0m \u001b[38;5;66;03m# 🎯 1. 데이터 불러오기\u001b[39;00m\n\u001b[0;32m      5\u001b[0m train \u001b[38;5;241m=\u001b[39m pd\u001b[38;5;241m.\u001b[39mread_csv(\u001b[38;5;124m\"\u001b[39m\u001b[38;5;124mdata/train.csv\u001b[39m\u001b[38;5;124m\"\u001b[39m)\n",
      "File \u001b[1;32m~\\AppData\\Local\\Programs\\Python\\Python311\\Lib\\site-packages\\pycaret\\regression\\__init__.py:1\u001b[0m\n\u001b[1;32m----> 1\u001b[0m \u001b[38;5;28;01mfrom\u001b[39;00m\u001b[38;5;250m \u001b[39m\u001b[38;5;21;01mpycaret\u001b[39;00m\u001b[38;5;21;01m.\u001b[39;00m\u001b[38;5;21;01mregression\u001b[39;00m\u001b[38;5;21;01m.\u001b[39;00m\u001b[38;5;21;01mfunctional\u001b[39;00m\u001b[38;5;250m \u001b[39m\u001b[38;5;28;01mimport\u001b[39;00m (\n\u001b[0;32m      2\u001b[0m     add_metric,\n\u001b[0;32m      3\u001b[0m     automl,\n\u001b[0;32m      4\u001b[0m     blend_models,\n\u001b[0;32m      5\u001b[0m     check_drift,\n\u001b[0;32m      6\u001b[0m     check_fairness,\n\u001b[0;32m      7\u001b[0m     compare_models,\n\u001b[0;32m      8\u001b[0m     convert_model,\n\u001b[0;32m      9\u001b[0m     create_api,\n\u001b[0;32m     10\u001b[0m     create_app,\n\u001b[0;32m     11\u001b[0m     create_docker,\n\u001b[0;32m     12\u001b[0m     create_model,\n\u001b[0;32m     13\u001b[0m     dashboard,\n\u001b[0;32m     14\u001b[0m     deploy_model,\n\u001b[0;32m     15\u001b[0m     ensemble_model,\n\u001b[0;32m     16\u001b[0m     evaluate_model,\n\u001b[0;32m     17\u001b[0m     finalize_model,\n\u001b[0;32m     18\u001b[0m     get_allowed_engines,\n\u001b[0;32m     19\u001b[0m     get_config,\n\u001b[0;32m     20\u001b[0m     get_current_experiment,\n\u001b[0;32m     21\u001b[0m     get_engine,\n\u001b[0;32m     22\u001b[0m     get_leaderboard,\n\u001b[0;32m     23\u001b[0m     get_logs,\n\u001b[0;32m     24\u001b[0m     get_metrics,\n\u001b[0;32m     25\u001b[0m     interpret_model,\n\u001b[0;32m     26\u001b[0m     load_experiment,\n\u001b[0;32m     27\u001b[0m     load_model,\n\u001b[0;32m     28\u001b[0m     models,\n\u001b[0;32m     29\u001b[0m     plot_model,\n\u001b[0;32m     30\u001b[0m     predict_model,\n\u001b[0;32m     31\u001b[0m     pull,\n\u001b[0;32m     32\u001b[0m     remove_metric,\n\u001b[0;32m     33\u001b[0m     save_experiment,\n\u001b[0;32m     34\u001b[0m     save_model,\n\u001b[0;32m     35\u001b[0m     set_config,\n\u001b[0;32m     36\u001b[0m     set_current_experiment,\n\u001b[0;32m     37\u001b[0m     setup,\n\u001b[0;32m     38\u001b[0m     stack_models,\n\u001b[0;32m     39\u001b[0m     tune_model,\n\u001b[0;32m     40\u001b[0m )\n\u001b[0;32m     41\u001b[0m \u001b[38;5;28;01mfrom\u001b[39;00m\u001b[38;5;250m \u001b[39m\u001b[38;5;21;01mpycaret\u001b[39;00m\u001b[38;5;21;01m.\u001b[39;00m\u001b[38;5;21;01mregression\u001b[39;00m\u001b[38;5;21;01m.\u001b[39;00m\u001b[38;5;21;01moop\u001b[39;00m\u001b[38;5;250m \u001b[39m\u001b[38;5;28;01mimport\u001b[39;00m RegressionExperiment\n\u001b[0;32m     43\u001b[0m __all__ \u001b[38;5;241m=\u001b[39m [\n\u001b[0;32m     44\u001b[0m     \u001b[38;5;124m\"\u001b[39m\u001b[38;5;124mRegressionExperiment\u001b[39m\u001b[38;5;124m\"\u001b[39m,\n\u001b[0;32m     45\u001b[0m     \u001b[38;5;124m\"\u001b[39m\u001b[38;5;124msetup\u001b[39m\u001b[38;5;124m\"\u001b[39m,\n\u001b[1;32m   (...)\u001b[0m\n\u001b[0;32m     82\u001b[0m     \u001b[38;5;124m\"\u001b[39m\u001b[38;5;124mcheck_drift\u001b[39m\u001b[38;5;124m\"\u001b[39m,\n\u001b[0;32m     83\u001b[0m ]\n",
      "File \u001b[1;32m~\\AppData\\Local\\Programs\\Python\\Python311\\Lib\\site-packages\\pycaret\\regression\\functional.py:9\u001b[0m\n\u001b[0;32m      6\u001b[0m \u001b[38;5;28;01mfrom\u001b[39;00m\u001b[38;5;250m \u001b[39m\u001b[38;5;21;01mjoblib\u001b[39;00m\u001b[38;5;21;01m.\u001b[39;00m\u001b[38;5;21;01mmemory\u001b[39;00m\u001b[38;5;250m \u001b[39m\u001b[38;5;28;01mimport\u001b[39;00m Memory\n\u001b[0;32m      8\u001b[0m \u001b[38;5;28;01mfrom\u001b[39;00m\u001b[38;5;250m \u001b[39m\u001b[38;5;21;01mpycaret\u001b[39;00m\u001b[38;5;21;01m.\u001b[39;00m\u001b[38;5;21;01minternal\u001b[39;00m\u001b[38;5;21;01m.\u001b[39;00m\u001b[38;5;21;01mparallel\u001b[39;00m\u001b[38;5;21;01m.\u001b[39;00m\u001b[38;5;21;01mparallel_backend\u001b[39;00m\u001b[38;5;250m \u001b[39m\u001b[38;5;28;01mimport\u001b[39;00m ParallelBackend\n\u001b[1;32m----> 9\u001b[0m \u001b[38;5;28;01mfrom\u001b[39;00m\u001b[38;5;250m \u001b[39m\u001b[38;5;21;01mpycaret\u001b[39;00m\u001b[38;5;21;01m.\u001b[39;00m\u001b[38;5;21;01mloggers\u001b[39;00m\u001b[38;5;21;01m.\u001b[39;00m\u001b[38;5;21;01mbase_logger\u001b[39;00m\u001b[38;5;250m \u001b[39m\u001b[38;5;28;01mimport\u001b[39;00m BaseLogger\n\u001b[0;32m     10\u001b[0m \u001b[38;5;28;01mfrom\u001b[39;00m\u001b[38;5;250m \u001b[39m\u001b[38;5;21;01mpycaret\u001b[39;00m\u001b[38;5;21;01m.\u001b[39;00m\u001b[38;5;21;01mregression\u001b[39;00m\u001b[38;5;21;01m.\u001b[39;00m\u001b[38;5;21;01moop\u001b[39;00m\u001b[38;5;250m \u001b[39m\u001b[38;5;28;01mimport\u001b[39;00m RegressionExperiment\n\u001b[0;32m     11\u001b[0m \u001b[38;5;28;01mfrom\u001b[39;00m\u001b[38;5;250m \u001b[39m\u001b[38;5;21;01mpycaret\u001b[39;00m\u001b[38;5;21;01m.\u001b[39;00m\u001b[38;5;21;01mutils\u001b[39;00m\u001b[38;5;21;01m.\u001b[39;00m\u001b[38;5;21;01mconstants\u001b[39;00m\u001b[38;5;250m \u001b[39m\u001b[38;5;28;01mimport\u001b[39;00m DATAFRAME_LIKE, SEQUENCE_LIKE, TARGET_LIKE\n",
      "File \u001b[1;32m~\\AppData\\Local\\Programs\\Python\\Python311\\Lib\\site-packages\\pycaret\\loggers\\__init__.py:1\u001b[0m\n\u001b[1;32m----> 1\u001b[0m \u001b[38;5;28;01mfrom\u001b[39;00m\u001b[38;5;250m \u001b[39m\u001b[38;5;21;01m.\u001b[39;00m\u001b[38;5;21;01mbase_logger\u001b[39;00m\u001b[38;5;250m \u001b[39m\u001b[38;5;28;01mimport\u001b[39;00m BaseLogger\n\u001b[0;32m      2\u001b[0m \u001b[38;5;28;01mfrom\u001b[39;00m\u001b[38;5;250m \u001b[39m\u001b[38;5;21;01m.\u001b[39;00m\u001b[38;5;21;01mcomet_logger\u001b[39;00m\u001b[38;5;250m \u001b[39m\u001b[38;5;28;01mimport\u001b[39;00m CometLogger\n\u001b[0;32m      3\u001b[0m \u001b[38;5;28;01mfrom\u001b[39;00m\u001b[38;5;250m \u001b[39m\u001b[38;5;21;01m.\u001b[39;00m\u001b[38;5;21;01mdagshub_logger\u001b[39;00m\u001b[38;5;250m \u001b[39m\u001b[38;5;28;01mimport\u001b[39;00m DagshubLogger\n",
      "File \u001b[1;32m~\\AppData\\Local\\Programs\\Python\\Python311\\Lib\\site-packages\\pycaret\\loggers\\base_logger.py:4\u001b[0m\n\u001b[0;32m      1\u001b[0m \u001b[38;5;28;01mfrom\u001b[39;00m\u001b[38;5;250m \u001b[39m\u001b[38;5;21;01mabc\u001b[39;00m\u001b[38;5;250m \u001b[39m\u001b[38;5;28;01mimport\u001b[39;00m ABC\n\u001b[0;32m      2\u001b[0m \u001b[38;5;28;01mfrom\u001b[39;00m\u001b[38;5;250m \u001b[39m\u001b[38;5;21;01mcopy\u001b[39;00m\u001b[38;5;250m \u001b[39m\u001b[38;5;28;01mimport\u001b[39;00m deepcopy\n\u001b[1;32m----> 4\u001b[0m \u001b[38;5;28;01mfrom\u001b[39;00m\u001b[38;5;250m \u001b[39m\u001b[38;5;21;01msklearn\u001b[39;00m\u001b[38;5;21;01m.\u001b[39;00m\u001b[38;5;21;01mpipeline\u001b[39;00m\u001b[38;5;250m \u001b[39m\u001b[38;5;28;01mimport\u001b[39;00m Pipeline\n\u001b[0;32m      6\u001b[0m SETUP_TAG \u001b[38;5;241m=\u001b[39m \u001b[38;5;124m\"\u001b[39m\u001b[38;5;124mSession Initialized\u001b[39m\u001b[38;5;124m\"\u001b[39m\n\u001b[0;32m      9\u001b[0m \u001b[38;5;28;01mclass\u001b[39;00m\u001b[38;5;250m \u001b[39m\u001b[38;5;21;01mBaseLogger\u001b[39;00m(ABC):\n",
      "File \u001b[1;32m~\\AppData\\Local\\Programs\\Python\\Python311\\Lib\\site-packages\\sklearn\\pipeline.py:18\u001b[0m\n\u001b[0;32m     15\u001b[0m \u001b[38;5;28;01mimport\u001b[39;00m\u001b[38;5;250m \u001b[39m\u001b[38;5;21;01mnumpy\u001b[39;00m\u001b[38;5;250m \u001b[39m\u001b[38;5;28;01mas\u001b[39;00m\u001b[38;5;250m \u001b[39m\u001b[38;5;21;01mnp\u001b[39;00m\n\u001b[0;32m     16\u001b[0m \u001b[38;5;28;01mfrom\u001b[39;00m\u001b[38;5;250m \u001b[39m\u001b[38;5;21;01mscipy\u001b[39;00m\u001b[38;5;250m \u001b[39m\u001b[38;5;28;01mimport\u001b[39;00m sparse\n\u001b[1;32m---> 18\u001b[0m \u001b[38;5;28;01mfrom\u001b[39;00m\u001b[38;5;250m \u001b[39m\u001b[38;5;21;01m.\u001b[39;00m\u001b[38;5;21;01mbase\u001b[39;00m\u001b[38;5;250m \u001b[39m\u001b[38;5;28;01mimport\u001b[39;00m TransformerMixin, _fit_context, clone\n\u001b[0;32m     19\u001b[0m \u001b[38;5;28;01mfrom\u001b[39;00m\u001b[38;5;250m \u001b[39m\u001b[38;5;21;01m.\u001b[39;00m\u001b[38;5;21;01mexceptions\u001b[39;00m\u001b[38;5;250m \u001b[39m\u001b[38;5;28;01mimport\u001b[39;00m NotFittedError\n\u001b[0;32m     20\u001b[0m \u001b[38;5;28;01mfrom\u001b[39;00m\u001b[38;5;250m \u001b[39m\u001b[38;5;21;01m.\u001b[39;00m\u001b[38;5;21;01mpreprocessing\u001b[39;00m\u001b[38;5;250m \u001b[39m\u001b[38;5;28;01mimport\u001b[39;00m FunctionTransformer\n",
      "\u001b[1;31mImportError\u001b[0m: cannot import name '_fit_context' from 'sklearn.base' (C:\\Users\\student\\AppData\\Local\\Programs\\Python\\Python311\\Lib\\site-packages\\sklearn\\base.py)"
     ]
    }
   ],
   "source": []
  },
  {
   "cell_type": "code",
   "execution_count": null,
   "id": "a5bcfcfd-2b6d-483f-ba9f-d3a5e68b0051",
   "metadata": {},
   "outputs": [],
   "source": []
  },
  {
   "cell_type": "code",
   "execution_count": null,
   "id": "703c67e4-d0c9-4bdd-a8cb-49722b0dc27d",
   "metadata": {},
   "outputs": [],
   "source": []
  },
  {
   "cell_type": "markdown",
   "id": "c5831ca3-e93e-4675-8b00-188af2dab6d4",
   "metadata": {},
   "source": [
    "### 생성한 정답의 shape 및 타입 확인"
   ]
  },
  {
   "cell_type": "code",
   "execution_count": null,
   "id": "a3a30b49-a6e0-4775-a094-196ab5b6e346",
   "metadata": {},
   "outputs": [],
   "source": [
    "# 아래의 코드는 필요에따라 수정해서 사용합니다\n",
    "pred = model.predict(x_test)\n",
    "your_answer = pred\n",
    "your_answer"
   ]
  },
  {
   "cell_type": "code",
   "execution_count": null,
   "id": "0ae23e01-b1ff-46e8-b38d-647bdffe42f2",
   "metadata": {},
   "outputs": [],
   "source": [
    "submission['Label'] = your_answer"
   ]
  },
  {
   "cell_type": "code",
   "execution_count": null,
   "id": "4fc4a3b4-c005-4e8d-a9ee-d66287c50577",
   "metadata": {},
   "outputs": [],
   "source": [
    "submission.head()"
   ]
  },
  {
   "cell_type": "markdown",
   "id": "ba12779c-1400-4887-8a0a-007914f6c62a",
   "metadata": {},
   "source": [
    "## 결과 제출 (수정하지 마세요)\n",
    "\n",
    "### 순서대로 평가가 진행됩니다. 실행은 1회만 해주세요.\n",
    "\n",
    "- 느리다고 중지 후 다시 평가 코드를 실행하는 경우 제출 과정에서 패널티가 발생할 수 있습니다. (제출 횟수 이슈 발생 가능)\n",
    "\n",
    "- 전체 점수는 [평가시스템](http://manage.jaen.kr)에서 확인할 수 있습니다.\n",
    "    - 프로젝트 > 손글씨 이미지분류 > 리더보드 > 같은 반 리더보드\n",
    "\n",
    "- 아이디: 본인 이메일 아이디"
   ]
  },
  {
   "cell_type": "code",
   "execution_count": null,
   "id": "2d88e99c-8ef5-413e-b71b-c7153a3f6499",
   "metadata": {},
   "outputs": [],
   "source": [
    "pjt.submit(submission)"
   ]
  },
  {
   "cell_type": "code",
   "execution_count": null,
   "id": "37c80aa4-9b6b-4ede-a9c0-b60bbf460ce4",
   "metadata": {},
   "outputs": [],
   "source": []
  }
 ],
 "metadata": {
  "kernelspec": {
   "display_name": "Python 3 (ipykernel)",
   "language": "python",
   "name": "python3"
  },
  "language_info": {
   "codemirror_mode": {
    "name": "ipython",
    "version": 3
   },
   "file_extension": ".py",
   "mimetype": "text/x-python",
   "name": "python",
   "nbconvert_exporter": "python",
   "pygments_lexer": "ipython3",
   "version": "3.11.0"
  }
 },
 "nbformat": 4,
 "nbformat_minor": 5
}
