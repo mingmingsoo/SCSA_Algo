{
 "cells": [
  {
   "cell_type": "markdown",
   "id": "c769f848-7d6e-4447-9961-03b40f792bc6",
   "metadata": {},
   "source": [
    "### JAEN 모듈 설치"
   ]
  },
  {
   "cell_type": "code",
   "execution_count": null,
   "id": "1d36e6b4-2acf-4d65-9190-f612bd0c914b",
   "metadata": {},
   "outputs": [],
   "source": [
    "!pip install jaen"
   ]
  },
  {
   "cell_type": "markdown",
   "id": "f9ccf472-e7d9-4f21-b5d2-58b5a5d8426f",
   "metadata": {},
   "source": [
    "### JAEN 모듈 import\n",
    "- 대문자로 입력"
   ]
  },
  {
   "cell_type": "code",
   "execution_count": 4,
   "id": "2cae523c-830f-44d9-8c3a-085ce9d5668e",
   "metadata": {},
   "outputs": [],
   "source": [
    "import JAEN\n",
    "from JAEN import list_data, download_data, Project"
   ]
  },
  {
   "cell_type": "markdown",
   "id": "d11c4619-439d-4c0c-861a-c16db8427030",
   "metadata": {},
   "source": [
    "### 개인정보 수정\n",
    "- 이메일 정보 수정, 나머지는 수정하지 말 것!"
   ]
  },
  {
   "cell_type": "code",
   "execution_count": 5,
   "id": "475ee30b-7be1-44a8-b03b-6923ffab7765",
   "metadata": {},
   "outputs": [],
   "source": [
    "project_name = \"손글씨 이미지 분류\" # 프로젝트 이름(수정하지 마세요)\n",
    "email = \"scsa24xxx@scsa.com\" # 이메일(본인 SCSA 이메일 입력)\n",
    "\n",
    "class_info = {\n",
    "    'edu_name':'SCSA', # 과정명\n",
    "    'edu_rnd':'24기', # 차수\n",
    "    'edu_class':'SW' # \"없음\"이면 빈 문자열\n",
    "}\n",
    "\n",
    "# 프로젝트 생성\n",
    "pjt = Project(project_name=project_name, class_info=class_info, email=email)"
   ]
  },
  {
   "cell_type": "markdown",
   "id": "53fc764c-756c-4dc4-9d75-5d5b3b47fe77",
   "metadata": {},
   "source": [
    "<br/>\n",
    "<br/>"
   ]
  },
  {
   "cell_type": "markdown",
   "id": "0d7c0937-cf8d-46c5-ba5e-3e43799105db",
   "metadata": {},
   "source": [
    "### 필요 모듈 import 및 기본 설정"
   ]
  },
  {
   "cell_type": "code",
   "execution_count": 6,
   "id": "03396a75-2aec-47f7-b823-8885debd9b1d",
   "metadata": {},
   "outputs": [],
   "source": [
    "import pandas as pd\n",
    "import numpy as np\n",
    "import warnings\n",
    "\n",
    "\n",
    "# 경고 무시\n",
    "warnings.filterwarnings('ignore')\n",
    "\n",
    "SEED=123\n",
    "np.random.seed(SEED)"
   ]
  },
  {
   "cell_type": "markdown",
   "id": "6fe75475-e29e-47bb-9a3d-b729b7c74337",
   "metadata": {},
   "source": [
    "### 데이터 다운로드 및 제출 점검"
   ]
  },
  {
   "cell_type": "code",
   "execution_count": 7,
   "id": "357b24d3-10e2-4d8e-bfd3-b0fe42950c1c",
   "metadata": {},
   "outputs": [
    {
     "name": "stdout",
     "output_type": "stream",
     "text": [
      "파일 다운로드 완료\n",
      "====================\n",
      "\n",
      "데이터셋: 손글씨 이미지 분류\n",
      "파일경로: data\\submission.csv\n",
      "\n",
      "====================\n",
      "파일 다운로드 완료\n",
      "====================\n",
      "\n",
      "데이터셋: 손글씨 이미지 분류\n",
      "파일경로: data\\test.csv\n",
      "\n",
      "====================\n",
      "파일 다운로드 완료\n",
      "====================\n",
      "\n",
      "데이터셋: 손글씨 이미지 분류\n",
      "파일경로: data\\train.csv\n",
      "\n",
      "====================\n"
     ]
    }
   ],
   "source": [
    "download_data(project_name)"
   ]
  },
  {
   "cell_type": "code",
   "execution_count": 8,
   "id": "ed85af64-d28e-4c52-b869-9d30e6229a7f",
   "metadata": {},
   "outputs": [
    {
     "data": {
      "text/html": [
       "<div>\n",
       "<style scoped>\n",
       "    .dataframe tbody tr th:only-of-type {\n",
       "        vertical-align: middle;\n",
       "    }\n",
       "\n",
       "    .dataframe tbody tr th {\n",
       "        vertical-align: top;\n",
       "    }\n",
       "\n",
       "    .dataframe thead th {\n",
       "        text-align: right;\n",
       "    }\n",
       "</style>\n",
       "<table border=\"1\" class=\"dataframe\">\n",
       "  <thead>\n",
       "    <tr style=\"text-align: right;\">\n",
       "      <th></th>\n",
       "      <th>ImageId</th>\n",
       "      <th>Label</th>\n",
       "    </tr>\n",
       "  </thead>\n",
       "  <tbody>\n",
       "    <tr>\n",
       "      <th>0</th>\n",
       "      <td>1</td>\n",
       "      <td>NaN</td>\n",
       "    </tr>\n",
       "    <tr>\n",
       "      <th>1</th>\n",
       "      <td>2</td>\n",
       "      <td>NaN</td>\n",
       "    </tr>\n",
       "    <tr>\n",
       "      <th>2</th>\n",
       "      <td>3</td>\n",
       "      <td>NaN</td>\n",
       "    </tr>\n",
       "    <tr>\n",
       "      <th>3</th>\n",
       "      <td>4</td>\n",
       "      <td>NaN</td>\n",
       "    </tr>\n",
       "    <tr>\n",
       "      <th>4</th>\n",
       "      <td>5</td>\n",
       "      <td>NaN</td>\n",
       "    </tr>\n",
       "    <tr>\n",
       "      <th>...</th>\n",
       "      <td>...</td>\n",
       "      <td>...</td>\n",
       "    </tr>\n",
       "    <tr>\n",
       "      <th>10495</th>\n",
       "      <td>10496</td>\n",
       "      <td>NaN</td>\n",
       "    </tr>\n",
       "    <tr>\n",
       "      <th>10496</th>\n",
       "      <td>10497</td>\n",
       "      <td>NaN</td>\n",
       "    </tr>\n",
       "    <tr>\n",
       "      <th>10497</th>\n",
       "      <td>10498</td>\n",
       "      <td>NaN</td>\n",
       "    </tr>\n",
       "    <tr>\n",
       "      <th>10498</th>\n",
       "      <td>10499</td>\n",
       "      <td>NaN</td>\n",
       "    </tr>\n",
       "    <tr>\n",
       "      <th>10499</th>\n",
       "      <td>10500</td>\n",
       "      <td>NaN</td>\n",
       "    </tr>\n",
       "  </tbody>\n",
       "</table>\n",
       "<p>10500 rows × 2 columns</p>\n",
       "</div>"
      ],
      "text/plain": [
       "       ImageId  Label\n",
       "0            1    NaN\n",
       "1            2    NaN\n",
       "2            3    NaN\n",
       "3            4    NaN\n",
       "4            5    NaN\n",
       "...        ...    ...\n",
       "10495    10496    NaN\n",
       "10496    10497    NaN\n",
       "10497    10498    NaN\n",
       "10498    10499    NaN\n",
       "10499    10500    NaN\n",
       "\n",
       "[10500 rows x 2 columns]"
      ]
     },
     "execution_count": 8,
     "metadata": {},
     "output_type": "execute_result"
    }
   ],
   "source": [
    "train = pd.read_csv(\"data/train.csv\")\n",
    "test = pd.read_csv(\"data/test.csv\")\n",
    "submission = pd.read_csv(\"data/submission.csv\")\n",
    "submission # 제출 파일"
   ]
  },
  {
   "cell_type": "markdown",
   "id": "88b92537-2719-4901-93b9-acb3c8451dd1",
   "metadata": {},
   "source": [
    "### 결과 파일 제출 테스트"
   ]
  },
  {
   "cell_type": "code",
   "execution_count": 9,
   "id": "330a82b1-bf1e-4bd0-aeff-8c13fb50f41e",
   "metadata": {},
   "outputs": [
    {
     "data": {
      "text/html": [
       "<div>\n",
       "<style scoped>\n",
       "    .dataframe tbody tr th:only-of-type {\n",
       "        vertical-align: middle;\n",
       "    }\n",
       "\n",
       "    .dataframe tbody tr th {\n",
       "        vertical-align: top;\n",
       "    }\n",
       "\n",
       "    .dataframe thead th {\n",
       "        text-align: right;\n",
       "    }\n",
       "</style>\n",
       "<table border=\"1\" class=\"dataframe\">\n",
       "  <thead>\n",
       "    <tr style=\"text-align: right;\">\n",
       "      <th></th>\n",
       "      <th>ImageId</th>\n",
       "      <th>Label</th>\n",
       "    </tr>\n",
       "  </thead>\n",
       "  <tbody>\n",
       "    <tr>\n",
       "      <th>0</th>\n",
       "      <td>1</td>\n",
       "      <td>1</td>\n",
       "    </tr>\n",
       "    <tr>\n",
       "      <th>1</th>\n",
       "      <td>2</td>\n",
       "      <td>1</td>\n",
       "    </tr>\n",
       "    <tr>\n",
       "      <th>2</th>\n",
       "      <td>3</td>\n",
       "      <td>1</td>\n",
       "    </tr>\n",
       "    <tr>\n",
       "      <th>3</th>\n",
       "      <td>4</td>\n",
       "      <td>1</td>\n",
       "    </tr>\n",
       "    <tr>\n",
       "      <th>4</th>\n",
       "      <td>5</td>\n",
       "      <td>1</td>\n",
       "    </tr>\n",
       "    <tr>\n",
       "      <th>...</th>\n",
       "      <td>...</td>\n",
       "      <td>...</td>\n",
       "    </tr>\n",
       "    <tr>\n",
       "      <th>10495</th>\n",
       "      <td>10496</td>\n",
       "      <td>1</td>\n",
       "    </tr>\n",
       "    <tr>\n",
       "      <th>10496</th>\n",
       "      <td>10497</td>\n",
       "      <td>1</td>\n",
       "    </tr>\n",
       "    <tr>\n",
       "      <th>10497</th>\n",
       "      <td>10498</td>\n",
       "      <td>1</td>\n",
       "    </tr>\n",
       "    <tr>\n",
       "      <th>10498</th>\n",
       "      <td>10499</td>\n",
       "      <td>1</td>\n",
       "    </tr>\n",
       "    <tr>\n",
       "      <th>10499</th>\n",
       "      <td>10500</td>\n",
       "      <td>1</td>\n",
       "    </tr>\n",
       "  </tbody>\n",
       "</table>\n",
       "<p>10500 rows × 2 columns</p>\n",
       "</div>"
      ],
      "text/plain": [
       "       ImageId  Label\n",
       "0            1      1\n",
       "1            2      1\n",
       "2            3      1\n",
       "3            4      1\n",
       "4            5      1\n",
       "...        ...    ...\n",
       "10495    10496      1\n",
       "10496    10497      1\n",
       "10497    10498      1\n",
       "10498    10499      1\n",
       "10499    10500      1\n",
       "\n",
       "[10500 rows x 2 columns]"
      ]
     },
     "execution_count": 9,
     "metadata": {},
     "output_type": "execute_result"
    }
   ],
   "source": [
    "# 평가때는 아래 과정 없음\n"
   ]
  },
  {
   "cell_type": "code",
   "execution_count": 60,
   "id": "2fe9f588-83b6-429c-ba63-d144c7ac3354",
   "metadata": {},
   "outputs": [
    {
     "name": "stdout",
     "output_type": "stream",
     "text": [
      "파일을 저장하였습니다. 파일명: submission-11-36-40.csv\n",
      "제출 여부 :success\n",
      "오늘 제출 횟수 : 2\n",
      "제출 결과:0.11152380952380953\n"
     ]
    }
   ],
   "source": [
    "# pjt.submit(submission)"
   ]
  },
  {
   "cell_type": "markdown",
   "id": "a446f9fd-3a5a-4e18-abfb-736fe7c73100",
   "metadata": {},
   "source": []
  },
  {
   "cell_type": "code",
   "execution_count": null,
   "id": "f0318a18-8621-4aef-8a68-cea2b9d44efd",
   "metadata": {},
   "outputs": [],
   "source": []
  },
  {
   "cell_type": "code",
   "execution_count": null,
   "id": "37240dc2-baa4-46e7-878f-09a0c4d87456",
   "metadata": {},
   "outputs": [],
   "source": []
  },
  {
   "cell_type": "code",
   "execution_count": null,
   "id": "278d3a5c-74e5-4bc6-bd61-ed0e07c2a111",
   "metadata": {},
   "outputs": [],
   "source": []
  },
  {
   "cell_type": "markdown",
   "id": "dc0e039a-ed22-41c0-a558-522504acb718",
   "metadata": {},
   "source": [
    "## 여기서부터 코드를 작성/수정하세요\n",
    "#### - 데이터셋 로드, 전처리(필요시), 모델생성/컴파일, 학습\n",
    "#### - 아래 샘플코드들은 실제 시험 시 없을수 있습니다"
   ]
  },
  {
   "cell_type": "code",
   "execution_count": 62,
   "id": "45914010-8858-4382-a29d-2a1ba549ab59",
   "metadata": {},
   "outputs": [],
   "source": [
    "train = pd.read_csv(\"data/train.csv\")\n",
    "test = pd.read_csv(\"data/test.csv\")\n",
    "submission = pd.read_csv(\"data/submission.csv\")"
   ]
  },
  {
   "cell_type": "code",
   "execution_count": 63,
   "id": "666154ff-f6fd-4c50-be0d-235eb83aee85",
   "metadata": {},
   "outputs": [
    {
     "data": {
      "text/html": [
       "<div>\n",
       "<style scoped>\n",
       "    .dataframe tbody tr th:only-of-type {\n",
       "        vertical-align: middle;\n",
       "    }\n",
       "\n",
       "    .dataframe tbody tr th {\n",
       "        vertical-align: top;\n",
       "    }\n",
       "\n",
       "    .dataframe thead th {\n",
       "        text-align: right;\n",
       "    }\n",
       "</style>\n",
       "<table border=\"1\" class=\"dataframe\">\n",
       "  <thead>\n",
       "    <tr style=\"text-align: right;\">\n",
       "      <th></th>\n",
       "      <th>label</th>\n",
       "      <th>pixel0</th>\n",
       "      <th>pixel1</th>\n",
       "      <th>pixel2</th>\n",
       "      <th>pixel3</th>\n",
       "      <th>pixel4</th>\n",
       "      <th>pixel5</th>\n",
       "      <th>pixel6</th>\n",
       "      <th>pixel7</th>\n",
       "      <th>pixel8</th>\n",
       "      <th>...</th>\n",
       "      <th>pixel774</th>\n",
       "      <th>pixel775</th>\n",
       "      <th>pixel776</th>\n",
       "      <th>pixel777</th>\n",
       "      <th>pixel778</th>\n",
       "      <th>pixel779</th>\n",
       "      <th>pixel780</th>\n",
       "      <th>pixel781</th>\n",
       "      <th>pixel782</th>\n",
       "      <th>pixel783</th>\n",
       "    </tr>\n",
       "  </thead>\n",
       "  <tbody>\n",
       "    <tr>\n",
       "      <th>0</th>\n",
       "      <td>9</td>\n",
       "      <td>0</td>\n",
       "      <td>0</td>\n",
       "      <td>0</td>\n",
       "      <td>0</td>\n",
       "      <td>0</td>\n",
       "      <td>0</td>\n",
       "      <td>0</td>\n",
       "      <td>0</td>\n",
       "      <td>0</td>\n",
       "      <td>...</td>\n",
       "      <td>0</td>\n",
       "      <td>0</td>\n",
       "      <td>0</td>\n",
       "      <td>0</td>\n",
       "      <td>0</td>\n",
       "      <td>0</td>\n",
       "      <td>0</td>\n",
       "      <td>0</td>\n",
       "      <td>0</td>\n",
       "      <td>0</td>\n",
       "    </tr>\n",
       "    <tr>\n",
       "      <th>1</th>\n",
       "      <td>1</td>\n",
       "      <td>0</td>\n",
       "      <td>0</td>\n",
       "      <td>0</td>\n",
       "      <td>0</td>\n",
       "      <td>0</td>\n",
       "      <td>0</td>\n",
       "      <td>0</td>\n",
       "      <td>0</td>\n",
       "      <td>0</td>\n",
       "      <td>...</td>\n",
       "      <td>0</td>\n",
       "      <td>0</td>\n",
       "      <td>0</td>\n",
       "      <td>0</td>\n",
       "      <td>0</td>\n",
       "      <td>0</td>\n",
       "      <td>0</td>\n",
       "      <td>0</td>\n",
       "      <td>0</td>\n",
       "      <td>0</td>\n",
       "    </tr>\n",
       "    <tr>\n",
       "      <th>2</th>\n",
       "      <td>5</td>\n",
       "      <td>0</td>\n",
       "      <td>0</td>\n",
       "      <td>0</td>\n",
       "      <td>0</td>\n",
       "      <td>0</td>\n",
       "      <td>0</td>\n",
       "      <td>0</td>\n",
       "      <td>0</td>\n",
       "      <td>0</td>\n",
       "      <td>...</td>\n",
       "      <td>0</td>\n",
       "      <td>0</td>\n",
       "      <td>0</td>\n",
       "      <td>0</td>\n",
       "      <td>0</td>\n",
       "      <td>0</td>\n",
       "      <td>0</td>\n",
       "      <td>0</td>\n",
       "      <td>0</td>\n",
       "      <td>0</td>\n",
       "    </tr>\n",
       "    <tr>\n",
       "      <th>3</th>\n",
       "      <td>8</td>\n",
       "      <td>0</td>\n",
       "      <td>0</td>\n",
       "      <td>0</td>\n",
       "      <td>0</td>\n",
       "      <td>0</td>\n",
       "      <td>0</td>\n",
       "      <td>0</td>\n",
       "      <td>0</td>\n",
       "      <td>0</td>\n",
       "      <td>...</td>\n",
       "      <td>0</td>\n",
       "      <td>0</td>\n",
       "      <td>0</td>\n",
       "      <td>0</td>\n",
       "      <td>0</td>\n",
       "      <td>0</td>\n",
       "      <td>0</td>\n",
       "      <td>0</td>\n",
       "      <td>0</td>\n",
       "      <td>0</td>\n",
       "    </tr>\n",
       "    <tr>\n",
       "      <th>4</th>\n",
       "      <td>7</td>\n",
       "      <td>0</td>\n",
       "      <td>0</td>\n",
       "      <td>0</td>\n",
       "      <td>0</td>\n",
       "      <td>0</td>\n",
       "      <td>0</td>\n",
       "      <td>0</td>\n",
       "      <td>0</td>\n",
       "      <td>0</td>\n",
       "      <td>...</td>\n",
       "      <td>0</td>\n",
       "      <td>0</td>\n",
       "      <td>0</td>\n",
       "      <td>0</td>\n",
       "      <td>0</td>\n",
       "      <td>0</td>\n",
       "      <td>0</td>\n",
       "      <td>0</td>\n",
       "      <td>0</td>\n",
       "      <td>0</td>\n",
       "    </tr>\n",
       "  </tbody>\n",
       "</table>\n",
       "<p>5 rows × 785 columns</p>\n",
       "</div>"
      ],
      "text/plain": [
       "   label  pixel0  pixel1  pixel2  pixel3  pixel4  pixel5  pixel6  pixel7  \\\n",
       "0      9       0       0       0       0       0       0       0       0   \n",
       "1      1       0       0       0       0       0       0       0       0   \n",
       "2      5       0       0       0       0       0       0       0       0   \n",
       "3      8       0       0       0       0       0       0       0       0   \n",
       "4      7       0       0       0       0       0       0       0       0   \n",
       "\n",
       "   pixel8  ...  pixel774  pixel775  pixel776  pixel777  pixel778  pixel779  \\\n",
       "0       0  ...         0         0         0         0         0         0   \n",
       "1       0  ...         0         0         0         0         0         0   \n",
       "2       0  ...         0         0         0         0         0         0   \n",
       "3       0  ...         0         0         0         0         0         0   \n",
       "4       0  ...         0         0         0         0         0         0   \n",
       "\n",
       "   pixel780  pixel781  pixel782  pixel783  \n",
       "0         0         0         0         0  \n",
       "1         0         0         0         0  \n",
       "2         0         0         0         0  \n",
       "3         0         0         0         0  \n",
       "4         0         0         0         0  \n",
       "\n",
       "[5 rows x 785 columns]"
      ]
     },
     "execution_count": 63,
     "metadata": {},
     "output_type": "execute_result"
    }
   ],
   "source": [
    "train.head()"
   ]
  },
  {
   "cell_type": "code",
   "execution_count": 64,
   "id": "a4040d82-9dcc-49e1-97d6-6868c3132837",
   "metadata": {},
   "outputs": [
    {
     "data": {
      "text/plain": [
       "((31500, 784), (31500,), (10500, 784))"
      ]
     },
     "execution_count": 64,
     "metadata": {},
     "output_type": "execute_result"
    }
   ],
   "source": [
    "x_train = train.iloc[:,1:]\n",
    "y_train = train.iloc[:,0]\n",
    "x_test = test\n",
    "\n",
    "x_train.shape, y_train.shape, x_test.shape"
   ]
  },
  {
   "cell_type": "code",
   "execution_count": 65,
   "id": "08173d09-b0a8-409d-bc11-f538446a8343",
   "metadata": {},
   "outputs": [],
   "source": []
  },
  {
   "cell_type": "code",
   "execution_count": 66,
   "id": "6aa45dd5-4016-4899-bb1f-1d47acf3b0c3",
   "metadata": {},
   "outputs": [],
   "source": []
  },
  {
   "cell_type": "code",
   "execution_count": null,
   "id": "97b5d95f-c310-46eb-abab-5589b5fae015",
   "metadata": {},
   "outputs": [],
   "source": []
  },
  {
   "cell_type": "code",
   "execution_count": null,
   "id": "4acd8556-e357-41a5-8b7b-180147e42c43",
   "metadata": {},
   "outputs": [],
   "source": []
  },
  {
   "cell_type": "code",
   "execution_count": null,
   "id": "a5bcfcfd-2b6d-483f-ba9f-d3a5e68b0051",
   "metadata": {},
   "outputs": [],
   "source": []
  },
  {
   "cell_type": "code",
   "execution_count": 67,
   "id": "703c67e4-d0c9-4bdd-a8cb-49722b0dc27d",
   "metadata": {},
   "outputs": [
    {
     "data": {
      "text/plain": [
       "0.8858730158730159"
      ]
     },
     "execution_count": 67,
     "metadata": {},
     "output_type": "execute_result"
    }
   ],
   "source": []
  },
  {
   "cell_type": "markdown",
   "id": "c5831ca3-e93e-4675-8b00-188af2dab6d4",
   "metadata": {},
   "source": [
    "### 생성한 정답의 shape 및 타입 확인"
   ]
  },
  {
   "cell_type": "code",
   "execution_count": 68,
   "id": "a3a30b49-a6e0-4775-a094-196ab5b6e346",
   "metadata": {},
   "outputs": [
    {
     "data": {
      "text/plain": [
       "array([9, 9, 3, ..., 0, 6, 9], dtype=int64)"
      ]
     },
     "execution_count": 68,
     "metadata": {},
     "output_type": "execute_result"
    }
   ],
   "source": [
    "# 아래의 코드는 필요에따라 수정해서 사용합니다\n",
    "pred = model.predict(x_test)\n",
    "your_answer = pred\n",
    "your_answer"
   ]
  },
  {
   "cell_type": "code",
   "execution_count": 69,
   "id": "0ae23e01-b1ff-46e8-b38d-647bdffe42f2",
   "metadata": {},
   "outputs": [],
   "source": [
    "submission['Label'] = your_answer"
   ]
  },
  {
   "cell_type": "markdown",
   "id": "ba12779c-1400-4887-8a0a-007914f6c62a",
   "metadata": {},
   "source": [
    "## 결과 제출 (수정하지 마세요)\n",
    "\n",
    "### 순서대로 평가가 진행됩니다. 실행은 1회만 해주세요.\n",
    "\n",
    "- 느리다고 중지 후 다시 평가 코드를 실행하는 경우 제출 과정에서 패널티가 발생할 수 있습니다. (제출 횟수 이슈 발생 가능)\n",
    "\n",
    "- 전체 점수는 [평가시스템](http://manage.jaen.kr)에서 확인할 수 있습니다.\n",
    "    - 프로젝트 > 손글씨 이미지분류 > 리더보드 > 같은 반 리더보드\n",
    "\n",
    "- 아이디: 본인 이메일 아이디"
   ]
  },
  {
   "cell_type": "code",
   "execution_count": 70,
   "id": "2d88e99c-8ef5-413e-b71b-c7153a3f6499",
   "metadata": {},
   "outputs": [
    {
     "name": "stdout",
     "output_type": "stream",
     "text": [
      "파일을 저장하였습니다. 파일명: submission-11-36-48.csv\n",
      "제출 여부 :success\n",
      "오늘 제출 횟수 : 3\n",
      "제출 결과:0.8818095238095238\n"
     ]
    }
   ],
   "source": [
    "pjt.submit(submission)"
   ]
  }
 ],
 "metadata": {
  "kernelspec": {
   "display_name": "Python 3 (ipykernel)",
   "language": "python",
   "name": "python3"
  },
  "language_info": {
   "codemirror_mode": {
    "name": "ipython",
    "version": 3
   },
   "file_extension": ".py",
   "mimetype": "text/x-python",
   "name": "python",
   "nbconvert_exporter": "python",
   "pygments_lexer": "ipython3",
   "version": "3.11.0"
  }
 },
 "nbformat": 4,
 "nbformat_minor": 5
}
