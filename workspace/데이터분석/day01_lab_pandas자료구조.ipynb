{
 "cells": [
  {
   "cell_type": "markdown",
   "id": "75199d4d",
   "metadata": {},
   "source": [
    "# pandas\n",
    "\n",
    "SQL Table, Excel sheet 처럼 열, 행으로 이루어진 테이블 형식의 데이터 등의 분석에 이용하는 데이터 분석 패키지\n",
    "\n",
    "\n",
    "- import pandas as pd (pd는 pandas의 alias - 별칭 입니다)"
   ]
  },
  {
   "cell_type": "code",
   "execution_count": 1,
   "id": "16d3d64b",
   "metadata": {},
   "outputs": [],
   "source": [
    "# numpy는 np라는 이름으로\n",
    "# pandas는 pd라는 이름으로 import\n",
    "import pandas as pd\n",
    "import numpy as np"
   ]
  },
  {
   "cell_type": "markdown",
   "id": "c5ff5ee3",
   "metadata": {},
   "source": [
    "## Series\n",
    "\n",
    "1차원 배열을 담는 구조로 index를 통해 데이터를 구분  \n",
    "데이터타입 (dtype)을 갖는다."
   ]
  },
  {
   "cell_type": "markdown",
   "id": "aa36fbd2",
   "metadata": {},
   "source": [
    "### Series 생성 및 조회\n",
    "\n",
    "pd.Series()"
   ]
  },
  {
   "cell_type": "code",
   "execution_count": 3,
   "id": "3babd011",
   "metadata": {},
   "outputs": [
    {
     "data": {
      "text/plain": [
       "0    0\n",
       "1    1\n",
       "2    2\n",
       "3    3\n",
       "4    4\n",
       "5    5\n",
       "6    6\n",
       "7    7\n",
       "8    8\n",
       "dtype: int32"
      ]
     },
     "execution_count": 3,
     "metadata": {},
     "output_type": "execute_result"
    }
   ],
   "source": [
    "# 생성 : numpy array를 통해 0~8을 갖는 시리즈 생성\n",
    "\n",
    "array = pd.Series(np.arange(9))\n",
    "array"
   ]
  },
  {
   "cell_type": "code",
   "execution_count": 4,
   "id": "345798f6",
   "metadata": {},
   "outputs": [
    {
     "data": {
      "text/plain": [
       "0    0\n",
       "1    1\n",
       "2    2\n",
       "3    3\n",
       "4    4\n",
       "5    5\n",
       "6    6\n",
       "7    7\n",
       "8    8\n",
       "dtype: int64"
      ]
     },
     "execution_count": 4,
     "metadata": {},
     "output_type": "execute_result"
    }
   ],
   "source": [
    "# 생성 : list를 통해 0~8을 갖는 시리즈 생성\n",
    "\n",
    "array_list = pd.Series([0,1,2,3,4,5,6,7,8])\n",
    "array_list"
   ]
  },
  {
   "cell_type": "code",
   "execution_count": 5,
   "id": "ac75452f",
   "metadata": {},
   "outputs": [
    {
     "data": {
      "text/plain": [
       "0    91\n",
       "1     2\n",
       "2    헬로\n",
       "dtype: object"
      ]
     },
     "execution_count": 5,
     "metadata": {},
     "output_type": "execute_result"
    }
   ],
   "source": [
    "# 생성 : list를 통해 문자와 숫자가 섞인 시리즈 생성 후 데이터타입 확인\n",
    "\n",
    "s = pd.Series([91,2,\"헬로\"])\n",
    "s"
   ]
  },
  {
   "cell_type": "code",
   "execution_count": 6,
   "id": "832142cd",
   "metadata": {},
   "outputs": [
    {
     "data": {
      "text/plain": [
       "a    1\n",
       "b    2\n",
       "c    3\n",
       "dtype: int64"
      ]
     },
     "execution_count": 6,
     "metadata": {},
     "output_type": "execute_result"
    }
   ],
   "source": [
    "# 생성\n",
    "# list를 통해 index = ['a','b','c']\n",
    "# 데이터 값 [1,2,3]을 갖는 시리즈 s 생성\n",
    "\n",
    "s = pd.Series([1,2,3], index = [\"a\", \"b\", \"c\"])\n",
    "s"
   ]
  },
  {
   "cell_type": "code",
   "execution_count": 8,
   "id": "57aec456",
   "metadata": {},
   "outputs": [
    {
     "data": {
      "text/plain": [
       "1"
      ]
     },
     "execution_count": 8,
     "metadata": {},
     "output_type": "execute_result"
    }
   ],
   "source": [
    "# 시리즈 s 에서 인덱스 a을 조회\n",
    "s[\"a\"]"
   ]
  },
  {
   "cell_type": "code",
   "execution_count": 9,
   "id": "a7dfa8b9",
   "metadata": {},
   "outputs": [
    {
     "data": {
      "text/plain": [
       "1"
      ]
     },
     "execution_count": 9,
     "metadata": {},
     "output_type": "execute_result"
    }
   ],
   "source": [
    "# 시리즈 s 에서 인덱스 0을 조회\n",
    "s[0]"
   ]
  },
  {
   "cell_type": "markdown",
   "id": "ea4e65e1",
   "metadata": {},
   "source": [
    "### Series 속성\n",
    "\n",
    "_속성은 괄호를 쓰지 않는다_\n",
    "\n",
    "- index : index 조회, 수정 가능\n",
    "- values : 데이터 값만 np.array 형식으로 가져옴\n",
    "- ndim : 차원 - Series는 1차원이므로 무조건 1\n",
    "- shape : 데이터 모양, 개수 (튜플)"
   ]
  },
  {
   "cell_type": "code",
   "execution_count": 10,
   "id": "df93b2ea",
   "metadata": {},
   "outputs": [
    {
     "data": {
      "text/plain": [
       "Index(['a', 'b', 'c'], dtype='object')"
      ]
     },
     "execution_count": 10,
     "metadata": {},
     "output_type": "execute_result"
    }
   ],
   "source": [
    "# 시리즈 s의 index 조회\n",
    "s.index"
   ]
  },
  {
   "cell_type": "code",
   "execution_count": 12,
   "id": "b5d889ed",
   "metadata": {},
   "outputs": [
    {
     "data": {
      "text/plain": [
       "array([1, 2, 3], dtype=int64)"
      ]
     },
     "execution_count": 12,
     "metadata": {},
     "output_type": "execute_result"
    }
   ],
   "source": [
    "# 시리즈 s의 데이터값 조회\n",
    "s.values"
   ]
  },
  {
   "cell_type": "code",
   "execution_count": 13,
   "id": "8bf3da9d",
   "metadata": {
    "code_folding": []
   },
   "outputs": [
    {
     "data": {
      "text/plain": [
       "1"
      ]
     },
     "execution_count": 13,
     "metadata": {},
     "output_type": "execute_result"
    }
   ],
   "source": [
    "# 시리즈 s의 차원 조회\n",
    "s.ndim"
   ]
  },
  {
   "cell_type": "code",
   "execution_count": 14,
   "id": "4db840ef",
   "metadata": {},
   "outputs": [
    {
     "data": {
      "text/plain": [
       "(3,)"
      ]
     },
     "execution_count": 14,
     "metadata": {},
     "output_type": "execute_result"
    }
   ],
   "source": [
    "# 시리즈의 shape 조회\n",
    "s.shape"
   ]
  },
  {
   "cell_type": "markdown",
   "id": "4a2d2850",
   "metadata": {},
   "source": [
    "Pandas에서 **NaN 값**은 비어있는 **결측치 데이터**를 의합니다.\n",
    "\n",
    "임의로 비어있는 값을 대입하고자 할 때는 **numpy의 nan (np.nan)**을 입력"
   ]
  },
  {
   "cell_type": "code",
   "execution_count": 15,
   "id": "b00dbcaa",
   "metadata": {},
   "outputs": [
    {
     "data": {
      "text/plain": [
       "0      1\n",
       "1      2\n",
       "2    NaN\n",
       "3      a\n",
       "dtype: object"
      ]
     },
     "execution_count": 15,
     "metadata": {},
     "output_type": "execute_result"
    }
   ],
   "source": [
    "# 비어 있는 값을 포함한 시리즈 생성\n",
    "\n",
    "s = pd.Series([1,2, np.nan,\"a\"])\n",
    "s"
   ]
  },
  {
   "cell_type": "markdown",
   "id": "e1ba26a7",
   "metadata": {},
   "source": [
    "isnull()과 isna()은 NaN 값을 찾는 함수"
   ]
  },
  {
   "cell_type": "code",
   "execution_count": 17,
   "id": "108e6027",
   "metadata": {},
   "outputs": [
    {
     "data": {
      "text/plain": [
       "0    False\n",
       "1    False\n",
       "2     True\n",
       "3    False\n",
       "dtype: bool"
      ]
     },
     "execution_count": 17,
     "metadata": {},
     "output_type": "execute_result"
    }
   ],
   "source": [
    "# NaN값 조회\n",
    "s.isnull()\n",
    "s.isna()"
   ]
  },
  {
   "cell_type": "markdown",
   "id": "36520424",
   "metadata": {},
   "source": [
    "### 연습"
   ]
  },
  {
   "cell_type": "markdown",
   "id": "4e3c2e20",
   "metadata": {},
   "source": [
    "> s1 변수에 Series를 생성하세요.  \n",
    "• dtype은 'float32＇로 지정"
   ]
  },
  {
   "cell_type": "code",
   "execution_count": 20,
   "id": "6b6158ac",
   "metadata": {},
   "outputs": [
    {
     "data": {
      "text/plain": [
       "0    1.0\n",
       "1    2.0\n",
       "2    3.0\n",
       "dtype: float32"
      ]
     },
     "execution_count": 20,
     "metadata": {},
     "output_type": "execute_result"
    }
   ],
   "source": [
    "s1 = pd.Series([1,2,3],dtype = \"float32\")\n",
    "s1"
   ]
  },
  {
   "cell_type": "markdown",
   "id": "4892f5d8",
   "metadata": {},
   "source": [
    ">아래와 같은 시리즈를 생성하세요\n",
    "\n",
    "가       apple  \n",
    "나         NaN  \n",
    "다      banana  \n",
    "라   pineapple  \n",
    "마      orange  \n",
    "dtype: object  "
   ]
  },
  {
   "cell_type": "code",
   "execution_count": 21,
   "id": "64beb0e4-26e5-4501-9c58-c7151b0ae7b5",
   "metadata": {},
   "outputs": [
    {
     "data": {
      "text/plain": [
       "가        apple\n",
       "나          NaN\n",
       "다       banana\n",
       "라    pineapple\n",
       "마       orange\n",
       "dtype: object"
      ]
     },
     "execution_count": 21,
     "metadata": {},
     "output_type": "execute_result"
    }
   ],
   "source": [
    "s2 = pd.Series([\"apple\", np.nan, \"banana\", \"pineapple\",\"orange\"], index = [\"가\",\"나\",\"다\",\"라\",\"마\"])\n",
    "s2"
   ]
  },
  {
   "cell_type": "markdown",
   "id": "47328c1c",
   "metadata": {},
   "source": [
    "## Series Indexing"
   ]
  },
  {
   "cell_type": "code",
   "execution_count": 22,
   "id": "596519e7",
   "metadata": {},
   "outputs": [
    {
     "data": {
      "text/plain": [
       "a    손흥민\n",
       "b    김연아\n",
       "c    박세리\n",
       "d    박찬호\n",
       "e    김연경\n",
       "dtype: object"
      ]
     },
     "execution_count": 22,
     "metadata": {},
     "output_type": "execute_result"
    }
   ],
   "source": [
    "# 실행\n",
    "s = pd.Series(['손흥민', '김연아', '박세리', '박찬호', '김연경'], index=['a', 'b', 'c', 'd', 'e'])\n",
    "s"
   ]
  },
  {
   "cell_type": "markdown",
   "id": "8fc55a42",
   "metadata": {},
   "source": [
    "### 팬시 인덱싱\n",
    "\n",
    "**fancy indexing**은 특정 index list로 선택하여 indexing 하는 방법"
   ]
  },
  {
   "cell_type": "code",
   "execution_count": 23,
   "id": "8887dac1",
   "metadata": {},
   "outputs": [
    {
     "data": {
      "text/plain": [
       "b    김연아\n",
       "c    박세리\n",
       "d    박찬호\n",
       "dtype: object"
      ]
     },
     "execution_count": 23,
     "metadata": {},
     "output_type": "execute_result"
    }
   ],
   "source": [
    "# 시리즈 s의 인덱스 b,c,d 를 조회\n",
    "s[[\"b\",\"c\",\"d\"]]"
   ]
  },
  {
   "cell_type": "markdown",
   "id": "c3df17f1",
   "metadata": {},
   "source": [
    "### boolean 인덱싱\n",
    "시리즈와 같은 개수의 boolean index list(True/False)로 선택하는 방법"
   ]
  },
  {
   "cell_type": "code",
   "execution_count": 25,
   "id": "76b0885c",
   "metadata": {},
   "outputs": [
    {
     "data": {
      "text/plain": [
       "a    손흥민\n",
       "d    박찬호\n",
       "dtype: object"
      ]
     },
     "execution_count": 25,
     "metadata": {},
     "output_type": "execute_result"
    }
   ],
   "source": [
    "# 남, 녀를 boolean list로 직접 만들어 남자만 조회\n",
    "boolean_list = [True,False,False,True,False]\n",
    "s[boolean_list]"
   ]
  },
  {
   "cell_type": "markdown",
   "id": "82842017",
   "metadata": {},
   "source": [
    "### 조건 인덱싱\n",
    "조건을 통해 boolean list를 만들어 사용"
   ]
  },
  {
   "cell_type": "code",
   "execution_count": 26,
   "id": "8db2442c",
   "metadata": {},
   "outputs": [
    {
     "data": {
      "text/plain": [
       "a    29.0\n",
       "b    99.0\n",
       "c     NaN\n",
       "d    11.0\n",
       "e    56.0\n",
       "dtype: float64"
      ]
     },
     "execution_count": 26,
     "metadata": {},
     "output_type": "execute_result"
    }
   ],
   "source": [
    "# 실행\n",
    "s = pd.Series([29, 99, np.nan, 11, 56], index=['a', 'b', 'c', 'd', 'e'])\n",
    "s"
   ]
  },
  {
   "cell_type": "code",
   "execution_count": 27,
   "id": "201dbf62",
   "metadata": {},
   "outputs": [
    {
     "data": {
      "text/plain": [
       "b    99.0\n",
       "e    56.0\n",
       "dtype: float64"
      ]
     },
     "execution_count": 27,
     "metadata": {},
     "output_type": "execute_result"
    }
   ],
   "source": [
    "# s 가 50 이상인 경우 조회\n",
    "s[s>=50]"
   ]
  },
  {
   "cell_type": "markdown",
   "id": "60545765",
   "metadata": {},
   "source": [
    "## Series slicing\n",
    "\n",
    "\n",
    "> **주의**  \n",
    "\n",
    "숫자형일 경우 끝 index 포함X\n",
    "\n",
    "새롭게 만든 인덱스일 경우 끝 index도 포함O"
   ]
  },
  {
   "cell_type": "code",
   "execution_count": 30,
   "id": "880c4065",
   "metadata": {},
   "outputs": [
    {
     "data": {
      "text/plain": [
       "a    29.0\n",
       "b    99.0\n",
       "c     NaN\n",
       "dtype: float64"
      ]
     },
     "execution_count": 30,
     "metadata": {},
     "output_type": "execute_result"
    }
   ],
   "source": [
    "# 숫자로 조회 0~2\n",
    "s[:3]"
   ]
  },
  {
   "cell_type": "code",
   "execution_count": 31,
   "id": "cc4e62f2",
   "metadata": {},
   "outputs": [
    {
     "data": {
      "text/plain": [
       "a    29.0\n",
       "b    99.0\n",
       "c     NaN\n",
       "dtype: float64"
      ]
     },
     "execution_count": 31,
     "metadata": {},
     "output_type": "execute_result"
    }
   ],
   "source": [
    "# 인덱스로 조회 a~c\n",
    "s[\"a\":\"c\"]"
   ]
  },
  {
   "cell_type": "markdown",
   "id": "03776220",
   "metadata": {},
   "source": [
    "## DataFrame\n",
    "\n",
    "2차원 배열을 담는 구조로 행(row)과 열(column)으로 구성된 Data  \n",
    "\n",
    "list, dictionary로 생성 가능\n",
    "\n",
    "list : columns 인자로 컬럼명 지정가능  \n",
    "dic : key가 column, value값이 각 칼럼의 값이 됨"
   ]
  },
  {
   "cell_type": "code",
   "execution_count": 32,
   "id": "ba561322",
   "metadata": {},
   "outputs": [
    {
     "data": {
      "text/html": [
       "<div>\n",
       "<style scoped>\n",
       "    .dataframe tbody tr th:only-of-type {\n",
       "        vertical-align: middle;\n",
       "    }\n",
       "\n",
       "    .dataframe tbody tr th {\n",
       "        vertical-align: top;\n",
       "    }\n",
       "\n",
       "    .dataframe thead th {\n",
       "        text-align: right;\n",
       "    }\n",
       "</style>\n",
       "<table border=\"1\" class=\"dataframe\">\n",
       "  <thead>\n",
       "    <tr style=\"text-align: right;\">\n",
       "      <th></th>\n",
       "      <th>a</th>\n",
       "      <th>b</th>\n",
       "      <th>c</th>\n",
       "    </tr>\n",
       "  </thead>\n",
       "  <tbody>\n",
       "    <tr>\n",
       "      <th>0</th>\n",
       "      <td>1</td>\n",
       "      <td>2</td>\n",
       "      <td>3</td>\n",
       "    </tr>\n",
       "    <tr>\n",
       "      <th>1</th>\n",
       "      <td>4</td>\n",
       "      <td>5</td>\n",
       "      <td>6</td>\n",
       "    </tr>\n",
       "    <tr>\n",
       "      <th>2</th>\n",
       "      <td>7</td>\n",
       "      <td>8</td>\n",
       "      <td>9</td>\n",
       "    </tr>\n",
       "  </tbody>\n",
       "</table>\n",
       "</div>"
      ],
      "text/plain": [
       "   a  b  c\n",
       "0  1  2  3\n",
       "1  4  5  6\n",
       "2  7  8  9"
      ]
     },
     "execution_count": 32,
     "metadata": {},
     "output_type": "execute_result"
    }
   ],
   "source": [
    "# 리스트로 데이터프레임 생성\n",
    "pd.DataFrame([\n",
    "    [1,2,3],\n",
    "    [4,5,6],\n",
    "    [7,8,9]\n",
    "], columns=['a', 'b', 'c'])"
   ]
  },
  {
   "cell_type": "code",
   "execution_count": 33,
   "id": "87aabec0",
   "metadata": {},
   "outputs": [
    {
     "data": {
      "text/html": [
       "<div>\n",
       "<style scoped>\n",
       "    .dataframe tbody tr th:only-of-type {\n",
       "        vertical-align: middle;\n",
       "    }\n",
       "\n",
       "    .dataframe tbody tr th {\n",
       "        vertical-align: top;\n",
       "    }\n",
       "\n",
       "    .dataframe thead th {\n",
       "        text-align: right;\n",
       "    }\n",
       "</style>\n",
       "<table border=\"1\" class=\"dataframe\">\n",
       "  <thead>\n",
       "    <tr style=\"text-align: right;\">\n",
       "      <th></th>\n",
       "      <th>a</th>\n",
       "      <th>b</th>\n",
       "      <th>c</th>\n",
       "    </tr>\n",
       "  </thead>\n",
       "  <tbody>\n",
       "    <tr>\n",
       "      <th>0</th>\n",
       "      <td>1</td>\n",
       "      <td>2</td>\n",
       "      <td>3</td>\n",
       "    </tr>\n",
       "    <tr>\n",
       "      <th>1</th>\n",
       "      <td>4</td>\n",
       "      <td>5</td>\n",
       "      <td>6</td>\n",
       "    </tr>\n",
       "    <tr>\n",
       "      <th>2</th>\n",
       "      <td>7</td>\n",
       "      <td>8</td>\n",
       "      <td>9</td>\n",
       "    </tr>\n",
       "  </tbody>\n",
       "</table>\n",
       "</div>"
      ],
      "text/plain": [
       "   a  b  c\n",
       "0  1  2  3\n",
       "1  4  5  6\n",
       "2  7  8  9"
      ]
     },
     "execution_count": 33,
     "metadata": {},
     "output_type": "execute_result"
    }
   ],
   "source": [
    "# 딕셔너리로 위와 똑같은 데이터 프레임 생성\n",
    "\n",
    "pd.DataFrame({\"a\":[1,4,7],\"b\":[2,5,8],\"c\":[3,6,9]})"
   ]
  },
  {
   "cell_type": "markdown",
   "id": "dcaeb5fc",
   "metadata": {},
   "source": [
    "### 데이터프레임 속성\n",
    "\n",
    "- **index**: index (기본 값으로 RangeIndex)\n",
    "- **columns**: column 명\n",
    "- **values**: numpy array형식의 데이터 값\n",
    "- **dtypes**: column 별 데이터 타입\n",
    "- **T**: DataFrame을 전치(Transpose)"
   ]
  },
  {
   "cell_type": "code",
   "execution_count": 44,
   "id": "4e864318",
   "metadata": {},
   "outputs": [
    {
     "data": {
      "text/html": [
       "<div>\n",
       "<style scoped>\n",
       "    .dataframe tbody tr th:only-of-type {\n",
       "        vertical-align: middle;\n",
       "    }\n",
       "\n",
       "    .dataframe tbody tr th {\n",
       "        vertical-align: top;\n",
       "    }\n",
       "\n",
       "    .dataframe thead th {\n",
       "        text-align: right;\n",
       "    }\n",
       "</style>\n",
       "<table border=\"1\" class=\"dataframe\">\n",
       "  <thead>\n",
       "    <tr style=\"text-align: right;\">\n",
       "      <th></th>\n",
       "      <th>name</th>\n",
       "      <th>age</th>\n",
       "      <th>children</th>\n",
       "    </tr>\n",
       "  </thead>\n",
       "  <tbody>\n",
       "    <tr>\n",
       "      <th>0</th>\n",
       "      <td>Kim</td>\n",
       "      <td>24</td>\n",
       "      <td>2</td>\n",
       "    </tr>\n",
       "    <tr>\n",
       "      <th>1</th>\n",
       "      <td>Lee</td>\n",
       "      <td>27</td>\n",
       "      <td>1</td>\n",
       "    </tr>\n",
       "    <tr>\n",
       "      <th>2</th>\n",
       "      <td>Park</td>\n",
       "      <td>34</td>\n",
       "      <td>3</td>\n",
       "    </tr>\n",
       "  </tbody>\n",
       "</table>\n",
       "</div>"
      ],
      "text/plain": [
       "   name  age  children\n",
       "0   Kim   24         2\n",
       "1   Lee   27         1\n",
       "2  Park   34         3"
      ]
     },
     "execution_count": 44,
     "metadata": {},
     "output_type": "execute_result"
    }
   ],
   "source": [
    "# data 정보를 df 변수에 데이터프레임 형태로 저장\n",
    "data = {\n",
    "    'name': ['Kim', 'Lee', 'Park'], \n",
    "    'age': [24, 27, 34], \n",
    "    'children': [2, 1, 3]\n",
    "}\n",
    "\n",
    "df = pd.DataFrame(data)\n",
    "df\n"
   ]
  },
  {
   "cell_type": "code",
   "execution_count": 48,
   "id": "058d0c33",
   "metadata": {},
   "outputs": [
    {
     "name": "stdout",
     "output_type": "stream",
     "text": [
      "인덱스 : Index(['a', 'b', 'c'], dtype='object')\n",
      "칼럼명 : Index(['name', 'age', 'children'], dtype='object')\n",
      "데이터값 : [['Kim' 24 2]\n",
      " ['Lee' 27 1]\n",
      " ['Park' 34 3]]\n",
      "칼럼별 데이터 타입 : name        object\n",
      "age          int64\n",
      "children     int64\n",
      "dtype: object\n"
     ]
    }
   ],
   "source": [
    "# print(f'인덱스 :', df.속성) 형태로 다양한 속성 조회\n",
    "print(f'인덱스 :', df.index)\n",
    "print(f'칼럼명 :', df.columns)\n",
    "print(f'데이터값 :', df.values)\n",
    "print(f'칼럼별 데이터 타입 :', df.dtypes)"
   ]
  },
  {
   "cell_type": "code",
   "execution_count": 47,
   "id": "47e87d2e",
   "metadata": {},
   "outputs": [
    {
     "data": {
      "text/html": [
       "<div>\n",
       "<style scoped>\n",
       "    .dataframe tbody tr th:only-of-type {\n",
       "        vertical-align: middle;\n",
       "    }\n",
       "\n",
       "    .dataframe tbody tr th {\n",
       "        vertical-align: top;\n",
       "    }\n",
       "\n",
       "    .dataframe thead th {\n",
       "        text-align: right;\n",
       "    }\n",
       "</style>\n",
       "<table border=\"1\" class=\"dataframe\">\n",
       "  <thead>\n",
       "    <tr style=\"text-align: right;\">\n",
       "      <th></th>\n",
       "      <th>name</th>\n",
       "      <th>age</th>\n",
       "      <th>children</th>\n",
       "    </tr>\n",
       "  </thead>\n",
       "  <tbody>\n",
       "    <tr>\n",
       "      <th>a</th>\n",
       "      <td>Kim</td>\n",
       "      <td>24</td>\n",
       "      <td>2</td>\n",
       "    </tr>\n",
       "    <tr>\n",
       "      <th>b</th>\n",
       "      <td>Lee</td>\n",
       "      <td>27</td>\n",
       "      <td>1</td>\n",
       "    </tr>\n",
       "    <tr>\n",
       "      <th>c</th>\n",
       "      <td>Park</td>\n",
       "      <td>34</td>\n",
       "      <td>3</td>\n",
       "    </tr>\n",
       "  </tbody>\n",
       "</table>\n",
       "</div>"
      ],
      "text/plain": [
       "   name  age  children\n",
       "a   Kim   24         2\n",
       "b   Lee   27         1\n",
       "c  Park   34         3"
      ]
     },
     "execution_count": 47,
     "metadata": {},
     "output_type": "execute_result"
    }
   ],
   "source": [
    "# 인덱스를 a,b,c로 수정\n",
    "df.index = [\"a\",\"b\",\"c\"]\n",
    "df"
   ]
  },
  {
   "cell_type": "markdown",
   "id": "fdc7f6fb",
   "metadata": {},
   "source": [
    "### column 다루기"
   ]
  },
  {
   "cell_type": "code",
   "execution_count": 49,
   "id": "6806762d",
   "metadata": {},
   "outputs": [
    {
     "data": {
      "text/plain": [
       "a     Kim\n",
       "b     Lee\n",
       "c    Park\n",
       "Name: name, dtype: object"
      ]
     },
     "execution_count": 49,
     "metadata": {},
     "output_type": "execute_result"
    }
   ],
   "source": [
    "# 'name' 칼럼만 선택\n",
    "df[\"name\"]"
   ]
  },
  {
   "cell_type": "code",
   "execution_count": 51,
   "id": "d1d8e59f",
   "metadata": {},
   "outputs": [
    {
     "data": {
      "text/html": [
       "<div>\n",
       "<style scoped>\n",
       "    .dataframe tbody tr th:only-of-type {\n",
       "        vertical-align: middle;\n",
       "    }\n",
       "\n",
       "    .dataframe tbody tr th {\n",
       "        vertical-align: top;\n",
       "    }\n",
       "\n",
       "    .dataframe thead th {\n",
       "        text-align: right;\n",
       "    }\n",
       "</style>\n",
       "<table border=\"1\" class=\"dataframe\">\n",
       "  <thead>\n",
       "    <tr style=\"text-align: right;\">\n",
       "      <th></th>\n",
       "      <th>name</th>\n",
       "      <th>age</th>\n",
       "    </tr>\n",
       "  </thead>\n",
       "  <tbody>\n",
       "    <tr>\n",
       "      <th>a</th>\n",
       "      <td>Kim</td>\n",
       "      <td>24</td>\n",
       "    </tr>\n",
       "    <tr>\n",
       "      <th>b</th>\n",
       "      <td>Lee</td>\n",
       "      <td>27</td>\n",
       "    </tr>\n",
       "    <tr>\n",
       "      <th>c</th>\n",
       "      <td>Park</td>\n",
       "      <td>34</td>\n",
       "    </tr>\n",
       "  </tbody>\n",
       "</table>\n",
       "</div>"
      ],
      "text/plain": [
       "   name  age\n",
       "a   Kim   24\n",
       "b   Lee   27\n",
       "c  Park   34"
      ]
     },
     "execution_count": 51,
     "metadata": {},
     "output_type": "execute_result"
    }
   ],
   "source": [
    "# 'name', 'age' 칼럼 선택\n",
    "df[[\"name\",\"age\"]]"
   ]
  },
  {
   "cell_type": "markdown",
   "id": "20577e94",
   "metadata": {},
   "source": [
    "DataFrame.rename(columns={기존이름:새로운이름}) 으로 칼럼명 변경가능"
   ]
  },
  {
   "cell_type": "code",
   "execution_count": 59,
   "id": "42362811",
   "metadata": {},
   "outputs": [
    {
     "data": {
      "text/html": [
       "<div>\n",
       "<style scoped>\n",
       "    .dataframe tbody tr th:only-of-type {\n",
       "        vertical-align: middle;\n",
       "    }\n",
       "\n",
       "    .dataframe tbody tr th {\n",
       "        vertical-align: top;\n",
       "    }\n",
       "\n",
       "    .dataframe thead th {\n",
       "        text-align: right;\n",
       "    }\n",
       "</style>\n",
       "<table border=\"1\" class=\"dataframe\">\n",
       "  <thead>\n",
       "    <tr style=\"text-align: right;\">\n",
       "      <th></th>\n",
       "      <th>name</th>\n",
       "      <th>age</th>\n",
       "      <th>child</th>\n",
       "    </tr>\n",
       "  </thead>\n",
       "  <tbody>\n",
       "    <tr>\n",
       "      <th>a</th>\n",
       "      <td>Kim</td>\n",
       "      <td>24</td>\n",
       "      <td>2</td>\n",
       "    </tr>\n",
       "    <tr>\n",
       "      <th>b</th>\n",
       "      <td>Lee</td>\n",
       "      <td>27</td>\n",
       "      <td>1</td>\n",
       "    </tr>\n",
       "    <tr>\n",
       "      <th>c</th>\n",
       "      <td>Park</td>\n",
       "      <td>34</td>\n",
       "      <td>3</td>\n",
       "    </tr>\n",
       "  </tbody>\n",
       "</table>\n",
       "</div>"
      ],
      "text/plain": [
       "   name  age  child\n",
       "a   Kim   24      2\n",
       "b   Lee   27      1\n",
       "c  Park   34      3"
      ]
     },
     "execution_count": 59,
     "metadata": {},
     "output_type": "execute_result"
    }
   ],
   "source": [
    "# children 칼럼을 child로 변경\n",
    "df = df.rename(columns = {\"children\":\"child\"})\n",
    "df\n"
   ]
  },
  {
   "cell_type": "markdown",
   "id": "0a255a94",
   "metadata": {},
   "source": [
    "### 연습"
   ]
  },
  {
   "cell_type": "markdown",
   "id": "066358b3",
   "metadata": {},
   "source": [
    "Info)\n",
    "\n",
    "식당 : KFC, 맥도날드, 버거킹  \n",
    "가격 : 1000, 1000, 2000  \n",
    "별점 : 4, 3, 4\n"
   ]
  },
  {
   "cell_type": "code",
   "execution_count": 65,
   "id": "a4f1b9ab",
   "metadata": {},
   "outputs": [
    {
     "data": {
      "text/html": [
       "<div>\n",
       "<style scoped>\n",
       "    .dataframe tbody tr th:only-of-type {\n",
       "        vertical-align: middle;\n",
       "    }\n",
       "\n",
       "    .dataframe tbody tr th {\n",
       "        vertical-align: top;\n",
       "    }\n",
       "\n",
       "    .dataframe thead th {\n",
       "        text-align: right;\n",
       "    }\n",
       "</style>\n",
       "<table border=\"1\" class=\"dataframe\">\n",
       "  <thead>\n",
       "    <tr style=\"text-align: right;\">\n",
       "      <th></th>\n",
       "      <th>식당</th>\n",
       "      <th>가격</th>\n",
       "      <th>별점</th>\n",
       "    </tr>\n",
       "  </thead>\n",
       "  <tbody>\n",
       "    <tr>\n",
       "      <th>0</th>\n",
       "      <td>KFC</td>\n",
       "      <td>1000</td>\n",
       "      <td>4</td>\n",
       "    </tr>\n",
       "    <tr>\n",
       "      <th>1</th>\n",
       "      <td>맥도날드</td>\n",
       "      <td>1000</td>\n",
       "      <td>3</td>\n",
       "    </tr>\n",
       "    <tr>\n",
       "      <th>2</th>\n",
       "      <td>버거킹</td>\n",
       "      <td>2000</td>\n",
       "      <td>4</td>\n",
       "    </tr>\n",
       "  </tbody>\n",
       "</table>\n",
       "</div>"
      ],
      "text/plain": [
       "     식당    가격  별점\n",
       "0   KFC  1000   4\n",
       "1  맥도날드  1000   3\n",
       "2   버거킹  2000   4"
      ]
     },
     "execution_count": 65,
     "metadata": {},
     "output_type": "execute_result"
    }
   ],
   "source": [
    "# Info 정보를 갖는 데이터프레임 df를 생성하세요\n",
    "\n",
    "data  = {\n",
    "    \"식당\":[\"KFC\", \"맥도날드\", \"버거킹\"],\n",
    "    \"가격\":[1000,1000,2000],\n",
    "    \"별점\":[4,3,4]}\n",
    "data\n",
    "df = pd.DataFrame(data)\n",
    "df"
   ]
  },
  {
   "cell_type": "code",
   "execution_count": 63,
   "id": "c3d871de",
   "metadata": {},
   "outputs": [
    {
     "data": {
      "text/html": [
       "<div>\n",
       "<style scoped>\n",
       "    .dataframe tbody tr th:only-of-type {\n",
       "        vertical-align: middle;\n",
       "    }\n",
       "\n",
       "    .dataframe tbody tr th {\n",
       "        vertical-align: top;\n",
       "    }\n",
       "\n",
       "    .dataframe thead th {\n",
       "        text-align: right;\n",
       "    }\n",
       "</style>\n",
       "<table border=\"1\" class=\"dataframe\">\n",
       "  <thead>\n",
       "    <tr style=\"text-align: right;\">\n",
       "      <th></th>\n",
       "      <th>식당</th>\n",
       "      <th>별점</th>\n",
       "    </tr>\n",
       "  </thead>\n",
       "  <tbody>\n",
       "    <tr>\n",
       "      <th>0</th>\n",
       "      <td>KFC</td>\n",
       "      <td>4</td>\n",
       "    </tr>\n",
       "    <tr>\n",
       "      <th>1</th>\n",
       "      <td>맥도날드</td>\n",
       "      <td>3</td>\n",
       "    </tr>\n",
       "    <tr>\n",
       "      <th>2</th>\n",
       "      <td>버거킹</td>\n",
       "      <td>4</td>\n",
       "    </tr>\n",
       "  </tbody>\n",
       "</table>\n",
       "</div>"
      ],
      "text/plain": [
       "     식당  별점\n",
       "0   KFC   4\n",
       "1  맥도날드   3\n",
       "2   버거킹   4"
      ]
     },
     "execution_count": 63,
     "metadata": {},
     "output_type": "execute_result"
    }
   ],
   "source": [
    "# 식당이름과 별점을 조회하세요\n",
    "df[[\"식당\", \"별점\"]]\n"
   ]
  },
  {
   "cell_type": "code",
   "execution_count": 64,
   "id": "f0ca1dbf",
   "metadata": {},
   "outputs": [
    {
     "data": {
      "text/html": [
       "<div>\n",
       "<style scoped>\n",
       "    .dataframe tbody tr th:only-of-type {\n",
       "        vertical-align: middle;\n",
       "    }\n",
       "\n",
       "    .dataframe tbody tr th {\n",
       "        vertical-align: top;\n",
       "    }\n",
       "\n",
       "    .dataframe thead th {\n",
       "        text-align: right;\n",
       "    }\n",
       "</style>\n",
       "<table border=\"1\" class=\"dataframe\">\n",
       "  <thead>\n",
       "    <tr style=\"text-align: right;\">\n",
       "      <th></th>\n",
       "      <th>브랜드</th>\n",
       "      <th>가격</th>\n",
       "      <th>별점</th>\n",
       "    </tr>\n",
       "  </thead>\n",
       "  <tbody>\n",
       "    <tr>\n",
       "      <th>0</th>\n",
       "      <td>KFC</td>\n",
       "      <td>1000</td>\n",
       "      <td>4</td>\n",
       "    </tr>\n",
       "    <tr>\n",
       "      <th>1</th>\n",
       "      <td>맥도날드</td>\n",
       "      <td>1000</td>\n",
       "      <td>3</td>\n",
       "    </tr>\n",
       "    <tr>\n",
       "      <th>2</th>\n",
       "      <td>버거킹</td>\n",
       "      <td>2000</td>\n",
       "      <td>4</td>\n",
       "    </tr>\n",
       "  </tbody>\n",
       "</table>\n",
       "</div>"
      ],
      "text/plain": [
       "    브랜드    가격  별점\n",
       "0   KFC  1000   4\n",
       "1  맥도날드  1000   3\n",
       "2   버거킹  2000   4"
      ]
     },
     "execution_count": 64,
     "metadata": {},
     "output_type": "execute_result"
    }
   ],
   "source": [
    "# 칼럼명 '식당'을 '브랜드'로 수정하세요\n",
    "\n",
    "df = df.rename(columns = {\"식당\":\"브랜드\"})\n",
    "df"
   ]
  },
  {
   "cell_type": "code",
   "execution_count": 122,
   "id": "29b15ff0-5cdc-4897-b2d0-e30608abab39",
   "metadata": {
    "scrolled": true
   },
   "outputs": [
    {
     "data": {
      "text/html": [
       "<div>\n",
       "<style scoped>\n",
       "    .dataframe tbody tr th:only-of-type {\n",
       "        vertical-align: middle;\n",
       "    }\n",
       "\n",
       "    .dataframe tbody tr th {\n",
       "        vertical-align: top;\n",
       "    }\n",
       "\n",
       "    .dataframe thead th {\n",
       "        text-align: right;\n",
       "    }\n",
       "</style>\n",
       "<table border=\"1\" class=\"dataframe\">\n",
       "  <thead>\n",
       "    <tr style=\"text-align: right;\">\n",
       "      <th></th>\n",
       "      <th>name</th>\n",
       "      <th>age</th>\n",
       "      <th>children</th>\n",
       "    </tr>\n",
       "  </thead>\n",
       "  <tbody>\n",
       "    <tr>\n",
       "      <th>0</th>\n",
       "      <td>Kim</td>\n",
       "      <td>24</td>\n",
       "      <td>2</td>\n",
       "    </tr>\n",
       "    <tr>\n",
       "      <th>1</th>\n",
       "      <td>Lee</td>\n",
       "      <td>27</td>\n",
       "      <td>1</td>\n",
       "    </tr>\n",
       "    <tr>\n",
       "      <th>2</th>\n",
       "      <td>Park</td>\n",
       "      <td>34</td>\n",
       "      <td>3</td>\n",
       "    </tr>\n",
       "  </tbody>\n",
       "</table>\n",
       "</div>"
      ],
      "text/plain": [
       "   name  age  children\n",
       "0   Kim   24         2\n",
       "1   Lee   27         1\n",
       "2  Park   34         3"
      ]
     },
     "execution_count": 122,
     "metadata": {},
     "output_type": "execute_result"
    }
   ],
   "source": [
    "data = {\n",
    "    'name': ['Kim', 'Lee', 'Park'], \n",
    "    'age': [24, 27, 34], \n",
    "    'children': [2, 1, 3]\n",
    "}\n",
    "\n",
    "df = pd.DataFrame(data)\n",
    "df\n"
   ]
  },
  {
   "cell_type": "code",
   "execution_count": 108,
   "id": "247f44be-b69b-4ae9-96cd-f30956876e42",
   "metadata": {},
   "outputs": [
    {
     "data": {
      "text/html": [
       "<div>\n",
       "<style scoped>\n",
       "    .dataframe tbody tr th:only-of-type {\n",
       "        vertical-align: middle;\n",
       "    }\n",
       "\n",
       "    .dataframe tbody tr th {\n",
       "        vertical-align: top;\n",
       "    }\n",
       "\n",
       "    .dataframe thead th {\n",
       "        text-align: right;\n",
       "    }\n",
       "</style>\n",
       "<table border=\"1\" class=\"dataframe\">\n",
       "  <thead>\n",
       "    <tr style=\"text-align: right;\">\n",
       "      <th></th>\n",
       "      <th>name</th>\n",
       "      <th>age</th>\n",
       "      <th>children</th>\n",
       "    </tr>\n",
       "  </thead>\n",
       "  <tbody>\n",
       "    <tr>\n",
       "      <th>0</th>\n",
       "      <td>Kim</td>\n",
       "      <td>24</td>\n",
       "      <td>2</td>\n",
       "    </tr>\n",
       "    <tr>\n",
       "      <th>1</th>\n",
       "      <td>Lee</td>\n",
       "      <td>27</td>\n",
       "      <td>1</td>\n",
       "    </tr>\n",
       "    <tr>\n",
       "      <th>2</th>\n",
       "      <td>Park</td>\n",
       "      <td>34</td>\n",
       "      <td>3</td>\n",
       "    </tr>\n",
       "  </tbody>\n",
       "</table>\n",
       "</div>"
      ],
      "text/plain": [
       "   name  age  children\n",
       "0   Kim   24         2\n",
       "1   Lee   27         1\n",
       "2  Park   34         3"
      ]
     },
     "execution_count": 108,
     "metadata": {},
     "output_type": "execute_result"
    }
   ],
   "source": [
    "df"
   ]
  },
  {
   "cell_type": "code",
   "execution_count": 123,
   "id": "bf1e5c1d-f073-485f-b044-161c4aae084a",
   "metadata": {},
   "outputs": [
    {
     "data": {
      "text/html": [
       "<div>\n",
       "<style scoped>\n",
       "    .dataframe tbody tr th:only-of-type {\n",
       "        vertical-align: middle;\n",
       "    }\n",
       "\n",
       "    .dataframe tbody tr th {\n",
       "        vertical-align: top;\n",
       "    }\n",
       "\n",
       "    .dataframe thead th {\n",
       "        text-align: right;\n",
       "    }\n",
       "</style>\n",
       "<table border=\"1\" class=\"dataframe\">\n",
       "  <thead>\n",
       "    <tr style=\"text-align: right;\">\n",
       "      <th></th>\n",
       "      <th>이름</th>\n",
       "      <th>age</th>\n",
       "      <th>children</th>\n",
       "    </tr>\n",
       "  </thead>\n",
       "  <tbody>\n",
       "    <tr>\n",
       "      <th>0</th>\n",
       "      <td>Kim</td>\n",
       "      <td>24</td>\n",
       "      <td>2</td>\n",
       "    </tr>\n",
       "    <tr>\n",
       "      <th>1</th>\n",
       "      <td>Lee</td>\n",
       "      <td>27</td>\n",
       "      <td>1</td>\n",
       "    </tr>\n",
       "    <tr>\n",
       "      <th>2</th>\n",
       "      <td>Park</td>\n",
       "      <td>34</td>\n",
       "      <td>3</td>\n",
       "    </tr>\n",
       "  </tbody>\n",
       "</table>\n",
       "</div>"
      ],
      "text/plain": [
       "     이름  age  children\n",
       "0   Kim   24         2\n",
       "1   Lee   27         1\n",
       "2  Park   34         3"
      ]
     },
     "execution_count": 123,
     "metadata": {},
     "output_type": "execute_result"
    }
   ],
   "source": [
    "# 1.  됨\n",
    "# df.rename(columns = {\"name\": \"이름\"})\n",
    "# 2. 안됨\n",
    "# df = df.rename(columns = {\"name\": \"이름\"}, inplace = True)\n",
    "# # 3.  안됨\n",
    "# df.rename(columns = {\"name\": \"이름\"}, inplace = True)\n",
    "# 4.  됨\n",
    "df.rename({\"name\": \"이름\"}, axis=1)"
   ]
  },
  {
   "cell_type": "markdown",
   "id": "44380bc5-88a7-4ff2-8a2c-cabd715becd2",
   "metadata": {},
   "source": [
    "**아래 출력값이 아닌 것을 모두 고르시오**"
   ]
  },
  {
   "attachments": {
    "fbe2b812-40f5-4c2a-97d2-eb0bd912820a.png": {
     "image/png": "[encoded data removed]"
    }
   },
   "cell_type": "markdown",
   "id": "a9a94120-c6c9-47bb-bbce-7c17825651af",
   "metadata": {},
   "source": [
    "![image.png](attachment:fbe2b812-40f5-4c2a-97d2-eb0bd912820a.png)"
   ]
  },
  {
   "cell_type": "code",
   "execution_count": 92,
   "id": "349e79fb-8100-404d-b869-9008e04ac10f",
   "metadata": {},
   "outputs": [
    {
     "data": {
      "text/html": [
       "<div>\n",
       "<style scoped>\n",
       "    .dataframe tbody tr th:only-of-type {\n",
       "        vertical-align: middle;\n",
       "    }\n",
       "\n",
       "    .dataframe tbody tr th {\n",
       "        vertical-align: top;\n",
       "    }\n",
       "\n",
       "    .dataframe thead th {\n",
       "        text-align: right;\n",
       "    }\n",
       "</style>\n",
       "<table border=\"1\" class=\"dataframe\">\n",
       "  <thead>\n",
       "    <tr style=\"text-align: right;\">\n",
       "      <th></th>\n",
       "      <th>이름</th>\n",
       "      <th>age</th>\n",
       "      <th>children</th>\n",
       "    </tr>\n",
       "  </thead>\n",
       "  <tbody>\n",
       "    <tr>\n",
       "      <th>0</th>\n",
       "      <td>Kim</td>\n",
       "      <td>24</td>\n",
       "      <td>2</td>\n",
       "    </tr>\n",
       "    <tr>\n",
       "      <th>1</th>\n",
       "      <td>Lee</td>\n",
       "      <td>27</td>\n",
       "      <td>1</td>\n",
       "    </tr>\n",
       "    <tr>\n",
       "      <th>2</th>\n",
       "      <td>Park</td>\n",
       "      <td>34</td>\n",
       "      <td>3</td>\n",
       "    </tr>\n",
       "  </tbody>\n",
       "</table>\n",
       "</div>"
      ],
      "text/plain": [
       "     이름  age  children\n",
       "0   Kim   24         2\n",
       "1   Lee   27         1\n",
       "2  Park   34         3"
      ]
     },
     "execution_count": 92,
     "metadata": {},
     "output_type": "execute_result"
    }
   ],
   "source": [
    "df"
   ]
  },
  {
   "cell_type": "code",
   "execution_count": 85,
   "id": "58d0b7c9-7e81-45d0-853d-4e17cccfe1cd",
   "metadata": {},
   "outputs": [
    {
     "data": {
      "text/plain": [
       "array(['1', '2', '3'], dtype='<U11')"
      ]
     },
     "execution_count": 85,
     "metadata": {},
     "output_type": "execute_result"
    }
   ],
   "source": [
    "arr = np.array([1,2,'3']) \n",
    "arr"
   ]
  },
  {
   "cell_type": "code",
   "execution_count": null,
   "id": "b4c977bf-b5c0-4114-91df-f1adcf613a05",
   "metadata": {},
   "outputs": [],
   "source": []
  }
 ],
 "metadata": {
  "kernelspec": {
   "display_name": "Python 3 (ipykernel)",
   "language": "python",
   "name": "python3"
  },
  "language_info": {
   "codemirror_mode": {
    "name": "ipython",
    "version": 3
   },
   "file_extension": ".py",
   "mimetype": "text/x-python",
   "name": "python",
   "nbconvert_exporter": "python",
   "pygments_lexer": "ipython3",
   "version": "3.11.0"
  },
  "toc": {
   "base_numbering": 1,
   "nav_menu": {},
   "number_sections": true,
   "sideBar": true,
   "skip_h1_title": false,
   "title_cell": "Table of Contents",
   "title_sidebar": "Contents",
   "toc_cell": false,
   "toc_position": {},
   "toc_section_display": true,
   "toc_window_display": false
  }
 },
 "nbformat": 4,
 "nbformat_minor": 5
}
