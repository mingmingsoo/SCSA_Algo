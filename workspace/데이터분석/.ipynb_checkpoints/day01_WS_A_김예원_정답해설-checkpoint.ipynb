{
 "cells": [
  {
   "cell_type": "markdown",
   "metadata": {},
   "source": [
    "# Numpy"
   ]
  },
  {
   "cell_type": "code",
   "execution_count": 18,
   "metadata": {
    "ExecuteTime": {
     "end_time": "2022-02-18T08:04:37.355485Z",
     "start_time": "2022-02-18T08:04:37.343476Z"
    }
   },
   "outputs": [],
   "source": [
    "import numpy as np"
   ]
  },
  {
   "cell_type": "markdown",
   "metadata": {},
   "source": [
    "<br/>\n",
    "<br/>\n",
    "<br/>\n",
    "<br/>"
   ]
  },
  {
   "cell_type": "markdown",
   "metadata": {},
   "source": [
    "#### Q1) 아래 리스트를 이용하여 1차원 배열을 생성하세요.\n",
    "  - [103, 815, 571, 934, 599, 945,  71, 669, 639, 116, 423, 985, 814, 506, 792, 295, 914, 397, 654,  32, 859, 321, 850, 340, 325]"
   ]
  },
  {
   "cell_type": "code",
   "execution_count": 19,
   "metadata": {
    "ExecuteTime": {
     "end_time": "2022-02-18T08:04:37.371477Z",
     "start_time": "2022-02-18T08:04:37.357467Z"
    },
    "id": "g-3wvH8jHxvv"
   },
   "outputs": [
    {
     "data": {
      "text/plain": [
       "array([103, 815, 571, 934, 599, 945,  71, 669, 639, 116, 423, 985, 814,\n",
       "       506, 792, 295, 914, 397, 654,  32, 859, 321, 850, 340, 325])"
      ]
     },
     "execution_count": 19,
     "metadata": {},
     "output_type": "execute_result"
    }
   ],
   "source": [
    "# code here\n",
    "arr1 = np.array([103, 815, 571, 934, 599, 945, 71, 669, 639, 116, 423, 985, 814, 506, 792, 295, 914, 397, 654, 32, 859, 321, 850, 340, 325])\n",
    "arr1"
   ]
  },
  {
   "cell_type": "markdown",
   "metadata": {
    "id": "JU--Df2sHxvx"
   },
   "source": [
    "#### Q2) arr1의 shape을 5행 5열로 변경하여 arr2에 저장하세요.\n",
    " - reshape"
   ]
  },
  {
   "cell_type": "code",
   "execution_count": 20,
   "metadata": {
    "ExecuteTime": {
     "end_time": "2022-02-18T08:04:37.387492Z",
     "start_time": "2022-02-18T08:04:37.373470Z"
    },
    "colab": {
     "base_uri": "https://localhost:8080/"
    },
    "id": "vGk8y7iQHxvx",
    "outputId": "fa51d018-512f-43e9-d570-d325f66ea50a"
   },
   "outputs": [
    {
     "data": {
      "text/plain": [
       "array([[103, 815, 571, 934, 599],\n",
       "       [945,  71, 669, 639, 116],\n",
       "       [423, 985, 814, 506, 792],\n",
       "       [295, 914, 397, 654,  32],\n",
       "       [859, 321, 850, 340, 325]])"
      ]
     },
     "execution_count": 20,
     "metadata": {},
     "output_type": "execute_result"
    }
   ],
   "source": [
    "# code here\n",
    "arr2 = arr1.reshape(5,5)\n",
    "arr2"
   ]
  },
  {
   "cell_type": "markdown",
   "metadata": {},
   "source": [
    "<br/>\n",
    "<br/>"
   ]
  },
  {
   "cell_type": "markdown",
   "metadata": {
    "id": "8LjYA7cATcL8"
   },
   "source": [
    "#### Q3) arr2의 요소 중 71에 10을 곱하세요.\n",
    " - 인덱싱/불리언 인덱싱 및 수정"
   ]
  },
  {
   "cell_type": "code",
   "execution_count": 21,
   "metadata": {
    "ExecuteTime": {
     "end_time": "2022-02-18T08:04:37.403484Z",
     "start_time": "2022-02-18T08:04:37.389481Z"
    },
    "colab": {
     "base_uri": "https://localhost:8080/"
    },
    "id": "xjNb0LmGHxvx",
    "outputId": "07f165b0-fca5-479c-c50b-8efc449d781f"
   },
   "outputs": [
    {
     "data": {
      "text/plain": [
       "array([[103, 815, 571, 934, 599],\n",
       "       [945, 710, 669, 639, 116],\n",
       "       [423, 985, 814, 506, 792],\n",
       "       [295, 914, 397, 654,  32],\n",
       "       [859, 321, 850, 340, 325]])"
      ]
     },
     "execution_count": 21,
     "metadata": {},
     "output_type": "execute_result"
    }
   ],
   "source": [
    "# code here\n",
    "arr2[arr2 == 71] *= 10\n",
    "arr2"
   ]
  },
  {
   "cell_type": "markdown",
   "metadata": {},
   "source": [
    "<br/>\n",
    "<br/>"
   ]
  },
  {
   "cell_type": "markdown",
   "metadata": {
    "id": "CwYOM2gnHxvy"
   },
   "source": [
    "#### Q4) arr2의 요소 중 가운데 위치한 9개 요소 (3개 행과 3개 열)을 출력하세요.\n",
    " - 슬라이싱"
   ]
  },
  {
   "cell_type": "code",
   "execution_count": 22,
   "metadata": {
    "ExecuteTime": {
     "end_time": "2022-02-18T08:04:37.419490Z",
     "start_time": "2022-02-18T08:04:37.404478Z"
    },
    "colab": {
     "base_uri": "https://localhost:8080/"
    },
    "id": "jQLHHJpRHxvy",
    "outputId": "8acc31ed-7d52-4679-deff-d67b72a0bc49"
   },
   "outputs": [
    {
     "data": {
      "text/plain": [
       "array([[710, 669, 639],\n",
       "       [985, 814, 506],\n",
       "       [914, 397, 654]])"
      ]
     },
     "execution_count": 22,
     "metadata": {},
     "output_type": "execute_result"
    }
   ],
   "source": [
    "# code here\n",
    "arr2[1:4, 1:4]"
   ]
  },
  {
   "cell_type": "markdown",
   "metadata": {},
   "source": [
    "<br/>\n",
    "<br/>"
   ]
  },
  {
   "cell_type": "markdown",
   "metadata": {},
   "source": [
    "#### Q5) arr2의 요소 중 가운데 위치한 9개 요소에 10을 곱하세요.\n",
    " - 슬라이싱 및 수정"
   ]
  },
  {
   "cell_type": "code",
   "execution_count": 23,
   "metadata": {
    "ExecuteTime": {
     "end_time": "2022-02-18T08:04:37.435485Z",
     "start_time": "2022-02-18T08:04:37.420481Z"
    }
   },
   "outputs": [
    {
     "data": {
      "text/plain": [
       "array([[ 103,  815,  571,  934,  599],\n",
       "       [ 945, 7100, 6690, 6390,  116],\n",
       "       [ 423, 9850, 8140, 5060,  792],\n",
       "       [ 295, 9140, 3970, 6540,   32],\n",
       "       [ 859,  321,  850,  340,  325]])"
      ]
     },
     "execution_count": 23,
     "metadata": {},
     "output_type": "execute_result"
    }
   ],
   "source": [
    "# code here\n",
    "arr2[1:len(arr2)-1, 1:len(arr2)-1] *= 10\n",
    "arr2"
   ]
  },
  {
   "cell_type": "markdown",
   "metadata": {},
   "source": [
    "<br/>\n",
    "<br/>"
   ]
  },
  {
   "cell_type": "markdown",
   "metadata": {
    "id": "_KU9M5YwHxvz"
   },
   "source": [
    "#### Q6) arr2의 요소 중 1000 이상인 요소만 추출하여 형태를 3행 3열로 변경한 후 출력하세요.\n",
    " - 불리언 인덱싱, reshape"
   ]
  },
  {
   "cell_type": "code",
   "execution_count": 24,
   "metadata": {
    "ExecuteTime": {
     "end_time": "2022-02-18T08:04:37.451488Z",
     "start_time": "2022-02-18T08:04:37.436498Z"
    },
    "colab": {
     "base_uri": "https://localhost:8080/"
    },
    "id": "XeHNAot0Hxv0",
    "outputId": "d7270dea-5260-44bd-9851-417945229f57"
   },
   "outputs": [
    {
     "data": {
      "text/plain": [
       "array([[7100, 6690, 6390],\n",
       "       [9850, 8140, 5060],\n",
       "       [9140, 3970, 6540]])"
      ]
     },
     "execution_count": 24,
     "metadata": {},
     "output_type": "execute_result"
    }
   ],
   "source": [
    "# code here\n",
    "arr2[arr2>=1000].reshape(3,3)"
   ]
  },
  {
   "cell_type": "markdown",
   "metadata": {},
   "source": [
    "<br/>\n",
    "<br/>"
   ]
  },
  {
   "cell_type": "markdown",
   "metadata": {},
   "source": [
    "#### Q7) arr2의 중앙에 있는 값을 -1로 변경한 후 출력하세요."
   ]
  },
  {
   "cell_type": "code",
   "execution_count": 25,
   "metadata": {
    "ExecuteTime": {
     "end_time": "2022-02-18T08:04:37.467492Z",
     "start_time": "2022-02-18T08:04:37.454490Z"
    }
   },
   "outputs": [
    {
     "data": {
      "text/plain": [
       "array([[ 103,  815,  571,  934,  599],\n",
       "       [ 945, 7100, 6690, 6390,  116],\n",
       "       [ 423, 9850,   -1, 5060,  792],\n",
       "       [ 295, 9140, 3970, 6540,   32],\n",
       "       [ 859,  321,  850,  340,  325]])"
      ]
     },
     "execution_count": 25,
     "metadata": {},
     "output_type": "execute_result"
    }
   ],
   "source": [
    "# code here\n",
    "arr2[len(arr2)//2, len(arr2)//2] = -1\n",
    "arr2"
   ]
  },
  {
   "cell_type": "markdown",
   "metadata": {},
   "source": [
    "<br/>\n",
    "<br/>"
   ]
  },
  {
   "cell_type": "markdown",
   "metadata": {
    "id": "M410dWNbVfud"
   },
   "source": [
    "#### Q8) arr2의 열 별(행과 행) 평균과 표준편차를 출력하세요."
   ]
  },
  {
   "cell_type": "code",
   "execution_count": 26,
   "metadata": {
    "ExecuteTime": {
     "end_time": "2022-02-18T08:04:37.483494Z",
     "start_time": "2022-02-18T08:04:37.469493Z"
    },
    "colab": {
     "base_uri": "https://localhost:8080/"
    },
    "id": "Dm1KTz2RVoiS",
    "outputId": "2a50b2cc-1e21-40e7-b616-a2ed5a634fba"
   },
   "outputs": [
    {
     "data": {
      "text/plain": [
       "array([ 525. , 5445.2, 2416. , 3852.8,  372.8])"
      ]
     },
     "execution_count": 26,
     "metadata": {},
     "output_type": "execute_result"
    }
   ],
   "source": [
    "# code here\n",
    "arr2.mean(axis=0)"
   ]
  },
  {
   "cell_type": "code",
   "execution_count": 27,
   "metadata": {
    "ExecuteTime": {
     "end_time": "2022-02-18T08:04:37.499498Z",
     "start_time": "2022-02-18T08:04:37.485495Z"
    }
   },
   "outputs": [
    {
     "data": {
      "text/plain": [
       "array([ 325.37486074, 4086.27827736, 2544.80891228, 2682.34661444,\n",
       "        286.79986053])"
      ]
     },
     "execution_count": 27,
     "metadata": {},
     "output_type": "execute_result"
    }
   ],
   "source": [
    "arr2.std(axis=0)"
   ]
  },
  {
   "cell_type": "markdown",
   "metadata": {},
   "source": [
    "<br/>\n",
    "<br/>"
   ]
  },
  {
   "cell_type": "markdown",
   "metadata": {
    "id": "BAnqS8u-Vv7B"
   },
   "source": [
    "#### Q9) arr2의 행 별(열과 열) 평균과 표준편차를 출력하세요."
   ]
  },
  {
   "cell_type": "code",
   "execution_count": 30,
   "metadata": {
    "ExecuteTime": {
     "end_time": "2022-02-18T08:04:37.515502Z",
     "start_time": "2022-02-18T08:04:37.501498Z"
    },
    "colab": {
     "base_uri": "https://localhost:8080/"
    },
    "id": "t_1hLY8IVrcj",
    "outputId": "4bbc569b-367e-4b0b-c5b8-c23094567c4e"
   },
   "outputs": [
    {
     "data": {
      "text/plain": [
       "array([ 604.4, 4248.2, 3224.8, 3995.4,  539. ])"
      ]
     },
     "execution_count": 30,
     "metadata": {},
     "output_type": "execute_result"
    }
   ],
   "source": [
    "# code here\n",
    "arr2.mean(axis=1)"
   ]
  },
  {
   "cell_type": "code",
   "execution_count": 32,
   "metadata": {
    "ExecuteTime": {
     "end_time": "2022-02-18T08:04:37.531506Z",
     "start_time": "2022-02-18T08:04:37.517504Z"
    }
   },
   "outputs": [
    {
     "name": "stdout",
     "output_type": "stream",
     "text": [
      "[ 284.79297744 3055.11586687 3779.83118142 3531.12002628  257.69827318]\n"
     ]
    }
   ],
   "source": [
    "arr2.std(axis=1)\n",
    "print(arr2.std(axis=1))"
   ]
  },
  {
   "cell_type": "markdown",
   "metadata": {},
   "source": [
    "<br/>\n",
    "<br/>"
   ]
  },
  {
   "cell_type": "markdown",
   "metadata": {
    "id": "t9I7dQlsHxv0"
   },
   "source": [
    "#### Q10)  arr2의 요소 중 1000 미만인 요소는 -1으로, 1000 이상인 요소는 arr2의 값을 유지하여 arr3에 저장하세요."
   ]
  },
  {
   "cell_type": "code",
   "execution_count": 33,
   "metadata": {
    "ExecuteTime": {
     "end_time": "2022-02-18T08:04:37.547516Z",
     "start_time": "2022-02-18T08:04:37.533506Z"
    },
    "colab": {
     "base_uri": "https://localhost:8080/"
    },
    "id": "p29Hn8mJHxv0",
    "outputId": "9e687172-0036-454b-c2df-29978cd5b89e"
   },
   "outputs": [
    {
     "data": {
      "text/plain": [
       "array([[  -1,   -1,   -1,   -1,   -1],\n",
       "       [  -1, 7100, 6690, 6390,   -1],\n",
       "       [  -1, 9850,   -1, 5060,   -1],\n",
       "       [  -1, 9140, 3970, 6540,   -1],\n",
       "       [  -1,   -1,   -1,   -1,   -1]])"
      ]
     },
     "execution_count": 33,
     "metadata": {},
     "output_type": "execute_result"
    }
   ],
   "source": [
    "# code here\n",
    "arr3 = np.where(arr2 < 1000, -1, arr2)\n",
    "arr3"
   ]
  },
  {
   "cell_type": "markdown",
   "metadata": {},
   "source": [
    "<br/>\n",
    "<br/>"
   ]
  },
  {
   "cell_type": "markdown",
   "metadata": {
    "id": "j7eoC2m8WM0S"
   },
   "source": [
    "#### Q11) arr3의 열 별(행과 행) 평균을 출력하세요"
   ]
  },
  {
   "cell_type": "code",
   "execution_count": 34,
   "metadata": {
    "ExecuteTime": {
     "end_time": "2022-02-18T08:04:37.579536Z",
     "start_time": "2022-02-18T08:04:37.565515Z"
    },
    "colab": {
     "base_uri": "https://localhost:8080/"
    },
    "id": "RFUL0DBfWKnf",
    "outputId": "46e0927a-7be2-4b65-b1d7-9acf53c37d7f"
   },
   "outputs": [
    {
     "data": {
      "text/plain": [
       "array([-1.0000e+00,  5.2176e+03,  2.1314e+03,  3.5976e+03, -1.0000e+00])"
      ]
     },
     "execution_count": 34,
     "metadata": {},
     "output_type": "execute_result"
    }
   ],
   "source": [
    "# code here\n",
    "arr3.mean(axis=0)"
   ]
  },
  {
   "cell_type": "markdown",
   "metadata": {},
   "source": [
    "<br/>\n",
    "<br/>"
   ]
  },
  {
   "cell_type": "markdown",
   "metadata": {
    "id": "beAMXR7yWqy4"
   },
   "source": [
    "#### Q12) arr3의 전체 평균을 출력하세요."
   ]
  },
  {
   "cell_type": "code",
   "execution_count": 35,
   "metadata": {
    "ExecuteTime": {
     "end_time": "2022-02-18T08:04:37.595539Z",
     "start_time": "2022-02-18T08:04:37.580524Z"
    },
    "colab": {
     "base_uri": "https://localhost:8080/"
    },
    "id": "fJ1p9tlBWPGy",
    "outputId": "64d9fc4d-fbf5-45e1-a276-35b73a4e08ef"
   },
   "outputs": [
    {
     "data": {
      "text/plain": [
       "2188.92"
      ]
     },
     "execution_count": 35,
     "metadata": {},
     "output_type": "execute_result"
    }
   ],
   "source": [
    "# code here\n",
    "arr3.mean()"
   ]
  },
  {
   "cell_type": "markdown",
   "metadata": {},
   "source": [
    "#### Q13) arr3의 요소 중 음수인 요소는 0으로, 나머지 요소는 arr3의 값을 유지하여 arr4에 저장하세요."
   ]
  },
  {
   "cell_type": "code",
   "execution_count": 36,
   "metadata": {
    "ExecuteTime": {
     "end_time": "2022-02-18T08:04:37.611542Z",
     "start_time": "2022-02-18T08:04:37.597522Z"
    },
    "scrolled": true
   },
   "outputs": [
    {
     "data": {
      "text/plain": [
       "array([[   0,    0,    0,    0,    0],\n",
       "       [   0, 7100, 6690, 6390,    0],\n",
       "       [   0, 9850,    0, 5060,    0],\n",
       "       [   0, 9140, 3970, 6540,    0],\n",
       "       [   0,    0,    0,    0,    0]])"
      ]
     },
     "execution_count": 36,
     "metadata": {},
     "output_type": "execute_result"
    }
   ],
   "source": [
    "# code here\n",
    "arr4 = np.where(arr3 < 0, 0, arr3)\n",
    "arr4"
   ]
  },
  {
   "cell_type": "markdown",
   "metadata": {},
   "source": [
    "# 완진탐색 모의 문제 + 해설"
   ]
  },
  {
   "cell_type": "markdown",
   "metadata": {},
   "source": [
    "## [Q1]<br />\n",
    "arr2 중에서 평균이 500 이상인 열은 값을 그대로, 500 미만인 열은 값을 0으로 변경해 arr1에 저장하려고 한다. <br />해당 작업을 수행하기 위한 올바른 코드는?"
   ]
  },
  {
   "cell_type": "markdown",
   "metadata": {},
   "source": [
    "[1] arr1= np.where(arr2.mean(axis=0)>=500,0,arr2) <br />\n",
    "[2] arr1 = np.where(arr2.mean(axis=0)>=500,arr2,0) <br />\n",
    "[3] arr1 = np.where(arr2.mean(axis=1)>=500,arr2,0) <br />\n",
    "[4] arr1 = arr2[arr2.mean(axis=0)>=500, arr2, 0] <br />\n",
    "[5] arr1 = arr2[arr2.mean(axis=0)>=500, 0, arr2]"
   ]
  },
  {
   "cell_type": "markdown",
   "metadata": {},
   "source": [
    "답: [2]"
   ]
  },
  {
   "cell_type": "markdown",
   "metadata": {},
   "source": [
    "[해설] <br />\n",
    "np.where(조건, [x, y])\n",
    "조건 : arr2.mean(axis=0)>=500 => 같은 열에 있는(axis=0) 값의 평균이 500 이상 <br />\n",
    "x : 조건에 만족할 경우 지정할 값 <br />\n",
    "y : 조건에 만족하지 않을 경우 지정할 값 <br />"
   ]
  },
  {
   "cell_type": "markdown",
   "metadata": {},
   "source": [
    "## [Q2]\n",
    "0으로 채워진 nxn 행렬에 양 대각선 (x자 형태로)만 1로 채우려고 한다.<br />\n",
    "이때, (1), (2)에 들어갈 코드가 알맞게 조합된 것을 고르시오."
   ]
  },
  {
   "cell_type": "code",
   "execution_count": null,
   "metadata": {},
   "outputs": [],
   "source": [
    "# 실행 X\n",
    "import numpy as np\n",
    "\n",
    "n=int(input())\n",
    "arr = np.__(1)__(n)\n",
    "arr[__(2)__] = 1\n",
    "\n",
    "print(arr)"
   ]
  },
  {
   "cell_type": "markdown",
   "metadata": {},
   "source": [
    "[1] (1)-unit, (2)-np.arange(arr.size), np.arange(arr.size - 1, -1, -1) <br />\n",
    "[2] (1)-eye, (2)-np.arange(arr.size), np.arange(arr.size, -1, -1) <br />\n",
    "[3] (1)-unit, (2)-np.arange(arr.shape[0]), np.arange(arr.shape[0], 0, -1) <br />\n",
    "[4] (1)-eye, (2)-np.arange(arr.shape[0]), np.arange(arr.shape[0] - 1, -1, -1) <br />\n",
    "[5] (1)-unit, (2)-np.arange(arr.shape[0]), np.arange(arr.shape[0] - 1, -1, -1)"
   ]
  },
  {
   "cell_type": "code",
   "execution_count": 57,
   "metadata": {},
   "outputs": [
    {
     "data": {
      "text/plain": [
       "array([[1., 0., 1.],\n",
       "       [0., 1., 0.],\n",
       "       [1., 0., 1.]])"
      ]
     },
     "execution_count": 57,
     "metadata": {},
     "output_type": "execute_result"
    }
   ],
   "source": [
    "import numpy as np\n",
    "\n",
    "n=4\n",
    "arr = np.eye(3)\n",
    "arr[np.arange(arr.shape[0]), np.arange(arr.shape[0] - 1, -1, -1)] = 1"
   ]
  },
  {
   "cell_type": "markdown",
   "metadata": {},
   "source": [
    "np.arange(start, end, step) => start: 시작값(포함), end: 종료 값(포함X), step: 간격\n",
    "* arr[np.arange(arr.shape[0]), => 0행, 1행, 2행을 의미\n",
    "* arr[, np.arange(arr.shape[0] -1, -1, -1)] => arr[, [2, 1, 0]] => 2열, 1열, 0열을 의미\n",
    "=> arr[[0,1,2], [2,1,0]] = 1"
   ]
  },
  {
   "cell_type": "code",
   "execution_count": null,
   "metadata": {},
   "outputs": [],
   "source": []
  }
 ],
 "metadata": {
  "kernelspec": {
   "display_name": "Python 3 (ipykernel)",
   "language": "python",
   "name": "python3"
  },
  "language_info": {
   "codemirror_mode": {
    "name": "ipython",
    "version": 3
   },
   "file_extension": ".py",
   "mimetype": "text/x-python",
   "name": "python",
   "nbconvert_exporter": "python",
   "pygments_lexer": "ipython3",
   "version": "3.11.0"
  },
  "toc": {
   "base_numbering": 1,
   "nav_menu": {},
   "number_sections": true,
   "sideBar": true,
   "skip_h1_title": false,
   "title_cell": "Table of Contents",
   "title_sidebar": "Contents",
   "toc_cell": false,
   "toc_position": {},
   "toc_section_display": true,
   "toc_window_display": false
  },
  "varInspector": {
   "cols": {
    "lenName": 16,
    "lenType": 16,
    "lenVar": 40
   },
   "kernels_config": {
    "python": {
     "delete_cmd_postfix": "",
     "delete_cmd_prefix": "del ",
     "library": "var_list.py",
     "varRefreshCmd": "print(var_dic_list())"
    },
    "r": {
     "delete_cmd_postfix": ") ",
     "delete_cmd_prefix": "rm(",
     "library": "var_list.r",
     "varRefreshCmd": "cat(var_dic_list()) "
    }
   },
   "types_to_exclude": [
    "module",
    "function",
    "builtin_function_or_method",
    "instance",
    "_Feature"
   ],
   "window_display": false
  }
 },
 "nbformat": 4,
 "nbformat_minor": 4
}
