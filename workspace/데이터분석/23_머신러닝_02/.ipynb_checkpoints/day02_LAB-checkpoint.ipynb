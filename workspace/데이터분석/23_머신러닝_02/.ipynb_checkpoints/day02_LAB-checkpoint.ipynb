{
 "cells": [
  {
   "cell_type": "code",
   "execution_count": null,
   "id": "71acf306",
   "metadata": {},
   "outputs": [],
   "source": [
    "import numpy as np\n",
    "import pandas as pd\n",
    "import matplotlib.pyplot as plt\n",
    "import seaborn as sns\n",
    "from sklearn.preprocessing import StandardScaler, MinMaxScaler"
   ]
  },
  {
   "cell_type": "markdown",
   "id": "d3b5ed2e",
   "metadata": {},
   "source": [
    "### Linear Regression"
   ]
  },
  {
   "cell_type": "code",
   "execution_count": null,
   "id": "3e7abc31",
   "metadata": {},
   "outputs": [],
   "source": [
    "# 이상치 미존재\n",
    "x1 = np.array([10,9,3,2])\n",
    "y1 = np.array([90,80,50,30])\n",
    "\n",
    "# 이상치 존재\n",
    "x2 = np.array([10,9,3,2,11])\n",
    "y2 = np.array([90,80,50,30,40])"
   ]
  },
  {
   "cell_type": "code",
   "execution_count": null,
   "id": "4e468420",
   "metadata": {},
   "outputs": [],
   "source": [
    "plt.figure(figsize=(10, 5))\n",
    "\n",
    "plt.subplot(1,2,1)\n",
    "plt.scatter(x1,y1)\n",
    "plt.title('Without Outlier')\n",
    "\n",
    "plt.subplot(1,2,2)\n",
    "plt.scatter(x2,y2)\n",
    "plt.title('With Outlier')\n",
    "plt.show()"
   ]
  },
  {
   "cell_type": "code",
   "execution_count": null,
   "id": "57d431a0",
   "metadata": {},
   "outputs": [],
   "source": [
    "def OLS(x, y):\n",
    "    w = np.sum((x-x.mean())*(y-y.mean()))/np.sum((x-x.mean())**2)\n",
    "    b = y.mean() - w*x.mean()\n",
    "    return w, b"
   ]
  },
  {
   "cell_type": "code",
   "execution_count": null,
   "id": "f007a0fa",
   "metadata": {},
   "outputs": [],
   "source": [
    "w1,b1 = OLS(x1, y1)\n",
    "w1, b1"
   ]
  },
  {
   "cell_type": "code",
   "execution_count": null,
   "id": "1c94ce2c",
   "metadata": {},
   "outputs": [],
   "source": [
    "w2,b2 = OLS(x2, y2)\n",
    "w2, b2"
   ]
  },
  {
   "cell_type": "code",
   "execution_count": null,
   "id": "34d22e83",
   "metadata": {},
   "outputs": [],
   "source": [
    "x1_pred = x1*w1 + b1\n",
    "x2_pred = x2*w2 + b2"
   ]
  },
  {
   "cell_type": "code",
   "execution_count": null,
   "id": "45829f84",
   "metadata": {},
   "outputs": [],
   "source": [
    "plt.figure(figsize=(10, 5))\n",
    "\n",
    "plt.subplot(1,2,1)\n",
    "plt.scatter(x1,y1,label='Sample')\n",
    "plt.plot(x1,x1_pred, c='red', label=f'Y={w1:.2f}x+{b1:.2f}')\n",
    "plt.title('Without Outlier')\n",
    "plt.legend()\n",
    "\n",
    "plt.subplot(1,2,2)\n",
    "plt.scatter(x2,y2,label='Sample')\n",
    "plt.plot(x2,x2_pred, c='red', label=f'Y={w2:.2f}x+{b2:.2f}')\n",
    "plt.title('With Outlier')\n",
    "plt.legend()\n",
    "plt.show()"
   ]
  },
  {
   "cell_type": "code",
   "execution_count": null,
   "id": "93fac427",
   "metadata": {},
   "outputs": [],
   "source": [
    "from sklearn.linear_model import LinearRegression\n",
    "model1 = LinearRegression().fit(x1.reshape(-1,1), y1)\n",
    "model1.coef_, model1.intercept_"
   ]
  },
  {
   "cell_type": "code",
   "execution_count": null,
   "id": "c14c5cf5",
   "metadata": {},
   "outputs": [],
   "source": [
    "model2 = LinearRegression().fit(x2.reshape(-1,1), y2)\n",
    "model2.coef_, model2.intercept_"
   ]
  },
  {
   "cell_type": "code",
   "execution_count": null,
   "id": "b4feb8d9",
   "metadata": {},
   "outputs": [],
   "source": []
  },
  {
   "cell_type": "code",
   "execution_count": null,
   "id": "7a83abc2",
   "metadata": {},
   "outputs": [],
   "source": [
    "X = np.arange(50)\n",
    "Y = (2*X) + 10*np.random.randn(50)\n",
    "plt.plot(X, Y, 'b.')"
   ]
  },
  {
   "cell_type": "code",
   "execution_count": null,
   "id": "43a1bb5b",
   "metadata": {},
   "outputs": [],
   "source": [
    "w_range = np.arange(0.1, 4.1, 0.1)\n",
    "costs = []\n",
    "for w in w_range:\n",
    "    h = w*X\n",
    "    cost = 1/50 * np.sum((h-Y)**2)\n",
    "    costs.append(cost)\n",
    "plt.plot(w_range, costs, 'r.')"
   ]
  },
  {
   "cell_type": "code",
   "execution_count": null,
   "id": "c4cb6607",
   "metadata": {},
   "outputs": [],
   "source": [
    "plt.plot(w_range, costs, 'r.')\n",
    "for w,cost in zip(w_range, costs):\n",
    "    h = w*X\n",
    "    gradient = 2/50*np.sum((h-Y)*X)\n",
    "    plt.plot(w_range, gradient*(w_range-w)+cost)\n",
    "    plt.axis([0,4,0,3000])\n",
    "plt.show()"
   ]
  },
  {
   "cell_type": "code",
   "execution_count": null,
   "id": "cf51da0b",
   "metadata": {},
   "outputs": [],
   "source": [
    "for w,cost in zip(w_range, costs):\n",
    "    plt.plot(w_range, costs, 'r.')\n",
    "    h = w*X\n",
    "    gradient = 2/50*np.sum((h-Y)*X)\n",
    "    plt.plot(w_range, gradient*(w_range-w)+cost)\n",
    "    plt.axis([0,4,0,3000])\n",
    "    plt.show()"
   ]
  },
  {
   "cell_type": "code",
   "execution_count": null,
   "id": "fc33e4f7",
   "metadata": {},
   "outputs": [],
   "source": [
    "#시각화\n",
    "plt.scatter(X, Y)\n",
    "plt.show()"
   ]
  },
  {
   "cell_type": "code",
   "execution_count": null,
   "id": "0b2b6aea",
   "metadata": {},
   "outputs": [],
   "source": [
    "#2. 데이터 분할\n",
    "from sklearn.model_selection import train_test_split\n",
    "\n",
    "X_train, X_test, y_train, y_test = train_test_split(X.reshape(-1,1), Y, \n",
    "                                                    random_state=0)"
   ]
  },
  {
   "cell_type": "code",
   "execution_count": null,
   "id": "7f69d740",
   "metadata": {},
   "outputs": [],
   "source": [
    "#3. 모델생성, 학습\n",
    "from sklearn.linear_model import LinearRegression\n",
    "\n",
    "lr = LinearRegression()\n",
    "lr.fit(X_train, y_train)"
   ]
  },
  {
   "cell_type": "code",
   "execution_count": null,
   "id": "d3fddd2c",
   "metadata": {},
   "outputs": [],
   "source": [
    "lr.coef_, lr.intercept_"
   ]
  },
  {
   "cell_type": "code",
   "execution_count": null,
   "id": "40304a96",
   "metadata": {},
   "outputs": [],
   "source": [
    "#4. 예측, 성능평가\n",
    "#회귀계수, 절편을 확인\n",
    "lr.coef_, lr.intercept_\n",
    "#score : r2\n",
    "\n",
    "train_sc = lr.score(X_train, y_train)\n",
    "test_sc = lr.score(X_test, y_test)\n",
    "\n",
    "print(f'train : {train_sc:.3f}, test : {test_sc:.3f}')"
   ]
  },
  {
   "cell_type": "code",
   "execution_count": null,
   "id": "a871748e",
   "metadata": {},
   "outputs": [],
   "source": [
    "#y_pred\n",
    "y_pred = lr.predict(X_test)\n",
    "y_pred"
   ]
  },
  {
   "cell_type": "code",
   "execution_count": null,
   "id": "382dc5fc",
   "metadata": {},
   "outputs": [],
   "source": []
  },
  {
   "cell_type": "code",
   "execution_count": null,
   "id": "2cbe1cba",
   "metadata": {},
   "outputs": [],
   "source": [
    "# 설치되어 있지 않은 경우 아래 주석해제 후 설치실행\n",
    "# !pip install mglearn"
   ]
  },
  {
   "cell_type": "markdown",
   "id": "b44c6177",
   "metadata": {},
   "source": [
    "### 회귀(일반 선형 회귀)"
   ]
  },
  {
   "cell_type": "code",
   "execution_count": null,
   "id": "e97f5612",
   "metadata": {},
   "outputs": [],
   "source": [
    "import mglearn\n",
    "\n",
    "X, y = mglearn.datasets.make_wave(n_samples=60)\n",
    "X.shape, y.shape"
   ]
  },
  {
   "cell_type": "code",
   "execution_count": null,
   "id": "7b31224f",
   "metadata": {},
   "outputs": [],
   "source": [
    "#시각화\n",
    "plt.scatter(X, y)\n",
    "plt.show()"
   ]
  },
  {
   "cell_type": "code",
   "execution_count": null,
   "id": "b1dcb40d",
   "metadata": {},
   "outputs": [],
   "source": [
    "#2. 데이터 분할\n",
    "from sklearn.model_selection import train_test_split\n",
    "\n",
    "X_train, X_test, y_train, y_test = train_test_split(X, y, \n",
    "                                                    random_state=0)"
   ]
  },
  {
   "cell_type": "code",
   "execution_count": null,
   "id": "f5440d3e",
   "metadata": {},
   "outputs": [],
   "source": [
    "#3. 모델생성, 학습\n",
    "from sklearn.linear_model import LinearRegression\n",
    "\n",
    "lr = LinearRegression()\n",
    "lr.fit(X_train, y_train)"
   ]
  },
  {
   "cell_type": "code",
   "execution_count": null,
   "id": "5763e3c3",
   "metadata": {},
   "outputs": [],
   "source": [
    "lr.coef_, lr.intercept_"
   ]
  },
  {
   "cell_type": "code",
   "execution_count": null,
   "id": "e4d07e24",
   "metadata": {},
   "outputs": [],
   "source": [
    "#4. 예측, 성능평가\n",
    "#회귀계수, 절편을 확인\n",
    "lr.coef_, lr.intercept_\n",
    "#score : r2\n",
    "\n",
    "train_sc = lr.score(X_train, y_train)\n",
    "test_sc = lr.score(X_test, y_test)\n",
    "\n",
    "print(f'train : {train_sc:.3f}, test : {test_sc:.3f}')"
   ]
  },
  {
   "cell_type": "code",
   "execution_count": null,
   "id": "e47be9c5",
   "metadata": {},
   "outputs": [],
   "source": [
    "#y_pred\n",
    "y_pred = lr.predict(X_test)\n",
    "y_pred"
   ]
  },
  {
   "cell_type": "code",
   "execution_count": null,
   "id": "2b16baa2",
   "metadata": {},
   "outputs": [],
   "source": [
    "#시각화\n",
    "plt.plot(X, y, 'o')\n",
    "plt.plot(X, lr.predict(X))\n",
    "plt.show()"
   ]
  },
  {
   "cell_type": "markdown",
   "id": "ed60fbf8",
   "metadata": {},
   "source": [
    "### 선형회귀를 이용한 주택가격 예측"
   ]
  },
  {
   "cell_type": "code",
   "execution_count": null,
   "id": "fee68ebe",
   "metadata": {},
   "outputs": [],
   "source": [
    "from sklearn.preprocessing import StandardScaler, MinMaxScaler, PolynomialFeatures\n",
    "from sklearn.model_selection import train_test_split\n",
    "from sklearn.linear_model import LinearRegression, Ridge, Lasso\n",
    "from sklearn.metrics import r2_score, mean_absolute_error, mean_squared_error"
   ]
  },
  {
   "cell_type": "code",
   "execution_count": null,
   "id": "4de03a78",
   "metadata": {},
   "outputs": [],
   "source": [
    "#1. data load\n",
    "boston_df = pd.read_csv('../data/boston.csv')\n",
    "boston_df.head(3)"
   ]
  },
  {
   "cell_type": "code",
   "execution_count": null,
   "id": "0015c90a",
   "metadata": {},
   "outputs": [],
   "source": [
    "boston_df.info()\n",
    "#상관관계 분석 : X, Y : -1 < 값 < 1\n",
    "boston_df.corr()['MEDV'].sort_values(ascending=False)"
   ]
  },
  {
   "cell_type": "code",
   "execution_count": null,
   "id": "ca8bbbb9",
   "metadata": {},
   "outputs": [],
   "source": [
    "#히트맵\n",
    "plt.figure(figsize=(12,10))\n",
    "#테이블 형태로 데이터를 넣어준다.\n",
    "sns.heatmap(boston_df.corr(), annot=True, fmt='.2f')\n",
    "plt.show()"
   ]
  },
  {
   "cell_type": "code",
   "execution_count": null,
   "id": "0aaa03da",
   "metadata": {},
   "outputs": [],
   "source": [
    "#2. 데이터 분할\n",
    "\n",
    "X = boston_df.iloc[:, :-1]\n",
    "y = boston_df['MEDV']\n",
    "X.shape, y.shape\n",
    "\n",
    "X_train, X_test, y_train, y_test = train_test_split(X, y, \n",
    "                                                    random_state=0)"
   ]
  },
  {
   "cell_type": "code",
   "execution_count": null,
   "id": "35a4451b",
   "metadata": {},
   "outputs": [],
   "source": [
    "#모델생성, 학습\n",
    "lr2 = LinearRegression()\n",
    "lr2.fit(X_train, y_train)"
   ]
  },
  {
   "cell_type": "code",
   "execution_count": null,
   "id": "329a1a6b",
   "metadata": {},
   "outputs": [],
   "source": [
    "#회귀계수, 절편 확인\n",
    "lr2.coef_\n",
    "y_pred = lr2.predict(X_test)\n",
    "y_pred\n",
    "#예측 성능 확인\n",
    "train_sc = lr2.score(X_train, y_train)\n",
    "test_sc = lr2.score(X_test, y_test)\n",
    "print(f'train : {train_sc:.3f}, test : {test_sc:.3f}')"
   ]
  },
  {
   "cell_type": "code",
   "execution_count": null,
   "id": "1112d6ac",
   "metadata": {},
   "outputs": [],
   "source": [
    "r2_sc = r2_score(y_test, y_pred)\n",
    "mae = mean_absolute_error(y_test, y_pred)\n",
    "mse = mean_squared_error(y_test, y_pred)\n",
    "rmse = np.sqrt(mse)\n",
    "print(f'r2:{r2_sc:.3f}, mae:{mae:.3f}, mse:{mse:.3f}, rmse:{rmse:.3f}')"
   ]
  },
  {
   "cell_type": "markdown",
   "id": "888efb98",
   "metadata": {},
   "source": [
    "#### 일차방정식 -> 성능 X  --> 고차 방정식 변형 : PolynimalFeatures"
   ]
  },
  {
   "cell_type": "code",
   "execution_count": null,
   "id": "4ba534a2",
   "metadata": {},
   "outputs": [],
   "source": [
    "#아래 함수는 스케일링과 다항회귀 변환을 적용한 데이터를 제공하는 함수\n",
    "def convertDataSet(X, y, deg=2):\n",
    "    #X 데이터 정규화 진행\n",
    "    X_scaled = MinMaxScaler().fit_transform(X)\n",
    "    #정규화된 X 데이터를 다항회귀 적용\n",
    "    polyF = PolynomialFeatures(degree=deg)\n",
    "    X_sc_poly = polyF.fit_transform(X_scaled)\n",
    "    #test code : 다항회귀로 변환된 피처 정보 조회\n",
    "#     print(polyF.get_feature_names_out())\n",
    "    \n",
    "    return X_sc_poly, y"
   ]
  },
  {
   "cell_type": "code",
   "execution_count": null,
   "id": "2e4fa0c8",
   "metadata": {},
   "outputs": [],
   "source": [
    "#2. 데이터 분할\n",
    "\n",
    "X = boston_df.iloc[:, :-1]\n",
    "y = boston_df['MEDV']\n",
    "\n",
    "X_sc_p, y = convertDataSet(X, y)\n",
    "\n",
    "X_train, X_test, y_train, y_test = train_test_split(X_sc_p, y, \n",
    "                                                    random_state=0)"
   ]
  },
  {
   "cell_type": "code",
   "execution_count": null,
   "id": "4a44d2aa",
   "metadata": {},
   "outputs": [],
   "source": [
    "#모델생성, 학습\n",
    "lr2 = LinearRegression()\n",
    "lr2.fit(X_train, y_train)"
   ]
  },
  {
   "cell_type": "code",
   "execution_count": null,
   "id": "665e736b",
   "metadata": {},
   "outputs": [],
   "source": [
    "y_pred = lr2.predict(X_test)\n",
    "y_pred\n",
    "#예측 성능 확인\n",
    "train_sc = lr2.score(X_train, y_train)\n",
    "test_sc = lr2.score(X_test, y_test)\n",
    "print(f'train : {train_sc:.3f}, test : {test_sc:.3f}')"
   ]
  },
  {
   "cell_type": "code",
   "execution_count": null,
   "id": "b2a95718",
   "metadata": {},
   "outputs": [],
   "source": [
    "r2_sc = r2_score(y_test, y_pred)\n",
    "mae = mean_absolute_error(y_test, y_pred)\n",
    "mse = mean_squared_error(y_test, y_pred)\n",
    "rmse = np.sqrt(mse)\n",
    "print(f'r2:{r2_sc:.3f}, mae:{mae:.3f}, mse:{mse:.3f}, rmse:{rmse:.3f}')"
   ]
  },
  {
   "cell_type": "markdown",
   "id": "4374047b",
   "metadata": {},
   "source": [
    "### Ridge를 적용한 과적합 개선"
   ]
  },
  {
   "cell_type": "code",
   "execution_count": null,
   "id": "5525f675",
   "metadata": {},
   "outputs": [],
   "source": [
    "ridge = Ridge(alpha=1.0)\n",
    "ridge.fit(X_train, y_train)"
   ]
  },
  {
   "cell_type": "code",
   "execution_count": null,
   "id": "d7cbfc74",
   "metadata": {},
   "outputs": [],
   "source": [
    "train_sc = ridge.score(X_train, y_train)\n",
    "test_sc = ridge.score(X_test, y_test)\n",
    "print(f'train : {train_sc:.3f}, test : {test_sc:.3f}')"
   ]
  },
  {
   "cell_type": "code",
   "execution_count": null,
   "id": "de965836",
   "metadata": {},
   "outputs": [],
   "source": [
    "#alpha값을 변경하면서 성능 튜닝\n",
    "alphaL = [0.01, 0.5, 1, 5, 10]\n",
    "\n",
    "for a in alphaL:\n",
    "    ridge = Ridge(alpha=a)\n",
    "    ridge.fit(X_train, y_train)\n",
    "    train_sc = ridge.score(X_train, y_train)\n",
    "    test_sc = ridge.score(X_test, y_test)\n",
    "    print(f'alpha={a}, train : {train_sc:.3f}, test : {test_sc:.3f}')"
   ]
  },
  {
   "cell_type": "markdown",
   "id": "00d7390b",
   "metadata": {},
   "source": [
    "### Lasso를 적용한 과적합 개선"
   ]
  },
  {
   "cell_type": "code",
   "execution_count": null,
   "id": "06695daf",
   "metadata": {},
   "outputs": [],
   "source": [
    "lasso = Lasso(alpha=0.01, max_iter=10000)\n",
    "lasso.fit(X_train, y_train)"
   ]
  },
  {
   "cell_type": "code",
   "execution_count": null,
   "id": "a187e264",
   "metadata": {},
   "outputs": [],
   "source": [
    "train_sc = lasso.score(X_train, y_train)\n",
    "test_sc = lasso.score(X_test, y_test)\n",
    "print(f'train : {train_sc:.3f}, test : {test_sc:.3f}')"
   ]
  },
  {
   "cell_type": "code",
   "execution_count": null,
   "id": "4742abe5",
   "metadata": {},
   "outputs": [],
   "source": [
    "lasso.coef_"
   ]
  },
  {
   "cell_type": "code",
   "execution_count": null,
   "id": "ffd5a2f5",
   "metadata": {},
   "outputs": [],
   "source": []
  }
 ],
 "metadata": {
  "kernelspec": {
   "display_name": "Python 3 (ipykernel)",
   "language": "python",
   "name": "python3"
  },
  "language_info": {
   "codemirror_mode": {
    "name": "ipython",
    "version": 3
   },
   "file_extension": ".py",
   "mimetype": "text/x-python",
   "name": "python",
   "nbconvert_exporter": "python",
   "pygments_lexer": "ipython3",
   "version": "3.11.0"
  }
 },
 "nbformat": 4,
 "nbformat_minor": 5
}
